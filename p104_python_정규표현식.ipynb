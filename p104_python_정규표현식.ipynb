{
  "nbformat": 4,
  "nbformat_minor": 0,
  "metadata": {
    "colab": {
      "provenance": [],
      "authorship_tag": "ABX9TyMg3aexBWhaAAxCLnJtP7Bm",
      "include_colab_link": true
    },
    "kernelspec": {
      "name": "python3",
      "display_name": "Python 3"
    },
    "language_info": {
      "name": "python"
    }
  },
  "cells": [
    {
      "cell_type": "markdown",
      "metadata": {
        "id": "view-in-github",
        "colab_type": "text"
      },
      "source": [
        "<a href=\"https://colab.research.google.com/github/Hyewon97/python_demo/blob/main/p104_python_%EC%A0%95%EA%B7%9C%ED%91%9C%ED%98%84%EC%8B%9D.ipynb\" target=\"_parent\"><img src=\"https://colab.research.google.com/assets/colab-badge.svg\" alt=\"Open In Colab\"/></a>"
      ]
    },
    {
      "cell_type": "markdown",
      "source": [
        "### 정규 표현식(Regular Express)\n",
        "- 메타 문자 : 원래 그 문자가 가진 뜻이 아닌 특별한 용도로 사용되는 문자이다.\n",
        "- 정규 표현식에서 사용되는 문자 : ^$+?{}"
      ],
      "metadata": {
        "id": "a4fmoF63Mnhb"
      }
    },
    {
      "cell_type": "code",
      "source": [
        "import re"
      ],
      "metadata": {
        "id": "vhvWfLvnM9X1"
      },
      "execution_count": null,
      "outputs": []
    },
    {
      "cell_type": "code",
      "source": [
        "# [ ] : or\n",
        "p = re.compile('[a-z]')"
      ],
      "metadata": {
        "id": "a0wIVf82NAFc"
      },
      "execution_count": null,
      "outputs": []
    },
    {
      "cell_type": "code",
      "source": [
        "m=p.match('python')"
      ],
      "metadata": {
        "id": "F2sLQeq2NVgN"
      },
      "execution_count": null,
      "outputs": []
    },
    {
      "cell_type": "code",
      "source": [
        "print(m)"
      ],
      "metadata": {
        "colab": {
          "base_uri": "https://localhost:8080/"
        },
        "id": "bsjoGNIWNYp7",
        "outputId": "cfcc9f99-f949-42c7-a7fd-d432f263b1c1"
      },
      "execution_count": null,
      "outputs": [
        {
          "output_type": "stream",
          "name": "stdout",
          "text": [
            "<re.Match object; span=(0, 1), match='p'>\n"
          ]
        }
      ]
    },
    {
      "cell_type": "code",
      "source": [
        "n = p.search('python')\n",
        "n "
      ],
      "metadata": {
        "colab": {
          "base_uri": "https://localhost:8080/"
        },
        "id": "aLviUYeHNakl",
        "outputId": "75a5b580-fd6f-49ef-f440-c2a000285d7f"
      },
      "execution_count": null,
      "outputs": [
        {
          "output_type": "execute_result",
          "data": {
            "text/plain": [
              "<re.Match object; span=(0, 1), match='p'>"
            ]
          },
          "metadata": {},
          "execution_count": 9
        }
      ]
    },
    {
      "cell_type": "code",
      "source": [
        "p = re.compile('[a-z]')"
      ],
      "metadata": {
        "id": "FNR5IaM9Nphb"
      },
      "execution_count": null,
      "outputs": []
    },
    {
      "cell_type": "code",
      "source": [
        "m=p.findall('3 life it sto short') # 이 패턴에서 볼 수 있는 모든 문자를 출력한다.\n",
        "print(m)"
      ],
      "metadata": {
        "colab": {
          "base_uri": "https://localhost:8080/"
        },
        "id": "M6ToATxFNvbG",
        "outputId": "58d50fd1-0947-40b5-faa1-abd9e6fbe768"
      },
      "execution_count": null,
      "outputs": [
        {
          "output_type": "stream",
          "name": "stdout",
          "text": [
            "['l', 'i', 'f', 'e', 'i', 't', 's', 't', 'o', 's', 'h', 'o', 'r', 't']\n"
          ]
        }
      ]
    },
    {
      "cell_type": "code",
      "source": [
        "p = re.compile('[a-z]+') # 무조건 한개 이상\n",
        "m = p.findall('li2fe is %to short3 e')\n",
        "print(m)"
      ],
      "metadata": {
        "colab": {
          "base_uri": "https://localhost:8080/"
        },
        "id": "WXa9O86KN6t_",
        "outputId": "cd242c75-a40e-4d1a-f5f2-87a568f74096"
      },
      "execution_count": null,
      "outputs": [
        {
          "output_type": "stream",
          "name": "stdout",
          "text": [
            "['li', 'fe', 'is', 'to', 'short', 'e']\n"
          ]
        }
      ]
    },
    {
      "cell_type": "code",
      "source": [
        "p = re.compile('[a-z]')\n",
        "m=p.finditer('life is to short')\n",
        "print(m)"
      ],
      "metadata": {
        "colab": {
          "base_uri": "https://localhost:8080/"
        },
        "id": "cYDRzCu1ORRP",
        "outputId": "7fb7f7c3-3eeb-4333-a5aa-fcd8ca7e7f75"
      },
      "execution_count": null,
      "outputs": [
        {
          "output_type": "stream",
          "name": "stdout",
          "text": [
            "<callable_iterator object at 0x7f31bf4e5b20>\n"
          ]
        }
      ]
    },
    {
      "cell_type": "code",
      "source": [
        "for r in m:\n",
        "  print(r)\n",
        "  # 0번째에서 1번째 미만에서 찾고, 1번째에서 2번째 미만에서 찾고..."
      ],
      "metadata": {
        "colab": {
          "base_uri": "https://localhost:8080/"
        },
        "id": "FEmV5HO2OoK9",
        "outputId": "cf64cc31-2d00-4827-d7bc-35afa449bb4c"
      },
      "execution_count": null,
      "outputs": [
        {
          "output_type": "stream",
          "name": "stdout",
          "text": [
            "<re.Match object; span=(0, 1), match='l'>\n",
            "<re.Match object; span=(1, 2), match='i'>\n",
            "<re.Match object; span=(2, 3), match='f'>\n",
            "<re.Match object; span=(3, 4), match='e'>\n",
            "<re.Match object; span=(5, 6), match='i'>\n",
            "<re.Match object; span=(6, 7), match='s'>\n",
            "<re.Match object; span=(8, 9), match='t'>\n",
            "<re.Match object; span=(9, 10), match='o'>\n",
            "<re.Match object; span=(11, 12), match='s'>\n",
            "<re.Match object; span=(12, 13), match='h'>\n",
            "<re.Match object; span=(13, 14), match='o'>\n",
            "<re.Match object; span=(14, 15), match='r'>\n",
            "<re.Match object; span=(15, 16), match='t'>\n"
          ]
        }
      ]
    },
    {
      "cell_type": "code",
      "source": [
        "print(type(r))\n",
        "print(dir(r))"
      ],
      "metadata": {
        "colab": {
          "base_uri": "https://localhost:8080/"
        },
        "id": "S8xbeBWcOquG",
        "outputId": "5097d5b3-871c-4f36-b16e-ccfd37f82e79"
      },
      "execution_count": null,
      "outputs": [
        {
          "output_type": "stream",
          "name": "stdout",
          "text": [
            "<class 're.Match'>\n",
            "['__class__', '__copy__', '__deepcopy__', '__delattr__', '__dir__', '__doc__', '__eq__', '__format__', '__ge__', '__getattribute__', '__getitem__', '__gt__', '__hash__', '__init__', '__init_subclass__', '__le__', '__lt__', '__ne__', '__new__', '__reduce__', '__reduce_ex__', '__repr__', '__setattr__', '__sizeof__', '__str__', '__subclasshook__', 'end', 'endpos', 'expand', 'group', 'groupdict', 'groups', 'lastgroup', 'lastindex', 'pos', 're', 'regs', 'span', 'start', 'string']\n"
          ]
        }
      ]
    },
    {
      "cell_type": "code",
      "source": [
        "p = re.compile('[a-z]+')\n",
        "m=p.finditer('life is to short')\n",
        "for r in m:\n",
        "  print(r.group(), r.start(), r.end(), r.span())"
      ],
      "metadata": {
        "colab": {
          "base_uri": "https://localhost:8080/"
        },
        "id": "GHo-bbDBO6NX",
        "outputId": "9741767b-2d90-43a1-b49a-e352dd7828a1"
      },
      "execution_count": null,
      "outputs": [
        {
          "output_type": "stream",
          "name": "stdout",
          "text": [
            "life 0 4 (0, 4)\n",
            "is 5 7 (5, 7)\n",
            "to 8 10 (8, 10)\n",
            "short 11 16 (11, 16)\n"
          ]
        }
      ]
    },
    {
      "cell_type": "code",
      "source": [
        "# 문자 클래스 [] : 문자 a-z 아무거나 들어가도 배치\n",
        "p = re.compile('[a-z]')\n",
        "m= p.match('abc') # 첫번째 일치하는 값을 가져온다.\n",
        "print(m)\n",
        "print(dir(m))\n",
        "print(m.group(), m.start(), m.string)"
      ],
      "metadata": {
        "colab": {
          "base_uri": "https://localhost:8080/"
        },
        "id": "2e1FlUlKO_Nj",
        "outputId": "74f4cc22-fbac-499f-a8cf-6f77730cd986"
      },
      "execution_count": null,
      "outputs": [
        {
          "output_type": "stream",
          "name": "stdout",
          "text": [
            "<re.Match object; span=(0, 1), match='a'>\n",
            "['__class__', '__copy__', '__deepcopy__', '__delattr__', '__dir__', '__doc__', '__eq__', '__format__', '__ge__', '__getattribute__', '__getitem__', '__gt__', '__hash__', '__init__', '__init_subclass__', '__le__', '__lt__', '__ne__', '__new__', '__reduce__', '__reduce_ex__', '__repr__', '__setattr__', '__sizeof__', '__str__', '__subclasshook__', 'end', 'endpos', 'expand', 'group', 'groupdict', 'groups', 'lastgroup', 'lastindex', 'pos', 're', 'regs', 'span', 'start', 'string']\n",
            "a 0 abc\n"
          ]
        }
      ]
    },
    {
      "cell_type": "code",
      "source": [
        "# Dot(.) : a와 b 사이에 줄바꿈 문자를 제외한 어떤 문자도 모두 매치\n",
        "p =re.compile('a.b')\n",
        "m=p.match('abc')\n",
        "print(m)"
      ],
      "metadata": {
        "colab": {
          "base_uri": "https://localhost:8080/"
        },
        "id": "Fgthr8z7PtUO",
        "outputId": "425b5c16-32b4-44bd-d3f3-d24fafd27a2b"
      },
      "execution_count": null,
      "outputs": [
        {
          "output_type": "stream",
          "name": "stdout",
          "text": [
            "None\n"
          ]
        }
      ]
    },
    {
      "cell_type": "code",
      "source": [
        "# 반복(*) : * 문자 바로 앞에 있는 t가 0번 이상 반복되면 매치\n",
        "p = re.compile('cat*k')\n",
        "m = p.match('ck')\n",
        "print(m)\n",
        "\n",
        "m=p.match('cak')\n",
        "print(m)\n",
        "print(m.group())\n",
        "\n",
        "m=p.match('catttk')\n",
        "print(m)\n",
        "print(m.group(),m.start())"
      ],
      "metadata": {
        "colab": {
          "base_uri": "https://localhost:8080/"
        },
        "id": "5toyTqMISkt8",
        "outputId": "1df36ee7-f6e8-4be7-9df9-3da0114fe904"
      },
      "execution_count": null,
      "outputs": [
        {
          "output_type": "stream",
          "name": "stdout",
          "text": [
            "None\n",
            "<re.Match object; span=(0, 3), match='cak'>\n",
            "cak\n",
            "<re.Match object; span=(0, 6), match='catttk'>\n",
            "catttk 0\n"
          ]
        }
      ]
    },
    {
      "cell_type": "code",
      "source": [
        "# 반복(+) : + 문자 바로 앞에 있는 t가 1번 이상 반복되면 매치\n",
        "p = re.compile('cat+k')\n",
        "m = p.match('ck')\n",
        "print(m)\n",
        "\n",
        "m=p.match('cak')\n",
        "print(m)\n",
        "\n",
        "m=p.match('catttk')\n",
        "print(m)\n",
        "print(m.group(),m.start())"
      ],
      "metadata": {
        "colab": {
          "base_uri": "https://localhost:8080/"
        },
        "id": "qpwliRzNTK-K",
        "outputId": "e8ebc144-3d20-4660-f8c2-47815fc5bdde"
      },
      "execution_count": null,
      "outputs": [
        {
          "output_type": "stream",
          "name": "stdout",
          "text": [
            "None\n",
            "None\n",
            "<re.Match object; span=(0, 6), match='catttk'>\n",
            "catttk 0\n"
          ]
        }
      ]
    },
    {
      "cell_type": "code",
      "source": [
        "# 반복{{m,n},?} : 반복 횟수를 고정시킬 때 사용한다.\n",
        "p = re.compile('ca{2}t')\n",
        "m=p.match('cat')\n",
        "print(m)"
      ],
      "metadata": {
        "colab": {
          "base_uri": "https://localhost:8080/"
        },
        "id": "e1t5mqSlTumq",
        "outputId": "f83762b6-5712-44fd-b26d-832a072916d7"
      },
      "execution_count": null,
      "outputs": [
        {
          "output_type": "stream",
          "name": "stdout",
          "text": [
            "None\n"
          ]
        }
      ]
    },
    {
      "cell_type": "code",
      "source": [
        "p = re.compile('ca{2}t')\n",
        "m=p.match('caat')\n",
        "print(m)\n",
        "print(m.group())"
      ],
      "metadata": {
        "colab": {
          "base_uri": "https://localhost:8080/"
        },
        "id": "DCEna2YMT7xd",
        "outputId": "f8331b0e-99b5-4bf4-f281-cc7c786d70b2"
      },
      "execution_count": null,
      "outputs": [
        {
          "output_type": "stream",
          "name": "stdout",
          "text": [
            "<re.Match object; span=(0, 4), match='caat'>\n",
            "caat\n"
          ]
        }
      ]
    },
    {
      "cell_type": "code",
      "source": [
        "p = re.compile('ca{2}t')\n",
        "m=p.match('caaat') # 고정적으로 2개여야 하는데 a의 갯수는 3개여서 None이 되므로\n",
        "print(m)\n",
        "# print(m.group()) 은 사용하면 에러가 발생된다."
      ],
      "metadata": {
        "colab": {
          "base_uri": "https://localhost:8080/"
        },
        "id": "wjGR0zzVUHTK",
        "outputId": "d8f99b88-ce7b-4588-97c6-ebcede0bac37"
      },
      "execution_count": null,
      "outputs": [
        {
          "output_type": "stream",
          "name": "stdout",
          "text": [
            "None\n"
          ]
        }
      ]
    },
    {
      "cell_type": "code",
      "source": [
        "# ? : {0,1} 의미한다.,.. 0 개 아니면 1개\n",
        "p = re.compile('ca?t')\n",
        "m=p.match('ct')\n",
        "print(m)\n",
        "print(m.group())"
      ],
      "metadata": {
        "colab": {
          "base_uri": "https://localhost:8080/"
        },
        "id": "Pn68qrOTUXnx",
        "outputId": "1cd7d47f-642d-491b-e92c-e5f325e9aa9b"
      },
      "execution_count": null,
      "outputs": [
        {
          "output_type": "stream",
          "name": "stdout",
          "text": [
            "<re.Match object; span=(0, 2), match='ct'>\n",
            "ct\n"
          ]
        }
      ]
    },
    {
      "cell_type": "markdown",
      "source": [
        "### 정규 표현식 옵"
      ],
      "metadata": {
        "id": "Cawm3ekkUTEh"
      }
    },
    {
      "cell_type": "code",
      "source": [
        "# 줄바꿈 문자를 포함하여 모든 문자와 매치할 수 있도록 한다.\n",
        "p = re.compile('a.b', re.DOTALL)\n",
        "m = p.match('a\\nbn') \n",
        "# m = p.match('a\\nan') 면 일치하는게 없어서 오류가 발생된다. \n",
        "print(m)\n",
        "print(m.group())"
      ],
      "metadata": {
        "colab": {
          "base_uri": "https://localhost:8080/"
        },
        "id": "e6nqgfOdU8nW",
        "outputId": "249ec808-ad3e-44e3-caf2-57b1a1a52938"
      },
      "execution_count": null,
      "outputs": [
        {
          "output_type": "stream",
          "name": "stdout",
          "text": [
            "<re.Match object; span=(0, 3), match='a\\nb'>\n",
            "a\n",
            "b\n"
          ]
        }
      ]
    },
    {
      "cell_type": "code",
      "source": [
        "# 대소문자에 관계 없이 매치할 수 있도록 한다.\n",
        "p = re.compile('[a-z]', re.I) # 대문자 아이(Ignore)\n",
        "m=p.match('Life is to short')\n",
        "print(m)\n",
        "print(m.group())"
      ],
      "metadata": {
        "colab": {
          "base_uri": "https://localhost:8080/"
        },
        "id": "831tuicAVjZr",
        "outputId": "a62657c0-9913-4121-d923-dbfab7d11e82"
      },
      "execution_count": null,
      "outputs": [
        {
          "output_type": "stream",
          "name": "stdout",
          "text": [
            "<re.Match object; span=(0, 1), match='L'>\n",
            "L\n"
          ]
        }
      ]
    },
    {
      "cell_type": "code",
      "source": [
        "p = re.compile('^python\\s\\w+',re.M) # re.M -> 여러 라인에 대해서 일치하는  것을 출력하라\n",
        "m = p.findall(\"\"\" python one\n",
        "life is too short\n",
        "python two\n",
        "you need python\n",
        "python _\n",
        "python 9\n",
        "python three\"\"\")\n",
        "\n",
        "print(m)\n",
        "print(dir(m))"
      ],
      "metadata": {
        "colab": {
          "base_uri": "https://localhost:8080/"
        },
        "id": "Eb4uwhSaV1I5",
        "outputId": "fd2b5692-8f7e-4569-b366-3e9a3bd18e09"
      },
      "execution_count": null,
      "outputs": [
        {
          "output_type": "stream",
          "name": "stdout",
          "text": [
            "['python two', 'python _', 'python 9', 'python three']\n",
            "['__add__', '__class__', '__contains__', '__delattr__', '__delitem__', '__dir__', '__doc__', '__eq__', '__format__', '__ge__', '__getattribute__', '__getitem__', '__gt__', '__hash__', '__iadd__', '__imul__', '__init__', '__init_subclass__', '__iter__', '__le__', '__len__', '__lt__', '__mul__', '__ne__', '__new__', '__reduce__', '__reduce_ex__', '__repr__', '__reversed__', '__rmul__', '__setattr__', '__setitem__', '__sizeof__', '__str__', '__subclasshook__', 'append', 'clear', 'copy', 'count', 'extend', 'index', 'insert', 'pop', 'remove', 'reverse', 'sort']\n"
          ]
        }
      ]
    },
    {
      "cell_type": "markdown",
      "source": [
        "### finall VS finditer\n",
        "- 일치하는 검색 데이터를 모두 가져온다.\n",
        "- findall은 matchers로 리턴하고 캡처된 그룹이 있다면 튜플로 리턴한다.\n",
        "- findalliter은 Match object로 리턴한다. 리턴된 오브젝트를 가지고 m.group(1).m.group(2)이런 식으로 사용할 수 있다."
      ],
      "metadata": {
        "id": "bFVhpL22WwQz"
      }
    },
    {
      "cell_type": "code",
      "source": [
        "p = re.compile(\"([0-9]+)([^0-9]*)\") # 숫자와 숫자가 아닌것을 기준으로 끊는다고..\n",
        "m = p.findall(\"abc253korea523fast23slow\")\n",
        "print(m)"
      ],
      "metadata": {
        "colab": {
          "base_uri": "https://localhost:8080/"
        },
        "id": "HCslTT5KXSO4",
        "outputId": "d9aaaa1e-bbec-4f84-ba11-b0e0f3cb9cc1"
      },
      "execution_count": null,
      "outputs": [
        {
          "output_type": "stream",
          "name": "stdout",
          "text": [
            "[('253', 'korea'), ('523', 'fast'), ('23', 'slow')]\n"
          ]
        }
      ]
    },
    {
      "cell_type": "code",
      "source": [
        "p = re.compile(\"([0-9]+)([^0-9]*)\") \n",
        "m = p.finditer(\"abc253korea523fast23slow\") # 앞에서부터 검색이 되면 그 뒤로는 다시 못 돌아간다.\n",
        "print(m)\n",
        "for a in m:\n",
        "  print(a.span(), a.group())"
      ],
      "metadata": {
        "colab": {
          "base_uri": "https://localhost:8080/"
        },
        "id": "Yab8eu6UXjNA",
        "outputId": "8d5cecae-a505-4664-dd9c-40c30f2321e6"
      },
      "execution_count": null,
      "outputs": [
        {
          "output_type": "stream",
          "name": "stdout",
          "text": [
            "<callable_iterator object at 0x7f31b718ac10>\n",
            "(3, 11) 253korea\n",
            "(11, 18) 523fast\n",
            "(18, 24) 23slow\n"
          ]
        }
      ]
    },
    {
      "cell_type": "markdown",
      "source": [
        "### 부정적 전방탐색 ?!"
      ],
      "metadata": {
        "id": "SAZSwfozYVyc"
      }
    },
    {
      "cell_type": "code",
      "source": [
        "p = re.compile(\".*[.](?!bat$|exe$).*$\") # bat 또는 exe로 끝나면 된다.\n",
        "file = ['foo.bar', 'autoexec.bat', 'sendmail.cf']\n",
        "\n",
        "for item in file:\n",
        "  #print(item)\n",
        "  m=p.search(item)\n",
        "\n",
        "  #print(m)\n",
        "  if m:\n",
        "    print(m)\n",
        "    print(m.group(), m.start(), m.end())"
      ],
      "metadata": {
        "colab": {
          "base_uri": "https://localhost:8080/"
        },
        "id": "GAKISHF6YZgn",
        "outputId": "e6d015f6-59e0-4bd7-edd1-088b8ba7b6bc"
      },
      "execution_count": null,
      "outputs": [
        {
          "output_type": "stream",
          "name": "stdout",
          "text": [
            "<re.Match object; span=(0, 7), match='foo.bar'>\n",
            "foo.bar 0 7\n",
            "<re.Match object; span=(0, 11), match='sendmail.cf'>\n",
            "sendmail.cf 0 11\n"
          ]
        }
      ]
    },
    {
      "cell_type": "markdown",
      "source": [
        "### subn() : sub( ) 비슷하고 리턴은 튜플로 한다.\n"
      ],
      "metadata": {
        "id": "wFVvEP1QZs0H"
      }
    },
    {
      "cell_type": "code",
      "source": [
        "p = re.compile('(blue|while|red)')\n",
        "m=p.subn('color', 'blue socks and red socks') # 위에 있는 단언들이 color로 바뀡서 출력된다.\n",
        "print(m)\n",
        "print(type(m))"
      ],
      "metadata": {
        "colab": {
          "base_uri": "https://localhost:8080/"
        },
        "id": "820TAAkUZ0z9",
        "outputId": "e92029a4-9353-41bc-ddcc-800261c8db6b"
      },
      "execution_count": null,
      "outputs": [
        {
          "output_type": "stream",
          "name": "stdout",
          "text": [
            "('color socks and color socks', 2)\n",
            "<class 'tuple'>\n"
          ]
        }
      ]
    },
    {
      "cell_type": "code",
      "source": [],
      "metadata": {
        "id": "JzHpeNN9Z_tU"
      },
      "execution_count": null,
      "outputs": []
    }
  ]
}