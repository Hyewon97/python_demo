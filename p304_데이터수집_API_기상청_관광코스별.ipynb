{
  "nbformat": 4,
  "nbformat_minor": 0,
  "metadata": {
    "colab": {
      "provenance": [],
      "authorship_tag": "ABX9TyOvGnB5Oi/v5kDAsLxFbqXN",
      "include_colab_link": true
    },
    "kernelspec": {
      "name": "python3",
      "display_name": "Python 3"
    },
    "language_info": {
      "name": "python"
    }
  },
  "cells": [
    {
      "cell_type": "markdown",
      "metadata": {
        "id": "view-in-github",
        "colab_type": "text"
      },
      "source": [
        "<a href=\"https://colab.research.google.com/github/Hyewon97/python_demo/blob/main/p304_%EB%8D%B0%EC%9D%B4%ED%84%B0%EC%88%98%EC%A7%91_API_%EA%B8%B0%EC%83%81%EC%B2%AD_%EA%B4%80%EA%B4%91%EC%BD%94%EC%8A%A4%EB%B3%84.ipynb\" target=\"_parent\"><img src=\"https://colab.research.google.com/assets/colab-badge.svg\" alt=\"Open In Colab\"/></a>"
      ]
    },
    {
      "cell_type": "code",
      "execution_count": null,
      "metadata": {
        "colab": {
          "base_uri": "https://localhost:8080/"
        },
        "id": "mdWNfEm4r9Xe",
        "outputId": "50e3f213-2cf3-47f4-989a-e650a27826b9"
      },
      "outputs": [
        {
          "output_type": "stream",
          "name": "stdout",
          "text": [
            "Mounted at /content/drive\n",
            "/content/drive/MyDrive/dataanalysis/data\n"
          ]
        }
      ],
      "source": [
        "from google.colab import drive\n",
        "drive.mount('/content/drive')\n",
        "\n",
        "%cd /content/drive/MyDrive/dataanalysis/data"
      ]
    },
    {
      "cell_type": "code",
      "source": [
        "!pip install xmltodict"
      ],
      "metadata": {
        "colab": {
          "base_uri": "https://localhost:8080/"
        },
        "id": "XuqxZP3tsKwg",
        "outputId": "5d884824-efb2-4345-cee0-25599beaeafc"
      },
      "execution_count": null,
      "outputs": [
        {
          "output_type": "stream",
          "name": "stdout",
          "text": [
            "Looking in indexes: https://pypi.org/simple, https://us-python.pkg.dev/colab-wheels/public/simple/\n",
            "Requirement already satisfied: xmltodict in /usr/local/lib/python3.8/dist-packages (0.13.0)\n"
          ]
        }
      ]
    },
    {
      "cell_type": "code",
      "source": [
        "import requests\n",
        "import xmltodict\n",
        "import json\n",
        "\n",
        "\n",
        "url ='http://apis.data.go.kr/1360000/TourStnInfoService1/getTourStnVilageFcst1'\n",
        "# key ='TYiyy%2B6qIb8O%2F39YaaTCf8Y4JJ9tBSltFwbW8R%2F86PynE8z%2B4k%2B3WN6V8QK81RWap7O%2B%2FbGNZ%2F1uiKYBUMIo6g%3D%3D'\n",
        "key = 'TYiyy+6qIb8O/39YaaTCf8Y4JJ9tBSltFwbW8R/86PynE8z+4k+3WN6V8QK81RWap7O+/bGNZ/1uiKYBUMIo6g=='\n",
        "params = {'serviceKey' : key,\n",
        "          'pageNo' : '1',\n",
        "          'numOfRows' : '10',\n",
        "          'dataType' : 'XML',\n",
        "          'CURRENT_DATE' : '2019122010',\n",
        "          'HOUR' : '24',\n",
        "          'COURSE_ID' : '1'\n",
        "          }\n",
        "\n",
        "\n",
        "response = requests.get(url, params=params)\n",
        "print(response.content)\n",
        "print(response.text)\n",
        "print(dir(response))"
      ],
      "metadata": {
        "colab": {
          "base_uri": "https://localhost:8080/"
        },
        "id": "Yr0ljMI8sPiY",
        "outputId": "291c01c1-6c97-46fb-ddc4-3a3d6833a792"
      },
      "execution_count": null,
      "outputs": [
        {
          "output_type": "stream",
          "name": "stdout",
          "text": [
            "b'<?xml version=\"1.0\" encoding=\"UTF-8\"?>\\r\\n<response><header><resultCode>00</resultCode><resultMsg>NORMAL_SERVICE</resultMsg></header><body><dataType>XML</dataType><items><item><tm>2019-12-22 09:00</tm><thema>\\xeb\\xac\\xb8\\xed\\x99\\x94/\\xec\\x98\\x88\\xec\\x88\\xa0</thema><courseId>1</courseId><courseAreaId>4700000000</courseAreaId><courseAreaName>\\xea\\xb2\\xbd\\xec\\x83\\x81\\xeb\\xb6\\x81\\xeb\\x8f\\x84</courseAreaName><courseName>\\xeb\\x82\\xa8\\xed\\x98\\xb8\\xea\\xb3\\xa0\\xed\\x83\\x9d\\xec\\x97\\x90\\xec\\x84\\x9c\\xec\\x9d\\x98 \\xed\\x95\\x98\\xeb\\xa3\\xbb\\xeb\\xb0\\xa4</courseName><spotAreaId>102</spotAreaId><spotAreaName>\\xeb\\xb4\\x89\\xed\\x99\\x94</spotAreaName><spotName>(\\xeb\\xb4\\x89\\xed\\x99\\x94)\\xec\\xb6\\x98\\xec\\x96\\x91\\xeb\\xaa\\xa9 \\xec\\x86\\xa1\\xec\\x9d\\xb4\\xeb\\xa7\\x88\\xec\\x9d\\x84</spotName><th3>-2</th3><wd>297</wd><ws>0</ws><sky>3</sky><rhm>90</rhm><pop>20</pop></item><item><tm>2019-12-22 09:00</tm><thema>\\xec\\xa2\\x85\\xea\\xb5\\x90/\\xec\\x97\\xad\\xec\\x82\\xac/\\xec\\xa0\\x84\\xed\\x86\\xb5</thema><courseId>1</courseId><courseAreaId>4700000000</courseAreaId><courseAreaName>\\xea\\xb2\\xbd\\xec\\x83\\x81\\xeb\\xb6\\x81\\xeb\\x8f\\x84</courseAreaName><courseName>\\xeb\\x82\\xa8\\xed\\x98\\xb8\\xea\\xb3\\xa0\\xed\\x83\\x9d\\xec\\x97\\x90\\xec\\x84\\x9c\\xec\\x9d\\x98 \\xed\\x95\\x98\\xeb\\xa3\\xbb\\xeb\\xb0\\xa4</courseName><spotAreaId>104</spotAreaId><spotAreaName>\\xeb\\xb4\\x89\\xed\\x99\\x94</spotAreaName><spotName>(\\xeb\\xb4\\x89\\xed\\x99\\x94)\\xea\\xb3\\x84\\xec\\x84\\x9c\\xeb\\x8b\\xb9(\\xec\\x84\\xb1\\xec\\x9d\\xb4\\xec\\x84\\xb1 \\xec\\x83\\x9d\\xea\\xb0\\x80)</spotName><th3>0</th3><wd>310</wd><ws>0</ws><sky>3</sky><rhm>85</rhm><pop>20</pop></item><item><tm>2019-12-22 09:00</tm><thema>\\xec\\x9e\\x90\\xec\\x97\\xb0/\\xed\\x9e\\x90\\xeb\\xa7\\x81</thema><courseId>1</courseId><courseAreaId>4700000000</courseAreaId><courseAreaName>\\xea\\xb2\\xbd\\xec\\x83\\x81\\xeb\\xb6\\x81\\xeb\\x8f\\x84</courseAreaName><courseName>\\xeb\\x82\\xa8\\xed\\x98\\xb8\\xea\\xb3\\xa0\\xed\\x83\\x9d\\xec\\x97\\x90\\xec\\x84\\x9c\\xec\\x9d\\x98 \\xed\\x95\\x98\\xeb\\xa3\\xbb\\xeb\\xb0\\xa4</courseName><spotAreaId>104</spotAreaId><spotAreaName>\\xeb\\xb4\\x89\\xed\\x99\\x94</spotAreaName><spotName>(\\xeb\\xb4\\x89\\xed\\x99\\x94)\\xea\\xb3\\x84\\xec\\x84\\x9c\\xeb\\x8b\\xb9(\\xec\\x84\\xb1\\xec\\x9d\\xb4\\xec\\x84\\xb1 \\xec\\x83\\x9d\\xea\\xb0\\x80)</spotName><th3>0</th3><wd>310</wd><ws>0</ws><sky>3</sky><rhm>85</rhm><pop>20</pop></item><item><tm>2019-12-22 09:00</tm><thema>\\xec\\xb2\\xb4\\xed\\x97\\x98/\\xed\\x95\\x99\\xec\\x8a\\xb5/\\xec\\x82\\xb0\\xec\\x97\\x85</thema><courseId>1</courseId><courseAreaId>4700000000</courseAreaId><courseAreaName>\\xea\\xb2\\xbd\\xec\\x83\\x81\\xeb\\xb6\\x81\\xeb\\x8f\\x84</courseAreaName><courseName>\\xeb\\x82\\xa8\\xed\\x98\\xb8\\xea\\xb3\\xa0\\xed\\x83\\x9d\\xec\\x97\\x90\\xec\\x84\\x9c\\xec\\x9d\\x98 \\xed\\x95\\x98\\xeb\\xa3\\xbb\\xeb\\xb0\\xa4</courseName><spotAreaId>104</spotAreaId><spotAreaName>\\xeb\\xb4\\x89\\xed\\x99\\x94</spotAreaName><spotName>(\\xeb\\xb4\\x89\\xed\\x99\\x94)\\xea\\xb3\\x84\\xec\\x84\\x9c\\xeb\\x8b\\xb9(\\xec\\x84\\xb1\\xec\\x9d\\xb4\\xec\\x84\\xb1 \\xec\\x83\\x9d\\xea\\xb0\\x80)</spotName><th3>0</th3><wd>310</wd><ws>0</ws><sky>3</sky><rhm>85</rhm><pop>20</pop></item><item><tm>2019-12-22 09:00</tm><thema>\\xeb\\xac\\xb8\\xed\\x99\\x94/\\xec\\x98\\x88\\xec\\x88\\xa0</thema><courseId>1</courseId><courseAreaId>4700000000</courseAreaId><courseAreaName>\\xea\\xb2\\xbd\\xec\\x83\\x81\\xeb\\xb6\\x81\\xeb\\x8f\\x84</courseAreaName><courseName>\\xeb\\x82\\xa8\\xed\\x98\\xb8\\xea\\xb3\\xa0\\xed\\x83\\x9d\\xec\\x97\\x90\\xec\\x84\\x9c\\xec\\x9d\\x98 \\xed\\x95\\x98\\xeb\\xa3\\xbb\\xeb\\xb0\\xa4</courseName><spotAreaId>103</spotAreaId><spotAreaName>\\xeb\\xb4\\x89\\xed\\x99\\x94</spotAreaName><spotName>(\\xeb\\xb4\\x89\\xed\\x99\\x94)\\xec\\xa7\\x80\\xeb\\xa6\\xbc\\xec\\x82\\xac</spotName><th3>0</th3><wd>309</wd><ws>0</ws><sky>3</sky><rhm>85</rhm><pop>20</pop></item><item><tm>2019-12-22 09:00</tm><thema>\\xec\\xa2\\x85\\xea\\xb5\\x90/\\xec\\x97\\xad\\xec\\x82\\xac/\\xec\\xa0\\x84\\xed\\x86\\xb5</thema><courseId>1</courseId><courseAreaId>4700000000</courseAreaId><courseAreaName>\\xea\\xb2\\xbd\\xec\\x83\\x81\\xeb\\xb6\\x81\\xeb\\x8f\\x84</courseAreaName><courseName>\\xeb\\x82\\xa8\\xed\\x98\\xb8\\xea\\xb3\\xa0\\xed\\x83\\x9d\\xec\\x97\\x90\\xec\\x84\\x9c\\xec\\x9d\\x98 \\xed\\x95\\x98\\xeb\\xa3\\xbb\\xeb\\xb0\\xa4</courseName><spotAreaId>103</spotAreaId><spotAreaName>\\xeb\\xb4\\x89\\xed\\x99\\x94</spotAreaName><spotName>(\\xeb\\xb4\\x89\\xed\\x99\\x94)\\xec\\xa7\\x80\\xeb\\xa6\\xbc\\xec\\x82\\xac</spotName><th3>0</th3><wd>309</wd><ws>0</ws><sky>3</sky><rhm>85</rhm><pop>20</pop></item><item><tm>2019-12-22 09:00</tm><thema>\\xec\\x9e\\x90\\xec\\x97\\xb0/\\xed\\x9e\\x90\\xeb\\xa7\\x81</thema><courseId>1</courseId><courseAreaId>4700000000</courseAreaId><courseAreaName>\\xea\\xb2\\xbd\\xec\\x83\\x81\\xeb\\xb6\\x81\\xeb\\x8f\\x84</courseAreaName><courseName>\\xeb\\x82\\xa8\\xed\\x98\\xb8\\xea\\xb3\\xa0\\xed\\x83\\x9d\\xec\\x97\\x90\\xec\\x84\\x9c\\xec\\x9d\\x98 \\xed\\x95\\x98\\xeb\\xa3\\xbb\\xeb\\xb0\\xa4</courseName><spotAreaId>103</spotAreaId><spotAreaName>\\xeb\\xb4\\x89\\xed\\x99\\x94</spotAreaName><spotName>(\\xeb\\xb4\\x89\\xed\\x99\\x94)\\xec\\xa7\\x80\\xeb\\xa6\\xbc\\xec\\x82\\xac</spotName><th3>0</th3><wd>309</wd><ws>0</ws><sky>3</sky><rhm>85</rhm><pop>20</pop></item><item><tm>2019-12-22 09:00</tm><thema>\\xec\\xb2\\xb4\\xed\\x97\\x98/\\xed\\x95\\x99\\xec\\x8a\\xb5/\\xec\\x82\\xb0\\xec\\x97\\x85</thema><courseId>1</courseId><courseAreaId>4700000000</courseAreaId><courseAreaName>\\xea\\xb2\\xbd\\xec\\x83\\x81\\xeb\\xb6\\x81\\xeb\\x8f\\x84</courseAreaName><courseName>\\xeb\\x82\\xa8\\xed\\x98\\xb8\\xea\\xb3\\xa0\\xed\\x83\\x9d\\xec\\x97\\x90\\xec\\x84\\x9c\\xec\\x9d\\x98 \\xed\\x95\\x98\\xeb\\xa3\\xbb\\xeb\\xb0\\xa4</courseName><spotAreaId>103</spotAreaId><spotAreaName>\\xeb\\xb4\\x89\\xed\\x99\\x94</spotAreaName><spotName>(\\xeb\\xb4\\x89\\xed\\x99\\x94)\\xec\\xa7\\x80\\xeb\\xa6\\xbc\\xec\\x82\\xac</spotName><th3>0</th3><wd>309</wd><ws>0</ws><sky>3</sky><rhm>85</rhm><pop>20</pop></item><item><tm>2019-12-22 09:00</tm><thema>\\xeb\\xac\\xb8\\xed\\x99\\x94/\\xec\\x98\\x88\\xec\\x88\\xa0</thema><courseId>1</courseId><courseAreaId>4700000000</courseAreaId><courseAreaName>\\xea\\xb2\\xbd\\xec\\x83\\x81\\xeb\\xb6\\x81\\xeb\\x8f\\x84</courseAreaName><courseName>\\xeb\\x82\\xa8\\xed\\x98\\xb8\\xea\\xb3\\xa0\\xed\\x83\\x9d\\xec\\x97\\x90\\xec\\x84\\x9c\\xec\\x9d\\x98 \\xed\\x95\\x98\\xeb\\xa3\\xbb\\xeb\\xb0\\xa4</courseName><spotAreaId>104</spotAreaId><spotAreaName>\\xeb\\xb4\\x89\\xed\\x99\\x94</spotAreaName><spotName>(\\xeb\\xb4\\x89\\xed\\x99\\x94)\\xea\\xb3\\x84\\xec\\x84\\x9c\\xeb\\x8b\\xb9(\\xec\\x84\\xb1\\xec\\x9d\\xb4\\xec\\x84\\xb1 \\xec\\x83\\x9d\\xea\\xb0\\x80)</spotName><th3>0</th3><wd>310</wd><ws>0</ws><sky>3</sky><rhm>85</rhm><pop>20</pop></item><item><tm>2019-12-22 09:00</tm><thema>\\xec\\xa2\\x85\\xea\\xb5\\x90/\\xec\\x97\\xad\\xec\\x82\\xac/\\xec\\xa0\\x84\\xed\\x86\\xb5</thema><courseId>1</courseId><courseAreaId>4700000000</courseAreaId><courseAreaName>\\xea\\xb2\\xbd\\xec\\x83\\x81\\xeb\\xb6\\x81\\xeb\\x8f\\x84</courseAreaName><courseName>\\xeb\\x82\\xa8\\xed\\x98\\xb8\\xea\\xb3\\xa0\\xed\\x83\\x9d\\xec\\x97\\x90\\xec\\x84\\x9c\\xec\\x9d\\x98 \\xed\\x95\\x98\\xeb\\xa3\\xbb\\xeb\\xb0\\xa4</courseName><spotAreaId>102</spotAreaId><spotAreaName>\\xeb\\xb4\\x89\\xed\\x99\\x94</spotAreaName><spotName>(\\xeb\\xb4\\x89\\xed\\x99\\x94)\\xec\\xb6\\x98\\xec\\x96\\x91\\xeb\\xaa\\xa9 \\xec\\x86\\xa1\\xec\\x9d\\xb4\\xeb\\xa7\\x88\\xec\\x9d\\x84</spotName><th3>-2</th3><wd>297</wd><ws>0</ws><sky>3</sky><rhm>90</rhm><pop>20</pop></item></items><numOfRows>10</numOfRows><pageNo>1</pageNo><totalCount>256</totalCount></body></response>\\r\\n'\n",
            "<?xml version=\"1.0\" encoding=\"UTF-8\"?>\r\n",
            "<response><header><resultCode>00</resultCode><resultMsg>NORMAL_SERVICE</resultMsg></header><body><dataType>XML</dataType><items><item><tm>2019-12-22 09:00</tm><thema>문화/예술</thema><courseId>1</courseId><courseAreaId>4700000000</courseAreaId><courseAreaName>경상북도</courseAreaName><courseName>남호고택에서의 하룻밤</courseName><spotAreaId>102</spotAreaId><spotAreaName>봉화</spotAreaName><spotName>(봉화)춘양목 송이마을</spotName><th3>-2</th3><wd>297</wd><ws>0</ws><sky>3</sky><rhm>90</rhm><pop>20</pop></item><item><tm>2019-12-22 09:00</tm><thema>종교/역사/전통</thema><courseId>1</courseId><courseAreaId>4700000000</courseAreaId><courseAreaName>경상북도</courseAreaName><courseName>남호고택에서의 하룻밤</courseName><spotAreaId>104</spotAreaId><spotAreaName>봉화</spotAreaName><spotName>(봉화)계서당(성이성 생가)</spotName><th3>0</th3><wd>310</wd><ws>0</ws><sky>3</sky><rhm>85</rhm><pop>20</pop></item><item><tm>2019-12-22 09:00</tm><thema>자연/힐링</thema><courseId>1</courseId><courseAreaId>4700000000</courseAreaId><courseAreaName>경상북도</courseAreaName><courseName>남호고택에서의 하룻밤</courseName><spotAreaId>104</spotAreaId><spotAreaName>봉화</spotAreaName><spotName>(봉화)계서당(성이성 생가)</spotName><th3>0</th3><wd>310</wd><ws>0</ws><sky>3</sky><rhm>85</rhm><pop>20</pop></item><item><tm>2019-12-22 09:00</tm><thema>체험/학습/산업</thema><courseId>1</courseId><courseAreaId>4700000000</courseAreaId><courseAreaName>경상북도</courseAreaName><courseName>남호고택에서의 하룻밤</courseName><spotAreaId>104</spotAreaId><spotAreaName>봉화</spotAreaName><spotName>(봉화)계서당(성이성 생가)</spotName><th3>0</th3><wd>310</wd><ws>0</ws><sky>3</sky><rhm>85</rhm><pop>20</pop></item><item><tm>2019-12-22 09:00</tm><thema>문화/예술</thema><courseId>1</courseId><courseAreaId>4700000000</courseAreaId><courseAreaName>경상북도</courseAreaName><courseName>남호고택에서의 하룻밤</courseName><spotAreaId>103</spotAreaId><spotAreaName>봉화</spotAreaName><spotName>(봉화)지림사</spotName><th3>0</th3><wd>309</wd><ws>0</ws><sky>3</sky><rhm>85</rhm><pop>20</pop></item><item><tm>2019-12-22 09:00</tm><thema>종교/역사/전통</thema><courseId>1</courseId><courseAreaId>4700000000</courseAreaId><courseAreaName>경상북도</courseAreaName><courseName>남호고택에서의 하룻밤</courseName><spotAreaId>103</spotAreaId><spotAreaName>봉화</spotAreaName><spotName>(봉화)지림사</spotName><th3>0</th3><wd>309</wd><ws>0</ws><sky>3</sky><rhm>85</rhm><pop>20</pop></item><item><tm>2019-12-22 09:00</tm><thema>자연/힐링</thema><courseId>1</courseId><courseAreaId>4700000000</courseAreaId><courseAreaName>경상북도</courseAreaName><courseName>남호고택에서의 하룻밤</courseName><spotAreaId>103</spotAreaId><spotAreaName>봉화</spotAreaName><spotName>(봉화)지림사</spotName><th3>0</th3><wd>309</wd><ws>0</ws><sky>3</sky><rhm>85</rhm><pop>20</pop></item><item><tm>2019-12-22 09:00</tm><thema>체험/학습/산업</thema><courseId>1</courseId><courseAreaId>4700000000</courseAreaId><courseAreaName>경상북도</courseAreaName><courseName>남호고택에서의 하룻밤</courseName><spotAreaId>103</spotAreaId><spotAreaName>봉화</spotAreaName><spotName>(봉화)지림사</spotName><th3>0</th3><wd>309</wd><ws>0</ws><sky>3</sky><rhm>85</rhm><pop>20</pop></item><item><tm>2019-12-22 09:00</tm><thema>문화/예술</thema><courseId>1</courseId><courseAreaId>4700000000</courseAreaId><courseAreaName>경상북도</courseAreaName><courseName>남호고택에서의 하룻밤</courseName><spotAreaId>104</spotAreaId><spotAreaName>봉화</spotAreaName><spotName>(봉화)계서당(성이성 생가)</spotName><th3>0</th3><wd>310</wd><ws>0</ws><sky>3</sky><rhm>85</rhm><pop>20</pop></item><item><tm>2019-12-22 09:00</tm><thema>종교/역사/전통</thema><courseId>1</courseId><courseAreaId>4700000000</courseAreaId><courseAreaName>경상북도</courseAreaName><courseName>남호고택에서의 하룻밤</courseName><spotAreaId>102</spotAreaId><spotAreaName>봉화</spotAreaName><spotName>(봉화)춘양목 송이마을</spotName><th3>-2</th3><wd>297</wd><ws>0</ws><sky>3</sky><rhm>90</rhm><pop>20</pop></item></items><numOfRows>10</numOfRows><pageNo>1</pageNo><totalCount>256</totalCount></body></response>\r\n",
            "\n",
            "['__attrs__', '__bool__', '__class__', '__delattr__', '__dict__', '__dir__', '__doc__', '__enter__', '__eq__', '__exit__', '__format__', '__ge__', '__getattribute__', '__getstate__', '__gt__', '__hash__', '__init__', '__init_subclass__', '__iter__', '__le__', '__lt__', '__module__', '__ne__', '__new__', '__nonzero__', '__reduce__', '__reduce_ex__', '__repr__', '__setattr__', '__setstate__', '__sizeof__', '__str__', '__subclasshook__', '__weakref__', '_content', '_content_consumed', '_next', 'apparent_encoding', 'close', 'connection', 'content', 'cookies', 'elapsed', 'encoding', 'headers', 'history', 'is_permanent_redirect', 'is_redirect', 'iter_content', 'iter_lines', 'json', 'links', 'next', 'ok', 'raise_for_status', 'raw', 'reason', 'request', 'status_code', 'text', 'url']\n"
          ]
        }
      ]
    },
    {
      "cell_type": "code",
      "source": [
        "# 정상적으로 받아왔을 때\n",
        "if response.status_code==200 :\n",
        "  xd = xmltodict.parse(response.text)\n",
        "  print(type(xd))\n",
        "  print(xd) # 객체를 json으로? 받아오기 위해서는 json.dump 사용해서 가지고 오면 된다."
      ],
      "metadata": {
        "colab": {
          "base_uri": "https://localhost:8080/"
        },
        "id": "07UYdWlIsUS5",
        "outputId": "72102a74-5981-4864-b03e-9931ecf16798"
      },
      "execution_count": null,
      "outputs": [
        {
          "output_type": "stream",
          "name": "stdout",
          "text": [
            "<class 'dict'>\n",
            "{'response': {'header': {'resultCode': '00', 'resultMsg': 'NORMAL_SERVICE'}, 'body': {'dataType': 'XML', 'items': {'item': [{'tm': '2019-12-22 09:00', 'thema': '문화/예술', 'courseId': '1', 'courseAreaId': '4700000000', 'courseAreaName': '경상북도', 'courseName': '남호고택에서의 하룻밤', 'spotAreaId': '102', 'spotAreaName': '봉화', 'spotName': '(봉화)춘양목 송이마을', 'th3': '-2', 'wd': '297', 'ws': '0', 'sky': '3', 'rhm': '90', 'pop': '20'}, {'tm': '2019-12-22 09:00', 'thema': '종교/역사/전통', 'courseId': '1', 'courseAreaId': '4700000000', 'courseAreaName': '경상북도', 'courseName': '남호고택에서의 하룻밤', 'spotAreaId': '104', 'spotAreaName': '봉화', 'spotName': '(봉화)계서당(성이성 생가)', 'th3': '0', 'wd': '310', 'ws': '0', 'sky': '3', 'rhm': '85', 'pop': '20'}, {'tm': '2019-12-22 09:00', 'thema': '자연/힐링', 'courseId': '1', 'courseAreaId': '4700000000', 'courseAreaName': '경상북도', 'courseName': '남호고택에서의 하룻밤', 'spotAreaId': '104', 'spotAreaName': '봉화', 'spotName': '(봉화)계서당(성이성 생가)', 'th3': '0', 'wd': '310', 'ws': '0', 'sky': '3', 'rhm': '85', 'pop': '20'}, {'tm': '2019-12-22 09:00', 'thema': '체험/학습/산업', 'courseId': '1', 'courseAreaId': '4700000000', 'courseAreaName': '경상북도', 'courseName': '남호고택에서의 하룻밤', 'spotAreaId': '104', 'spotAreaName': '봉화', 'spotName': '(봉화)계서당(성이성 생가)', 'th3': '0', 'wd': '310', 'ws': '0', 'sky': '3', 'rhm': '85', 'pop': '20'}, {'tm': '2019-12-22 09:00', 'thema': '문화/예술', 'courseId': '1', 'courseAreaId': '4700000000', 'courseAreaName': '경상북도', 'courseName': '남호고택에서의 하룻밤', 'spotAreaId': '103', 'spotAreaName': '봉화', 'spotName': '(봉화)지림사', 'th3': '0', 'wd': '309', 'ws': '0', 'sky': '3', 'rhm': '85', 'pop': '20'}, {'tm': '2019-12-22 09:00', 'thema': '종교/역사/전통', 'courseId': '1', 'courseAreaId': '4700000000', 'courseAreaName': '경상북도', 'courseName': '남호고택에서의 하룻밤', 'spotAreaId': '103', 'spotAreaName': '봉화', 'spotName': '(봉화)지림사', 'th3': '0', 'wd': '309', 'ws': '0', 'sky': '3', 'rhm': '85', 'pop': '20'}, {'tm': '2019-12-22 09:00', 'thema': '자연/힐링', 'courseId': '1', 'courseAreaId': '4700000000', 'courseAreaName': '경상북도', 'courseName': '남호고택에서의 하룻밤', 'spotAreaId': '103', 'spotAreaName': '봉화', 'spotName': '(봉화)지림사', 'th3': '0', 'wd': '309', 'ws': '0', 'sky': '3', 'rhm': '85', 'pop': '20'}, {'tm': '2019-12-22 09:00', 'thema': '체험/학습/산업', 'courseId': '1', 'courseAreaId': '4700000000', 'courseAreaName': '경상북도', 'courseName': '남호고택에서의 하룻밤', 'spotAreaId': '103', 'spotAreaName': '봉화', 'spotName': '(봉화)지림사', 'th3': '0', 'wd': '309', 'ws': '0', 'sky': '3', 'rhm': '85', 'pop': '20'}, {'tm': '2019-12-22 09:00', 'thema': '문화/예술', 'courseId': '1', 'courseAreaId': '4700000000', 'courseAreaName': '경상북도', 'courseName': '남호고택에서의 하룻밤', 'spotAreaId': '104', 'spotAreaName': '봉화', 'spotName': '(봉화)계서당(성이성 생가)', 'th3': '0', 'wd': '310', 'ws': '0', 'sky': '3', 'rhm': '85', 'pop': '20'}, {'tm': '2019-12-22 09:00', 'thema': '종교/역사/전통', 'courseId': '1', 'courseAreaId': '4700000000', 'courseAreaName': '경상북도', 'courseName': '남호고택에서의 하룻밤', 'spotAreaId': '102', 'spotAreaName': '봉화', 'spotName': '(봉화)춘양목 송이마을', 'th3': '-2', 'wd': '297', 'ws': '0', 'sky': '3', 'rhm': '90', 'pop': '20'}]}, 'numOfRows': '10', 'pageNo': '1', 'totalCount': '256'}}}\n"
          ]
        }
      ]
    },
    {
      "cell_type": "code",
      "source": [
        "# items\n",
        "w_data =xd['response']['body']['items']['item']\n",
        "print(w_data)"
      ],
      "metadata": {
        "colab": {
          "base_uri": "https://localhost:8080/"
        },
        "id": "CMRkI2aozvHS",
        "outputId": "dfbc4168-a7de-4194-e47d-89e3e629380a"
      },
      "execution_count": null,
      "outputs": [
        {
          "output_type": "stream",
          "name": "stdout",
          "text": [
            "[{'tm': '2019-12-22 09:00', 'thema': '문화/예술', 'courseId': '1', 'courseAreaId': '4700000000', 'courseAreaName': '경상북도', 'courseName': '남호고택에서의 하룻밤', 'spotAreaId': '102', 'spotAreaName': '봉화', 'spotName': '(봉화)춘양목 송이마을', 'th3': '-2', 'wd': '297', 'ws': '0', 'sky': '3', 'rhm': '90', 'pop': '20'}, {'tm': '2019-12-22 09:00', 'thema': '종교/역사/전통', 'courseId': '1', 'courseAreaId': '4700000000', 'courseAreaName': '경상북도', 'courseName': '남호고택에서의 하룻밤', 'spotAreaId': '104', 'spotAreaName': '봉화', 'spotName': '(봉화)계서당(성이성 생가)', 'th3': '0', 'wd': '310', 'ws': '0', 'sky': '3', 'rhm': '85', 'pop': '20'}, {'tm': '2019-12-22 09:00', 'thema': '자연/힐링', 'courseId': '1', 'courseAreaId': '4700000000', 'courseAreaName': '경상북도', 'courseName': '남호고택에서의 하룻밤', 'spotAreaId': '104', 'spotAreaName': '봉화', 'spotName': '(봉화)계서당(성이성 생가)', 'th3': '0', 'wd': '310', 'ws': '0', 'sky': '3', 'rhm': '85', 'pop': '20'}, {'tm': '2019-12-22 09:00', 'thema': '체험/학습/산업', 'courseId': '1', 'courseAreaId': '4700000000', 'courseAreaName': '경상북도', 'courseName': '남호고택에서의 하룻밤', 'spotAreaId': '104', 'spotAreaName': '봉화', 'spotName': '(봉화)계서당(성이성 생가)', 'th3': '0', 'wd': '310', 'ws': '0', 'sky': '3', 'rhm': '85', 'pop': '20'}, {'tm': '2019-12-22 09:00', 'thema': '문화/예술', 'courseId': '1', 'courseAreaId': '4700000000', 'courseAreaName': '경상북도', 'courseName': '남호고택에서의 하룻밤', 'spotAreaId': '103', 'spotAreaName': '봉화', 'spotName': '(봉화)지림사', 'th3': '0', 'wd': '309', 'ws': '0', 'sky': '3', 'rhm': '85', 'pop': '20'}, {'tm': '2019-12-22 09:00', 'thema': '종교/역사/전통', 'courseId': '1', 'courseAreaId': '4700000000', 'courseAreaName': '경상북도', 'courseName': '남호고택에서의 하룻밤', 'spotAreaId': '103', 'spotAreaName': '봉화', 'spotName': '(봉화)지림사', 'th3': '0', 'wd': '309', 'ws': '0', 'sky': '3', 'rhm': '85', 'pop': '20'}, {'tm': '2019-12-22 09:00', 'thema': '자연/힐링', 'courseId': '1', 'courseAreaId': '4700000000', 'courseAreaName': '경상북도', 'courseName': '남호고택에서의 하룻밤', 'spotAreaId': '103', 'spotAreaName': '봉화', 'spotName': '(봉화)지림사', 'th3': '0', 'wd': '309', 'ws': '0', 'sky': '3', 'rhm': '85', 'pop': '20'}, {'tm': '2019-12-22 09:00', 'thema': '체험/학습/산업', 'courseId': '1', 'courseAreaId': '4700000000', 'courseAreaName': '경상북도', 'courseName': '남호고택에서의 하룻밤', 'spotAreaId': '103', 'spotAreaName': '봉화', 'spotName': '(봉화)지림사', 'th3': '0', 'wd': '309', 'ws': '0', 'sky': '3', 'rhm': '85', 'pop': '20'}, {'tm': '2019-12-22 09:00', 'thema': '문화/예술', 'courseId': '1', 'courseAreaId': '4700000000', 'courseAreaName': '경상북도', 'courseName': '남호고택에서의 하룻밤', 'spotAreaId': '104', 'spotAreaName': '봉화', 'spotName': '(봉화)계서당(성이성 생가)', 'th3': '0', 'wd': '310', 'ws': '0', 'sky': '3', 'rhm': '85', 'pop': '20'}, {'tm': '2019-12-22 09:00', 'thema': '종교/역사/전통', 'courseId': '1', 'courseAreaId': '4700000000', 'courseAreaName': '경상북도', 'courseName': '남호고택에서의 하룻밤', 'spotAreaId': '102', 'spotAreaName': '봉화', 'spotName': '(봉화)춘양목 송이마을', 'th3': '-2', 'wd': '297', 'ws': '0', 'sky': '3', 'rhm': '90', 'pop': '20'}]\n"
          ]
        }
      ]
    },
    {
      "cell_type": "code",
      "source": [
        "# 기상상태 출력\n",
        "dict_sky={'1':'맑음','2':'구름','3':'흐림','4':'비','5':'소나기','6':'비눈','7':'눈비','8':'눈'}\n",
        "\n",
        "key_sky=w_data[0]['sky']\n",
        "print('기상상태:' +  dict_sky[key_sky])"
      ],
      "metadata": {
        "colab": {
          "base_uri": "https://localhost:8080/"
        },
        "id": "9cZ2u5yvzzyr",
        "outputId": "61ed3858-ae7c-484e-eb05-595531cd6a78"
      },
      "execution_count": null,
      "outputs": [
        {
          "output_type": "stream",
          "name": "stdout",
          "text": [
            "기상상태:흐림\n"
          ]
        }
      ]
    },
    {
      "cell_type": "code",
      "source": [
        "# 필요한 item 출력\n",
        "for i in range(len(w_data)) :\n",
        "  key_sky = w_data[i]['sky']\n",
        "  print('관광지명:'+w_data[i]['spotAreaName'])\n",
        "  print('시간:'+w_data[i]['tm'])\n",
        "  print('기온:'+w_data[i]['th3'])\n",
        "  print('강수확률:'+w_data[i]['pop'])\n",
        "  print('기상상태:'+dict_sky[key_sky])\n",
        "  print('------------------------------------')\n",
        "\n",
        "  # 총 item 수 출력\n",
        "totalCount = xd['response']['body']['totalCount']\n",
        "print('totalCount :' + totalCount)"
      ],
      "metadata": {
        "colab": {
          "base_uri": "https://localhost:8080/"
        },
        "id": "2lE3UFsZ0j8E",
        "outputId": "c7730dd5-c114-499a-abe1-174e7b753955"
      },
      "execution_count": null,
      "outputs": [
        {
          "output_type": "stream",
          "name": "stdout",
          "text": [
            "관광지명:봉화\n",
            "시간:2019-12-22 09:00\n",
            "기온:-2\n",
            "강수확률:20\n",
            "기상상태:흐림\n",
            "------------------------------------\n",
            "관광지명:봉화\n",
            "시간:2019-12-22 09:00\n",
            "기온:0\n",
            "강수확률:20\n",
            "기상상태:흐림\n",
            "------------------------------------\n",
            "관광지명:봉화\n",
            "시간:2019-12-22 09:00\n",
            "기온:0\n",
            "강수확률:20\n",
            "기상상태:흐림\n",
            "------------------------------------\n",
            "관광지명:봉화\n",
            "시간:2019-12-22 09:00\n",
            "기온:0\n",
            "강수확률:20\n",
            "기상상태:흐림\n",
            "------------------------------------\n",
            "관광지명:봉화\n",
            "시간:2019-12-22 09:00\n",
            "기온:0\n",
            "강수확률:20\n",
            "기상상태:흐림\n",
            "------------------------------------\n",
            "관광지명:봉화\n",
            "시간:2019-12-22 09:00\n",
            "기온:0\n",
            "강수확률:20\n",
            "기상상태:흐림\n",
            "------------------------------------\n",
            "관광지명:봉화\n",
            "시간:2019-12-22 09:00\n",
            "기온:0\n",
            "강수확률:20\n",
            "기상상태:흐림\n",
            "------------------------------------\n",
            "관광지명:봉화\n",
            "시간:2019-12-22 09:00\n",
            "기온:0\n",
            "강수확률:20\n",
            "기상상태:흐림\n",
            "------------------------------------\n",
            "관광지명:봉화\n",
            "시간:2019-12-22 09:00\n",
            "기온:0\n",
            "강수확률:20\n",
            "기상상태:흐림\n",
            "------------------------------------\n",
            "관광지명:봉화\n",
            "시간:2019-12-22 09:00\n",
            "기온:-2\n",
            "강수확률:20\n",
            "기상상태:흐림\n",
            "------------------------------------\n",
            "totalCount :256\n"
          ]
        }
      ]
    }
  ]
}