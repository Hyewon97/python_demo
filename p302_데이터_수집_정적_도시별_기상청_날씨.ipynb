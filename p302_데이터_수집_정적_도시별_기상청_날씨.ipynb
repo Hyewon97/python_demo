{
  "nbformat": 4,
  "nbformat_minor": 0,
  "metadata": {
    "colab": {
      "provenance": [],
      "authorship_tag": "ABX9TyMChBisEdt7gUELv5GUwMR4",
      "include_colab_link": true
    },
    "kernelspec": {
      "name": "python3",
      "display_name": "Python 3"
    },
    "language_info": {
      "name": "python"
    }
  },
  "cells": [
    {
      "cell_type": "markdown",
      "metadata": {
        "id": "view-in-github",
        "colab_type": "text"
      },
      "source": [
        "<a href=\"https://colab.research.google.com/github/Hyewon97/python_demo/blob/main/p302_%EB%8D%B0%EC%9D%B4%ED%84%B0_%EC%88%98%EC%A7%91_%EC%A0%95%EC%A0%81_%EB%8F%84%EC%8B%9C%EB%B3%84_%EA%B8%B0%EC%83%81%EC%B2%AD_%EB%82%A0%EC%94%A8.ipynb\" target=\"_parent\"><img src=\"https://colab.research.google.com/assets/colab-badge.svg\" alt=\"Open In Colab\"/></a>"
      ]
    },
    {
      "cell_type": "markdown",
      "source": [
        "### 도시별 기상청 날씨 Crowling\n",
        "\n",
        "https://www.weather.go.kr/w/obs-climate/land/city-obs.do"
      ],
      "metadata": {
        "id": "yrZq3GkrJq1a"
      }
    },
    {
      "cell_type": "markdown",
      "source": [
        "구글 드라이브 연결"
      ],
      "metadata": {
        "id": "ghlEnLF-JW7M"
      }
    },
    {
      "cell_type": "code",
      "source": [
        "from google.colab import drive\n",
        "drive.mount('/content/drive')\n",
        "\n",
        "%cd /content/drive/MyDrive/dataanalysis/data"
      ],
      "metadata": {
        "colab": {
          "base_uri": "https://localhost:8080/"
        },
        "id": "9WHuUnZHJeev",
        "outputId": "02a2e450-602d-48e1-95c6-94dd4bf747c0"
      },
      "execution_count": null,
      "outputs": [
        {
          "output_type": "stream",
          "name": "stdout",
          "text": [
            "Drive already mounted at /content/drive; to attempt to forcibly remount, call drive.mount(\"/content/drive\", force_remount=True).\n",
            "/content/drive/MyDrive/dataanalysis/data\n"
          ]
        }
      ]
    },
    {
      "cell_type": "code",
      "source": [
        "!pwd"
      ],
      "metadata": {
        "colab": {
          "base_uri": "https://localhost:8080/"
        },
        "id": "NJnW33Y0Jp8s",
        "outputId": "fa7f98f7-e189-4c32-c1a6-5675d8707a1d"
      },
      "execution_count": null,
      "outputs": [
        {
          "output_type": "stream",
          "name": "stdout",
          "text": [
            "/content/drive/MyDrive/dataanalysis/data\n"
          ]
        }
      ]
    },
    {
      "cell_type": "markdown",
      "source": [
        "###1 import"
      ],
      "metadata": {
        "id": "ZmMqBAovKyfC"
      }
    },
    {
      "cell_type": "code",
      "source": [
        "from bs4 import BeautifulSoup\n",
        "import requests"
      ],
      "metadata": {
        "id": "O1-iahkCK4Yt"
      },
      "execution_count": null,
      "outputs": []
    },
    {
      "cell_type": "markdown",
      "source": [
        "### 2 작업결과를 저장할 리스트 준비"
      ],
      "metadata": {
        "id": "pJt9wL7IK_Df"
      }
    },
    {
      "cell_type": "code",
      "source": [
        "result =[]"
      ],
      "metadata": {
        "id": "B4o26YFWLDsE"
      },
      "execution_count": null,
      "outputs": []
    },
    {
      "cell_type": "markdown",
      "source": [
        "3 BeatifulSoup 객체 생성하여 파"
      ],
      "metadata": {
        "id": "kkKE-aEKLHMn"
      }
    },
    {
      "cell_type": "code",
      "source": [
        "del result[:]\n",
        "\n",
        "header={\"User-Agent\":\"Mozilla/5.0 (Windows NT 10.0; Win64; x64) AppleWebKit/537.36 (KHTML, like Gecko) Chrome/109.0.0.0 Safari/537.36\"}\n",
        "url= \"https://www.weather.go.kr/w/obs-climate/land/city-obs.do\"\n",
        "\n",
        "res = requests.get(url, headers = header)\n",
        "soup = BeautifulSoup(res.text, 'html.parser')\n",
        "print(type(soup))\n",
        "\n",
        "#tbody_tag = soup.find('tbody', attrs={\"aria-live\":\"polite\"}) #attrs={\"aria-live\":\"polite\"}), 이런 속서은 가지고 오지 못한다.\n",
        "tbody_tag = soup.find('tbody')\n",
        "#print(tbody_tag)\n",
        "tr_rs_tag = tbody_tag.find_all('tr')\n",
        "# print(tr_rs_tag)\n",
        "# print(type(tr_rs_tag))\n",
        "print(tr_rs_tag[0])\n",
        "\n",
        "for tr_tag in tr_rs_tag :\n",
        "  td_rs_tag = tr_tag.find_all('td')\n",
        "  city = td_rs_tag[0].string          # 지역\n",
        "  cur_temp = td_rs_tag[5].string      # 현재기온\n",
        "  sen_temp = td_rs_tag[7].string      # 체감온도\n",
        "  result.append([city, cur_temp, sen_temp])\n",
        "\n",
        "#result"
      ],
      "metadata": {
        "colab": {
          "base_uri": "https://localhost:8080/"
        },
        "id": "KRAeiGoCLKjf",
        "outputId": "5c2cbb70-ad21-4a3e-c39f-5df7be50fddb"
      },
      "execution_count": null,
      "outputs": [
        {
          "output_type": "stream",
          "name": "stdout",
          "text": [
            "<class 'bs4.BeautifulSoup'>\n",
            "<tr>\n",
            "<td><a href=\"city-obs.do?tm=2023.2.15.13:00&amp;type=t99&amp;mode=0&amp;reg=100&amp;auto_man=m&amp;stn=105\">강릉</a></td>\n",
            "<td> </td>\n",
            "<td>2.7</td>\n",
            "<td> </td>\n",
            "<td> </td>\n",
            "<td>3.1</td>\n",
            "<td>0.4</td>\n",
            "<td>0.7</td>\n",
            "<td>13.9</td>\n",
            "<td>15.6</td>\n",
            "<td>83</td>\n",
            "<td>북북동</td>\n",
            "<td><script>writeWindSpeed('2.4', false, '', '', 1);</script></td>\n",
            "<td>1032.4</td>\n",
            "</tr>\n"
          ]
        }
      ]
    },
    {
      "cell_type": "markdown",
      "source": [
        "4.도시별, 현재기온, 체감온도 크롤링 결과"
      ],
      "metadata": {
        "id": "kCQU5pCaL9V3"
      }
    },
    {
      "cell_type": "code",
      "source": [
        "for element in result:\n",
        "  print(element)\n",
        "  break"
      ],
      "metadata": {
        "colab": {
          "base_uri": "https://localhost:8080/"
        },
        "id": "REC07PkyPMjL",
        "outputId": "745e03c7-4a94-4e89-8c33-8f6a06467d81"
      },
      "execution_count": null,
      "outputs": [
        {
          "output_type": "stream",
          "name": "stdout",
          "text": [
            "['강릉', '2.7', '0.8']\n"
          ]
        }
      ]
    },
    {
      "cell_type": "markdown",
      "source": [
        "5. 저장할 날짜 지"
      ],
      "metadata": {
        "id": "CWsdTLpNQPGy"
      }
    },
    {
      "cell_type": "code",
      "source": [
        "import datetime\n",
        "\n",
        "to_now=datetime.datetime.now()\n",
        "to_now = to_now.strftime('%Y-%m-%d %H:%M:%s')"
      ],
      "metadata": {
        "id": "KvbIeAQ2QSnA"
      },
      "execution_count": null,
      "outputs": []
    },
    {
      "cell_type": "markdown",
      "source": [
        "6. 크롤링 결과를 csv 파일로 저장"
      ],
      "metadata": {
        "id": "-UXlToFJPbVg"
      }
    },
    {
      "cell_type": "code",
      "source": [
        "import csv\n",
        "\n",
        "# fields names\n",
        "fields =['City', 'CurTemp','SenTemp']\n",
        "\n",
        "with open('./%s_weather.csv' % to_now, 'w',newline='',encoding='cp949') as f:\n",
        "  write = csv.writer(f)\n",
        "  write.writerow(fields)\n",
        "  write.writerows(result)"
      ],
      "metadata": {
        "id": "GUWKmvJcPeSD"
      },
      "execution_count": null,
      "outputs": []
    },
    {
      "cell_type": "markdown",
      "source": [
        "7 weather.csv 파일 읽어오기"
      ],
      "metadata": {
        "id": "_8h5-xHpRhg1"
      }
    },
    {
      "cell_type": "code",
      "source": [
        "with open('./%s_weather.csv' % to_now,'r', encoding='cp949') as f:\n",
        "    reader = csv.reader(f)\n",
        "    for row in reader:\n",
        "      for cell in row:\n",
        "        print(cell, end=',')\n",
        "      print(end= '\\n')\n",
        "      break;\n",
        "    # td_list = element.split(\",\")\n",
        "    # print(td_list[0], td_list[1], td_list[2])"
      ],
      "metadata": {
        "colab": {
          "base_uri": "https://localhost:8080/"
        },
        "id": "QxK_8So7Rn04",
        "outputId": "eabc0452-b33a-4ed3-cedc-f28a63fca209"
      },
      "execution_count": null,
      "outputs": [
        {
          "output_type": "stream",
          "name": "stdout",
          "text": [
            "City,CurTemp,SenTemp,\n"
          ]
        }
      ]
    },
    {
      "cell_type": "markdown",
      "source": [
        "### 8 weather.py 파일 생성"
      ],
      "metadata": {
        "id": "eAhk70DjUNGg"
      }
    },
    {
      "cell_type": "code",
      "source": [
        "%%writefile ./weatehr_collector.py\n",
        "\n",
        "from bs4 import BeautifulSoup\n",
        "import requests\n",
        "import datetime\n",
        "import csv\n",
        "\n",
        "result =[]\n",
        "\n",
        "def weatehr_process() :\n",
        "  header={\"User-Agent\":\"Mozilla/5.0 (Windows NT 10.0; Win64; x64) AppleWebKit/537.36 (KHTML, like Gecko) Chrome/109.0.0.0 Safari/537.36\"}\n",
        "  url= \"https://www.weather.go.kr/w/obs-climate/land/city-obs.do\"\n",
        "\n",
        "  res = requests.get(url, headers = header)\n",
        "  soup = BeautifulSoup(res.text, 'html.parser')\n",
        "  print(type(soup))\n",
        "\n",
        "  tbody_tag = soup.find('tbody')\n",
        "  tr_rs_tag = tbody_tag.find_all('tr')\n",
        "  print(tr_rs_tag[0])\n",
        "\n",
        "  for tr_tag in tr_rs_tag :\n",
        "    td_rs_tag = tr_tag.find_all('td')\n",
        "    city = td_rs_tag[0].string          # 지역\n",
        "    cur_temp = td_rs_tag[5].string      # 현재기온\n",
        "    sen_temp = td_rs_tag[7].string      # 체감온도\n",
        "    result.append([city, cur_temp, sen_temp])\n",
        "\n",
        "\n",
        "def weatehr_sav(filename):\n",
        "  fields =['City', 'CurTemp','SenTemp']\n",
        "\n",
        "  with open('./%s-weather.csv' % filename, 'w',newline='',encoding='cp949') as f:\n",
        "    write = csv.writer(f)\n",
        "    write.writerow(fields)\n",
        "    write.writerow(result)\n",
        "\n",
        "\n",
        "def weather_load(filename):\n",
        "  with open('./%s-weather.csv' % filename, 'r',encoding='cp949') as f:\n",
        "      reader = csv.reader(f)\n",
        "      for row in reader:\n",
        "        for cell in row:\n",
        "          print(cell, end=',')\n",
        "        print(end='\\n')\n",
        "\n",
        "def main():\n",
        "  weather_process()\n",
        "\n",
        "  to_now=datetime.datetime.now()\n",
        "  to_now = to_now.strftime('%Y-%m-%d %H:%M:%s')\n",
        "\n",
        "  weatehr_save(to_now)\n",
        "  weatehr_load(to_now)\n",
        "\n",
        "\n",
        "if__name__=='__main__' :\n",
        "  main()"
      ],
      "metadata": {
        "colab": {
          "base_uri": "https://localhost:8080/"
        },
        "id": "rPePooZgURlO",
        "outputId": "4cfba66a-2cfb-489a-f605-7f814b738ecb"
      },
      "execution_count": null,
      "outputs": [
        {
          "output_type": "stream",
          "name": "stdout",
          "text": [
            "Overwriting ./weatehr_collector.py\n"
          ]
        }
      ]
    }
  ]
}