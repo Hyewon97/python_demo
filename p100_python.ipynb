{
  "nbformat": 4,
  "nbformat_minor": 0,
  "metadata": {
    "colab": {
      "provenance": [],
      "authorship_tag": "ABX9TyOhFDmy8Sm8qiB5NnuvgJk6",
      "include_colab_link": true
    },
    "kernelspec": {
      "name": "python3",
      "display_name": "Python 3"
    },
    "language_info": {
      "name": "python"
    }
  },
  "cells": [
    {
      "cell_type": "markdown",
      "metadata": {
        "id": "view-in-github",
        "colab_type": "text"
      },
      "source": [
        "<a href=\"https://colab.research.google.com/github/Hyewon97/python_demo/blob/main/p100_python.ipynb\" target=\"_parent\"><img src=\"https://colab.research.google.com/assets/colab-badge.svg\" alt=\"Open In Colab\"/></a>"
      ]
    },
    {
      "cell_type": "code",
      "execution_count": null,
      "metadata": {
        "colab": {
          "base_uri": "https://localhost:8080/"
        },
        "id": "OTB5bImySVSW",
        "outputId": "c6078a95-5c53-41e8-d8d3-7afadce1c38b"
      },
      "outputs": [
        {
          "output_type": "stream",
          "name": "stdout",
          "text": [
            "Python 3.8.10\n"
          ]
        }
      ],
      "source": [
        "# python version 확인\n",
        "!python --version"
      ]
    },
    {
      "cell_type": "code",
      "source": [
        "# python의 철학\n",
        "import this"
      ],
      "metadata": {
        "id": "g8e4EnCuSZif"
      },
      "execution_count": null,
      "outputs": []
    },
    {
      "cell_type": "code",
      "source": [
        "import keyword\n",
        "# keyword.kwlist\n",
        "print(keyword.kwlist) # 리스트 형태로 출력,, 배열 아님 배열 처리 하려면 numpy로 처리 필요\n",
        "print(len(keyword.kwlist))"
      ],
      "metadata": {
        "colab": {
          "base_uri": "https://localhost:8080/"
        },
        "id": "kyf8Ky7PSc96",
        "outputId": "8170c992-5e13-441f-8e62-1553a930e25b"
      },
      "execution_count": null,
      "outputs": [
        {
          "output_type": "stream",
          "name": "stdout",
          "text": [
            "['False', 'None', 'True', 'and', 'as', 'assert', 'async', 'await', 'break', 'class', 'continue', 'def', 'del', 'elif', 'else', 'except', 'finally', 'for', 'from', 'global', 'if', 'import', 'in', 'is', 'lambda', 'nonlocal', 'not', 'or', 'pass', 'raise', 'return', 'try', 'while', 'with', 'yield']\n",
            "35\n"
          ]
        }
      ]
    },
    {
      "cell_type": "code",
      "source": [
        "print('Hello world')"
      ],
      "metadata": {
        "colab": {
          "base_uri": "https://localhost:8080/"
        },
        "id": "kxerJtSXSfk1",
        "outputId": "1bd82af4-1b8a-4bfe-de7d-4192e7f8a4e2"
      },
      "execution_count": null,
      "outputs": [
        {
          "output_type": "stream",
          "name": "stdout",
          "text": [
            "Hello world\n"
          ]
        }
      ]
    },
    {
      "cell_type": "code",
      "source": [
        "print(\"Hello world\")"
      ],
      "metadata": {
        "colab": {
          "base_uri": "https://localhost:8080/"
        },
        "id": "PVyVPfXGShTJ",
        "outputId": "0ae7d38d-460a-402d-810a-0860b1a37ffe"
      },
      "execution_count": null,
      "outputs": [
        {
          "output_type": "stream",
          "name": "stdout",
          "text": [
            "Hello world\n"
          ]
        }
      ]
    },
    {
      "cell_type": "code",
      "source": [
        "print(\"python\"); print('python')"
      ],
      "metadata": {
        "colab": {
          "base_uri": "https://localhost:8080/"
        },
        "id": "TLLYisiuSiwR",
        "outputId": "b1c9cf2e-d6cd-41ae-87c7-20a60f643bb9"
      },
      "execution_count": null,
      "outputs": [
        {
          "output_type": "stream",
          "name": "stdout",
          "text": [
            "python\n",
            "python\n"
          ]
        }
      ]
    },
    {
      "cell_type": "code",
      "source": [
        "# 문장 연결을 할 때 \\(역 슬래시)를 해주면 된다.\n",
        "a=10; b=20;\n",
        "if(a==10) and \\\n",
        " (b==20) :\n",
        "  print(\"OK\")\n",
        "else :\n",
        "  print(\"no\")"
      ],
      "metadata": {
        "colab": {
          "base_uri": "https://localhost:8080/"
        },
        "id": "PHmPCuPDSkMh",
        "outputId": "ae53cd57-24fa-4240-a4a8-82dac559017f"
      },
      "execution_count": null,
      "outputs": [
        {
          "output_type": "stream",
          "name": "stdout",
          "text": [
            "OK\n"
          ]
        }
      ]
    },
    {
      "cell_type": "code",
      "source": [
        "from google.colab import drive\n",
        "drive.mount('/content/drive')"
      ],
      "metadata": {
        "colab": {
          "base_uri": "https://localhost:8080/"
        },
        "id": "9xcsUviege-w",
        "outputId": "e29a3581-cef7-49c9-f48c-5d6d7b3dd8cb"
      },
      "execution_count": null,
      "outputs": [
        {
          "output_type": "stream",
          "name": "stdout",
          "text": [
            "Drive already mounted at /content/drive; to attempt to forcibly remount, call drive.mount(\"/content/drive\", force_remount=True).\n"
          ]
        }
      ]
    },
    {
      "cell_type": "code",
      "source": [
        "start=begin=1\n",
        "# print(start)\n",
        "# print(begin)\n",
        "\n",
        "# 여러개의 변수를 늘어놨을 떄, 맨 마지막 변수만 출력이 된다.\n",
        "# 여러개의 변수를 출력하고 싶으면 print문을 사용해야 한다.\n",
        "start\n",
        "begin\n"
      ],
      "metadata": {
        "colab": {
          "base_uri": "https://localhost:8080/"
        },
        "id": "U2zMYWv7g-EO",
        "outputId": "bac4b77e-b3a3-43ae-e661-eaa6f4fb17df"
      },
      "execution_count": null,
      "outputs": [
        {
          "output_type": "execute_result",
          "data": {
            "text/plain": [
              "1"
            ]
          },
          "metadata": {},
          "execution_count": 166
        }
      ]
    },
    {
      "cell_type": "code",
      "source": [
        "a=1\n",
        "a=eval('3+4') # 연산이 되어서 결과값이 출력된다.\n",
        "print(a)\n",
        "\n",
        "a=eval('a+3') # 앞에 있는 값을 가져와서 연산이 된다.\n",
        "print(a)"
      ],
      "metadata": {
        "colab": {
          "base_uri": "https://localhost:8080/"
        },
        "id": "NMzyS7OChlMT",
        "outputId": "51ecdd9b-4de5-4b4d-81e7-db4bade210ef"
      },
      "execution_count": null,
      "outputs": [
        {
          "output_type": "stream",
          "name": "stdout",
          "text": [
            "7\n",
            "10\n"
          ]
        }
      ]
    },
    {
      "cell_type": "markdown",
      "source": [
        "## 자료형\n",
        "int, float  \n",
        "list, str, tuple 순서가 있는 집합 자료형(시퀀스 자료형)  \n",
        "집합 연산자 자료형 => 집합형, 순서가 없고 중복된 항목이 없음  \n",
        "\n",
        "---\n",
        "1. 데이터 저장 방법에 따른 자료형의 분류  \n",
        "   직접(direct)형 : 직접 데이터를 표현하는 자료형 : int, float, complex  \n",
        "   시퀀스(sequence)형 : 다른 데이터를 포함하는 자료형, 순서가 있는 집합 자료형 : list, str, tuple, bytes, nytearray, range  \n",
        "   매핑(Mapping)형 : 다른 데이터를 포함하는 자료형 : direct  \n",
        "   집합(Set)형 : 순서가 없고, 중복된 항목도 없다. : set, frozenset  \n",
        "\n",
        "2. 변경 가능성에 따른 자료형 분류  \n",
        "  변경 가능형(Mutable) : 데이터의 값을 변경할 수 있다. : list, dict, set  \n",
        "  변경 불가능형(Immutable) : 데이터의 값을 변경할 수 없다 : int, float, complex, str, tuple, frozenset\n",
        "\n",
        "3. 데이터 저장 개수에 따른 자료형의 분류  \n",
        "  리터널(Literal/Scalar)형 : 한 가지 객체만 저장한다, : int, bytes, str, float, complex  \n",
        "  컨테이널(container)형 : 여러 가지 객체를 저장한다. : list, tuple, dict, set, frozenset  "
      ],
      "metadata": {
        "id": "SL-Sct6HiMxc"
      }
    },
    {
      "cell_type": "markdown",
      "source": [
        "type( ) : 데이터 자료형 확인  "
      ],
      "metadata": {
        "id": "tDHvXTi9lMjN"
      }
    },
    {
      "cell_type": "code",
      "source": [
        "type(5)"
      ],
      "metadata": {
        "id": "vorQnCHTlFtN",
        "colab": {
          "base_uri": "https://localhost:8080/"
        },
        "outputId": "786ad6f7-efdd-457b-9377-576a28e29e42"
      },
      "execution_count": null,
      "outputs": [
        {
          "output_type": "execute_result",
          "data": {
            "text/plain": [
              "int"
            ]
          },
          "metadata": {},
          "execution_count": 168
        }
      ]
    },
    {
      "cell_type": "code",
      "source": [
        "type(85.3)"
      ],
      "metadata": {
        "colab": {
          "base_uri": "https://localhost:8080/"
        },
        "id": "lOdfcipTlTNZ",
        "outputId": "62a84e49-6e1a-4ff9-cdb1-e92c856ccdcf"
      },
      "execution_count": null,
      "outputs": [
        {
          "output_type": "execute_result",
          "data": {
            "text/plain": [
              "float"
            ]
          },
          "metadata": {},
          "execution_count": 169
        }
      ]
    },
    {
      "cell_type": "code",
      "source": [
        "type([1,3,5])"
      ],
      "metadata": {
        "colab": {
          "base_uri": "https://localhost:8080/"
        },
        "id": "yx_DSbpolWeD",
        "outputId": "0127b061-1be7-4b78-88a3-6eaa1e4f69f5"
      },
      "execution_count": null,
      "outputs": [
        {
          "output_type": "execute_result",
          "data": {
            "text/plain": [
              "list"
            ]
          },
          "metadata": {},
          "execution_count": 170
        }
      ]
    },
    {
      "cell_type": "code",
      "source": [
        "# 소괄호는 튜플을 의미한다.\n",
        "type((2,6,7))"
      ],
      "metadata": {
        "colab": {
          "base_uri": "https://localhost:8080/"
        },
        "id": "Rr5kw0R9lY6Y",
        "outputId": "f2e9aa75-9dfc-455b-cfc8-8b876e7e1490"
      },
      "execution_count": null,
      "outputs": [
        {
          "output_type": "execute_result",
          "data": {
            "text/plain": [
              "tuple"
            ]
          },
          "metadata": {},
          "execution_count": 171
        }
      ]
    },
    {
      "cell_type": "code",
      "source": [
        "# 튜플은 괄호를 생략해도 된다.\n",
        "def call():\n",
        "  return 2,3,4\n",
        "\n",
        "print(call())\n",
        "print(type(call()))"
      ],
      "metadata": {
        "colab": {
          "base_uri": "https://localhost:8080/"
        },
        "id": "jHa4U5xdlbwT",
        "outputId": "71a0b746-3d89-4256-bd69-36e7b5538d6e"
      },
      "execution_count": null,
      "outputs": [
        {
          "output_type": "stream",
          "name": "stdout",
          "text": [
            "(2, 3, 4)\n",
            "<class 'tuple'>\n"
          ]
        }
      ]
    },
    {
      "cell_type": "code",
      "source": [
        "# 중괄호는 set을 의미한다.\n",
        "type({1,3,4})"
      ],
      "metadata": {
        "id": "S7YsYiT7l9do",
        "colab": {
          "base_uri": "https://localhost:8080/"
        },
        "outputId": "3355a25c-c905-41b0-b6be-8fccd05693a8"
      },
      "execution_count": null,
      "outputs": [
        {
          "output_type": "execute_result",
          "data": {
            "text/plain": [
              "set"
            ]
          },
          "metadata": {},
          "execution_count": 173
        }
      ]
    },
    {
      "cell_type": "markdown",
      "source": [
        "dir( ) : 자료형의 내장함수를 검색할 수 있다."
      ],
      "metadata": {
        "id": "dZOhulAOmJMw"
      }
    },
    {
      "cell_type": "code",
      "source": [
        "print(dir(str))"
      ],
      "metadata": {
        "colab": {
          "base_uri": "https://localhost:8080/"
        },
        "id": "Kuy5PimcmQxg",
        "outputId": "a7934a21-e847-40e8-b0f1-192647ff74cb"
      },
      "execution_count": null,
      "outputs": [
        {
          "output_type": "stream",
          "name": "stdout",
          "text": [
            "['__add__', '__class__', '__contains__', '__delattr__', '__dir__', '__doc__', '__eq__', '__format__', '__ge__', '__getattribute__', '__getitem__', '__getnewargs__', '__gt__', '__hash__', '__init__', '__init_subclass__', '__iter__', '__le__', '__len__', '__lt__', '__mod__', '__mul__', '__ne__', '__new__', '__reduce__', '__reduce_ex__', '__repr__', '__rmod__', '__rmul__', '__setattr__', '__sizeof__', '__str__', '__subclasshook__', 'capitalize', 'casefold', 'center', 'count', 'encode', 'endswith', 'expandtabs', 'find', 'format', 'format_map', 'index', 'isalnum', 'isalpha', 'isascii', 'isdecimal', 'isdigit', 'isidentifier', 'islower', 'isnumeric', 'isprintable', 'isspace', 'istitle', 'isupper', 'join', 'ljust', 'lower', 'lstrip', 'maketrans', 'partition', 'replace', 'rfind', 'rindex', 'rjust', 'rpartition', 'rsplit', 'rstrip', 'split', 'splitlines', 'startswith', 'strip', 'swapcase', 'title', 'translate', 'upper', 'zfill']\n"
          ]
        }
      ]
    },
    {
      "cell_type": "code",
      "source": [
        "print(dir(list))"
      ],
      "metadata": {
        "colab": {
          "base_uri": "https://localhost:8080/"
        },
        "id": "F6fzkDwImgdk",
        "outputId": "64460501-266d-45dd-e93e-b7fedaea926b"
      },
      "execution_count": null,
      "outputs": [
        {
          "output_type": "stream",
          "name": "stdout",
          "text": [
            "['__add__', '__class__', '__contains__', '__delattr__', '__delitem__', '__dir__', '__doc__', '__eq__', '__format__', '__ge__', '__getattribute__', '__getitem__', '__gt__', '__hash__', '__iadd__', '__imul__', '__init__', '__init_subclass__', '__iter__', '__le__', '__len__', '__lt__', '__mul__', '__ne__', '__new__', '__reduce__', '__reduce_ex__', '__repr__', '__reversed__', '__rmul__', '__setattr__', '__setitem__', '__sizeof__', '__str__', '__subclasshook__', 'append', 'clear', 'copy', 'count', 'extend', 'index', 'insert', 'pop', 'remove', 'reverse', 'sort']\n"
          ]
        }
      ]
    },
    {
      "cell_type": "markdown",
      "source": [
        "help() : 자료형에서 제공하는 메소드 사용법을 검색할 수 있다. "
      ],
      "metadata": {
        "id": "n6Wgmw-zmykJ"
      }
    },
    {
      "cell_type": "code",
      "source": [
        "# help(str)\n",
        "help(str.index)"
      ],
      "metadata": {
        "colab": {
          "base_uri": "https://localhost:8080/"
        },
        "id": "Mwbevdj0m5Ho",
        "outputId": "3369f3c3-e060-4b05-867b-09654ba31194"
      },
      "execution_count": null,
      "outputs": [
        {
          "output_type": "stream",
          "name": "stdout",
          "text": [
            "Help on method_descriptor:\n",
            "\n",
            "index(...)\n",
            "    S.index(sub[, start[, end]]) -> int\n",
            "    \n",
            "    Return the lowest index in S where substring sub is found,\n",
            "    such that sub is contained within S[start:end].  Optional\n",
            "    arguments start and end are interpreted as in slice notation.\n",
            "    \n",
            "    Raises ValueError when the substring is not found.\n",
            "\n"
          ]
        }
      ]
    },
    {
      "cell_type": "markdown",
      "source": [
        "## Sequence 자료형\n",
        "- Sequence은 여러 객체를 저장할 수 있는 순서를 갖는 연속된 자료형이다.  \n",
        "- 자료형 종류 : str, tuple, list  \n",
        "- sequence형의 공통적인 연산  \n",
        "  - 인덱스(indexing)  \n",
        "  - 슬라이싱(slicing)\n",
        "  - 연결하기\n",
        "  - 반복하기\n",
        "  - 멤버 검사\n",
        "  - 길이 정보"
      ],
      "metadata": {
        "id": "SSv6-xuonBm2"
      }
    },
    {
      "cell_type": "markdown",
      "source": [
        "### 문자열(str)\n",
        "- 문자열은 문자들을 표현하는 자료형으로 작은따옴표(')나 큰따옴표(\")로 묶는다.\n",
        "- 문자열의 슬라이싱 : [인덱스 시작 : 인덱스 끝 : 스텝]\n",
        "- 스텝의 default은 1의 값을 갖는다.  "
      ],
      "metadata": {
        "id": "6V_KR545n_mJ"
      }
    },
    {
      "cell_type": "code",
      "source": [
        "s_val = 'hello python!'\n",
        "s_val[0:3] # 3-1 인덱스 값 까지만 가져온다."
      ],
      "metadata": {
        "colab": {
          "base_uri": "https://localhost:8080/",
          "height": 35
        },
        "id": "OScpzikiof5p",
        "outputId": "25f8cad4-7529-4cbb-eb3c-ac89858de822"
      },
      "execution_count": null,
      "outputs": [
        {
          "output_type": "execute_result",
          "data": {
            "text/plain": [
              "'hel'"
            ],
            "application/vnd.google.colaboratory.intrinsic+json": {
              "type": "string"
            }
          },
          "metadata": {},
          "execution_count": 177
        }
      ]
    },
    {
      "cell_type": "code",
      "source": [
        "s_val[1]"
      ],
      "metadata": {
        "colab": {
          "base_uri": "https://localhost:8080/",
          "height": 35
        },
        "id": "u-hV7h-zoyPp",
        "outputId": "c9f94112-8895-4c45-e3b3-c5b6cbbcd94d"
      },
      "execution_count": null,
      "outputs": [
        {
          "output_type": "execute_result",
          "data": {
            "text/plain": [
              "'e'"
            ],
            "application/vnd.google.colaboratory.intrinsic+json": {
              "type": "string"
            }
          },
          "metadata": {},
          "execution_count": 178
        }
      ]
    },
    {
      "cell_type": "code",
      "source": [
        "# 1번 인덱스부터 끝까지 출력\n",
        "s_val[1:]"
      ],
      "metadata": {
        "colab": {
          "base_uri": "https://localhost:8080/",
          "height": 35
        },
        "id": "XPqpTBSio08X",
        "outputId": "cca61044-3774-444b-b804-d2bada7624e7"
      },
      "execution_count": null,
      "outputs": [
        {
          "output_type": "execute_result",
          "data": {
            "text/plain": [
              "'ello python!'"
            ],
            "application/vnd.google.colaboratory.intrinsic+json": {
              "type": "string"
            }
          },
          "metadata": {},
          "execution_count": 179
        }
      ]
    },
    {
      "cell_type": "code",
      "source": [
        "# 0인덱스 부터 3미만까지\n",
        "s_val[:3]"
      ],
      "metadata": {
        "colab": {
          "base_uri": "https://localhost:8080/",
          "height": 35
        },
        "id": "gI_t6JlXo54V",
        "outputId": "d9ecc3b0-9f01-4735-a9c7-a87cce3b2337"
      },
      "execution_count": null,
      "outputs": [
        {
          "output_type": "execute_result",
          "data": {
            "text/plain": [
              "'hel'"
            ],
            "application/vnd.google.colaboratory.intrinsic+json": {
              "type": "string"
            }
          },
          "metadata": {},
          "execution_count": 180
        }
      ]
    },
    {
      "cell_type": "code",
      "source": [
        "# 전체 출력\n",
        "s_val[:]"
      ],
      "metadata": {
        "colab": {
          "base_uri": "https://localhost:8080/",
          "height": 35
        },
        "id": "anwIj4L9o_GQ",
        "outputId": "c0a15a80-f08e-40f6-8301-a98518040aaa"
      },
      "execution_count": null,
      "outputs": [
        {
          "output_type": "execute_result",
          "data": {
            "text/plain": [
              "'hello python!'"
            ],
            "application/vnd.google.colaboratory.intrinsic+json": {
              "type": "string"
            }
          },
          "metadata": {},
          "execution_count": 181
        }
      ]
    },
    {
      "cell_type": "code",
      "source": [
        "# -1부터 가지고 오라\n",
        "s_val[-1]"
      ],
      "metadata": {
        "colab": {
          "base_uri": "https://localhost:8080/",
          "height": 35
        },
        "id": "qAdm00k-pFBP",
        "outputId": "049d2309-baf9-47b2-e0d8-21f1fe9438d7"
      },
      "execution_count": null,
      "outputs": [
        {
          "output_type": "execute_result",
          "data": {
            "text/plain": [
              "'!'"
            ],
            "application/vnd.google.colaboratory.intrinsic+json": {
              "type": "string"
            }
          },
          "metadata": {},
          "execution_count": 182
        }
      ]
    },
    {
      "cell_type": "code",
      "source": [
        "# 음수로 적어줄 땐 양수 적는 방법과는 역 방향으로 읽는다? 대충 이런 뜻인거 같은데\n",
        "s_val[-3:-1]"
      ],
      "metadata": {
        "colab": {
          "base_uri": "https://localhost:8080/",
          "height": 35
        },
        "id": "mduf2z6fpNUt",
        "outputId": "e612ee0f-b1a2-4619-fc8a-b348aaf75f34"
      },
      "execution_count": null,
      "outputs": [
        {
          "output_type": "execute_result",
          "data": {
            "text/plain": [
              "'on'"
            ],
            "application/vnd.google.colaboratory.intrinsic+json": {
              "type": "string"
            }
          },
          "metadata": {},
          "execution_count": 183
        }
      ]
    },
    {
      "cell_type": "code",
      "source": [
        "# step 2로 문자열 읽어오기\n",
        "s_val[::2]"
      ],
      "metadata": {
        "colab": {
          "base_uri": "https://localhost:8080/",
          "height": 35
        },
        "id": "tDDMVrGdpo3K",
        "outputId": "304a7ebe-0c00-463a-fb86-b45e8606f6fd"
      },
      "execution_count": null,
      "outputs": [
        {
          "output_type": "execute_result",
          "data": {
            "text/plain": [
              "'hlopto!'"
            ],
            "application/vnd.google.colaboratory.intrinsic+json": {
              "type": "string"
            }
          },
          "metadata": {},
          "execution_count": 184
        }
      ]
    },
    {
      "cell_type": "code",
      "source": [
        "# 뒤에서 부터 읽어온다.\n",
        "s_val[::-2]"
      ],
      "metadata": {
        "colab": {
          "base_uri": "https://localhost:8080/",
          "height": 35
        },
        "id": "tparrliupyPu",
        "outputId": "81a02f2d-a743-4f01-cf77-4022837eb1ff"
      },
      "execution_count": null,
      "outputs": [
        {
          "output_type": "execute_result",
          "data": {
            "text/plain": [
              "'!otpolh'"
            ],
            "application/vnd.google.colaboratory.intrinsic+json": {
              "type": "string"
            }
          },
          "metadata": {},
          "execution_count": 185
        }
      ]
    },
    {
      "cell_type": "code",
      "source": [
        "s_val[::-1] #hello python!"
      ],
      "metadata": {
        "colab": {
          "base_uri": "https://localhost:8080/",
          "height": 35
        },
        "id": "4wIIyP4tsUQw",
        "outputId": "221f34d7-889e-40d4-b543-80a41ffc26d8"
      },
      "execution_count": null,
      "outputs": [
        {
          "output_type": "execute_result",
          "data": {
            "text/plain": [
              "'!nohtyp olleh'"
            ],
            "application/vnd.google.colaboratory.intrinsic+json": {
              "type": "string"
            }
          },
          "metadata": {},
          "execution_count": 186
        }
      ]
    },
    {
      "cell_type": "code",
      "source": [
        "s_val[-1:-3:-1] # ! , 뭘 생략하면 앞에서부터 검색한다고.. 못들음 ㅋㅋ "
      ],
      "metadata": {
        "colab": {
          "base_uri": "https://localhost:8080/",
          "height": 35
        },
        "id": "2JCL1uMYsYrZ",
        "outputId": "159a3d2d-f281-4399-ec28-6c14a16aafec"
      },
      "execution_count": null,
      "outputs": [
        {
          "output_type": "execute_result",
          "data": {
            "text/plain": [
              "'!n'"
            ],
            "application/vnd.google.colaboratory.intrinsic+json": {
              "type": "string"
            }
          },
          "metadata": {},
          "execution_count": 187
        }
      ]
    },
    {
      "cell_type": "code",
      "source": [
        "s_val[-3:-1:-1] #''"
      ],
      "metadata": {
        "colab": {
          "base_uri": "https://localhost:8080/",
          "height": 35
        },
        "id": "GRn1TQrHssJi",
        "outputId": "5257186f-d299-40f1-8ca4-bccb6d461345"
      },
      "execution_count": null,
      "outputs": [
        {
          "output_type": "execute_result",
          "data": {
            "text/plain": [
              "''"
            ],
            "application/vnd.google.colaboratory.intrinsic+json": {
              "type": "string"
            }
          },
          "metadata": {},
          "execution_count": 188
        }
      ]
    },
    {
      "cell_type": "code",
      "source": [
        "# + 면 앞에서부터 가져온다.\n",
        "s_val[-3:-1:1] # on"
      ],
      "metadata": {
        "colab": {
          "base_uri": "https://localhost:8080/",
          "height": 35
        },
        "id": "IJl6uPO0swvR",
        "outputId": "b5e83b29-1b7b-4ed0-b737-6cb89880dcf5"
      },
      "execution_count": null,
      "outputs": [
        {
          "output_type": "execute_result",
          "data": {
            "text/plain": [
              "'on'"
            ],
            "application/vnd.google.colaboratory.intrinsic+json": {
              "type": "string"
            }
          },
          "metadata": {},
          "execution_count": 189
        }
      ]
    },
    {
      "cell_type": "markdown",
      "source": [
        "문자열의 연결하기는 (+)연산자를 사"
      ],
      "metadata": {
        "id": "Rvmd9QHltbsJ"
      }
    },
    {
      "cell_type": "code",
      "source": [
        "s_val2='hello' + ' ' + 'python!'\n",
        "s_val2"
      ],
      "metadata": {
        "colab": {
          "base_uri": "https://localhost:8080/",
          "height": 35
        },
        "id": "sdXX8Z9fthcq",
        "outputId": "b5f4fbd6-4b44-482d-cc6f-1733a2c6dc1b"
      },
      "execution_count": null,
      "outputs": [
        {
          "output_type": "execute_result",
          "data": {
            "text/plain": [
              "'hello python!'"
            ],
            "application/vnd.google.colaboratory.intrinsic+json": {
              "type": "string"
            }
          },
          "metadata": {},
          "execution_count": 190
        }
      ]
    },
    {
      "cell_type": "markdown",
      "source": [
        "문자열 반복하기는 (*)연산자를 사용"
      ],
      "metadata": {
        "id": "P1-gt8nptpQ8"
      }
    },
    {
      "cell_type": "code",
      "source": [
        "s_val3='win' * 3\n",
        "s_val3"
      ],
      "metadata": {
        "colab": {
          "base_uri": "https://localhost:8080/",
          "height": 35
        },
        "id": "hONHBhqCtu04",
        "outputId": "d78ec6f8-680e-471c-f7a6-c98bee6ed606"
      },
      "execution_count": null,
      "outputs": [
        {
          "output_type": "execute_result",
          "data": {
            "text/plain": [
              "'winwinwin'"
            ],
            "application/vnd.google.colaboratory.intrinsic+json": {
              "type": "string"
            }
          },
          "metadata": {},
          "execution_count": 191
        }
      ]
    },
    {
      "cell_type": "code",
      "source": [
        "#s_val3='win' * 'python' # 문자열은 문자열과 문자열을 곱할 수 없다.\n",
        "#s_val3"
      ],
      "metadata": {
        "id": "jv2EOlQht9P_"
      },
      "execution_count": null,
      "outputs": []
    },
    {
      "cell_type": "markdown",
      "source": [
        "문자열을 변경할 때 슬라이싱과 연결하기 사"
      ],
      "metadata": {
        "id": "KnwW8Vv7uZMN"
      }
    },
    {
      "cell_type": "code",
      "source": [
        "s_val3 = 'hell python!'"
      ],
      "metadata": {
        "id": "SB_nKlpGucHA"
      },
      "execution_count": null,
      "outputs": []
    },
    {
      "cell_type": "code",
      "source": [
        "s_val4='H' + s_val3[1:] # H 뒤에 val3 인덱스 1번부터 문자열을 붙인다.\n",
        "s_val4"
      ],
      "metadata": {
        "colab": {
          "base_uri": "https://localhost:8080/",
          "height": 35
        },
        "id": "bvhpTJXaugYB",
        "outputId": "51f2b603-68ac-4585-efb5-b30ad0472a24"
      },
      "execution_count": null,
      "outputs": [
        {
          "output_type": "execute_result",
          "data": {
            "text/plain": [
              "'Hell python!'"
            ],
            "application/vnd.google.colaboratory.intrinsic+json": {
              "type": "string"
            }
          },
          "metadata": {},
          "execution_count": 194
        }
      ]
    },
    {
      "cell_type": "markdown",
      "source": [
        "문자열의 길이는 len() 내장함수 사용"
      ],
      "metadata": {
        "id": "VFBeKVxVuyTa"
      }
    },
    {
      "cell_type": "code",
      "source": [
        "len(s_val4)"
      ],
      "metadata": {
        "colab": {
          "base_uri": "https://localhost:8080/"
        },
        "id": "20h5oveku30B",
        "outputId": "fa850a1f-c4a9-4d04-9a15-9de7c73199ae"
      },
      "execution_count": null,
      "outputs": [
        {
          "output_type": "execute_result",
          "data": {
            "text/plain": [
              "12"
            ]
          },
          "metadata": {},
          "execution_count": 195
        }
      ]
    },
    {
      "cell_type": "markdown",
      "source": [
        "in연산자로 멤버 검사를 해서 부분 문자열의 존재 확"
      ],
      "metadata": {
        "id": "IcklMoFlvAl9"
      }
    },
    {
      "cell_type": "code",
      "source": [
        "# True, False 값으로 리턴된다... 파이썬은 boolean 첫 문자가 대문자\n",
        "s_val5='red green blue'\n",
        "'red' in s_val5"
      ],
      "metadata": {
        "colab": {
          "base_uri": "https://localhost:8080/"
        },
        "id": "uPBxTlyzvFtf",
        "outputId": "5df40366-b436-4e55-dd59-41c5d1f317a0"
      },
      "execution_count": null,
      "outputs": [
        {
          "output_type": "execute_result",
          "data": {
            "text/plain": [
              "True"
            ]
          },
          "metadata": {},
          "execution_count": 196
        }
      ]
    },
    {
      "cell_type": "code",
      "source": [
        "'white' in s_val5"
      ],
      "metadata": {
        "colab": {
          "base_uri": "https://localhost:8080/"
        },
        "id": "9BohfRYXvRk5",
        "outputId": "9e1cc185-c1cf-479a-f985-c1fb6b8d3b1d"
      },
      "execution_count": null,
      "outputs": [
        {
          "output_type": "execute_result",
          "data": {
            "text/plain": [
              "False"
            ]
          },
          "metadata": {},
          "execution_count": 197
        }
      ]
    },
    {
      "cell_type": "markdown",
      "source": [
        "여러 줄 문자열은 작은 따옴표 또는 큰따옴표를 세번 연속해서 입력"
      ],
      "metadata": {
        "id": "R6k18arWvlmA"
      }
    },
    {
      "cell_type": "code",
      "source": [
        "s_val6='''red\n",
        "green\n",
        "blue'''\n",
        "s_val6"
      ],
      "metadata": {
        "colab": {
          "base_uri": "https://localhost:8080/",
          "height": 35
        },
        "id": "vnYEKo3_vxqr",
        "outputId": "ff7a5fed-b77b-4e01-80ab-318bebffe815"
      },
      "execution_count": null,
      "outputs": [
        {
          "output_type": "execute_result",
          "data": {
            "text/plain": [
              "'red\\ngreen\\nblue'"
            ],
            "application/vnd.google.colaboratory.intrinsic+json": {
              "type": "string"
            }
          },
          "metadata": {},
          "execution_count": 198
        }
      ]
    },
    {
      "cell_type": "markdown",
      "source": [
        "문자열 서식 지정 : 어떤 문서 양식을 만들어 놓고 빈칸에 필요한 내용을 채워서 문서를 지정한다."
      ],
      "metadata": {
        "id": "apetzsx_wS-9"
      }
    },
    {
      "cell_type": "code",
      "source": [
        "s_val7='python'\n",
        "s_val8=83.5\n",
        "print('%s의 점수는 %f입니다.' %(s_val7, s_val8)) #python1.2 방식\n",
        "print('{}의 점수는 {}입니다.' .format(s_val7, s_val8)) #python3 방식\n",
        "print('{1}의 점수는 {0}입니다.' .format(s_val8, s_val7))\n",
        "print('{subject}의 점수는 {jumsu}입니다.' .format(jumsu=s_val8,subject=s_val7))\n",
        "print('{{0}}의 점수는 {1}입니다.' .format(s_val7,s_val8))\n",
        "\n",
        "# {}를 출력하고 싶으면 세번 써라,,, \n",
        "print('{{{0}}}의 점수는 {1}입니다.' .format(s_val7,s_val8)) # 변수의 값을 출력하면서 {} 중괄호 자체를 출력할 때는 {{}}을 한다.\n",
        "print('{{0}}의 점수는 {1}입니다.' .format(s_val7,s_val8))\n",
        "print('{0:<10}의 점수는 {1}입니다.' .format(s_val7,s_val8)) # < 기호면 오른쪽 공백, 10자리 확보하고 남은 공간은 오른쪽 여백으로 채운다.\n",
        "\n",
        "# 인덱스를 지정해도 되고 안해도 되는데 암튼 적을 때 맞춰줘야 한다. 안그럼 오류 뜨더라고\n",
        "print('{:>10}의 점수는 {}입니다.' .format(s_val7,s_val8)) # < 기호면 왼쪽 공백, 0자리 확보하고 남은 공간은 왼쪽 여백으로 채운다."
      ],
      "metadata": {
        "colab": {
          "base_uri": "https://localhost:8080/"
        },
        "id": "C7qagZ6FwXRT",
        "outputId": "768831f7-9492-4f37-87ba-95ce089e080a"
      },
      "execution_count": null,
      "outputs": [
        {
          "output_type": "stream",
          "name": "stdout",
          "text": [
            "python의 점수는 83.500000입니다.\n",
            "python의 점수는 83.5입니다.\n",
            "python의 점수는 83.5입니다.\n",
            "python의 점수는 83.5입니다.\n",
            "{0}의 점수는 83.5입니다.\n",
            "{python}의 점수는 83.5입니다.\n",
            "{0}의 점수는 83.5입니다.\n",
            "python    의 점수는 83.5입니다.\n",
            "    python의 점수는 83.5입니다.\n"
          ]
        }
      ]
    },
    {
      "cell_type": "markdown",
      "source": [
        "### 리스트(list)\n",
        "  - 시퀀스(Sequence) 자료형으로 데이터의 크기나 원소 값을 변경할 수 있다.\n",
        "  - 리스트는 [ ]대괄호로 표현한다."
      ],
      "metadata": {
        "id": "3WPyZK_M06AN"
      }
    },
    {
      "cell_type": "code",
      "source": [
        "l = [] #리스트를 대괄호로 표현해도 됨.\n",
        "l\n",
        "print(type(l))"
      ],
      "metadata": {
        "colab": {
          "base_uri": "https://localhost:8080/"
        },
        "id": "TqqVd4bt1I3i",
        "outputId": "a1ad038d-17eb-4665-d0b9-94bdcc2f08a5"
      },
      "execution_count": null,
      "outputs": [
        {
          "output_type": "stream",
          "name": "stdout",
          "text": [
            "<class 'list'>\n"
          ]
        }
      ]
    },
    {
      "cell_type": "markdown",
      "source": [
        "javja\n",
        "```java\n",
        "class Test{\n",
        "  public static void main(String[] args){\n",
        "    int arr= new int[] {1,2,3};\n",
        "  }\n",
        "}\n",
        "```\n",
        "\n",
        "javascript\n",
        "```javascript \n",
        "  let color=['red','green','blue'];\n",
        "```"
      ],
      "metadata": {
        "id": "YlVDDVMZ1p13"
      }
    },
    {
      "cell_type": "code",
      "source": [
        "l_val=[10,20,30] # 값을 표현할 때 대괄호를 사용한다. 일반 변수 선언하는 것 처럼 사용하면 된다.\n",
        "l_val"
      ],
      "metadata": {
        "colab": {
          "base_uri": "https://localhost:8080/"
        },
        "id": "DD_R-L5D1czw",
        "outputId": "cda3e3c3-89a2-486c-8f9f-57b32284c9c9"
      },
      "execution_count": null,
      "outputs": [
        {
          "output_type": "execute_result",
          "data": {
            "text/plain": [
              "[10, 20, 30]"
            ]
          },
          "metadata": {},
          "execution_count": 201
        }
      ]
    },
    {
      "cell_type": "code",
      "source": [
        "type(l_val)"
      ],
      "metadata": {
        "colab": {
          "base_uri": "https://localhost:8080/"
        },
        "id": "B2yHDzO22w8d",
        "outputId": "b8d25926-536a-4041-9727-062a1c6da20c"
      },
      "execution_count": null,
      "outputs": [
        {
          "output_type": "execute_result",
          "data": {
            "text/plain": [
              "list"
            ]
          },
          "metadata": {},
          "execution_count": 202
        }
      ]
    },
    {
      "cell_type": "code",
      "source": [
        "print(type(l_val))\n",
        "type(l_val)"
      ],
      "metadata": {
        "colab": {
          "base_uri": "https://localhost:8080/"
        },
        "id": "awP2jb3C2yja",
        "outputId": "91b79487-4e00-4850-d775-79431de88811"
      },
      "execution_count": null,
      "outputs": [
        {
          "output_type": "stream",
          "name": "stdout",
          "text": [
            "<class 'list'>\n"
          ]
        },
        {
          "output_type": "execute_result",
          "data": {
            "text/plain": [
              "list"
            ]
          },
          "metadata": {},
          "execution_count": 203
        }
      ]
    },
    {
      "cell_type": "markdown",
      "source": [
        "리스트(list)는 슬라이싱을 이용해서 데이터를 접근할 수 있다. "
      ],
      "metadata": {
        "id": "4bB_nlZ33Hlf"
      }
    },
    {
      "cell_type": "code",
      "source": [
        "# 인덱스를 이용해서 데이터 가져오기\n",
        "l_val2=[5,10,15,20,25,30]\n",
        "l_val2[3] # 인덱스 3번에 있는 값을 가져오기,,, 0부터 시작"
      ],
      "metadata": {
        "id": "Pl4sbfBt3B6o",
        "colab": {
          "base_uri": "https://localhost:8080/"
        },
        "outputId": "46b475b3-bd79-433f-e447-737dbaed671f"
      },
      "execution_count": null,
      "outputs": [
        {
          "output_type": "execute_result",
          "data": {
            "text/plain": [
              "20"
            ]
          },
          "metadata": {},
          "execution_count": 204
        }
      ]
    },
    {
      "cell_type": "code",
      "source": [
        "l_val2[0:3]"
      ],
      "metadata": {
        "colab": {
          "base_uri": "https://localhost:8080/"
        },
        "id": "IK0banfc3jB-",
        "outputId": "d65516cc-c6e1-418a-98b1-af9aeb03f0db"
      },
      "execution_count": null,
      "outputs": [
        {
          "output_type": "execute_result",
          "data": {
            "text/plain": [
              "[5, 10, 15]"
            ]
          },
          "metadata": {},
          "execution_count": 205
        }
      ]
    },
    {
      "cell_type": "code",
      "source": [
        "l_val2[1:] # 인덱스 1번부터 끝까지 출력하라"
      ],
      "metadata": {
        "colab": {
          "base_uri": "https://localhost:8080/"
        },
        "id": "SnIbJAKe3m7j",
        "outputId": "54d87106-1fbc-4ddf-fff6-ec6a3c6cd84a"
      },
      "execution_count": null,
      "outputs": [
        {
          "output_type": "execute_result",
          "data": {
            "text/plain": [
              "[10, 15, 20, 25, 30]"
            ]
          },
          "metadata": {},
          "execution_count": 206
        }
      ]
    },
    {
      "cell_type": "code",
      "source": [
        "l_val2[:3]"
      ],
      "metadata": {
        "colab": {
          "base_uri": "https://localhost:8080/"
        },
        "id": "kTmVZoQX3uTs",
        "outputId": "c569e254-9b21-4ac1-e138-9ddb9c4eed72"
      },
      "execution_count": null,
      "outputs": [
        {
          "output_type": "execute_result",
          "data": {
            "text/plain": [
              "[5, 10, 15]"
            ]
          },
          "metadata": {},
          "execution_count": 207
        }
      ]
    },
    {
      "cell_type": "code",
      "source": [
        "l_val2[:]"
      ],
      "metadata": {
        "colab": {
          "base_uri": "https://localhost:8080/"
        },
        "id": "JKYA8ysN3yQK",
        "outputId": "019634a2-9a7a-417e-ff2d-f7fe3daf6f80"
      },
      "execution_count": null,
      "outputs": [
        {
          "output_type": "execute_result",
          "data": {
            "text/plain": [
              "[5, 10, 15, 20, 25, 30]"
            ]
          },
          "metadata": {},
          "execution_count": 208
        }
      ]
    },
    {
      "cell_type": "code",
      "source": [
        "l_val2[::-1] # 역으로 출력하기"
      ],
      "metadata": {
        "colab": {
          "base_uri": "https://localhost:8080/"
        },
        "id": "0SXESsAh6c1L",
        "outputId": "6ae589ee-b693-4b3b-e07d-a6b88dc47610"
      },
      "execution_count": null,
      "outputs": [
        {
          "output_type": "execute_result",
          "data": {
            "text/plain": [
              "[30, 25, 20, 15, 10, 5]"
            ]
          },
          "metadata": {},
          "execution_count": 209
        }
      ]
    },
    {
      "cell_type": "code",
      "source": [
        "l_val2[-1:-3:-1]"
      ],
      "metadata": {
        "colab": {
          "base_uri": "https://localhost:8080/"
        },
        "id": "yPzrFrNJ6i57",
        "outputId": "591f4db7-4f4e-4845-8c6f-01742ce3f052"
      },
      "execution_count": null,
      "outputs": [
        {
          "output_type": "execute_result",
          "data": {
            "text/plain": [
              "[30, 25]"
            ]
          },
          "metadata": {},
          "execution_count": 210
        }
      ]
    },
    {
      "cell_type": "markdown",
      "source": [
        "list는 다양한 타입을 함께 포함할 수 있다."
      ],
      "metadata": {
        "id": "95bU5YeP6_zG"
      }
    },
    {
      "cell_type": "code",
      "source": [
        "l_val3=[10,'python',80.5,True]\n",
        "l_val3"
      ],
      "metadata": {
        "colab": {
          "base_uri": "https://localhost:8080/"
        },
        "id": "FT3B56Js7DZY",
        "outputId": "1f9b59f5-574e-42c3-88f6-1dfa92cea2a4"
      },
      "execution_count": null,
      "outputs": [
        {
          "output_type": "execute_result",
          "data": {
            "text/plain": [
              "[10, 'python', 80.5, True]"
            ]
          },
          "metadata": {},
          "execution_count": 211
        }
      ]
    },
    {
      "cell_type": "code",
      "source": [
        "l_val3=[[10,20],(1,2,3),{100, 200}]  # ( )은 튜플\n",
        "l_val3"
      ],
      "metadata": {
        "colab": {
          "base_uri": "https://localhost:8080/"
        },
        "id": "VaHo4Zsb7PUk",
        "outputId": "403e4118-08c1-4ad1-8595-2fdfc8790f8a"
      },
      "execution_count": null,
      "outputs": [
        {
          "output_type": "execute_result",
          "data": {
            "text/plain": [
              "[[10, 20], (1, 2, 3), {100, 200}]"
            ]
          },
          "metadata": {},
          "execution_count": 212
        }
      ]
    },
    {
      "cell_type": "markdown",
      "source": [
        "list는 (+)연산자를 사용하여 연결하기를 할 수 있다."
      ],
      "metadata": {
        "id": "_KtiGki27kZH"
      }
    },
    {
      "cell_type": "code",
      "source": [
        "l_val4=[1,2]\n",
        "l_val4 + l_val4 # 하나의 리스트로 연결되어서 출력된다."
      ],
      "metadata": {
        "colab": {
          "base_uri": "https://localhost:8080/"
        },
        "id": "Ahi4Inuk7ttx",
        "outputId": "4dc766c5-baba-4edd-bd9d-74ccd18a7cb6"
      },
      "execution_count": null,
      "outputs": [
        {
          "output_type": "execute_result",
          "data": {
            "text/plain": [
              "[1, 2, 1, 2]"
            ]
          },
          "metadata": {},
          "execution_count": 213
        }
      ]
    },
    {
      "cell_type": "code",
      "source": [
        "# l_val4 +3 # 리스트와 숫자는 연결하기를 할 수 없다."
      ],
      "metadata": {
        "id": "Y2s5QUsT8CJG"
      },
      "execution_count": null,
      "outputs": []
    },
    {
      "cell_type": "markdown",
      "source": [
        "list는 (*)연산자를 사용하여 반복하길ㄹ 할 수 있다."
      ],
      "metadata": {
        "id": "u23WAcwu8V1E"
      }
    },
    {
      "cell_type": "code",
      "source": [
        "l_val4 * 3 # 리스트가 반복된다.,, 리스트에서는 안의 값의 곱 연산이 안된다."
      ],
      "metadata": {
        "colab": {
          "base_uri": "https://localhost:8080/"
        },
        "id": "TvgOsptQ8cc6",
        "outputId": "7a5f40b3-f2ff-4bd1-e409-da8b4161efdd"
      },
      "execution_count": null,
      "outputs": [
        {
          "output_type": "execute_result",
          "data": {
            "text/plain": [
              "[1, 2, 1, 2, 1, 2]"
            ]
          },
          "metadata": {},
          "execution_count": 217
        }
      ]
    },
    {
      "cell_type": "markdown",
      "source": [
        "list에 특정값이 있는지 멤버 검사를 할 수 있다."
      ],
      "metadata": {
        "id": "FnICh2309JfH"
      }
    },
    {
      "cell_type": "code",
      "source": [
        "2 in l_val4 # 2라는 값이 l_val4에 있니"
      ],
      "metadata": {
        "colab": {
          "base_uri": "https://localhost:8080/"
        },
        "id": "8JfgWuOk9Q-Z",
        "outputId": "24efdef5-60b7-42f1-8f71-619ad38c922d"
      },
      "execution_count": null,
      "outputs": [
        {
          "output_type": "execute_result",
          "data": {
            "text/plain": [
              "True"
            ]
          },
          "metadata": {},
          "execution_count": 219
        }
      ]
    },
    {
      "cell_type": "code",
      "source": [
        "5 in l_val4 # 5라는 값이 l_val4에 있니"
      ],
      "metadata": {
        "colab": {
          "base_uri": "https://localhost:8080/"
        },
        "id": "XVE1-DFx9Zwo",
        "outputId": "1c3df1d2-e118-4eb6-a4bd-92485b1516f8"
      },
      "execution_count": null,
      "outputs": [
        {
          "output_type": "execute_result",
          "data": {
            "text/plain": [
              "False"
            ]
          },
          "metadata": {},
          "execution_count": 221
        }
      ]
    },
    {
      "cell_type": "markdown",
      "source": [
        "list는 mutalbe이므로 요소들을 변경할수 있다."
      ],
      "metadata": {
        "id": "L03Xzat29bOj"
      }
    },
    {
      "cell_type": "code",
      "source": [
        "l_val5=['apple', 'banana', 100, 200]\n",
        "\n",
        "# 인데스 0번부터 1번의 값을 1,2로 변경하라\n",
        "l_val5[0:2] = [1,2] # 지정한 인덱스[0:2] 범위의 요소를 [1,2]로 변경한다.\n",
        "l_val5"
      ],
      "metadata": {
        "colab": {
          "base_uri": "https://localhost:8080/"
        },
        "id": "pSCq-9tP9nKk",
        "outputId": "118d9eab-7788-42b5-dc9c-1a791a8aa7f9"
      },
      "execution_count": null,
      "outputs": [
        {
          "output_type": "execute_result",
          "data": {
            "text/plain": [
              "[1, 2, 100, 200]"
            ]
          },
          "metadata": {},
          "execution_count": 223
        }
      ]
    },
    {
      "cell_type": "code",
      "source": [
        "l_val5=['apple', 'banana', 100, 200] # 크기가 달라도 된다.\n",
        "l_val5[0:2] = [50] # 약간 그런 느낌인데 인덱스 0부터 1번을 리스트 [50] 하나로 퉁친다.\n",
        "l_val5"
      ],
      "metadata": {
        "colab": {
          "base_uri": "https://localhost:8080/"
        },
        "id": "8LJwEafT-AIa",
        "outputId": "f457dc2c-4291-4346-dcc9-3e04378ad5f6"
      },
      "execution_count": null,
      "outputs": [
        {
          "output_type": "execute_result",
          "data": {
            "text/plain": [
              "[50, 100, 200]"
            ]
          },
          "metadata": {},
          "execution_count": 227
        }
      ]
    },
    {
      "cell_type": "markdown",
      "source": [
        "list의 일부 요소를 삭제할 수 있다."
      ],
      "metadata": {
        "id": "aKF96BoG-fyl"
      }
    },
    {
      "cell_type": "code",
      "source": [
        "l_val6=['apple', 'banana', 100, 200]\n",
        "l_val6[0:2]=[] # 요소 2개를 삭제한다.\n",
        "l_val6"
      ],
      "metadata": {
        "colab": {
          "base_uri": "https://localhost:8080/"
        },
        "id": "u35Dab6R-jp7",
        "outputId": "95a29c30-ab9b-4b98-eb4e-ad2d43a22411"
      },
      "execution_count": null,
      "outputs": [
        {
          "output_type": "execute_result",
          "data": {
            "text/plain": [
              "[100, 200]"
            ]
          },
          "metadata": {},
          "execution_count": 228
        }
      ]
    },
    {
      "cell_type": "code",
      "source": [
        "l_val6=['apple', 'banana', 100, 200]\n",
        "del l_val6[0:2] # del 문을 이용해서 요소를 삭제할 수 있다.\n",
        "l_val6"
      ],
      "metadata": {
        "colab": {
          "base_uri": "https://localhost:8080/"
        },
        "id": "fA3V4S_r-yNP",
        "outputId": "c2f4f5c2-18b2-442a-95a4-0f46dd817e5c"
      },
      "execution_count": null,
      "outputs": [
        {
          "output_type": "execute_result",
          "data": {
            "text/plain": [
              "[100, 200]"
            ]
          },
          "metadata": {},
          "execution_count": 229
        }
      ]
    },
    {
      "cell_type": "markdown",
      "source": [
        "list에 요소를 추가 할 수 있다."
      ],
      "metadata": {
        "id": "JvH1bPEJ_F2F"
      }
    },
    {
      "cell_type": "code",
      "source": [
        "l_val7=[3,6,9]\n",
        "l_val7"
      ],
      "metadata": {
        "colab": {
          "base_uri": "https://localhost:8080/"
        },
        "id": "DGhvuxWD_IdR",
        "outputId": "a88d93ac-1ecb-4095-a6a4-167ba33fc3c3"
      },
      "execution_count": null,
      "outputs": [
        {
          "output_type": "execute_result",
          "data": {
            "text/plain": [
              "[3, 6, 9]"
            ]
          },
          "metadata": {},
          "execution_count": 234
        }
      ]
    },
    {
      "cell_type": "code",
      "source": [
        "l_val7[1:1] =['red','green'] # 인덱스 1번 자리에 리스트룰 추가한다. ㅣl_val7[1] = ~ 랑 같은 의미,,, 슬라이싱 방식\n",
        "# l_val7[1] =['red','green'] # [3, ['red', 'green'], 9]\n",
        "l_val7"
      ],
      "metadata": {
        "colab": {
          "base_uri": "https://localhost:8080/"
        },
        "id": "ysUj8rTO_NiV",
        "outputId": "6e125ac9-a6e4-49a3-f3d6-8d489d9ed2fc"
      },
      "execution_count": null,
      "outputs": [
        {
          "output_type": "execute_result",
          "data": {
            "text/plain": [
              "[3, 'red', 'green', 6, 9]"
            ]
          },
          "metadata": {},
          "execution_count": 235
        }
      ]
    },
    {
      "cell_type": "code",
      "source": [
        "l_val7=[3,6,9]\n",
        "l_val7"
      ],
      "metadata": {
        "colab": {
          "base_uri": "https://localhost:8080/"
        },
        "id": "YJni_ZcP_6ca",
        "outputId": "5070fee2-2b5f-46e6-d730-2083f8f91b04"
      },
      "execution_count": null,
      "outputs": [
        {
          "output_type": "execute_result",
          "data": {
            "text/plain": [
              "[3, 6, 9]"
            ]
          },
          "metadata": {},
          "execution_count": 236
        }
      ]
    },
    {
      "cell_type": "code",
      "source": [
        "l_val7[1] =['red','green'] # 인덱싱 방식\n",
        "l_val7"
      ],
      "metadata": {
        "colab": {
          "base_uri": "https://localhost:8080/"
        },
        "id": "K7bRjItiADLV",
        "outputId": "78180c04-28c9-463a-f894-94891442459d"
      },
      "execution_count": null,
      "outputs": [
        {
          "output_type": "execute_result",
          "data": {
            "text/plain": [
              "[3, ['red', 'green'], 9]"
            ]
          },
          "metadata": {},
          "execution_count": 237
        }
      ]
    },
    {
      "cell_type": "markdown",
      "source": [
        "list에서 확장슬라이싱을 사용할떄는 왼쪽과 오른쪽 요소 개수가 같아야 한다."
      ],
      "metadata": {
        "id": "2lPCl3ElBBA7"
      }
    },
    {
      "cell_type": "code",
      "source": [
        "l_val8=[2,4,6,8]\n",
        "l_val8"
      ],
      "metadata": {
        "colab": {
          "base_uri": "https://localhost:8080/"
        },
        "id": "CMHLF3oJBFe6",
        "outputId": "dae1b18c-0a1e-4632-fb6e-a01a5f753ca0"
      },
      "execution_count": null,
      "outputs": [
        {
          "output_type": "execute_result",
          "data": {
            "text/plain": [
              "[2, 4, 6, 8]"
            ]
          },
          "metadata": {},
          "execution_count": 240
        }
      ]
    },
    {
      "cell_type": "code",
      "source": [
        "l_val8[::1]=[-1,-2,-3,-4] # 순서대로 아래 값이 들어간다.\n",
        "l_val8"
      ],
      "metadata": {
        "colab": {
          "base_uri": "https://localhost:8080/"
        },
        "id": "s9XOKE4fBMle",
        "outputId": "aedba2b6-a769-4c44-f8a4-e46712f8c8df"
      },
      "execution_count": null,
      "outputs": [
        {
          "output_type": "execute_result",
          "data": {
            "text/plain": [
              "[-1, -2, -3, -4]"
            ]
          },
          "metadata": {},
          "execution_count": 241
        }
      ]
    },
    {
      "cell_type": "code",
      "source": [
        "l_val8=[2,4,6,8]\n",
        "l_val8"
      ],
      "metadata": {
        "colab": {
          "base_uri": "https://localhost:8080/"
        },
        "id": "jOWIaNVzBhqD",
        "outputId": "e37ec043-b5f7-479b-d183-e386d001c934"
      },
      "execution_count": null,
      "outputs": [
        {
          "output_type": "execute_result",
          "data": {
            "text/plain": [
              "[2, 4, 6, 8]"
            ]
          },
          "metadata": {},
          "execution_count": 242
        }
      ]
    },
    {
      "cell_type": "code",
      "source": [
        "# 왼쪽의 갯수와 오른쪽의 갯수가 다르므로 오류 발생\n",
        "# 왼쪽의 l_val8[::2] 결과는 [2,6] 2개의 요속이고 오른쪽은 4개의 요소이다.\n",
        "l_val8[::2]=[-1,-2] # 순서대로 아래 값이 들어간다.,,, 2면 값을 2와 6 두개를 가져오기 때문에 사이즈가 맞지 않는다.. 사이즈 변경을 줘야 한다.\n",
        "l_val8"
      ],
      "metadata": {
        "colab": {
          "base_uri": "https://localhost:8080/"
        },
        "id": "8NyQVIYCBjKe",
        "outputId": "8ecf4313-4013-4da7-a5ce-7c8d7a17979e"
      },
      "execution_count": null,
      "outputs": [
        {
          "output_type": "execute_result",
          "data": {
            "text/plain": [
              "[-1, 4, -2, 8]"
            ]
          },
          "metadata": {},
          "execution_count": 244
        }
      ]
    },
    {
      "cell_type": "markdown",
      "source": [
        "list는 한 변수에서 데이터를 각각 꺼내오는 언패킹(unpacking)지원을 한다."
      ],
      "metadata": {
        "id": "nzobOWncCjOl"
      }
    },
    {
      "cell_type": "code",
      "source": [
        "l_val9=['foo','bar',4,5]\n",
        "l_val9"
      ],
      "metadata": {
        "colab": {
          "base_uri": "https://localhost:8080/"
        },
        "id": "0xjeLaJpC4xD",
        "outputId": "7b2a4ec4-879c-4ef0-a7cc-e7c41077cdad"
      },
      "execution_count": null,
      "outputs": [
        {
          "output_type": "execute_result",
          "data": {
            "text/plain": [
              "['foo', 'bar', 4, 5]"
            ]
          },
          "metadata": {},
          "execution_count": 246
        }
      ]
    },
    {
      "cell_type": "code",
      "source": [
        "x,y,z,w = l_val9 # 데이터를 한 변수에 저장해서 출력하는게 가능하다! 신기하다!\n",
        "print(x,y,z, w);"
      ],
      "metadata": {
        "colab": {
          "base_uri": "https://localhost:8080/"
        },
        "id": "wdp5dDPJC_Xp",
        "outputId": "b4a41f31-5699-46b7-92ea-75204f5a9690"
      },
      "execution_count": null,
      "outputs": [
        {
          "output_type": "stream",
          "name": "stdout",
          "text": [
            "foo bar 4 5\n"
          ]
        }
      ]
    },
    {
      "cell_type": "code",
      "source": [
        "x,y,_,_ = l_val9 # 언패킹을 할 때 자릴수를 맞춰 줘야 한다.\n",
        "print(x,y)"
      ],
      "metadata": {
        "colab": {
          "base_uri": "https://localhost:8080/"
        },
        "id": "FkvXnWPNDivU",
        "outputId": "bc60c5fb-95e6-4f2f-e7a7-b6919450583c"
      },
      "execution_count": null,
      "outputs": [
        {
          "output_type": "stream",
          "name": "stdout",
          "text": [
            "foo bar\n"
          ]
        }
      ]
    },
    {
      "cell_type": "code",
      "source": [
        "x,y,*z=l_val9 # *로 받으면 리스트가 저장되나 봄\n",
        "print(x,y,z)"
      ],
      "metadata": {
        "colab": {
          "base_uri": "https://localhost:8080/"
        },
        "id": "qlYNmhmzD9q5",
        "outputId": "4da19997-09a7-4a19-d524-b18f979af2fd"
      },
      "execution_count": null,
      "outputs": [
        {
          "output_type": "stream",
          "name": "stdout",
          "text": [
            "foo bar [4, 5]\n"
          ]
        }
      ]
    },
    {
      "cell_type": "code",
      "source": [
        "x,*y,z=l_val9 # 중간에서 사용 가능  **도 있는데 그거는 함수에서 사용한다. 나중에 한다고.. 오키!\n",
        "print(x,y,z)"
      ],
      "metadata": {
        "colab": {
          "base_uri": "https://localhost:8080/"
        },
        "id": "CJdNHI0PEZk_",
        "outputId": "0e866b94-ef50-4f3e-8345-71a96fe65458"
      },
      "execution_count": null,
      "outputs": [
        {
          "output_type": "stream",
          "name": "stdout",
          "text": [
            "foo ['bar', 4] 5\n"
          ]
        }
      ]
    },
    {
      "cell_type": "code",
      "source": [
        "print(dir(l_val9))"
      ],
      "metadata": {
        "colab": {
          "base_uri": "https://localhost:8080/"
        },
        "id": "Qkm2bCaWEywA",
        "outputId": "4376ea67-d8f3-409b-d783-616b1ed12495"
      },
      "execution_count": null,
      "outputs": [
        {
          "output_type": "stream",
          "name": "stdout",
          "text": [
            "['__add__', '__class__', '__contains__', '__delattr__', '__delitem__', '__dir__', '__doc__', '__eq__', '__format__', '__ge__', '__getattribute__', '__getitem__', '__gt__', '__hash__', '__iadd__', '__imul__', '__init__', '__init_subclass__', '__iter__', '__le__', '__len__', '__lt__', '__mul__', '__ne__', '__new__', '__reduce__', '__reduce_ex__', '__repr__', '__reversed__', '__rmul__', '__setattr__', '__setitem__', '__sizeof__', '__str__', '__subclasshook__', 'append', 'clear', 'copy', 'count', 'extend', 'index', 'insert', 'pop', 'remove', 'reverse', 'sort']\n"
          ]
        }
      ]
    },
    {
      "cell_type": "markdown",
      "source": [
        "### Tuple(튜플)\n",
        "- 변경이 불가능한 (immutable)한 순서(sequence)가 있는 자료형이다.\n",
        "- 튜플은 ()소괄호로 표현한다"
      ],
      "metadata": {
        "id": "HdoETikKE94a"
      }
    },
    {
      "cell_type": "code",
      "source": [
        "t=()\n",
        "t"
      ],
      "metadata": {
        "colab": {
          "base_uri": "https://localhost:8080/"
        },
        "id": "ANvtclDUFNtr",
        "outputId": "06b71d59-5f2a-4d3e-d033-2103a9440ff6"
      },
      "execution_count": null,
      "outputs": [
        {
          "output_type": "execute_result",
          "data": {
            "text/plain": [
              "()"
            ]
          },
          "metadata": {},
          "execution_count": 259
        }
      ]
    },
    {
      "cell_type": "markdown",
      "source": [
        "tuple은 값 사이에 콤마(,)를 구분하여 사용한다."
      ],
      "metadata": {
        "id": "7jh_-T4dPnaO"
      }
    },
    {
      "cell_type": "code",
      "source": [
        "t_val=(10,20,30)\n",
        "t_val"
      ],
      "metadata": {
        "colab": {
          "base_uri": "https://localhost:8080/"
        },
        "id": "a7rs03qVPaoS",
        "outputId": "4e653176-4300-4573-b4c0-1fd164fd8ab0"
      },
      "execution_count": null,
      "outputs": [
        {
          "output_type": "execute_result",
          "data": {
            "text/plain": [
              "(10, 20, 30)"
            ]
          },
          "metadata": {},
          "execution_count": 261
        }
      ]
    },
    {
      "cell_type": "code",
      "source": [
        "t_val=40,50,60  # 튜플은 괄호 없이도 표현 가능\n",
        "t_val"
      ],
      "metadata": {
        "colab": {
          "base_uri": "https://localhost:8080/"
        },
        "id": "s7d48nb2Pusy",
        "outputId": "414fbd09-1b56-435f-b134-5312e8fd8287"
      },
      "execution_count": null,
      "outputs": [
        {
          "output_type": "execute_result",
          "data": {
            "text/plain": [
              "(40, 50, 60)"
            ]
          },
          "metadata": {},
          "execution_count": 263
        }
      ]
    },
    {
      "cell_type": "code",
      "source": [
        "t_val2=(1) \n",
        "print(t_val2)\n",
        "print(type(t_val2))"
      ],
      "metadata": {
        "colab": {
          "base_uri": "https://localhost:8080/"
        },
        "id": "Dl3MtgGuQDSi",
        "outputId": "bb42db3b-cf2a-4b42-b1cf-7e202739fca3"
      },
      "execution_count": null,
      "outputs": [
        {
          "output_type": "stream",
          "name": "stdout",
          "text": [
            "1\n",
            "<class 'int'>\n"
          ]
        }
      ]
    },
    {
      "cell_type": "code",
      "source": [
        "t_val2=(1,) # 튜플로 지정을 해서 사용하고 싶으면 뒤에 ,를 넣어준다.\n",
        "print(t_val2)\n",
        "print(type(t_val2))"
      ],
      "metadata": {
        "id": "38QECfXpQPdO"
      },
      "execution_count": null,
      "outputs": []
    },
    {
      "cell_type": "code",
      "source": [
        "# 튜플로 표현하기 위해서 요소가 한 개일 때는 반드시 쉼표(,)가 있어야 한다.\n",
        "# 괄호는 생략할 수 있지만 쉼표(,)는 있어야 한다.\n",
        "a=[1,2,] # 파이썬에서는 뒤에 쉼표가 있어도 오류가 뜨지 않는다.\n",
        "a"
      ],
      "metadata": {
        "colab": {
          "base_uri": "https://localhost:8080/"
        },
        "id": "Bg1l-2TiQUWU",
        "outputId": "eff69091-c799-4bd3-c9c8-833e5748d691"
      },
      "execution_count": null,
      "outputs": [
        {
          "output_type": "execute_result",
          "data": {
            "text/plain": [
              "[1, 2]"
            ]
          },
          "metadata": {},
          "execution_count": 267
        }
      ]
    },
    {
      "cell_type": "markdown",
      "source": [
        "tuple은 immutable이무로 한번 생성되면 요소를 변경할 수 없다."
      ],
      "metadata": {
        "id": "aHK24qzTRF1q"
      }
    },
    {
      "cell_type": "code",
      "source": [
        "t_val3=(1,2,3) # 튜플은 요소를 변경할 수 없다. 메모리에 한번 선언되면 변경 불가\n",
        "t_val3"
      ],
      "metadata": {
        "colab": {
          "base_uri": "https://localhost:8080/"
        },
        "id": "jIlKqt9jQ1fQ",
        "outputId": "0530cc5e-12e9-4711-854a-1cc7747fd78d"
      },
      "execution_count": null,
      "outputs": [
        {
          "output_type": "execute_result",
          "data": {
            "text/plain": [
              "(1, 2, 3)"
            ]
          },
          "metadata": {},
          "execution_count": 269
        }
      ]
    },
    {
      "cell_type": "code",
      "source": [
        "t_val3[0]=100\n",
        "t_val3"
      ],
      "metadata": {
        "colab": {
          "base_uri": "https://localhost:8080/",
          "height": 183
        },
        "id": "VwPFMMUZRA_x",
        "outputId": "fd886de1-9830-43d9-e2bf-f8a20439599f"
      },
      "execution_count": null,
      "outputs": [
        {
          "output_type": "error",
          "ename": "TypeError",
          "evalue": "ignored",
          "traceback": [
            "\u001b[0;31m---------------------------------------------------------------------------\u001b[0m",
            "\u001b[0;31mTypeError\u001b[0m                                 Traceback (most recent call last)",
            "\u001b[0;32m<ipython-input-270-da1865285810>\u001b[0m in \u001b[0;36m<module>\u001b[0;34m\u001b[0m\n\u001b[0;32m----> 1\u001b[0;31m \u001b[0mt_val3\u001b[0m\u001b[0;34m[\u001b[0m\u001b[0;36m0\u001b[0m\u001b[0;34m]\u001b[0m\u001b[0;34m=\u001b[0m\u001b[0;36m100\u001b[0m\u001b[0;34m\u001b[0m\u001b[0;34m\u001b[0m\u001b[0m\n\u001b[0m\u001b[1;32m      2\u001b[0m \u001b[0mt_val3\u001b[0m\u001b[0;34m\u001b[0m\u001b[0;34m\u001b[0m\u001b[0m\n",
            "\u001b[0;31mTypeError\u001b[0m: 'tuple' object does not support item assignment"
          ]
        }
      ]
    },
    {
      "cell_type": "markdown",
      "source": [
        "tuple은 다양한 타입을 함께 포함할 수 있다."
      ],
      "metadata": {
        "id": "xUVRweZzRZuy"
      }
    },
    {
      "cell_type": "code",
      "source": [
        "t_val4=(10,'python',80.5,True)\n",
        "t_val4"
      ],
      "metadata": {
        "colab": {
          "base_uri": "https://localhost:8080/"
        },
        "id": "DVkvqLJgReUs",
        "outputId": "52d2857e-daca-42e2-f8cc-dd3c70fb6dbe"
      },
      "execution_count": null,
      "outputs": [
        {
          "output_type": "execute_result",
          "data": {
            "text/plain": [
              "(10, 'python', 80.5, True)"
            ]
          },
          "metadata": {},
          "execution_count": 271
        }
      ]
    },
    {
      "cell_type": "markdown",
      "source": [
        "tuple은 인덱싱, 슬라이싱으로 각 요소에 접근할 수 있다."
      ],
      "metadata": {
        "id": "fYjefsXdRsTY"
      }
    },
    {
      "cell_type": "code",
      "source": [
        "t_val5=(5, 10, 15, 20, 25, 30)\n",
        "t_val5"
      ],
      "metadata": {
        "colab": {
          "base_uri": "https://localhost:8080/"
        },
        "id": "1j9O0YpyRwxk",
        "outputId": "78e6cfee-665a-4faf-96bf-45e3f60a2d27"
      },
      "execution_count": null,
      "outputs": [
        {
          "output_type": "execute_result",
          "data": {
            "text/plain": [
              "(5, 10, 15, 20, 25, 30)"
            ]
          },
          "metadata": {},
          "execution_count": 272
        }
      ]
    },
    {
      "cell_type": "code",
      "source": [
        "t_val5[3] # 인덱싱"
      ],
      "metadata": {
        "id": "mMKiW2v_R23x",
        "colab": {
          "base_uri": "https://localhost:8080/"
        },
        "outputId": "1794749f-c28f-4923-8862-c0033177f35e"
      },
      "execution_count": null,
      "outputs": [
        {
          "output_type": "execute_result",
          "data": {
            "text/plain": [
              "20"
            ]
          },
          "metadata": {},
          "execution_count": 274
        }
      ]
    },
    {
      "cell_type": "code",
      "source": [
        "t_val5[-1] # 인덱싱"
      ],
      "metadata": {
        "colab": {
          "base_uri": "https://localhost:8080/"
        },
        "id": "tNQjLNKzR9TE",
        "outputId": "57870811-f85c-44c8-d7e7-6e436d640e88"
      },
      "execution_count": null,
      "outputs": [
        {
          "output_type": "execute_result",
          "data": {
            "text/plain": [
              "30"
            ]
          },
          "metadata": {},
          "execution_count": 275
        }
      ]
    },
    {
      "cell_type": "code",
      "source": [
        "t_val5[0:2] # 인덱스 0부터 1까지의 값을 가져온다... 슬라이싱 방법"
      ],
      "metadata": {
        "colab": {
          "base_uri": "https://localhost:8080/"
        },
        "id": "wBxhmOJzR_Xb",
        "outputId": "f7cb3040-17cd-4ca5-c1ae-f24ebceda465"
      },
      "execution_count": null,
      "outputs": [
        {
          "output_type": "execute_result",
          "data": {
            "text/plain": [
              "(5, 10)"
            ]
          },
          "metadata": {},
          "execution_count": 277
        }
      ]
    },
    {
      "cell_type": "code",
      "source": [
        "t_val5[::2] # 확장 슬라이싱,, 스텝이 있어서 그런가봄"
      ],
      "metadata": {
        "colab": {
          "base_uri": "https://localhost:8080/"
        },
        "id": "Lh4aOLx7SLIL",
        "outputId": "7f3061ed-2d3b-4938-9ed7-d67a8efeb03b"
      },
      "execution_count": null,
      "outputs": [
        {
          "output_type": "execute_result",
          "data": {
            "text/plain": [
              "(5, 15, 25)"
            ]
          },
          "metadata": {},
          "execution_count": 279
        }
      ]
    },
    {
      "cell_type": "markdown",
      "source": [
        "tuple은 (+)연산자를 사용하여 연결하기를 할 수 있다."
      ],
      "metadata": {
        "id": "wD1me6Z1SPVa"
      }
    },
    {
      "cell_type": "code",
      "source": [
        "t_val5 + t_val5 # 연결하기"
      ],
      "metadata": {
        "colab": {
          "base_uri": "https://localhost:8080/"
        },
        "id": "ugrYGhRLSqQm",
        "outputId": "5c764f60-23ad-4d08-b566-4e8ca195a49d"
      },
      "execution_count": null,
      "outputs": [
        {
          "output_type": "execute_result",
          "data": {
            "text/plain": [
              "(5, 10, 15, 20, 25, 30, 5, 10, 15, 20, 25, 30)"
            ]
          },
          "metadata": {},
          "execution_count": 281
        }
      ]
    },
    {
      "cell_type": "code",
      "source": [
        "t_val5+[1,2,3] # 튜플 + 리스트 => 타입이 달라서 에러가 발생한다."
      ],
      "metadata": {
        "colab": {
          "base_uri": "https://localhost:8080/",
          "height": 166
        },
        "id": "LEB31BftSt-B",
        "outputId": "2e131c69-a8f1-49eb-8400-3a0c36f74e37"
      },
      "execution_count": null,
      "outputs": [
        {
          "output_type": "error",
          "ename": "TypeError",
          "evalue": "ignored",
          "traceback": [
            "\u001b[0;31m---------------------------------------------------------------------------\u001b[0m",
            "\u001b[0;31mTypeError\u001b[0m                                 Traceback (most recent call last)",
            "\u001b[0;32m<ipython-input-282-14a2a5fe22ff>\u001b[0m in \u001b[0;36m<module>\u001b[0;34m\u001b[0m\n\u001b[0;32m----> 1\u001b[0;31m \u001b[0mt_val5\u001b[0m\u001b[0;34m+\u001b[0m\u001b[0;34m[\u001b[0m\u001b[0;36m1\u001b[0m\u001b[0;34m,\u001b[0m\u001b[0;36m2\u001b[0m\u001b[0;34m,\u001b[0m\u001b[0;36m3\u001b[0m\u001b[0;34m]\u001b[0m\u001b[0;34m\u001b[0m\u001b[0;34m\u001b[0m\u001b[0m\n\u001b[0m",
            "\u001b[0;31mTypeError\u001b[0m: can only concatenate tuple (not \"list\") to tuple"
          ]
        }
      ]
    },
    {
      "cell_type": "markdown",
      "source": [
        "tuple은 (*)연산자를 사용하여 반복하기를 할 수 있다."
      ],
      "metadata": {
        "id": "Gd4XDEgyS6uz"
      }
    },
    {
      "cell_type": "code",
      "source": [
        "t_val5 * 3 # 반복하기"
      ],
      "metadata": {
        "colab": {
          "base_uri": "https://localhost:8080/"
        },
        "id": "iED3pjEXTEEr",
        "outputId": "f7ab5d72-4f27-4a3e-dce8-e9b50ab84ba2"
      },
      "execution_count": null,
      "outputs": [
        {
          "output_type": "execute_result",
          "data": {
            "text/plain": [
              "(5, 10, 15, 20, 25, 30, 5, 10, 15, 20, 25, 30, 5, 10, 15, 20, 25, 30)"
            ]
          },
          "metadata": {},
          "execution_count": 283
        }
      ]
    },
    {
      "cell_type": "markdown",
      "source": [
        "tuple은 in 연산자를 사용하여 멤버검사를 할 수 있다."
      ],
      "metadata": {
        "id": "lDZqCDSiTJAa"
      }
    },
    {
      "cell_type": "code",
      "source": [
        "5 in t_val5 # 5라는 값이 t_val5에 포함이 되어 있니... 멤버검사"
      ],
      "metadata": {
        "colab": {
          "base_uri": "https://localhost:8080/"
        },
        "id": "iaiOqclyTUJp",
        "outputId": "1db458f2-fd6c-4db2-cab5-6724bf948e5a"
      },
      "execution_count": null,
      "outputs": [
        {
          "output_type": "execute_result",
          "data": {
            "text/plain": [
              "True"
            ]
          },
          "metadata": {},
          "execution_count": 285
        }
      ]
    },
    {
      "cell_type": "code",
      "source": [
        "8 in t_val5 # 5라는 값이 t_val5에 포함이 되어 있니... 멤버검사"
      ],
      "metadata": {
        "colab": {
          "base_uri": "https://localhost:8080/"
        },
        "id": "XYs51h1fTbDB",
        "outputId": "242c36ea-daf6-4086-d106-82305b7f46a4"
      },
      "execution_count": null,
      "outputs": [
        {
          "output_type": "execute_result",
          "data": {
            "text/plain": [
              "False"
            ]
          },
          "metadata": {},
          "execution_count": 286
        }
      ]
    },
    {
      "cell_type": "markdown",
      "source": [
        "tuple은 검색에 관련된 count(), index()메서드 2개를 제공한다."
      ],
      "metadata": {
        "id": "FtRX9fZWTdNl"
      }
    },
    {
      "cell_type": "code",
      "source": [
        "t_val6=(1,2,3,2,2,3)\n",
        "t_val6"
      ],
      "metadata": {
        "colab": {
          "base_uri": "https://localhost:8080/"
        },
        "id": "YDUJuYVhT5tc",
        "outputId": "8a6cb822-f283-4b26-e3d0-726a70cbe768"
      },
      "execution_count": null,
      "outputs": [
        {
          "output_type": "execute_result",
          "data": {
            "text/plain": [
              "(1, 2, 3, 2, 2, 3)"
            ]
          },
          "metadata": {},
          "execution_count": 288
        }
      ]
    },
    {
      "cell_type": "code",
      "source": [
        "len(t_val6) # 요소 전체 갯수"
      ],
      "metadata": {
        "colab": {
          "base_uri": "https://localhost:8080/"
        },
        "id": "avZx2Xu4T-76",
        "outputId": "67ad957f-75a2-4c0f-a3b9-72c7a47720c3"
      },
      "execution_count": null,
      "outputs": [
        {
          "output_type": "execute_result",
          "data": {
            "text/plain": [
              "6"
            ]
          },
          "metadata": {},
          "execution_count": 290
        }
      ]
    },
    {
      "cell_type": "code",
      "source": [
        "t_val6.count(2) # t_val6 튜플에서 2라는 값의 갯수를 리턴"
      ],
      "metadata": {
        "colab": {
          "base_uri": "https://localhost:8080/"
        },
        "id": "oZDWVSetUGcJ",
        "outputId": "798c43df-5c9d-417f-b303-dd9bc832a519"
      },
      "execution_count": null,
      "outputs": [
        {
          "output_type": "execute_result",
          "data": {
            "text/plain": [
              "3"
            ]
          },
          "metadata": {},
          "execution_count": 292
        }
      ]
    },
    {
      "cell_type": "code",
      "source": [
        "t_val6.index(2) # 2요소의 첫번째 인덱스 번호를 리턴"
      ],
      "metadata": {
        "colab": {
          "base_uri": "https://localhost:8080/"
        },
        "id": "exC-xW9FUVou",
        "outputId": "8342b8fe-3a13-4571-bc59-d2489460236f"
      },
      "execution_count": null,
      "outputs": [
        {
          "output_type": "execute_result",
          "data": {
            "text/plain": [
              "1"
            ]
          },
          "metadata": {},
          "execution_count": 294
        }
      ]
    },
    {
      "cell_type": "code",
      "source": [
        "t_val6.index(2, 2) # 두 번째 2요소의 인덱스를 리턴"
      ],
      "metadata": {
        "colab": {
          "base_uri": "https://localhost:8080/"
        },
        "id": "83TH_Oz6UwWA",
        "outputId": "8fb74f58-6430-44df-e1c9-0797e5e566b3"
      },
      "execution_count": null,
      "outputs": [
        {
          "output_type": "execute_result",
          "data": {
            "text/plain": [
              "3"
            ]
          },
          "metadata": {},
          "execution_count": 296
        }
      ]
    },
    {
      "cell_type": "markdown",
      "source": [
        "tuple은 중첩해서 사용할 수 있다."
      ],
      "metadata": {
        "id": "5_jKIwD-U-_Y"
      }
    },
    {
      "cell_type": "code",
      "source": [
        "t_val7=('python',(1,2,3),[4,5,])\n",
        "t_val7"
      ],
      "metadata": {
        "colab": {
          "base_uri": "https://localhost:8080/"
        },
        "id": "7FdeB8YLVCh2",
        "outputId": "f9683b54-d1a8-41d7-8cf1-741ffbe98b94"
      },
      "execution_count": null,
      "outputs": [
        {
          "output_type": "execute_result",
          "data": {
            "text/plain": [
              "('python', (1, 2, 3), [4, 5])"
            ]
          },
          "metadata": {},
          "execution_count": 300
        }
      ]
    },
    {
      "cell_type": "markdown",
      "source": [
        "tuple은 한 변수에 요소를 각각 꺼내오는 언패킹(unpacking)을 지원한다."
      ],
      "metadata": {
        "id": "TF-ea8VeVTHo"
      }
    },
    {
      "cell_type": "code",
      "source": [
        "t_val8=(10, 20, 30)\n",
        "t_val8"
      ],
      "metadata": {
        "colab": {
          "base_uri": "https://localhost:8080/"
        },
        "id": "JeDqiNa4VayS",
        "outputId": "cf80a7c6-2126-437f-9bd7-b6a614774fc4"
      },
      "execution_count": null,
      "outputs": [
        {
          "output_type": "execute_result",
          "data": {
            "text/plain": [
              "(10, 20, 30)"
            ]
          },
          "metadata": {},
          "execution_count": 302
        }
      ]
    },
    {
      "cell_type": "code",
      "source": [
        "l,m,n =t_val8\n",
        "print(l,m,n)"
      ],
      "metadata": {
        "colab": {
          "base_uri": "https://localhost:8080/"
        },
        "id": "ZbaU-tQHVe_C",
        "outputId": "2531249e-4bcd-433d-fd03-4155b5276d24"
      },
      "execution_count": null,
      "outputs": [
        {
          "output_type": "stream",
          "name": "stdout",
          "text": [
            "10 20 30\n"
          ]
        }
      ]
    },
    {
      "cell_type": "code",
      "source": [
        "t_val9=((1,2),(3,4))\n",
        "t_val9"
      ],
      "metadata": {
        "colab": {
          "base_uri": "https://localhost:8080/"
        },
        "id": "mymAaQPcVjc4",
        "outputId": "fc275a8b-af1b-4c93-b683-e397bf07d992"
      },
      "execution_count": null,
      "outputs": [
        {
          "output_type": "execute_result",
          "data": {
            "text/plain": [
              "((1, 2), (3, 4))"
            ]
          },
          "metadata": {},
          "execution_count": 306
        }
      ]
    },
    {
      "cell_type": "code",
      "source": [
        "(x1, y1), (x2, y2) = t_val9\n",
        "print(x1)\n",
        "print(y1)\n",
        "print(x2)\n",
        "print(y2)"
      ],
      "metadata": {
        "colab": {
          "base_uri": "https://localhost:8080/"
        },
        "id": "dlO4zWb_WbdD",
        "outputId": "0c061920-27df-4db6-9319-5c903379d4b7"
      },
      "execution_count": null,
      "outputs": [
        {
          "output_type": "stream",
          "name": "stdout",
          "text": [
            "1\n",
            "2\n",
            "3\n",
            "4\n"
          ]
        }
      ]
    },
    {
      "cell_type": "code",
      "source": [
        "t_val10=(1,2,3,4,5,6,7,8,9,10)\n",
        "t_val10"
      ],
      "metadata": {
        "colab": {
          "base_uri": "https://localhost:8080/"
        },
        "id": "7aLOthp5WwKL",
        "outputId": "2ad94058-5a69-4e0d-898f-0a89324bce39"
      },
      "execution_count": null,
      "outputs": [
        {
          "output_type": "execute_result",
          "data": {
            "text/plain": [
              "(1, 2, 3, 4, 5, 6, 7, 8, 9, 10)"
            ]
          },
          "metadata": {},
          "execution_count": 317
        }
      ]
    },
    {
      "cell_type": "code",
      "source": [
        "a, *b = t_val10 # *로 저장을 하면 무조건 리스트가 저장된다. (*는 나머지를 의미한다.)\n",
        "print(a, type(a)) \n",
        "print(b, type(b))"
      ],
      "metadata": {
        "colab": {
          "base_uri": "https://localhost:8080/"
        },
        "id": "LxL30W5hW0Fu",
        "outputId": "2d8016e6-398d-4014-8cdf-0c14f2332885"
      },
      "execution_count": null,
      "outputs": [
        {
          "output_type": "stream",
          "name": "stdout",
          "text": [
            "1 <class 'int'>\n",
            "[2, 3, 4] <class 'list'>\n"
          ]
        }
      ]
    },
    {
      "cell_type": "code",
      "source": [
        "# * 기호는 한번만 사용해야 한다.\n",
        "*a, b,c=t_val10\n",
        "print(a)\n",
        "print(b)\n",
        "print(c)"
      ],
      "metadata": {
        "colab": {
          "base_uri": "https://localhost:8080/"
        },
        "id": "77Voqap7XXw4",
        "outputId": "fa8b142e-c206-4a29-8309-948df850d7f9"
      },
      "execution_count": null,
      "outputs": [
        {
          "output_type": "stream",
          "name": "stdout",
          "text": [
            "[1, 2, 3, 4, 5, 6, 7, 8]\n",
            "9\n",
            "10\n"
          ]
        }
      ]
    },
    {
      "cell_type": "markdown",
      "source": [
        "### tuple과 list비교\n",
        "- 공통점\n",
        "  - 임의의 객체를 저장할 수 있다는 것과 순서(sequence) 자료형이다.\n",
        "-차이점\n",
        "  - tuple은 변경 불가능(immutable)한 자료형이다.\n",
        "  - list은 변경 가능(mutable)한 자료형이다.\n"
      ],
      "metadata": {
        "id": "tJTVJLlFYAH7"
      }
    },
    {
      "cell_type": "code",
      "source": [
        "t_data=(1,2,3)\n",
        "print(t_data)\n",
        "print(type(t_data))"
      ],
      "metadata": {
        "colab": {
          "base_uri": "https://localhost:8080/"
        },
        "id": "BuIHyy6VYqyV",
        "outputId": "1b738528-d71b-4d42-f441-922d82ef7d0b"
      },
      "execution_count": null,
      "outputs": [
        {
          "output_type": "stream",
          "name": "stdout",
          "text": [
            "(1, 2, 3)\n",
            "<class 'tuple'>\n"
          ]
        }
      ]
    },
    {
      "cell_type": "markdown",
      "source": [
        "tuple을 list()함수를 이용해서 list 자료형으로 생성할 수 있다."
      ],
      "metadata": {
        "id": "WSJD3qAkZAzA"
      }
    },
    {
      "cell_type": "code",
      "source": [
        "l_data = list(t_data) # 튜플을 리스트로 변경하기??\n",
        "print(l_data)\n",
        "print(type(l_data))"
      ],
      "metadata": {
        "colab": {
          "base_uri": "https://localhost:8080/"
        },
        "id": "5etGPjePYzBB",
        "outputId": "8a3351fe-9961-4b84-c0ca-115aaa63e1e4"
      },
      "execution_count": null,
      "outputs": [
        {
          "output_type": "stream",
          "name": "stdout",
          "text": [
            "[1, 2, 3]\n",
            "<class 'list'>\n"
          ]
        }
      ]
    },
    {
      "cell_type": "markdown",
      "source": [
        "str 자료형의 요소를 list() 함수를 이용해서 list자료형으로 생성할 수 있다."
      ],
      "metadata": {
        "id": "CF_i341CZW60"
      }
    },
    {
      "cell_type": "code",
      "source": [
        "s_data='python'\n",
        "print(s_data)\n",
        "print(type(s_data))"
      ],
      "metadata": {
        "colab": {
          "base_uri": "https://localhost:8080/"
        },
        "id": "uVSyV3iyZKvA",
        "outputId": "9053253a-9313-4cdf-ce9f-89364790d389"
      },
      "execution_count": null,
      "outputs": [
        {
          "output_type": "stream",
          "name": "stdout",
          "text": [
            "python\n",
            "<class 'str'>\n"
          ]
        }
      ]
    },
    {
      "cell_type": "code",
      "source": [
        "list(s_data)"
      ],
      "metadata": {
        "colab": {
          "base_uri": "https://localhost:8080/"
        },
        "id": "HmMjxu2jZRO5",
        "outputId": "f4239e65-81d9-481d-aa44-9ef69571cac6"
      },
      "execution_count": null,
      "outputs": [
        {
          "output_type": "execute_result",
          "data": {
            "text/plain": [
              "['p', 'y', 't', 'h', 'o', 'n']"
            ]
          },
          "metadata": {},
          "execution_count": 327
        }
      ]
    },
    {
      "cell_type": "markdown",
      "source": [
        "list의 요소를 tuple()함수를 이용해서 tuple을 생성할 수 있다."
      ],
      "metadata": {
        "id": "k_Qeki4gZTUu"
      }
    },
    {
      "cell_type": "code",
      "source": [
        "l_arg=[1,2,3,4,5]\n",
        "print(l_arg)\n",
        "print(type(l_arg))"
      ],
      "metadata": {
        "colab": {
          "base_uri": "https://localhost:8080/"
        },
        "id": "hnhoPPRIZuZ-",
        "outputId": "ac90b293-5a2e-4bac-c6cc-ae50511a3ef9"
      },
      "execution_count": null,
      "outputs": [
        {
          "output_type": "stream",
          "name": "stdout",
          "text": [
            "[1, 2, 3, 4, 5]\n",
            "<class 'list'>\n"
          ]
        }
      ]
    },
    {
      "cell_type": "code",
      "source": [
        "t_arg = tuple(l_arg)\n",
        "print(t_arg)\n",
        "print(type(t_arg))"
      ],
      "metadata": {
        "colab": {
          "base_uri": "https://localhost:8080/"
        },
        "id": "idlg-qggeN_0",
        "outputId": "8321abd8-6fe0-4981-8c27-4de3719d7559"
      },
      "execution_count": null,
      "outputs": [
        {
          "output_type": "stream",
          "name": "stdout",
          "text": [
            "(1, 2, 3, 4, 5)\n",
            "<class 'tuple'>\n"
          ]
        }
      ]
    },
    {
      "cell_type": "markdown",
      "source": [
        "str 자료형의 요소를 tuple() 함수를 사용해서 tuple을 생성할 수 있다."
      ],
      "metadata": {
        "id": "0b-ciw0SerZZ"
      }
    },
    {
      "cell_type": "code",
      "source": [
        "s_arg='python'\n",
        "print(s_arg)\n",
        "print(type(s_arg))"
      ],
      "metadata": {
        "id": "TuwYdevgeZHk",
        "colab": {
          "base_uri": "https://localhost:8080/"
        },
        "outputId": "46881d3a-106f-4c23-f825-02b4d393d81e"
      },
      "execution_count": null,
      "outputs": [
        {
          "output_type": "stream",
          "name": "stdout",
          "text": [
            "python\n",
            "<class 'str'>\n"
          ]
        }
      ]
    },
    {
      "cell_type": "code",
      "source": [
        "t_arg=tuple(s_arg)\n",
        "print(t_arg)\n",
        "print(type(t_arg))"
      ],
      "metadata": {
        "colab": {
          "base_uri": "https://localhost:8080/"
        },
        "id": "GS_M9ALGeljx",
        "outputId": "8fd5cb05-a199-45a2-9aac-4ab5f3b8b35c"
      },
      "execution_count": null,
      "outputs": [
        {
          "output_type": "stream",
          "name": "stdout",
          "text": [
            "('p', 'y', 't', 'h', 'o', 'n')\n",
            "<class 'tuple'>\n"
          ]
        }
      ]
    },
    {
      "cell_type": "markdown",
      "source": [
        "### 집합\n",
        "- 집합은 여러 값을 순서가 없고 중복없이 모아 놓은 자료형이다.\n",
        "- python에서는 set과 frozenset 두가지 집합 자료형을 제공한다.\n",
        "- set은 변경 가능한 집합이고, frozenset은 변경 불가능한 자료형이다.\n",
        "- set은 {}중괄호로 사용할 수 없으나 set()으로 표현한다."
      ],
      "metadata": {
        "id": "jYKTcwrKfSG6"
      }
    },
    {
      "cell_type": "code",
      "source": [
        "s={}\n",
        "print(s)\n",
        "print(type(s))"
      ],
      "metadata": {
        "colab": {
          "base_uri": "https://localhost:8080/"
        },
        "id": "lXy-TsUNfpfE",
        "outputId": "df1f2338-0d6b-4b7e-8305-93e6e465d492"
      },
      "execution_count": null,
      "outputs": [
        {
          "output_type": "stream",
          "name": "stdout",
          "text": [
            "{}\n",
            "<class 'dict'>\n"
          ]
        }
      ]
    },
    {
      "cell_type": "code",
      "source": [
        "s = set\n",
        "print(s)\n",
        "print(type(s))"
      ],
      "metadata": {
        "colab": {
          "base_uri": "https://localhost:8080/"
        },
        "id": "otIEgtxsgRjd",
        "outputId": "dc9ec35b-acf3-4951-d465-1a612e4a8feb"
      },
      "execution_count": null,
      "outputs": [
        {
          "output_type": "stream",
          "name": "stdout",
          "text": [
            "<class 'set'>\n",
            "<class 'type'>\n"
          ]
        }
      ]
    },
    {
      "cell_type": "markdown",
      "source": [
        "집합(set)\n",
        "- 멤버십(원소와 집합사이의 귀속관계) 검사, 시퀀스에서 중복제거와 교집합, 합집합, 차집합 같은 수학 연산 수행에 사용된다.\n",
        "- 다른 시퀀스(sequence)와 마찬가지로 x in set, len(), 컴프리헨션과 같은 기능을 제공하지만, 삽입순서를 기록하지는 않는다. 따라서 ***인덱싱과 슬라이싱을 사용이 불가능하다.***\n",
        "- 반복 가능한(Iterable) 객체로 부터 집합을 만들 수 있지만 모든 데이터가 원소로 사용할 수 있는 것은 아니다. 해시기능(Hashable)이면서 변경 불가능한 자료형만이 집합의 우너소로 사용가능하다. "
      ],
      "metadata": {
        "id": "nO97v7-chBHY"
      }
    },
    {
      "cell_type": "code",
      "source": [
        "set((3,1,2)) # set에는 하나의 요소만 들어가야 한다.... tuple로 집합을 생성하면 오름차순으로 정렬한다."
      ],
      "metadata": {
        "colab": {
          "base_uri": "https://localhost:8080/"
        },
        "id": "ErdBN1eRhzSp",
        "outputId": "a1e77c66-4e53-43ae-e536-5a839a089dcc"
      },
      "execution_count": null,
      "outputs": [
        {
          "output_type": "execute_result",
          "data": {
            "text/plain": [
              "{1, 2, 3}"
            ]
          },
          "metadata": {},
          "execution_count": 341
        }
      ]
    },
    {
      "cell_type": "code",
      "source": [
        "a=(3,1,2)\n",
        "set(a)"
      ],
      "metadata": {
        "colab": {
          "base_uri": "https://localhost:8080/"
        },
        "id": "g4VhRbsojmT0",
        "outputId": "7e1d8654-f0e0-4d2a-91ad-c5ec645990c8"
      },
      "execution_count": null,
      "outputs": [
        {
          "output_type": "execute_result",
          "data": {
            "text/plain": [
              "{1, 2, 3}"
            ]
          },
          "metadata": {},
          "execution_count": 348
        }
      ]
    },
    {
      "cell_type": "code",
      "source": [
        "set([3,1,2]) #list로 집합을 생성하며 오름차순으로 정렬한다."
      ],
      "metadata": {
        "colab": {
          "base_uri": "https://localhost:8080/"
        },
        "id": "yhjLc9pzh10d",
        "outputId": "c243a690-a623-43c7-fbc9-e121023377f6"
      },
      "execution_count": null,
      "outputs": [
        {
          "output_type": "execute_result",
          "data": {
            "text/plain": [
              "{1, 2, 3}"
            ]
          },
          "metadata": {},
          "execution_count": 353
        }
      ]
    },
    {
      "cell_type": "code",
      "source": [
        "b=[3,1,2]\n",
        "s_val=set(b)\n",
        "print(s_val)"
      ],
      "metadata": {
        "colab": {
          "base_uri": "https://localhost:8080/"
        },
        "id": "atO4S4BOjrgl",
        "outputId": "ddab541e-1ded-428e-bf84-16f57594279e"
      },
      "execution_count": null,
      "outputs": [
        {
          "output_type": "stream",
          "name": "stdout",
          "text": [
            "{1, 2, 3}\n"
          ]
        }
      ]
    },
    {
      "cell_type": "code",
      "source": [
        "b[1]=10\n",
        "print(b)"
      ],
      "metadata": {
        "colab": {
          "base_uri": "https://localhost:8080/"
        },
        "id": "yTrFT1r7jxsh",
        "outputId": "327384ab-27da-46e0-8e3c-1964706b8088"
      },
      "execution_count": null,
      "outputs": [
        {
          "output_type": "stream",
          "name": "stdout",
          "text": [
            "[3, 10, 2]\n"
          ]
        }
      ]
    },
    {
      "cell_type": "code",
      "source": [
        "s_val  # 못들었음 ㅋㅋ list는 한번 선언하면 변경 불가능하다. 값을 변경하고 집합을 출력하면 원래 키가 유지되는것을 볼 수 있다.\n",
        "# 주소를 복사하는냐 아니면 값만 복사하느냐를 잘 알아야 한다고.. deep copy 를 언급했는데 아마 값만 복사되는걸 말하는게 아닐까 싶음\n",
        "# deep copy로 생성하므로 원래 요소 그대로 출력한다."
      ],
      "metadata": {
        "colab": {
          "base_uri": "https://localhost:8080/"
        },
        "id": "UiLZP1flj1IG",
        "outputId": "0866cca9-4c6b-4f42-c6fe-a19d823eaf6f"
      },
      "execution_count": null,
      "outputs": [
        {
          "output_type": "execute_result",
          "data": {
            "text/plain": [
              "{1, 2, 3}"
            ]
          },
          "metadata": {},
          "execution_count": 356
        }
      ]
    },
    {
      "cell_type": "code",
      "source": [
        "set('python') # str로 집합을 생성하며 오름차순으로 정렬한다"
      ],
      "metadata": {
        "colab": {
          "base_uri": "https://localhost:8080/"
        },
        "id": "u0oZ2McLiOqh",
        "outputId": "c61fd06b-1f6f-446f-8d28-9d70911f093c"
      },
      "execution_count": null,
      "outputs": [
        {
          "output_type": "execute_result",
          "data": {
            "text/plain": [
              "{'h', 'n', 'o', 'p', 't', 'y'}"
            ]
          },
          "metadata": {},
          "execution_count": 344
        }
      ]
    },
    {
      "cell_type": "code",
      "source": [],
      "metadata": {
        "id": "vMWCMge5jgrl"
      },
      "execution_count": null,
      "outputs": []
    },
    {
      "cell_type": "code",
      "source": [
        "#중복된 것이 들어가면 중복된 값은 제거가 되고 생성된다.\n",
        "set((3,1,2,2,3,2,4)) # 중복된 원소는 한 번만 표현한다. "
      ],
      "metadata": {
        "colab": {
          "base_uri": "https://localhost:8080/"
        },
        "id": "bHCrfDcAiWGQ",
        "outputId": "71188b98-f08e-4e15-aab3-bb712b4e2778"
      },
      "execution_count": null,
      "outputs": [
        {
          "output_type": "execute_result",
          "data": {
            "text/plain": [
              "{1, 2, 3, 4}"
            ]
          },
          "metadata": {},
          "execution_count": 345
        }
      ]
    },
    {
      "cell_type": "code",
      "source": [
        "set('python hello') # 중복된 원소는 한 번만 표현한다."
      ],
      "metadata": {
        "colab": {
          "base_uri": "https://localhost:8080/"
        },
        "id": "5GVNX1x3ims6",
        "outputId": "927fb30a-daef-4a43-c94a-e2d3adcb0574"
      },
      "execution_count": null,
      "outputs": [
        {
          "output_type": "execute_result",
          "data": {
            "text/plain": [
              "{' ', 'e', 'h', 'l', 'n', 'o', 'p', 't', 'y'}"
            ]
          },
          "metadata": {},
          "execution_count": 346
        }
      ]
    },
    {
      "cell_type": "code",
      "source": [
        "set({'one':1,'two':2}) # dict 자료형으로 생성하면 키 값만 반환한다."
      ],
      "metadata": {
        "colab": {
          "base_uri": "https://localhost:8080/"
        },
        "id": "wY1HjYN2ipge",
        "outputId": "01ef9b20-1d60-497e-fba4-8dcde03d59fa"
      },
      "execution_count": null,
      "outputs": [
        {
          "output_type": "execute_result",
          "data": {
            "text/plain": [
              "{'one', 'two'}"
            ]
          },
          "metadata": {},
          "execution_count": 347
        }
      ]
    },
    {
      "cell_type": "code",
      "source": [
        "print(dir(set)) # 아마 변경 가능한 변수 타입이 출력되는듯 싶다.. 나도 모르겠다. 힘들다 "
      ],
      "metadata": {
        "colab": {
          "base_uri": "https://localhost:8080/"
        },
        "id": "b0ANoG2hjGN9",
        "outputId": "04c35b4b-ea59-48ce-e226-6e8bd6c1dbc3"
      },
      "execution_count": null,
      "outputs": [
        {
          "output_type": "stream",
          "name": "stdout",
          "text": [
            "['__and__', '__class__', '__contains__', '__delattr__', '__dir__', '__doc__', '__eq__', '__format__', '__ge__', '__getattribute__', '__gt__', '__hash__', '__iand__', '__init__', '__init_subclass__', '__ior__', '__isub__', '__iter__', '__ixor__', '__le__', '__len__', '__lt__', '__ne__', '__new__', '__or__', '__rand__', '__reduce__', '__reduce_ex__', '__repr__', '__ror__', '__rsub__', '__rxor__', '__setattr__', '__sizeof__', '__str__', '__sub__', '__subclasshook__', '__xor__', 'add', 'clear', 'copy', 'difference', 'difference_update', 'discard', 'intersection', 'intersection_update', 'isdisjoint', 'issubset', 'issuperset', 'pop', 'remove', 'symmetric_difference', 'symmetric_difference_update', 'union', 'update']\n"
          ]
        }
      ]
    },
    {
      "cell_type": "markdown",
      "source": [
        "### frozenset\n",
        "- 값을 변경하지 않는 범위에서 set객체와 동일하게 동작한다.\n",
        "- frozenset 객체의 생성은 집합을 포함한 반복 가능한 자료형으로 부터 가능하다.\n",
        "- frozenset은 frozenset( )으로 생성한"
      ],
      "metadata": {
        "id": "PF9XFW4vlTx1"
      }
    },
    {
      "cell_type": "code",
      "source": [
        "f_val = frozenset();\n",
        "print(f_val)\n",
        "print(type(f_val))"
      ],
      "metadata": {
        "colab": {
          "base_uri": "https://localhost:8080/"
        },
        "id": "GBXULYEJlpiI",
        "outputId": "5858970e-cc30-41b3-e55c-0a23a70e5bde"
      },
      "execution_count": null,
      "outputs": [
        {
          "output_type": "stream",
          "name": "stdout",
          "text": [
            "frozenset()\n",
            "<class 'frozenset'>\n"
          ]
        }
      ]
    },
    {
      "cell_type": "code",
      "source": [
        "f_val2=frozenset([1,2,3,4,5])\n",
        "print(f_val2)\n",
        "print(type(f_val2))"
      ],
      "metadata": {
        "colab": {
          "base_uri": "https://localhost:8080/"
        },
        "id": "NVReoD9UlxSJ",
        "outputId": "d1f79451-8e3f-41d3-a44c-7c05816bb7c7"
      },
      "execution_count": null,
      "outputs": [
        {
          "output_type": "stream",
          "name": "stdout",
          "text": [
            "frozenset({1, 2, 3, 4, 5})\n",
            "<class 'frozenset'>\n"
          ]
        }
      ]
    },
    {
      "cell_type": "code",
      "source": [
        "print(dir(frozenset))"
      ],
      "metadata": {
        "colab": {
          "base_uri": "https://localhost:8080/"
        },
        "id": "dbDR5Yzql6II",
        "outputId": "0b9441c5-751e-47cc-ccf5-055e1432dfba"
      },
      "execution_count": null,
      "outputs": [
        {
          "output_type": "stream",
          "name": "stdout",
          "text": [
            "['__and__', '__class__', '__contains__', '__delattr__', '__dir__', '__doc__', '__eq__', '__format__', '__ge__', '__getattribute__', '__gt__', '__hash__', '__init__', '__init_subclass__', '__iter__', '__le__', '__len__', '__lt__', '__ne__', '__new__', '__or__', '__rand__', '__reduce__', '__reduce_ex__', '__repr__', '__ror__', '__rsub__', '__rxor__', '__setattr__', '__sizeof__', '__str__', '__sub__', '__subclasshook__', '__xor__', 'copy', 'difference', 'intersection', 'isdisjoint', 'issubset', 'issuperset', 'symmetric_difference', 'union']\n"
          ]
        }
      ]
    },
    {
      "cell_type": "markdown",
      "source": [
        "### dict(사전)\n",
        "- 특정 키를 주면 이와 관련된 값을 돌려주는 내용 기반으로 검색하는 자료형이다.\n",
        "- 데이터의 저장 순서가 없다.\n",
        "- 내부적으로 해시 기법을 사용하기 때문에 검색 속도가 빠르다.\n",
        "- key-value 형식ㅇ로 저장을 하기 때문에 key을 이용해서 value에 접근한다.\n",
        "- key값은 중복을 허용하지 않는다."
      ],
      "metadata": {
        "id": "YDS1PF4rl-my"
      }
    },
    {
      "cell_type": "markdown",
      "source": [
        "dict 생성은 {} 또는 dict()함수를 사용해서 생성할 수 있다."
      ],
      "metadata": {
        "id": "z0TUDc8Zm0nN"
      }
    },
    {
      "cell_type": "code",
      "source": [
        "d_val={'one':1,'two':2}\n",
        "print(d_val)\n",
        "print(type(d_val))"
      ],
      "metadata": {
        "colab": {
          "base_uri": "https://localhost:8080/"
        },
        "id": "ty5PYCc2m6gv",
        "outputId": "1bd34c26-3f6e-4377-f585-c0d0485bed3c"
      },
      "execution_count": null,
      "outputs": [
        {
          "output_type": "stream",
          "name": "stdout",
          "text": [
            "{'one': 1, 'two': 2}\n",
            "<class 'dict'>\n"
          ]
        }
      ]
    },
    {
      "cell_type": "code",
      "source": [
        "d_val2=dict(one=1, two=2) # dict() 함수를 사용해서 생성할 때 키를 'one' 또는 \"one\"을 사용하지 않는다.\n",
        "print(d_val)\n",
        "print(type(d_val))"
      ],
      "metadata": {
        "colab": {
          "base_uri": "https://localhost:8080/"
        },
        "id": "jHlggDsknHbl",
        "outputId": "591cd94e-58b0-4dbe-bfd1-419e2ead09e1"
      },
      "execution_count": null,
      "outputs": [
        {
          "output_type": "stream",
          "name": "stdout",
          "text": [
            "{'one': 1, 'two': 2}\n",
            "<class 'dict'>\n"
          ]
        }
      ]
    },
    {
      "cell_type": "markdown",
      "source": [
        "zip 함수를 이용해서 dict(사전을 생성할 수 있다.)"
      ],
      "metadata": {
        "id": "gDRC7KOqnJeI"
      }
    },
    {
      "cell_type": "code",
      "source": [
        "keys=['one', 'two','three']\n",
        "values=[1,2,3]\n",
        "d_val3= dict(zip(keys, values))\n",
        "print(d_val3)\n",
        "print(type(d_val3))"
      ],
      "metadata": {
        "colab": {
          "base_uri": "https://localhost:8080/"
        },
        "id": "ncMfZs6yrApd",
        "outputId": "93a4ce38-80da-4fcf-ba79-44d54833dec0"
      },
      "execution_count": null,
      "outputs": [
        {
          "output_type": "stream",
          "name": "stdout",
          "text": [
            "{'one': 1, 'two': 2, 'three': 3}\n",
            "<class 'dict'>\n"
          ]
        }
      ]
    },
    {
      "cell_type": "code",
      "source": [
        "print(dir(dict))"
      ],
      "metadata": {
        "colab": {
          "base_uri": "https://localhost:8080/"
        },
        "id": "Q5xaQs2JrbLY",
        "outputId": "c0939f46-59be-439f-8a59-db54c54c1108"
      },
      "execution_count": null,
      "outputs": [
        {
          "output_type": "stream",
          "name": "stdout",
          "text": [
            "['__class__', '__contains__', '__delattr__', '__delitem__', '__dir__', '__doc__', '__eq__', '__format__', '__ge__', '__getattribute__', '__getitem__', '__gt__', '__hash__', '__init__', '__init_subclass__', '__iter__', '__le__', '__len__', '__lt__', '__ne__', '__new__', '__reduce__', '__reduce_ex__', '__repr__', '__reversed__', '__setattr__', '__setitem__', '__sizeof__', '__str__', '__subclasshook__', 'clear', 'copy', 'fromkeys', 'get', 'items', 'keys', 'pop', 'popitem', 'setdefault', 'update', 'values']\n"
          ]
        }
      ]
    },
    {
      "cell_type": "markdown",
      "source": [
        "컨테이너 자료 특징  \n",
        "mutable : list, set dict   \n",
        "imutable : str, tuple, set   \n",
        "sequence : list, tuple ,str   \n"
      ],
      "metadata": {
        "id": "6jKfRyxdrkLs"
      }
    }
  ]
}