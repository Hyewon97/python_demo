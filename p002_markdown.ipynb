{
  "nbformat": 4,
  "nbformat_minor": 0,
  "metadata": {
    "colab": {
      "provenance": [],
      "authorship_tag": "ABX9TyPFk/7hg3ipC8rKPMhIefK2",
      "include_colab_link": true
    },
    "kernelspec": {
      "name": "python3",
      "display_name": "Python 3"
    },
    "language_info": {
      "name": "python"
    }
  },
  "cells": [
    {
      "cell_type": "markdown",
      "metadata": {
        "id": "view-in-github",
        "colab_type": "text"
      },
      "source": [
        "<a href=\"https://colab.research.google.com/github/Hyewon97/python_demo/blob/main/p002_markdown.ipynb\" target=\"_parent\"><img src=\"https://colab.research.google.com/assets/colab-badge.svg\" alt=\"Open In Colab\"/></a>"
      ]
    },
    {
      "cell_type": "markdown",
      "source": [
        "- 코랩은 웹브라우저에서 텍스트와 프로그램을 작성할 수 있는 온라인 텍스트 에디터이다.\n",
        "- 클라우드 기반의 주피터 노트북 개발환경이다. \n",
        "- 코랩은 텍스트를 입력할 수 있는 텍스트 셀과 코드를 입력할 수 있는 코드셀을 제공한다.\n",
        "\n",
        "### [실행 방법]\n",
        "- Ctrl + Enter : 실행하고 커서가 현재 위치에 그대로 있다.\n",
        "- Alt + Enter : 실행하고 다음 셀을 생성해 준다.\n",
        "- Shift + Enter : 실행하고 이동할 셀이 있으면 이동만 하고 이동할 셀이 없으면 새로 셀을 생성한다.\n",
        "\n",
        "### [단축키]\n",
        "- Ctrl + m a : 코드 셀 위에 삽입\n",
        "- Ctrl + m b : 코드 셀 아래에 삽입\n",
        "- Ctrl + m d : 셀 삭제\n",
        "- Ctrl + m m : 마크다운(텍스트) 셀로 변경\n",
        "- Ctrl + m y : 코드셀로 변경\n",
        "- Ctrl + m z : 실행취소\n",
        "- Ctrl + m h : 단축키 모음을 보여줌\n",
        "\n",
        "* Mac을 사용하는 경우 Ctrl 대신 Command 사용\n",
        "\n",
        "### [ 입력 및 편집 이동 ]\n",
        "- 입력 -> 편집 이동 : ESC\n",
        "- 편집 -> 입력 이동 : Enter\n",
        "\n",
        "### [제목]\n",
        "제목은 #1 ~ #6가지 형태로 표현할 수 있다.\n",
        "\n",
        "# 제목1\n",
        "## 제목2\n",
        "### 제목3\n",
        "#### 제목4\n",
        "##### 제목5\n",
        "###### 제목6\n",
        "\n",
        "### 구분선\n",
        "-를 세개 이상 쓰면 가로선을 그어 줄수 있다. 한 칸 띄워서??\n",
        "\n",
        " ---\n",
        "\n",
        "### 줄바꿈 (스페이스바 2번)\n",
        "red  \n",
        "green  \n",
        "blue  \n",
        "\n",
        "\n",
        "### 목록\n",
        "순서가 있는 목록과 순서가 없는 목록을 지원한다.\n",
        "1. 리스트1\n",
        "2. 리스트2\n",
        "3. 리스트3\n",
        "\n",
        "- 리스트1\n",
        "- 리스트2\n",
        "- 리스트3\n",
        "  - 리스트3_1\n",
        "  - 리스트3_2\n",
        "  \n"
      ],
      "metadata": {
        "id": "CQ3FDvydS9fU"
      }
    },
    {
      "cell_type": "markdown",
      "source": [
        "### 웹 주소\n",
        "웹주소를 입력하면 자동으로 하이퍼 링크가 생긴다.   \n",
        "http://www.python.org"
      ],
      "metadata": {
        "id": "f2uxlChPTAc-"
      }
    },
    {
      "cell_type": "markdown",
      "source": [
        "### 강조\n",
        "***굵게***테스트  \n",
        "___기울기___테스트"
      ],
      "metadata": {
        "id": "jbP4aUO4TCz5"
      }
    },
    {
      "cell_type": "markdown",
      "source": [
        "### 코드블록\n",
        "```python\n",
        "import python\n",
        "def x(self):\n",
        "  return self.x\n",
        "```\n",
        "\n",
        "```java\n",
        "public class Test{\n",
        "  public static void main(String[] args)\n",
        "    system.out.println(\"Hello Java\");\n",
        "}\n",
        "```"
      ],
      "metadata": {
        "id": "aEBUkNG3TMFp"
      }
    },
    {
      "cell_type": "markdown",
      "source": [
        "### 링크\n",
        "[파이썬](http://www.python.org)\n",
        "\n",
        "   \n",
        "!를 붙이면 이미지를 출력할 수 있다.\n",
        "![python](https://www.python.org/static/img/python-logo@2x.png)"
      ],
      "metadata": {
        "id": "bXpjr9TiTR6s"
      }
    },
    {
      "cell_type": "code",
      "source": [
        "!pwd"
      ],
      "metadata": {
        "colab": {
          "base_uri": "https://localhost:8080/"
        },
        "id": "hfnW4Gh6TULu",
        "outputId": "17168d6f-1e92-4778-af22-e49875f1a301"
      },
      "execution_count": null,
      "outputs": [
        {
          "output_type": "stream",
          "name": "stdout",
          "text": [
            "/content\n"
          ]
        }
      ]
    },
    {
      "cell_type": "code",
      "source": [
        "from google.colab import drive\n",
        "drive.mount('/content/drive')"
      ],
      "metadata": {
        "colab": {
          "base_uri": "https://localhost:8080/"
        },
        "id": "R5mP94B0Tb8e",
        "outputId": "f5a709f7-90e8-4b78-cb84-40e724c73c6c"
      },
      "execution_count": null,
      "outputs": [
        {
          "output_type": "stream",
          "name": "stdout",
          "text": [
            "Mounted at /content/drive\n"
          ]
        }
      ]
    },
    {
      "cell_type": "code",
      "source": [
        "%cd /content/drive/MyDrive/k_digital"
      ],
      "metadata": {
        "colab": {
          "base_uri": "https://localhost:8080/"
        },
        "id": "5obsHLRdTct3",
        "outputId": "45c402fa-1d5a-4754-b02d-27e7acf38b3c"
      },
      "execution_count": null,
      "outputs": [
        {
          "output_type": "stream",
          "name": "stdout",
          "text": [
            "/content/drive/MyDrive/k_digital\n"
          ]
        }
      ]
    },
    {
      "cell_type": "code",
      "source": [
        "!ls"
      ],
      "metadata": {
        "id": "MM7jV75zUAWC"
      },
      "execution_count": null,
      "outputs": []
    },
    {
      "cell_type": "code",
      "source": [
        "#구글드라이브 공유파일 이미지 태그 만들기 \n",
        "\n",
        "url=\"https://drive.google.com/file/d/1KgIGPq9iVPC_2T6D7w0RuOJcCtTF6vqU/view?usp=share_link\" #link 부분을 구글 드라이브에서 생성한 공유 링크로 변경해주면 된다.\n",
        "path='https://drive.google.com/uc?export=download&id='+url.split('/')[-2]\n",
        "size=\"width=\\\"\\\" \"+\"height =\\\"\\\" \"\n",
        "tag=\"<img src='\"+path+\"' \"+size+\"/><br>\"\n",
        "print(\" ▶ Path : \", path)\n",
        "print('\\n',\"▶ Tag : \", tag)"
      ],
      "metadata": {
        "colab": {
          "base_uri": "https://localhost:8080/"
        },
        "id": "ufzXnKBrUCG_",
        "outputId": "ccc2b139-a074-4909-a0c6-c28ab07aee4d"
      },
      "execution_count": null,
      "outputs": [
        {
          "output_type": "stream",
          "name": "stdout",
          "text": [
            " ▶ Path :  https://drive.google.com/uc?export=download&id=1KgIGPq9iVPC_2T6D7w0RuOJcCtTF6vqU\n",
            "\n",
            " ▶ Tag :  <img src='https://drive.google.com/uc?export=download&id=1KgIGPq9iVPC_2T6D7w0RuOJcCtTF6vqU' width=\"\" height =\"\" /><br>\n"
          ]
        }
      ]
    },
    {
      "cell_type": "code",
      "source": [
        "url = \"https://drive.google.com/file/d/1KgIGPq9iVPC_2T6D7w0RuOJcCtTF6vqU/view?usp=share_link\"\n",
        "url.split('/')"
      ],
      "metadata": {
        "colab": {
          "base_uri": "https://localhost:8080/"
        },
        "id": "uScGuV-6Vc1a",
        "outputId": "d6dcd044-de43-42fa-9162-8f26b6c9b7ff"
      },
      "execution_count": null,
      "outputs": [
        {
          "output_type": "execute_result",
          "data": {
            "text/plain": [
              "['https:',\n",
              " '',\n",
              " 'drive.google.com',\n",
              " 'file',\n",
              " 'd',\n",
              " '1KgIGPq9iVPC_2T6D7w0RuOJcCtTF6vqU',\n",
              " 'view?usp=share_link']"
            ]
          },
          "metadata": {},
          "execution_count": 11
        }
      ]
    },
    {
      "cell_type": "code",
      "source": [
        "path='https://drive.google.com/uc?export=download&id=1KgIGPq9iVPC_2T6D7w0RuOJcCtTF6vqU'+url.split('/')[-2]\n",
        "print(\" ▶ Path : \", path)"
      ],
      "metadata": {
        "colab": {
          "base_uri": "https://localhost:8080/"
        },
        "id": "P7qRoor7Vfbd",
        "outputId": "db381de6-5b07-43be-a65b-8d86dfe32d06"
      },
      "execution_count": null,
      "outputs": [
        {
          "output_type": "stream",
          "name": "stdout",
          "text": [
            " ▶ Path :  https://drive.google.com/uc?export=download&id=1KgIGPq9iVPC_2T6D7w0RuOJcCtTF6vqU1KgIGPq9iVPC_2T6D7w0RuOJcCtTF6vqU\n"
          ]
        }
      ]
    },
    {
      "cell_type": "code",
      "source": [
        "url=\"https://drive.google.com/file/d/1KgIGPq9iVPC_2T6D7w0RuOJcCtTF6vqU/view?usp=share_link\" \n",
        "path='https://drive.google.com/uc?export=download&id=1KgIGPq9iVPC_2T6D7w0RuOJcCtTF6vqU'+url.split('/')[-2]\n",
        "size=\"width=\\\"\\\" \"+\"height =\\\"\\\" \"\n",
        "tag=\"<img src='\"+path+\"' \"+size+\"/><br>\"\n",
        "print(\" ▶ Path : \", path)\n",
        "print('\\n',\"▶ Tag : \", tag)"
      ],
      "metadata": {
        "colab": {
          "base_uri": "https://localhost:8080/"
        },
        "id": "euSIkE3AVrjN",
        "outputId": "6d731f5e-31e9-4767-9406-6cf1ba7707cb"
      },
      "execution_count": null,
      "outputs": [
        {
          "output_type": "stream",
          "name": "stdout",
          "text": [
            " ▶ Path :  https://drive.google.com/uc?export=download&id=1KgIGPq9iVPC_2T6D7w0RuOJcCtTF6vqU1KgIGPq9iVPC_2T6D7w0RuOJcCtTF6vqU\n",
            "\n",
            " ▶ Tag :  <img src='https://drive.google.com/uc?export=download&id=1KgIGPq9iVPC_2T6D7w0RuOJcCtTF6vqU1KgIGPq9iVPC_2T6D7w0RuOJcCtTF6vqU' width=\"\" height =\"\" /><br>\n"
          ]
        }
      ]
    },
    {
      "cell_type": "markdown",
      "source": [
        "<img src='https://drive.google.com/uc?export=download&id=1KgIGPq9iVPC_2T6D7w0RuOJcCtTF6vqU1KgIGPq9iVPC_2T6D7w0RuOJcCtTF6vqU' width=\"\" height =\"\" /><br>\n",
        "\n",
        "\n",
        "### 아니 이건 왜 출력이 되는데 고수는 안나오는데 어째서\n",
        "<img src='https://drive.google.com/uc?export=download&id=1lsgC54AC8z8TqjvJ9X-VE7qpf27Gpubn' width=\"\" height =\"\" /><br>"
      ],
      "metadata": {
        "id": "lzwSsffkV-AB"
      }
    },
    {
      "cell_type": "markdown",
      "source": [
        "<img src='https://drive.google.com/uc?export=download&id=1KgIGPq9iVPC_2T6D7w0RuOJcCtTF6vqU' width=\"\" height =\"\" /><br>"
      ],
      "metadata": {
        "id": "9oyhiW02gNon"
      }
    }
  ]
}