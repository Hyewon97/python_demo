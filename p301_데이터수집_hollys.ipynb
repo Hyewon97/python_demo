{
  "cells": [
    {
      "cell_type": "markdown",
      "metadata": {
        "id": "view-in-github",
        "colab_type": "text"
      },
      "source": [
        "<a href=\"https://colab.research.google.com/github/Hyewon97/python_demo/blob/main/p301_%EB%8D%B0%EC%9D%B4%ED%84%B0%EC%88%98%EC%A7%91_hollys.ipynb\" target=\"_parent\"><img src=\"https://colab.research.google.com/assets/colab-badge.svg\" alt=\"Open In Colab\"/></a>"
      ]
    },
    {
      "cell_type": "markdown",
      "metadata": {
        "id": "c06MF6KLSjmJ"
      },
      "source": [
        "### hollys crowling"
      ]
    },
    {
      "cell_type": "code",
      "execution_count": null,
      "metadata": {
        "id": "9TMJePuwSStR"
      },
      "outputs": [],
      "source": [
        "from bs4 import BeautifulSoup\n",
        "import requests"
      ]
    },
    {
      "cell_type": "code",
      "execution_count": null,
      "metadata": {
        "colab": {
          "base_uri": "https://localhost:8080/"
        },
        "id": "FCXlqmgSTbOn",
        "outputId": "838c2d4d-c323-41dc-df39-730b1a531577"
      },
      "outputs": [
        {
          "output_type": "stream",
          "name": "stdout",
          "text": [
            "<Response [200]>\n"
          ]
        }
      ],
      "source": [
        "url = 'https://m.hollys.co.kr/store/korStore2.do'\n",
        "res = requests.get(url)\n",
        "print(res)\n",
        "#print(res.text)"
      ]
    },
    {
      "cell_type": "code",
      "execution_count": null,
      "metadata": {
        "colab": {
          "base_uri": "https://localhost:8080/"
        },
        "id": "EbGi3vJxSqrp",
        "outputId": "5be33ea0-02bc-4174-ccb0-f90e2a6b3b62"
      },
      "outputs": [
        {
          "output_type": "stream",
          "name": "stdout",
          "text": [
            "<Response [200]>\n",
            "<class 'requests.models.Response'>\n",
            "<class 'bs4.BeautifulSoup'>\n",
            "<class 'bs4.element.Tag'>\n",
            "<class 'bs4.element.ResultSet'>\n",
            "['__add__', '__class__', '__contains__', '__delattr__', '__delitem__', '__dict__', '__dir__', '__doc__', '__eq__', '__format__', '__ge__', '__getattr__', '__getattribute__', '__getitem__', '__gt__', '__hash__', '__iadd__', '__imul__', '__init__', '__init_subclass__', '__iter__', '__le__', '__len__', '__lt__', '__module__', '__mul__', '__ne__', '__new__', '__reduce__', '__reduce_ex__', '__repr__', '__reversed__', '__rmul__', '__setattr__', '__setitem__', '__sizeof__', '__str__', '__subclasshook__', '__weakref__', 'append', 'clear', 'copy', 'count', 'extend', 'index', 'insert', 'pop', 'remove', 'reverse', 'sort', 'source']\n"
          ]
        }
      ],
      "source": [
        "url = 'https://www.hollys.co.kr/store/korea/korStore2.do'\n",
        "res = requests.get(url) # url을 못찾는 경우가 있음. 이럴때는 headers에 브라우저 정보를 넣어줘야 한다.\n",
        "print(res)\n",
        "#print(res.text)\n",
        "print(type(res))  # <class 'requests.models.Response'>\n",
        "\n",
        "soup = BeautifulSoup(res.text, 'html.parser')\n",
        "#print(soup) \n",
        "print(type(soup))  # <class 'bs4.BeautifulSoup'>  둘이 가지고 오는 데이터가 다름\n",
        "\n",
        "tag_body = soup.find('tbody')\n",
        "#print(tag_body)\n",
        "print(type(tag_body)) # <class 'bs4.element.Tag'>\n",
        "\n",
        "tag_tr = soup.find_all('tr')  # find_all = findAll 같음!\n",
        "print(type(tag_tr))   # <class 'bs4.element.ResultSet'>  / 여러개라서 resultset으로 리턴됨\n",
        "print(dir(tag_tr))"
      ]
    },
    {
      "cell_type": "code",
      "execution_count": null,
      "metadata": {
        "colab": {
          "base_uri": "https://localhost:8080/"
        },
        "id": "vCHfRC3JSwas",
        "outputId": "cfdab864-20a3-4199-fb6e-06b764fe00f4"
      },
      "outputs": [
        {
          "output_type": "stream",
          "name": "stdout",
          "text": [
            "<class 'bs4.element.Tag'>\n",
            "['HTML_FORMATTERS', 'XML_FORMATTERS', '__bool__', '__call__', '__class__', '__contains__', '__copy__', '__delattr__', '__delitem__', '__dict__', '__dir__', '__doc__', '__eq__', '__format__', '__ge__', '__getattr__', '__getattribute__', '__getitem__', '__gt__', '__hash__', '__init__', '__init_subclass__', '__iter__', '__le__', '__len__', '__lt__', '__module__', '__ne__', '__new__', '__reduce__', '__reduce_ex__', '__repr__', '__setattr__', '__setitem__', '__sizeof__', '__str__', '__subclasshook__', '__unicode__', '__weakref__', '_all_strings', '_attr_value_as_string', '_attribute_checker', '_find_all', '_find_one', '_formatter_for_name', '_is_xml', '_lastRecursiveChild', '_last_descendant', '_select_debug', '_selector_combinators', '_should_pretty_print', '_tag_name_matches_and', 'append', 'attribselect_re', 'attrs', 'can_be_empty_element', 'childGenerator', 'children', 'clear', 'contents', 'decode', 'decode_contents', 'decompose', 'descendants', 'encode', 'encode_contents', 'extract', 'fetchNextSiblings', 'fetchParents', 'fetchPrevious', 'fetchPreviousSiblings', 'find', 'findAll', 'findAllNext', 'findAllPrevious', 'findChild', 'findChildren', 'findNext', 'findNextSibling', 'findNextSiblings', 'findParent', 'findParents', 'findPrevious', 'findPreviousSibling', 'findPreviousSiblings', 'find_all', 'find_all_next', 'find_all_previous', 'find_next', 'find_next_sibling', 'find_next_siblings', 'find_parent', 'find_parents', 'find_previous', 'find_previous_sibling', 'find_previous_siblings', 'format_string', 'get', 'getText', 'get_attribute_list', 'get_text', 'has_attr', 'has_key', 'hidden', 'index', 'insert', 'insert_after', 'insert_before', 'isSelfClosing', 'is_empty_element', 'known_xml', 'name', 'namespace', 'next', 'nextGenerator', 'nextSibling', 'nextSiblingGenerator', 'next_element', 'next_elements', 'next_sibling', 'next_siblings', 'parent', 'parentGenerator', 'parents', 'parserClass', 'parser_class', 'prefix', 'preserve_whitespace_tags', 'prettify', 'previous', 'previousGenerator', 'previousSibling', 'previousSiblingGenerator', 'previous_element', 'previous_elements', 'previous_sibling', 'previous_siblings', 'quoted_colon', 'recursiveChildGenerator', 'renderContents', 'replaceWith', 'replaceWithChildren', 'replace_with', 'replace_with_children', 'select', 'select_one', 'setup', 'string', 'strings', 'stripped_strings', 'tag_name_re', 'text', 'unwrap', 'wrap']\n",
            "<class 'list'>\n",
            "<class 'list'>\n"
          ]
        }
      ],
      "source": [
        "tag_table = soup.select_one('table.tb_store')\n",
        "print(type(tag_table))   # 하나라서 <class 'bs4.element.Tag'>\n",
        "print(dir(tag_table))\n",
        "\n",
        "tag_tableList = soup.select('table.tb_store')\n",
        "print(type(tag_tableList))  # <class 'list'>\n",
        "\n",
        "tag_tr_list = soup.select('tr')\n",
        "print(type(tag_tr_list))  # <class 'list'>\n",
        "#dir(tag_tr_list)  # list에서 쓸 수 있는 자원들 출력됨"
      ]
    },
    {
      "cell_type": "code",
      "execution_count": null,
      "metadata": {
        "colab": {
          "base_uri": "https://localhost:8080/"
        },
        "id": "tyilGC8mWbaA",
        "outputId": "3c86c33e-b37b-4eab-fb77-4ceda4e20510"
      },
      "outputs": [
        {
          "output_type": "stream",
          "name": "stdout",
          "text": [
            "충청남도 천안시 동남구 순천향6길 31 (봉명동, 순천향대학교천안병원) 외래센터 2층\n",
            "충청남도 천안시 동남구 순천향6길 31 (봉명동, 순천향대학교천안병원) 본관 1층\n",
            "충청남도 공주시 이인면 논산천안고속도로 32 (이인상행휴게소) .\n",
            "충청남도 공주시 탄천면 논산천안고속도로 27 (탄천하행휴게소) .\n",
            "제주특별자치도 제주시 중앙로 302 (이도이동, 더스프링) .\n",
            "서울특별시 마포구 동교로 233 (연남동) .\n",
            "서울특별시 강남구 테헤란로 301 역삼동 701-02 삼정빌딩 1층\n",
            "경기도 수원시 영통구 청명남로 10 영통동 1000-1\n",
            "경기 고양시 덕양구 권율대로 690 201동 108호~111호\n",
            "서울특별시 용산구 이태원로 180 2층~3층\n"
          ]
        },
        {
          "output_type": "execute_result",
          "data": {
            "text/plain": [
              "[['충남 천안시 동남구',\n",
              "  '순천향대학교 천안병원 외래점',\n",
              "  '영업중',\n",
              "  '충청남도 천안시 동남구 순천향6길 31 (봉명동, 순천향대학교천안병원) 외래센터 2층'],\n",
              " ['충남 천안시 동남구',\n",
              "  '순천향대학교 천안병원 본관점',\n",
              "  '영업중',\n",
              "  '충청남도 천안시 동남구 순천향6길 31 (봉명동, 순천향대학교천안병원) 본관 1층'],\n",
              " ['충남 공주시', '(천)이인휴게소점', '영업중', '충청남도 공주시 이인면 논산천안고속도로 32 (이인상행휴게소) .'],\n",
              " ['충남 공주시', '(논)탄천휴게소2호점', '영업중', '충청남도 공주시 탄천면 논산천안고속도로 27 (탄천하행휴게소) .'],\n",
              " ['제주 제주시', '이도점', '영업중', '제주특별자치도 제주시 중앙로 302 (이도이동, 더스프링) .'],\n",
              " ['서울 마포구', '연트럴파크점', '영업중', '서울특별시 마포구 동교로 233 (연남동) .'],\n",
              " ['서울 강남구', '강남우리라운지점', '영업중', '서울특별시 강남구 테헤란로 301 역삼동 701-02 삼정빌딩 1층'],\n",
              " ['경기 수원시', '수원영통점', '영업중', '경기도 수원시 영통구 청명남로 10 영통동 1000-1'],\n",
              " ['경기 고양시 덕양구', '원흥역점', '영업중', '경기 고양시 덕양구 권율대로 690 201동 108호~111호'],\n",
              " ['서울 용산구', '이태원역점', '영업중', '서울특별시 용산구 이태원로 180 2층~3층']]"
            ]
          },
          "metadata": {},
          "execution_count": 28
        }
      ],
      "source": [
        "# 변수 선언(배열로)\n",
        "result = []\n",
        "\n",
        "for store in tag_body.find_all('tr') :\n",
        "  if len(store)<=3 :\n",
        "    break\n",
        "\n",
        "  #store_id = store.find_all('td')\n",
        "  #store_area = store_id[0].string   # store_area = store_id[0].text 결과값 같다\n",
        "  #print(store_area)\n",
        "\n",
        "  store_id = store.select_one('td.noline.center_t').text\n",
        "  #print(store_id)\n",
        "\n",
        "  store_area = store.select_one('td.center_t a').text\n",
        "  #print(store_area) \n",
        "\n",
        "  store_open = store.find('td', class_='center_t tdp0').text\n",
        "  #print(store_open)\n",
        "\n",
        "  # 최신 명렁어를 지원하지 않는건가? \n",
        "  store_address = store.select_one('td:nth-of-type(4) > a').text   # 여러단계를 들어가야 할 때는 이 방법이 좋음\n",
        "  print(store_address)\n",
        "\n",
        "  # 데이터를 저장.. 반복을 의미한다.\n",
        "  result.append([store_id]+[store_area]+[store_open]+[store_address])\n",
        "\n",
        "result"
      ]
    },
    {
      "cell_type": "code",
      "execution_count": null,
      "metadata": {
        "colab": {
          "base_uri": "https://localhost:8080/"
        },
        "id": "MuR6hUsdhgF6",
        "outputId": "156f6720-90f6-4711-d926-a639f3a45242"
      },
      "outputs": [
        {
          "output_type": "stream",
          "name": "stdout",
          "text": [
            "10\n",
            "[['충남 천안시 동남구', '순천향대학교 천안병원 외래점', '영업중', '충청남도 천안시 동남구 순천향6길 31 (봉명동, 순천향대학교천안병원) 외래센터 2층'], ['충남 천안시 동남구', '순천향대학교 천안병원 본관점', '영업중', '충청남도 천안시 동남구 순천향6길 31 (봉명동, 순천향대학교천안병원) 본관 1층'], ['충남 공주시', '(천)이인휴게소점', '영업중', '충청남도 공주시 이인면 논산천안고속도로 32 (이인상행휴게소) .'], ['충남 공주시', '(논)탄천휴게소2호점', '영업중', '충청남도 공주시 탄천면 논산천안고속도로 27 (탄천하행휴게소) .'], ['제주 제주시', '이도점', '영업중', '제주특별자치도 제주시 중앙로 302 (이도이동, 더스프링) .'], ['서울 마포구', '연트럴파크점', '영업중', '서울특별시 마포구 동교로 233 (연남동) .'], ['서울 강남구', '강남우리라운지점', '영업중', '서울특별시 강남구 테헤란로 301 역삼동 701-02 삼정빌딩 1층'], ['경기 수원시', '수원영통점', '영업중', '경기도 수원시 영통구 청명남로 10 영통동 1000-1'], ['경기 고양시 덕양구', '원흥역점', '영업중', '경기 고양시 덕양구 권율대로 690 201동 108호~111호'], ['서울 용산구', '이태원역점', '영업중', '서울특별시 용산구 이태원로 180 2층~3층']]\n"
          ]
        }
      ],
      "source": [
        "print(len(result))\n",
        "print(result)"
      ]
    },
    {
      "cell_type": "code",
      "execution_count": null,
      "metadata": {
        "colab": {
          "base_uri": "https://localhost:8080/"
        },
        "id": "q_UrC5Nud8it",
        "outputId": "8e77af8f-adcd-49ad-b7ad-fd3b73e81c4d"
      },
      "outputs": [
        {
          "output_type": "stream",
          "name": "stdout",
          "text": [
            "Drive already mounted at /content/drive; to attempt to forcibly remount, call drive.mount(\"/content/drive\", force_remount=True).\n",
            "/content/drive/MyDrive/dataanalysis/data\n"
          ]
        }
      ],
      "source": [
        "# 드라이브와 연결\n",
        "from google.colab import drive\n",
        "drive.mount('/content/drive')\n",
        "\n",
        "%cd /content/drive/MyDrive/dataanalysis/data"
      ]
    },
    {
      "cell_type": "code",
      "execution_count": null,
      "metadata": {
        "id": "YgFCPqEjejk-",
        "colab": {
          "base_uri": "https://localhost:8080/"
        },
        "outputId": "654c13f5-5878-4e46-e03c-9d973dc5a757"
      },
      "outputs": [
        {
          "output_type": "stream",
          "name": "stdout",
          "text": [
            "/content/drive/MyDrive/dataanalysis/data\n"
          ]
        }
      ],
      "source": [
        "!pwd"
      ]
    },
    {
      "cell_type": "code",
      "execution_count": null,
      "metadata": {
        "id": "AlevneKydI4Y"
      },
      "outputs": [],
      "source": [
        "# 텍스트 파일로 저장하기 위해서\n",
        "import csv\n",
        "\n",
        "fields=['stored_id','store_area','sotre_open','store_address']\n",
        "\n",
        "# 저장할 위치를 지정,, 드라이브와 연결을 해야 함 이 코드는 위에서 진행\n",
        "# list를 cvs 파일로 저장하는 방식 ############\n",
        "#                 기로할 때는 w, 읽어올때는 r 하면 된다.\n",
        "with open('./hollys.csv','w',newline='',encoding='cp949') as f: # 파일 값을 인자값으로 가져오기, 우분투 한글 기본 처리가 cp949, utf-8 안되면 cp949로 하기\n",
        "  write = csv.writer(f)\n",
        "  write.writerow(fields) # 제목을 써주는건가\n",
        "  write.writerows(result) # 실제 데이터 값이 있는것.. 이중으로 있어서 복수형으로 선언한다.\n",
        "  ###################################"
      ]
    },
    {
      "cell_type": "code",
      "source": [
        "with open('./hollys.csv','r',encoding='cp949') as f:\n",
        "  reader = csv.reader(f)\n",
        "  for row in reader:\n",
        "    for cell in row:\n",
        "      print(cell, end=\",\")\n",
        "    print()  \n",
        "    #print(end='\\n') # 프린트는 println과 같은 기능이다. \n",
        "    "
      ],
      "metadata": {
        "colab": {
          "base_uri": "https://localhost:8080/"
        },
        "id": "bcUjXADZn6jr",
        "outputId": "95eb21ff-b973-4c46-a052-119f48c4eb7d"
      },
      "execution_count": null,
      "outputs": [
        {
          "output_type": "stream",
          "name": "stdout",
          "text": [
            "stored_id,store_area,sotre_open,store_address,\n",
            "충남 천안시 동남구,순천향대학교 천안병원 외래점,영업중,충청남도 천안시 동남구 순천향6길 31 (봉명동, 순천향대학교천안병원) 외래센터 2층,\n",
            "충남 천안시 동남구,순천향대학교 천안병원 본관점,영업중,충청남도 천안시 동남구 순천향6길 31 (봉명동, 순천향대학교천안병원) 본관 1층,\n",
            "충남 공주시,(천)이인휴게소점,영업중,충청남도 공주시 이인면 논산천안고속도로 32 (이인상행휴게소) .,\n",
            "충남 공주시,(논)탄천휴게소2호점,영업중,충청남도 공주시 탄천면 논산천안고속도로 27 (탄천하행휴게소) .,\n",
            "제주 제주시,이도점,영업중,제주특별자치도 제주시 중앙로 302 (이도이동, 더스프링) .,\n",
            "서울 마포구,연트럴파크점,영업중,서울특별시 마포구 동교로 233 (연남동) .,\n",
            "서울 강남구,강남우리라운지점,영업중,서울특별시 강남구 테헤란로 301 역삼동 701-02 삼정빌딩 1층,\n",
            "경기 수원시,수원영통점,영업중,경기도 수원시 영통구 청명남로 10 영통동 1000-1,\n",
            "경기 고양시 덕양구,원흥역점,영업중,경기 고양시 덕양구 권율대로 690 201동 108호~111호,\n",
            "서울 용산구,이태원역점,영업중,서울특별시 용산구 이태원로 180 2층~3층,\n"
          ]
        }
      ]
    },
    {
      "cell_type": "code",
      "source": [
        "# 날짜 가지고 오기\n",
        "import datetime\n",
        "now = datetime.datetime.today()\n",
        "print(now)\n",
        "print(now.utcnow()) # now나 now.utcnow나 같음\n",
        "print(now.year, now.month, now.day, now.hour, now.minute, now.second) # 월은 실제 월보다 1이 적지만, 파이썬은 실제 월로 처리가 된다. 따로 연산을 할 필요가 없다는 이야기\n",
        "print(now.date())\n",
        "print(now.time())\n",
        "\n"
      ],
      "metadata": {
        "colab": {
          "base_uri": "https://localhost:8080/"
        },
        "id": "T58KbcBtqsu_",
        "outputId": "908928bb-b673-453c-a176-ad2e7101e09c"
      },
      "execution_count": null,
      "outputs": [
        {
          "output_type": "stream",
          "name": "stdout",
          "text": [
            "2023-02-15 01:28:51.494271\n",
            "2023-02-15 01:28:51.494937\n",
            "2023 2 15 1 28 51\n",
            "2023-02-15\n",
            "01:28:51.494271\n"
          ]
        }
      ]
    },
    {
      "cell_type": "code",
      "source": [
        "import time\n",
        "time.strftime('%Y-%m-%d %H', time.localtime(time.time()))"
      ],
      "metadata": {
        "colab": {
          "base_uri": "https://localhost:8080/",
          "height": 35
        },
        "id": "OXpiwkcTr1j-",
        "outputId": "798f928f-d9c5-43db-c231-aed3128d1327"
      },
      "execution_count": null,
      "outputs": [
        {
          "output_type": "execute_result",
          "data": {
            "text/plain": [
              "'2023-02-15 02'"
            ],
            "application/vnd.google.colaboratory.intrinsic+json": {
              "type": "string"
            }
          },
          "metadata": {},
          "execution_count": 101
        }
      ]
    },
    {
      "cell_type": "markdown",
      "source": [
        "### 파일 작서하여 크롤링 하기"
      ],
      "metadata": {
        "id": "kriAq6Q4tAno"
      }
    },
    {
      "cell_type": "code",
      "source": [
        "%%writefile ./hollys_collector.py\n",
        "from bs4 import BeautifulSoup\n",
        "import requests\n",
        "import csv\n",
        "import datetime\n",
        "result=[]\n",
        "\n",
        "def hollys_process():\n",
        "  url = 'https://www.hollys.co.kr/store/korea/korStore2.do' # 웹버전\n",
        "  header={\"User-Agent\":\"Mozilla/5.0 (Windows NT 10.0; Win64; x64) AppleWebKit/537.36 (KHTML, like Gecko) Chrome/109.0.0.0 Safari/537.36\"}\n",
        "  res = requests.get(url, headers=header)\n",
        "\n",
        "  soup = BeautifulSoup(res.text, 'html.parser')\n",
        "  tag_body = soup.find('tbody')\n",
        "\n",
        "  for store in tag_body.find_all('tr') :\n",
        "      if len(store)<=3 :\n",
        "          break\n",
        "\n",
        "      store_id = store.select_one('td.noline.center_t').text\n",
        "\n",
        "      store_area = store.select_one('td.center_t a').text\n",
        "\n",
        "      store_open = store.find('td', class_='center_t tdp0').text\n",
        "\n",
        "      store_address = store.select_one('td:nth-of-type(4) > a').text   \n",
        "      print(store_address)\n",
        "\n",
        "      result.append([store_id]+[store_area]+[store_open]+[store_address])\n",
        "\n",
        "def hollys_save(filename):\n",
        "  fields=['stored_id','store_area','sotre_open','store_address']\n",
        "\n",
        "  with open(filename,'w',newline='',encoding='cp949') as f: \n",
        "    write = csv.writer(f)\n",
        "    write.writerow(fields) \n",
        "    write.writerows(result)\n",
        "  print(\"저장완료\")\n",
        "  del result[:]\n",
        "\n",
        "def hollys_load(filename):\n",
        "  #            이 값은 외부에서 처리를 해야한다.\n",
        "  with open(filename,'r',encoding='cp949') as f:\n",
        "    reader = csv.reader(f)\n",
        "    for row in reader:\n",
        "      for cell in row:\n",
        "        print(cell, end=\",\")\n",
        "      print()  \n",
        "\n",
        "def main():\n",
        "  hollys_process()\n",
        "  # to_now=datetime.datetime.today()\n",
        "  to_now=datetime.datetime.now()\n",
        "  to_now = to_now.strftime('%Y-%m-%d %H:%M:%s')\n",
        "  print(to_now)\n",
        "  filename='./%s-hollys.csv' % to_now\n",
        "  hollys_save(filename)\n",
        "\n",
        "if __name__=='__main__':\n",
        "  main()\n"
      ],
      "metadata": {
        "colab": {
          "base_uri": "https://localhost:8080/"
        },
        "id": "7EoA0-dYtC-N",
        "outputId": "d84c9e5e-8128-475c-9550-288ef543fd3c"
      },
      "execution_count": null,
      "outputs": [
        {
          "output_type": "stream",
          "name": "stdout",
          "text": [
            "Writing ./hollys_collector.py\n"
          ]
        }
      ]
    },
    {
      "cell_type": "code",
      "source": [
        "hollys_process()\n",
        "to_now=datetime.datetime.today().date()\n",
        "filename='./%s-hollys.csv' % to_now\n",
        "hollys_save(filename)"
      ],
      "metadata": {
        "colab": {
          "base_uri": "https://localhost:8080/"
        },
        "id": "-xZaon1Iwfqk",
        "outputId": "40684261-1c1f-4525-8efb-f740e3cab626"
      },
      "execution_count": null,
      "outputs": [
        {
          "output_type": "stream",
          "name": "stdout",
          "text": [
            "충청남도 천안시 동남구 순천향6길 31 (봉명동, 순천향대학교천안병원) 외래센터 2층\n",
            "충청남도 천안시 동남구 순천향6길 31 (봉명동, 순천향대학교천안병원) 본관 1층\n",
            "충청남도 공주시 이인면 논산천안고속도로 32 (이인상행휴게소) .\n",
            "충청남도 공주시 탄천면 논산천안고속도로 27 (탄천하행휴게소) .\n",
            "제주특별자치도 제주시 중앙로 302 (이도이동, 더스프링) .\n",
            "서울특별시 마포구 동교로 233 (연남동) .\n",
            "서울특별시 강남구 테헤란로 301 역삼동 701-02 삼정빌딩 1층\n",
            "경기도 수원시 영통구 청명남로 10 영통동 1000-1\n",
            "경기 고양시 덕양구 권율대로 690 201동 108호~111호\n",
            "서울특별시 용산구 이태원로 180 2층~3층\n",
            "저장완료\n"
          ]
        }
      ]
    }
  ],
  "metadata": {
    "colab": {
      "provenance": [],
      "include_colab_link": true
    },
    "kernelspec": {
      "display_name": "Python 3",
      "name": "python3"
    },
    "language_info": {
      "name": "python"
    }
  },
  "nbformat": 4,
  "nbformat_minor": 0
}