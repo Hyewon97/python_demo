{
  "nbformat": 4,
  "nbformat_minor": 0,
  "metadata": {
    "colab": {
      "provenance": [],
      "authorship_tag": "ABX9TyPbKg1KrjPNT+CiqUCBRtQP",
      "include_colab_link": true
    },
    "kernelspec": {
      "name": "python3",
      "display_name": "Python 3"
    },
    "language_info": {
      "name": "python"
    }
  },
  "cells": [
    {
      "cell_type": "markdown",
      "metadata": {
        "id": "view-in-github",
        "colab_type": "text"
      },
      "source": [
        "<a href=\"https://colab.research.google.com/github/Hyewon97/python_demo/blob/main/p101_python_%EC%A0%9C%EC%96%B4%EB%AC%B8.ipynb\" target=\"_parent\"><img src=\"https://colab.research.google.com/assets/colab-badge.svg\" alt=\"Open In Colab\"/></a>"
      ]
    },
    {
      "cell_type": "code",
      "execution_count": null,
      "metadata": {
        "colab": {
          "base_uri": "https://localhost:8080/"
        },
        "id": "d3aMFp8KpQEF",
        "outputId": "a9e2506b-4544-468b-e016-b7baa65775d2"
      },
      "outputs": [
        {
          "output_type": "stream",
          "name": "stdout",
          "text": [
            "No\n",
            "Fail\n"
          ]
        }
      ],
      "source": [
        "a = 1\n",
        "if a>3 :\n",
        "  print('Yes')\n",
        "  print('Ok')\n",
        "else :\n",
        "  print('No')\n",
        "print('Fail') # 조건이 만족 하나 안하니 출력 된다. 들여쓰기 때문에.. 파이썬은 { } 기준을 들여쓰기로 하나봄"
      ]
    },
    {
      "cell_type": "markdown",
      "source": [
        "### existance\n",
        "  python에서 조건은 존재론(existance)적이다 -> truthy, falsy"
      ],
      "metadata": {
        "id": "ZweOV9P7qwOD"
      }
    },
    {
      "cell_type": "code",
      "source": [
        "# 0은 숫자가 없는 것과 같음 -> falsy,   0이란 값은 없는거여서 false인건가?\n",
        "a=0.0 \n",
        "if a :\n",
        "  print('yes')\n",
        "else :\n",
        "  print('no')"
      ],
      "metadata": {
        "colab": {
          "base_uri": "https://localhost:8080/"
        },
        "id": "fx7UH2czrx2n",
        "outputId": "ad0fd896-5d5a-43f3-d5b8-77bfdd3b1b11"
      },
      "execution_count": null,
      "outputs": [
        {
          "output_type": "stream",
          "name": "stdout",
          "text": [
            "no\n"
          ]
        }
      ]
    },
    {
      "cell_type": "code",
      "source": [
        "# None은 객체가 없는 것과 같음 -> falsy\n",
        "a = None\n",
        "if a :\n",
        "  print('yes')\n",
        "else :\n",
        "  print('no')"
      ],
      "metadata": {
        "colab": {
          "base_uri": "https://localhost:8080/"
        },
        "id": "NqhNK1mVsOzO",
        "outputId": "d37f94b4-cdc0-4c17-ea26-f1ec89b90d08"
      },
      "execution_count": null,
      "outputs": [
        {
          "output_type": "stream",
          "name": "stdout",
          "text": [
            "no\n"
          ]
        }
      ]
    },
    {
      "cell_type": "code",
      "source": [
        "# 비어있는 dict은 없는 것과 같음 -> falsy\n",
        "a = {}\n",
        "if a :\n",
        "  print('yes')\n",
        "else :\n",
        "  print('no')"
      ],
      "metadata": {
        "colab": {
          "base_uri": "https://localhost:8080/"
        },
        "id": "-WodE3fZscng",
        "outputId": "d5e6393c-302f-4eaa-d3f0-8cf5bde305d5"
      },
      "execution_count": null,
      "outputs": [
        {
          "output_type": "stream",
          "name": "stdout",
          "text": [
            "no\n"
          ]
        }
      ]
    },
    {
      "cell_type": "code",
      "source": [
        "# 인스턴스 방식으로 값을 만들 때 괄호 안이 비어 있으면 비어 있는 값을 만든다.\n",
        "# if에서 모두 false이다 -> falsy\n",
        "a = int()\n",
        "b = float()\n",
        "c = complex()\n",
        "d = list()"
      ],
      "metadata": {
        "id": "ZCfMU6eNszR7"
      },
      "execution_count": null,
      "outputs": []
    },
    {
      "cell_type": "code",
      "source": [
        "if a :\n",
        "  print('yes')\n",
        "else :\n",
        "  print('no')"
      ],
      "metadata": {
        "colab": {
          "base_uri": "https://localhost:8080/"
        },
        "id": "fyfVSseXtD9n",
        "outputId": "40c4b11a-2c8e-4d7c-8744-722ca3fc426b"
      },
      "execution_count": null,
      "outputs": [
        {
          "output_type": "stream",
          "name": "stdout",
          "text": [
            "no\n"
          ]
        }
      ]
    },
    {
      "cell_type": "code",
      "source": [
        "3<2 or 4<5"
      ],
      "metadata": {
        "colab": {
          "base_uri": "https://localhost:8080/"
        },
        "id": "ugg4QyOct503",
        "outputId": "b0ec8f27-e82b-4f8b-dadb-c5c4895c8c2c"
      },
      "execution_count": null,
      "outputs": [
        {
          "output_type": "execute_result",
          "data": {
            "text/plain": [
              "True"
            ]
          },
          "metadata": {},
          "execution_count": 16
        }
      ]
    },
    {
      "cell_type": "code",
      "source": [
        "# 리액트에서 중요하다고.. 근데 카톡 하느라 설명 못들음 ㅋㅋ\n",
        "# jsx에서는 if문이나 for문을 사용하지 못한다? 그래서 아래 코드 처럼 사용을 한다고\n",
        "# and는 앞이 True이면 뒤에 값을 반환한다. \n",
        "# 3은 존재론적으로 True\n",
        "3 and 4 "
      ],
      "metadata": {
        "colab": {
          "base_uri": "https://localhost:8080/"
        },
        "id": "oNfcPDiFuYae",
        "outputId": "dde6d262-bb90-4009-ddb6-445c5505e443"
      },
      "execution_count": null,
      "outputs": [
        {
          "output_type": "execute_result",
          "data": {
            "text/plain": [
              "4"
            ]
          },
          "metadata": {},
          "execution_count": 18
        }
      ]
    },
    {
      "cell_type": "code",
      "source": [
        "# and 앞의 값이 false이면 앞의 값을 반환하다.\n",
        "# 비어 있는 문자열은 없는 것과 같음 -> falsy\n",
        "\"\" and 4"
      ],
      "metadata": {
        "colab": {
          "base_uri": "https://localhost:8080/",
          "height": 35
        },
        "id": "6oXmpjp7u7TF",
        "outputId": "7b9626db-4c80-441d-9485-3424807f5505"
      },
      "execution_count": null,
      "outputs": [
        {
          "output_type": "execute_result",
          "data": {
            "text/plain": [
              "''"
            ],
            "application/vnd.google.colaboratory.intrinsic+json": {
              "type": "string"
            }
          },
          "metadata": {},
          "execution_count": 20
        }
      ]
    },
    {
      "cell_type": "code",
      "source": [
        "0 and 4"
      ],
      "metadata": {
        "colab": {
          "base_uri": "https://localhost:8080/"
        },
        "id": "_LhQsyOZvE2m",
        "outputId": "fc96c83d-8ecc-4d77-94d5-4b4331da8408"
      },
      "execution_count": null,
      "outputs": [
        {
          "output_type": "execute_result",
          "data": {
            "text/plain": [
              "0"
            ]
          },
          "metadata": {},
          "execution_count": 21
        }
      ]
    },
    {
      "cell_type": "code",
      "source": [
        "# 0r은 and의 반대\n",
        "# 앞의 값이 false, 뒤에 값에 따라서 t 또는 f -> 뒤의 값이 중요하다\n",
        "# 앞이 True이면 앞, 앞이 false이면 뒤의 값을 반환한다.\n",
        "\"\" or 4"
      ],
      "metadata": {
        "colab": {
          "base_uri": "https://localhost:8080/"
        },
        "id": "2Ey5I8HNuZ1B",
        "outputId": "2e815c8e-992f-4b82-d2ed-c901d4ddcf66"
      },
      "execution_count": null,
      "outputs": [
        {
          "output_type": "execute_result",
          "data": {
            "text/plain": [
              "4"
            ]
          },
          "metadata": {},
          "execution_count": 24
        }
      ]
    },
    {
      "cell_type": "code",
      "source": [
        "1 or 4 #"
      ],
      "metadata": {
        "colab": {
          "base_uri": "https://localhost:8080/"
        },
        "id": "WUkKpL5OwOhn",
        "outputId": "6f94e030-d50a-47e4-e725-37fb8cf18d4f"
      },
      "execution_count": null,
      "outputs": [
        {
          "output_type": "execute_result",
          "data": {
            "text/plain": [
              "1"
            ]
          },
          "metadata": {},
          "execution_count": 26
        }
      ]
    },
    {
      "cell_type": "code",
      "source": [
        "# 조건식에 문장이 들어가면 안된다.\n",
        "# if 조건에 문장을 사용할 수 없다.\n",
        "if a = 4:\n",
        "  print('yes')"
      ],
      "metadata": {
        "colab": {
          "base_uri": "https://localhost:8080/",
          "height": 131
        },
        "id": "y5K6fXNJxEjv",
        "outputId": "4d17c837-73c9-4d02-812e-437d6d4068b4"
      },
      "execution_count": null,
      "outputs": [
        {
          "output_type": "error",
          "ename": "SyntaxError",
          "evalue": "ignored",
          "traceback": [
            "\u001b[0;36m  File \u001b[0;32m\"<ipython-input-29-957001f6313b>\"\u001b[0;36m, line \u001b[0;32m3\u001b[0m\n\u001b[0;31m    if a = 4:\u001b[0m\n\u001b[0m         ^\u001b[0m\n\u001b[0;31mSyntaxError\u001b[0m\u001b[0;31m:\u001b[0m invalid syntax\n"
          ]
        }
      ]
    },
    {
      "cell_type": "code",
      "source": [
        "# 반복적으로 처리할 수 있는 컨테이너의 값을 하나씩 가지고 올 때 사용한다.\n",
        "# 반복문\n",
        "for v in [1,2,3,4,5] :\n",
        "  print(v)"
      ],
      "metadata": {
        "colab": {
          "base_uri": "https://localhost:8080/"
        },
        "id": "oXTyUPCzxYRJ",
        "outputId": "a6cca7ff-3860-4c18-fb9f-f9c9a126dd90"
      },
      "execution_count": null,
      "outputs": [
        {
          "output_type": "stream",
          "name": "stdout",
          "text": [
            "1\n",
            "2\n",
            "3\n",
            "4\n",
            "5\n"
          ]
        }
      ]
    },
    {
      "cell_type": "code",
      "source": [
        "a = 3;\n",
        "while a>0 :\n",
        "  print(a)\n",
        "  break;"
      ],
      "metadata": {
        "colab": {
          "base_uri": "https://localhost:8080/"
        },
        "id": "3CxJEpTaxx3y",
        "outputId": "919958f5-557b-4fd2-d8f6-4b6e218f5cc8"
      },
      "execution_count": null,
      "outputs": [
        {
          "output_type": "stream",
          "name": "stdout",
          "text": [
            "3\n"
          ]
        }
      ]
    },
    {
      "cell_type": "code",
      "source": [
        "t = [('one', 1),('two',2)]\n",
        "for k in t:\n",
        "  print(k, type(k))"
      ],
      "metadata": {
        "colab": {
          "base_uri": "https://localhost:8080/"
        },
        "id": "bOOdizawyI1s",
        "outputId": "285a7b8a-9d10-484d-831b-3cc3d83701c1"
      },
      "execution_count": null,
      "outputs": [
        {
          "output_type": "stream",
          "name": "stdout",
          "text": [
            "('one', 1) <class 'tuple'>\n",
            "('two', 2) <class 'tuple'>\n"
          ]
        }
      ]
    },
    {
      "cell_type": "code",
      "source": [
        "t = [('one', 1),('two',2)]\n",
        "for k, v in t:\n",
        "  print(k,v)\n",
        "  print(type(k), type(v))"
      ],
      "metadata": {
        "colab": {
          "base_uri": "https://localhost:8080/"
        },
        "id": "mJ8pc07VyXOb",
        "outputId": "91238f76-c5ee-42ed-b05c-79ac366ebe30"
      },
      "execution_count": null,
      "outputs": [
        {
          "output_type": "stream",
          "name": "stdout",
          "text": [
            "one 1\n",
            "<class 'str'> <class 'int'>\n",
            "two 2\n",
            "<class 'str'> <class 'int'>\n"
          ]
        }
      ]
    },
    {
      "cell_type": "code",
      "source": [
        "dic = {'a':1, 'b':2}\n",
        "for k in dic :\n",
        "  print(k, type(k)) # dict은 key만 가져온다."
      ],
      "metadata": {
        "colab": {
          "base_uri": "https://localhost:8080/"
        },
        "id": "Un1TEqgoyuGJ",
        "outputId": "a12f137c-f0d5-4ab4-c886-c31a05fe848d"
      },
      "execution_count": null,
      "outputs": [
        {
          "output_type": "stream",
          "name": "stdout",
          "text": [
            "a <class 'str'>\n",
            "b <class 'str'>\n"
          ]
        }
      ]
    },
    {
      "cell_type": "code",
      "source": [
        "dic = {'a':1, 'b':2}\n",
        "for k, v in dic :\n",
        "  print(k, type(k)) # dict은 key만 가져온다."
      ],
      "metadata": {
        "colab": {
          "base_uri": "https://localhost:8080/",
          "height": 201
        },
        "id": "y78qwuVjy8EZ",
        "outputId": "affb21d6-41a0-4578-e7a5-bd08b3ae9294"
      },
      "execution_count": null,
      "outputs": [
        {
          "output_type": "error",
          "ename": "ValueError",
          "evalue": "ignored",
          "traceback": [
            "\u001b[0;31m---------------------------------------------------------------------------\u001b[0m",
            "\u001b[0;31mValueError\u001b[0m                                Traceback (most recent call last)",
            "\u001b[0;32m<ipython-input-44-b12361abf250>\u001b[0m in \u001b[0;36m<module>\u001b[0;34m\u001b[0m\n\u001b[1;32m      1\u001b[0m \u001b[0mdic\u001b[0m \u001b[0;34m=\u001b[0m \u001b[0;34m{\u001b[0m\u001b[0;34m'a'\u001b[0m\u001b[0;34m:\u001b[0m\u001b[0;36m1\u001b[0m\u001b[0;34m,\u001b[0m \u001b[0;34m'b'\u001b[0m\u001b[0;34m:\u001b[0m\u001b[0;36m2\u001b[0m\u001b[0;34m}\u001b[0m\u001b[0;34m\u001b[0m\u001b[0;34m\u001b[0m\u001b[0m\n\u001b[0;32m----> 2\u001b[0;31m \u001b[0;32mfor\u001b[0m \u001b[0mk\u001b[0m\u001b[0;34m,\u001b[0m \u001b[0mv\u001b[0m \u001b[0;32min\u001b[0m \u001b[0mdic\u001b[0m \u001b[0;34m:\u001b[0m\u001b[0;34m\u001b[0m\u001b[0;34m\u001b[0m\u001b[0m\n\u001b[0m\u001b[1;32m      3\u001b[0m   \u001b[0mprint\u001b[0m\u001b[0;34m(\u001b[0m\u001b[0mk\u001b[0m\u001b[0;34m,\u001b[0m \u001b[0mtype\u001b[0m\u001b[0;34m(\u001b[0m\u001b[0mk\u001b[0m\u001b[0;34m)\u001b[0m\u001b[0;34m)\u001b[0m \u001b[0;31m# dict은 key만 가져온다.\u001b[0m\u001b[0;34m\u001b[0m\u001b[0;34m\u001b[0m\u001b[0m\n",
            "\u001b[0;31mValueError\u001b[0m: not enough values to unpack (expected 2, got 1)"
          ]
        }
      ]
    },
    {
      "cell_type": "code",
      "source": [
        "dic = {'a':1, 'b':2}\n",
        "for k in dic :\n",
        "  print(k, dic[k]) # dict은 key만 가져온다."
      ],
      "metadata": {
        "colab": {
          "base_uri": "https://localhost:8080/"
        },
        "id": "c2mmAc5VzI9L",
        "outputId": "298a2842-ff94-4d74-e49d-6768c8cc7185"
      },
      "execution_count": null,
      "outputs": [
        {
          "output_type": "stream",
          "name": "stdout",
          "text": [
            "a 1\n",
            "b 2\n"
          ]
        }
      ]
    },
    {
      "cell_type": "code",
      "source": [
        "type(dic)"
      ],
      "metadata": {
        "colab": {
          "base_uri": "https://localhost:8080/"
        },
        "id": "tl2f6NbszTTq",
        "outputId": "ccbbc347-7ddd-4cf3-97f2-508d588bdcfb"
      },
      "execution_count": null,
      "outputs": [
        {
          "output_type": "execute_result",
          "data": {
            "text/plain": [
              "dict"
            ]
          },
          "metadata": {},
          "execution_count": 46
        }
      ]
    },
    {
      "cell_type": "code",
      "source": [
        "dir(dic)"
      ],
      "metadata": {
        "colab": {
          "base_uri": "https://localhost:8080/"
        },
        "id": "ruKAL0FI32Nm",
        "outputId": "1f374c42-5793-451e-973c-5716fc97efcd"
      },
      "execution_count": null,
      "outputs": [
        {
          "output_type": "execute_result",
          "data": {
            "text/plain": [
              "['__class__',\n",
              " '__contains__',\n",
              " '__delattr__',\n",
              " '__delitem__',\n",
              " '__dir__',\n",
              " '__doc__',\n",
              " '__eq__',\n",
              " '__format__',\n",
              " '__ge__',\n",
              " '__getattribute__',\n",
              " '__getitem__',\n",
              " '__gt__',\n",
              " '__hash__',\n",
              " '__init__',\n",
              " '__init_subclass__',\n",
              " '__iter__',\n",
              " '__le__',\n",
              " '__len__',\n",
              " '__lt__',\n",
              " '__ne__',\n",
              " '__new__',\n",
              " '__reduce__',\n",
              " '__reduce_ex__',\n",
              " '__repr__',\n",
              " '__reversed__',\n",
              " '__setattr__',\n",
              " '__setitem__',\n",
              " '__sizeof__',\n",
              " '__str__',\n",
              " '__subclasshook__',\n",
              " 'clear',\n",
              " 'copy',\n",
              " 'fromkeys',\n",
              " 'get',\n",
              " 'items',\n",
              " 'keys',\n",
              " 'pop',\n",
              " 'popitem',\n",
              " 'setdefault',\n",
              " 'update',\n",
              " 'values']"
            ]
          },
          "metadata": {},
          "execution_count": 49
        }
      ]
    },
    {
      "cell_type": "code",
      "source": [
        "print(len(dir(dict)), len(dir(dic)))"
      ],
      "metadata": {
        "colab": {
          "base_uri": "https://localhost:8080/"
        },
        "id": "B6aejMrH4Kvg",
        "outputId": "aacacab8-5175-468b-9d6e-954fc5a1d33e"
      },
      "execution_count": null,
      "outputs": [
        {
          "output_type": "stream",
          "name": "stdout",
          "text": [
            "41 41\n"
          ]
        }
      ]
    },
    {
      "cell_type": "code",
      "source": [
        "dic.__doc__"
      ],
      "metadata": {
        "colab": {
          "base_uri": "https://localhost:8080/",
          "height": 52
        },
        "id": "ndUwPAOB4WhY",
        "outputId": "9771edd6-f48f-4032-a55d-5512d1f0dd6f"
      },
      "execution_count": null,
      "outputs": [
        {
          "output_type": "execute_result",
          "data": {
            "text/plain": [
              "\"dict() -> new empty dictionary\\ndict(mapping) -> new dictionary initialized from a mapping object's\\n    (key, value) pairs\\ndict(iterable) -> new dictionary initialized as if via:\\n    d = {}\\n    for k, v in iterable:\\n        d[k] = v\\ndict(**kwargs) -> new dictionary initialized with the name=value pairs\\n    in the keyword argument list.  For example:  dict(one=1, two=2)\""
            ],
            "application/vnd.google.colaboratory.intrinsic+json": {
              "type": "string"
            }
          },
          "metadata": {},
          "execution_count": 52
        }
      ]
    },
    {
      "cell_type": "markdown",
      "source": [
        "### 반복문\n",
        "반목문에서 else는 반복문이 완벽하게 끝났을 때 실행된다.\n",
        "대부분의 프로그래밍 언어는 while과 for을 지원한다."
      ],
      "metadata": {
        "id": "qtmYtYUj4qps"
      }
    },
    {
      "cell_type": "code",
      "source": [
        "# 아래는 while문이 완벽히 돌았음으로 end가 출력된다.\n",
        "\n",
        "a = 10\n",
        "\n",
        "while a>5: # 조건이 만족할때까지 실행한다.\n",
        "  a-=1\n",
        "  print(a)\n",
        "else: # 반복문이 다 끝나고 실행된다.\n",
        "  print('end')"
      ],
      "metadata": {
        "colab": {
          "base_uri": "https://localhost:8080/"
        },
        "id": "_zmjQoEv40VG",
        "outputId": "fdbd70e0-7c91-455a-8d8a-5c7378c9e862"
      },
      "execution_count": null,
      "outputs": [
        {
          "output_type": "stream",
          "name": "stdout",
          "text": [
            "9\n",
            "8\n",
            "7\n",
            "6\n",
            "5\n",
            "end\n"
          ]
        }
      ]
    },
    {
      "cell_type": "code",
      "source": [
        "\n",
        "# break는 반복문ㅇㄹ 중단시킨다.\n",
        "# break가 실행되면 반복문이 완벽하게 실행된 것이 아니므로 else가 실행되지 않는다.\n",
        "\n",
        "a = 10\n",
        "\n",
        "while a>5: # 조건이 만족할때까지 실행한다.\n",
        "  a-=1\n",
        "  if a==6:\n",
        "    break # 중단\n",
        "  print(a)\n",
        "else: # 반복문이 정상적으로 끝나지 않으면 출력이 되지 않는다.\n",
        "   print('end')"
      ],
      "metadata": {
        "colab": {
          "base_uri": "https://localhost:8080/"
        },
        "id": "1Ncl5XRN5Phn",
        "outputId": "b6d04bb7-f15b-47af-e633-506b0921bc08"
      },
      "execution_count": null,
      "outputs": [
        {
          "output_type": "stream",
          "name": "stdout",
          "text": [
            "9\n",
            "8\n",
            "7\n"
          ]
        }
      ]
    },
    {
      "cell_type": "code",
      "source": [
        "# continue는 다음 루프로 바로 넘어간다.\n",
        "# 반복문을 중단하지는 않으므로 else문이 실행된다.\n",
        "a = 10\n",
        "\n",
        "while a>5: \n",
        "  a-=1\n",
        "  if a==6:\n",
        "    continue # 이동\n",
        "  print(a)\n",
        "else: \n",
        "   print('end')"
      ],
      "metadata": {
        "colab": {
          "base_uri": "https://localhost:8080/"
        },
        "id": "reKP7q9V5784",
        "outputId": "fae62573-1690-429b-a12f-2d2bdae5ae43"
      },
      "execution_count": null,
      "outputs": [
        {
          "output_type": "stream",
          "name": "stdout",
          "text": [
            "9\n",
            "8\n",
            "7\n",
            "5\n",
            "end\n"
          ]
        }
      ]
    },
    {
      "cell_type": "markdown",
      "source": [
        "for 변수 in (list, dict, set) -> literable :\n",
        "  실행구문\n",
        "\n",
        "### for 문과 함께 사용되는 함수 3가지\n",
        "\n",
        "for 변수 in rage(시작 번호, 마직막 번호, 증감값);\n",
        "  실행구문\n",
        "\n",
        "for 변수 in enumerate(sequence, start):\n",
        "  실행구문\n",
        "\n",
        "for 변수 in zip(data1, data2...):\n",
        "  실행구문"
      ],
      "metadata": {
        "id": "7z-gbv3f5Eqv"
      }
    },
    {
      "cell_type": "code",
      "source": [
        "for i in range(1,6): # 1부터 6미만의 값이 출려된다.\n",
        "  print(i)"
      ],
      "metadata": {
        "colab": {
          "base_uri": "https://localhost:8080/"
        },
        "id": "jc3Y3ks47X9v",
        "outputId": "3a3b60dd-0552-4afc-91b7-0e8e63961150"
      },
      "execution_count": null,
      "outputs": [
        {
          "output_type": "stream",
          "name": "stdout",
          "text": [
            "1\n",
            "2\n",
            "3\n",
            "4\n",
            "5\n"
          ]
        }
      ]
    },
    {
      "cell_type": "markdown",
      "source": [
        "#### enumerate 함수\n",
        " - enumerate() 함수는 인덱스와 객체를 동시에 저정할 수 있는 특징을 가진 for문을 좀 더 효율적으로 사용하기 위한 함수이다.\n",
        " - enumerate()함수는 순서자료형(list, tuple, str)을 입력으로 받아 인덱스를 포함하는 enumerate 객체를 리턴한다.\n",
        " - enumerate([순서자료형], [시작값=0])의 형식을 가지며 순서자료형은 반복자가 가능한 객체가 입력도고 시작값은 입력시 해당수부터 증가하며, 생략했을 경우 기본값은 0이다."
      ],
      "metadata": {
        "id": "vvh67cXZ7nN9"
      }
    },
    {
      "cell_type": "code",
      "source": [
        "# index 값을 가지고 올 때 enumerate를 사용한다.\n",
        "for k in enumerate(['apple','python','microsoft']): # 튜플로 리턴이 된다.\n",
        "  print(k,type(k))"
      ],
      "metadata": {
        "colab": {
          "base_uri": "https://localhost:8080/"
        },
        "id": "LN_GqZ6A8zJe",
        "outputId": "9d6dcfec-c8f1-452b-808e-a5ef858cf67a"
      },
      "execution_count": null,
      "outputs": [
        {
          "output_type": "stream",
          "name": "stdout",
          "text": [
            "(0, 'apple') <class 'tuple'>\n",
            "(1, 'python') <class 'tuple'>\n",
            "(2, 'microsoft') <class 'tuple'>\n"
          ]
        }
      ]
    },
    {
      "cell_type": "code",
      "source": [
        "# index 값을 가지고 올 때 enumerate를 사용한다.\n",
        "for k, v in enumerate(['apple','python','microsoft']): \n",
        "  print(k,v)"
      ],
      "metadata": {
        "colab": {
          "base_uri": "https://localhost:8080/"
        },
        "id": "M7ZsbSPO7p40",
        "outputId": "cec18a85-f152-4898-f857-805f1d36296f"
      },
      "execution_count": null,
      "outputs": [
        {
          "output_type": "stream",
          "name": "stdout",
          "text": [
            "0 apple\n",
            "1 python\n",
            "2 microsoft\n"
          ]
        }
      ]
    },
    {
      "cell_type": "code",
      "source": [
        "# index 값을 가지고 올 때 enumerate를 사용한다.\n",
        "for k in enumerate(['apple','python','microsoft'],1): # 인덱스 시작 번호를 1로 설정한다.\n",
        "  print(k,type(k))"
      ],
      "metadata": {
        "colab": {
          "base_uri": "https://localhost:8080/"
        },
        "id": "QCDG3cSn9Dau",
        "outputId": "a3af81ca-8e16-46a2-c268-945b298e080d"
      },
      "execution_count": null,
      "outputs": [
        {
          "output_type": "stream",
          "name": "stdout",
          "text": [
            "(1, 'apple') <class 'tuple'>\n",
            "(2, 'python') <class 'tuple'>\n",
            "(3, 'microsoft') <class 'tuple'>\n"
          ]
        }
      ]
    },
    {
      "cell_type": "markdown",
      "source": [
        "### zip 함수\n",
        "- 매개인자로 여러 목록을 받아 각 목록의 요소를 튜플에 담아 목록에 저장한다."
      ],
      "metadata": {
        "id": "wasPDkmM9UoU"
      }
    },
    {
      "cell_type": "code",
      "source": [
        "# a와 b의 데이터 갯수가 같아서 출력이 가능하다.\n",
        "a = [1, 2, 3, 4, 5]\n",
        "b= ['a', 'b', 'c','d', 'e']\n",
        "\n",
        "for x in zip(a,b): # 튜플 값으로 출력된다.\n",
        "  print(x)"
      ],
      "metadata": {
        "colab": {
          "base_uri": "https://localhost:8080/"
        },
        "id": "4b8scfbl9c6z",
        "outputId": "ef29c7b5-c28e-4924-e3c6-cc9def3d558e"
      },
      "execution_count": null,
      "outputs": [
        {
          "output_type": "stream",
          "name": "stdout",
          "text": [
            "(1, 'a')\n",
            "(2, 'b')\n",
            "(3, 'c')\n",
            "(4, 'd')\n",
            "(5, 'e')\n"
          ]
        }
      ]
    },
    {
      "cell_type": "code",
      "source": [
        "# a 와 b의 갯수가 다른 경우, 값이 일치하는 가장 짧은 갯수 만큼 출력이 된다.\n",
        "# 그룹으로 설정할 데이터의 요소 길이가 다르면 가장 짧은 데이터 길이만큼 한 그룹을 설정한다.\n",
        "a = [1, 2, 3, 4, 5]\n",
        "b= ['a', 'b', 'c','d']\n",
        "\n",
        "for x in zip(a,b): # 튜플 값으로 출력된다.\n",
        "  print(x)"
      ],
      "metadata": {
        "colab": {
          "base_uri": "https://localhost:8080/"
        },
        "id": "nZB68czO92Un",
        "outputId": "6847d846-e532-4fef-bbe5-0608325bb5da"
      },
      "execution_count": null,
      "outputs": [
        {
          "output_type": "stream",
          "name": "stdout",
          "text": [
            "(1, 'a')\n",
            "(2, 'b')\n",
            "(3, 'c')\n",
            "(4, 'd')\n"
          ]
        }
      ]
    },
    {
      "cell_type": "markdown",
      "source": [
        "### Comprehension\n",
        "\n",
        "list set ditc => mutable  \n",
        "list : [], list()  \n",
        "set : set()  \n",
        "dict : {}, dict{}  \n",
        "\n",
        "comprehension 이란 iterable 한 오브젝트를 생성하기 위한 방법 중 하나이다.\n",
        " - List Comprehension(LC)\n",
        " - Set Comprehension(SC)\n",
        " - Dict Comprehension(DC)\n"
      ],
      "metadata": {
        "id": "M2RWuMt2_JqZ"
      }
    },
    {
      "cell_type": "markdown",
      "source": [
        "#### List Comprehension\n",
        "- 리스트 정의시 값을 정하지 않고 호출시 리스트 내의 값들이 처리되도록 구성\n",
        "- A = [표현식 for in sequence if 논리식]"
      ],
      "metadata": {
        "id": "Mih_6eH8_2an"
      }
    },
    {
      "cell_type": "code",
      "source": [
        "s = [] # 리스트 생성\n",
        "for x in range(10): # 0부터 10 미만의 데이터가 생성된다.\n",
        " s.append(x**2) # 거듭제곱\n",
        "\n",
        "print(s)"
      ],
      "metadata": {
        "colab": {
          "base_uri": "https://localhost:8080/"
        },
        "id": "cZ4neP5eAe17",
        "outputId": "09e635ba-5fa3-49f9-d3ed-ae7f9a461f39"
      },
      "execution_count": null,
      "outputs": [
        {
          "output_type": "stream",
          "name": "stdout",
          "text": [
            "[0, 1, 4, 9, 16, 25, 36, 49, 64, 81]\n"
          ]
        }
      ]
    },
    {
      "cell_type": "code",
      "source": [
        "s = [x**2 for x in range(10)]\n",
        "print(s)"
      ],
      "metadata": {
        "colab": {
          "base_uri": "https://localhost:8080/"
        },
        "id": "85_AZgDCBBVt",
        "outputId": "8d78bc2a-eda9-43bf-8f9b-72a74ca1119a"
      },
      "execution_count": null,
      "outputs": [
        {
          "output_type": "stream",
          "name": "stdout",
          "text": [
            "[0, 1, 4, 9, 16, 25, 36, 49, 64, 81]\n"
          ]
        }
      ]
    },
    {
      "cell_type": "code",
      "source": [
        "k=[]\n",
        "for i in range(1,3): # 1부터 2까지\n",
        "  for j in range(4,8): # 4부터 7까지\n",
        "    # print('{} {}'.format(i, j))\n",
        "    k.append((i,j))\n",
        "print(k)"
      ],
      "metadata": {
        "colab": {
          "base_uri": "https://localhost:8080/"
        },
        "id": "X2gQeiOMEhFf",
        "outputId": "beaeef97-7753-4162-e068-04e8db178fb5"
      },
      "execution_count": null,
      "outputs": [
        {
          "output_type": "stream",
          "name": "stdout",
          "text": [
            "[(1, 4), (1, 5), (1, 6), (1, 7), (2, 4), (2, 5), (2, 6), (2, 7)]\n"
          ]
        }
      ]
    },
    {
      "cell_type": "code",
      "source": [
        "k = []\n",
        "k = [(i,j) for i in range(1,3) for j in range(4,8)]\n",
        "k"
      ],
      "metadata": {
        "colab": {
          "base_uri": "https://localhost:8080/"
        },
        "id": "IG0Fi7ILFXY0",
        "outputId": "570f2587-ccc4-4622-ec21-ae87466f6fe8"
      },
      "execution_count": null,
      "outputs": [
        {
          "output_type": "execute_result",
          "data": {
            "text/plain": [
              "[(1, 4), (1, 5), (1, 6), (1, 7), (2, 4), (2, 5), (2, 6), (2, 7)]"
            ]
          },
          "metadata": {},
          "execution_count": 76
        }
      ]
    },
    {
      "cell_type": "code",
      "source": [
        "k=[]\n",
        "for i in range(1,3): # 1부터 2까지\n",
        "  for j in range(4,8): # 4부터 7까지\n",
        "    if(j % 2 == 0) : # j가 짝수일 때 처리\n",
        "      k.append((i,j))\n",
        "print(k)"
      ],
      "metadata": {
        "colab": {
          "base_uri": "https://localhost:8080/"
        },
        "id": "cDjX2ATrFwum",
        "outputId": "aff2ae63-4edd-4359-93ee-6b781ac8dea4"
      },
      "execution_count": null,
      "outputs": [
        {
          "output_type": "stream",
          "name": "stdout",
          "text": [
            "[(1, 4), (1, 6), (2, 4), (2, 6)]\n"
          ]
        }
      ]
    },
    {
      "cell_type": "code",
      "source": [
        "k = []\n",
        "k = [(i,j) for i in range(1,3) for j in range(4,8) if(j % 2 == 0) ]\n",
        "k"
      ],
      "metadata": {
        "colab": {
          "base_uri": "https://localhost:8080/"
        },
        "id": "x_al45Z2GDiC",
        "outputId": "208190b3-7b6e-4149-ec68-26bb47b9cbd5"
      },
      "execution_count": null,
      "outputs": [
        {
          "output_type": "execute_result",
          "data": {
            "text/plain": [
              "[(1, 4), (1, 6), (2, 4), (2, 6)]"
            ]
          },
          "metadata": {},
          "execution_count": 79
        }
      ]
    },
    {
      "cell_type": "code",
      "source": [
        "# 리스트 컴프리헨션에서 함수 내부 로직에서 외부변수를 참조할때 모든 순환이 된 결과를 참조\n",
        "h = [lambda x : x + n for n in range(5)] # n은 rage(5)를 받음\n",
        "print(h)\n",
        "print(len(h)) # 갯수를 처리\n",
        "\n",
        "for i in h :\n",
        "  print(i(0)) # x에 0을 받아서 처리"
      ],
      "metadata": {
        "colab": {
          "base_uri": "https://localhost:8080/"
        },
        "id": "pXX0wHenGfsD",
        "outputId": "9aff0f74-3554-4da6-c002-308a5bfb30ff"
      },
      "execution_count": null,
      "outputs": [
        {
          "output_type": "stream",
          "name": "stdout",
          "text": [
            "[<function <listcomp>.<lambda> at 0x7f229f3be310>, <function <listcomp>.<lambda> at 0x7f229f3be4c0>, <function <listcomp>.<lambda> at 0x7f229f3be700>, <function <listcomp>.<lambda> at 0x7f229f3be670>, <function <listcomp>.<lambda> at 0x7f229f3be3a0>]\n",
            "5\n",
            "4\n",
            "4\n",
            "4\n",
            "4\n",
            "4\n"
          ]
        }
      ]
    },
    {
      "cell_type": "code",
      "source": [
        "# 리스트 컴프리헨션에 있는 변수를 함수의 파라미터 초기값으로 세팅하면 웒나는 숫자대로 처리된다.\n",
        "h = [lambda x ,n=n : x + n for n in range(5)] \n",
        "print(h)\n",
        "print(len(h)) \n",
        "\n",
        "for i in h :\n",
        "  print(i(0)) "
      ],
      "metadata": {
        "colab": {
          "base_uri": "https://localhost:8080/"
        },
        "id": "PwUfS3r3Gn2q",
        "outputId": "2468ac7c-b707-407f-e0f1-e8a5ab813ebf"
      },
      "execution_count": null,
      "outputs": [
        {
          "output_type": "stream",
          "name": "stdout",
          "text": [
            "[<function <listcomp>.<lambda> at 0x7f229f42f3a0>, <function <listcomp>.<lambda> at 0x7f229f42fc10>, <function <listcomp>.<lambda> at 0x7f229f42f550>, <function <listcomp>.<lambda> at 0x7f229f42ff70>, <function <listcomp>.<lambda> at 0x7f229f44de50>]\n",
            "5\n",
            "0\n",
            "1\n",
            "2\n",
            "3\n",
            "4\n"
          ]
        }
      ]
    },
    {
      "cell_type": "markdown",
      "source": [
        "dict comprehension\n",
        "- 사전 정의시 값을 정하지 않고 호출 시 사전 내의 값들이 처리되도록 구성\n",
        "- A ={표현식 for (k,v) in sequence if 논리식}"
      ],
      "metadata": {
        "id": "mURn9wprIoFm"
      }
    },
    {
      "cell_type": "code",
      "source": [
        "d={}\n",
        "for (k,v) in zip(range(9), range(9)) :\n",
        "  d[k] = v  # k : v\n",
        "print(d)"
      ],
      "metadata": {
        "colab": {
          "base_uri": "https://localhost:8080/"
        },
        "id": "Dp6xklzYI1j2",
        "outputId": "7120279a-ab8b-470e-e56f-0aaba5c18163"
      },
      "execution_count": null,
      "outputs": [
        {
          "output_type": "stream",
          "name": "stdout",
          "text": [
            "{0: 0, 1: 1, 2: 2, 3: 3, 4: 4, 5: 5, 6: 6, 7: 7, 8: 8}\n"
          ]
        }
      ]
    },
    {
      "cell_type": "code",
      "source": [
        "da = {k : v for (k,v) in zip(range(9), range(9))}\n",
        "print(da)"
      ],
      "metadata": {
        "colab": {
          "base_uri": "https://localhost:8080/"
        },
        "id": "Fj-_8eB9JEVS",
        "outputId": "64f569d5-45cd-4453-feb3-becf56d8054d"
      },
      "execution_count": null,
      "outputs": [
        {
          "output_type": "stream",
          "name": "stdout",
          "text": [
            "{0: 0, 1: 1, 2: 2, 3: 3, 4: 4, 5: 5, 6: 6, 7: 7, 8: 8}\n"
          ]
        }
      ]
    },
    {
      "cell_type": "code",
      "source": [
        "a={'x':1, 'y':2, 'z':3}\n",
        "b={'w':10, 'x':11,'y':2}\n",
        "print(a.keys(), b.keys())\n",
        "print(type(a.keys())) # dict_keys\n",
        "\n",
        "c={key:a[key] for key in a.keys() - b.keys()}\n",
        "print(c)"
      ],
      "metadata": {
        "colab": {
          "base_uri": "https://localhost:8080/"
        },
        "id": "sVmC0OnyKEFA",
        "outputId": "36f62197-e3da-451f-b2f3-4ac6f73751d5"
      },
      "execution_count": null,
      "outputs": [
        {
          "output_type": "stream",
          "name": "stdout",
          "text": [
            "dict_keys(['x', 'y', 'z']) dict_keys(['w', 'x', 'y'])\n",
            "<class 'dict_keys'>\n",
            "{'z': 3}\n"
          ]
        }
      ]
    },
    {
      "cell_type": "code",
      "source": [
        "k = {i:j for i in range(1,3) for j in range(4,8)} # i:j 는 타입이 딕션어리로 나오고\n",
        "# k = {(i,j) for i in range(1,3) for j in range(4,8)} # (i,j) 는 타입이 setㅇ로 나온다.\n",
        "print(k)\n",
        "print(type(k))"
      ],
      "metadata": {
        "colab": {
          "base_uri": "https://localhost:8080/"
        },
        "id": "_YNuzEzkMGyd",
        "outputId": "27ebcddb-f1fd-40fa-eb05-757f9481bf61"
      },
      "execution_count": null,
      "outputs": [
        {
          "output_type": "stream",
          "name": "stdout",
          "text": [
            "{(2, 4), (2, 7), (1, 5), (1, 4), (1, 7), (2, 6), (1, 6), (2, 5)}\n",
            "<class 'set'>\n"
          ]
        }
      ]
    },
    {
      "cell_type": "markdown",
      "source": [
        "Set Comprehension\n",
        "- Set 정의시 값을 정하지 않고 호출 시 Set 내의 값들이 처리되도로 구성\n",
        "- A ={표현식 for in sequence if 논리식}"
      ],
      "metadata": {
        "id": "xB9PDzGwMgh9"
      }
    },
    {
      "cell_type": "code",
      "source": [
        "k = {(i,j) for i in range(1,3) for j in range(4,8)} # (i,j) 는 타입이 setㅇ로 나온다.\n",
        "print(k)\n",
        "print(type(k))"
      ],
      "metadata": {
        "colab": {
          "base_uri": "https://localhost:8080/"
        },
        "id": "Iru3f0KAMt8c",
        "outputId": "48ed0306-5a7f-4fc3-d8a3-778717ba4f25"
      },
      "execution_count": null,
      "outputs": [
        {
          "output_type": "stream",
          "name": "stdout",
          "text": [
            "{(2, 4), (2, 7), (1, 5), (1, 4), (1, 7), (2, 6), (1, 6), (2, 5)}\n",
            "<class 'set'>\n"
          ]
        }
      ]
    },
    {
      "cell_type": "code",
      "source": [
        "s = set()\n",
        "for i in range(10):\n",
        "  s.add(i)\n",
        "print(s)\n",
        "print(type(s))"
      ],
      "metadata": {
        "colab": {
          "base_uri": "https://localhost:8080/"
        },
        "id": "UNyiV-tjMzG5",
        "outputId": "e135b8ea-d16e-42ea-f20b-a6418e781bdc"
      },
      "execution_count": null,
      "outputs": [
        {
          "output_type": "stream",
          "name": "stdout",
          "text": [
            "{0, 1, 2, 3, 4, 5, 6, 7, 8, 9}\n",
            "<class 'set'>\n"
          ]
        }
      ]
    },
    {
      "cell_type": "code",
      "source": [
        "s={i for i in range(10)} # i부부에 클론만 안 넣으면 set이다. : 을 넣어주면 dict 타입으로 선언됨\n",
        "print(s)\n",
        "print(type(s))"
      ],
      "metadata": {
        "colab": {
          "base_uri": "https://localhost:8080/"
        },
        "id": "Qx8a-vE2M8c8",
        "outputId": "dc76f7cf-1093-4c4a-d876-e11f12172405"
      },
      "execution_count": null,
      "outputs": [
        {
          "output_type": "stream",
          "name": "stdout",
          "text": [
            "{0, 1, 2, 3, 4, 5, 6, 7, 8, 9}\n",
            "<class 'set'>\n"
          ]
        }
      ]
    },
    {
      "cell_type": "markdown",
      "source": [
        "python\n",
        "``` python\n",
        "def(매개변수) :  \n",
        "  수행할 문장\n",
        "```\n"
      ],
      "metadata": {
        "id": "urDXr1cSNWKc"
      }
    },
    {
      "cell_type": "code",
      "source": [
        "# 함수를 정의할 때 수행할 문장을 구현하지 않ㅇ면 에러가 발생한다.\n",
        "def proc():\n",
        "  pass # pass는 구현을 안할 때 사용한다."
      ],
      "metadata": {
        "id": "Jx4iYFMGZmbi"
      },
      "execution_count": null,
      "outputs": []
    },
    {
      "cell_type": "code",
      "source": [
        "proc()"
      ],
      "metadata": {
        "id": "ojukropraHos"
      },
      "execution_count": null,
      "outputs": []
    },
    {
      "cell_type": "code",
      "source": [
        "print(display()) # None 출력"
      ],
      "metadata": {
        "colab": {
          "base_uri": "https://localhost:8080/"
        },
        "id": "oJlyR4jmaKJt",
        "outputId": "e99bb9ba-7791-4c41-f8ab-d83a7c4293ed"
      },
      "execution_count": null,
      "outputs": [
        {
          "output_type": "stream",
          "name": "stdout",
          "text": [
            "None\n"
          ]
        }
      ]
    },
    {
      "cell_type": "code",
      "source": [
        "a = display()\n",
        "print(a)"
      ],
      "metadata": {
        "colab": {
          "base_uri": "https://localhost:8080/"
        },
        "id": "1BcpLXB1aWvW",
        "outputId": "3d182f9f-9290-481d-f0e0-c05651ad695b"
      },
      "execution_count": null,
      "outputs": [
        {
          "output_type": "stream",
          "name": "stdout",
          "text": [
            "None\n"
          ]
        }
      ]
    },
    {
      "cell_type": "code",
      "source": [
        "k = 5\n",
        "k"
      ],
      "metadata": {
        "colab": {
          "base_uri": "https://localhost:8080/"
        },
        "id": "xFLKJ-JCaZsz",
        "outputId": "9c318b02-e472-44ab-fecf-2e02ab506d03"
      },
      "execution_count": null,
      "outputs": [
        {
          "output_type": "execute_result",
          "data": {
            "text/plain": [
              "5"
            ]
          },
          "metadata": {},
          "execution_count": 133
        }
      ]
    },
    {
      "cell_type": "markdown",
      "source": [
        "### callable\n",
        "- 이름 뒤에 괄호()를 붙이는 것을 call(호출)이라고 한다.\n",
        "- 이름 뒤에 괄호()를 붙일 수 있는 것을 callable이라고 한다.\n",
        "- 함수는 사용할 때 이름 뒤에 괄호를 붙인다.\n",
        "- python에서 callable인 것은 3가지 유형이 있다.  \n",
        "  (1) function  \n",
        "  (2) class(init가 정의 되었을 경우)  \n",
        "  (3) object(call이 정의 되었을 경우)  "
      ],
      "metadata": {
        "id": "kT0YVYOUaz7B"
      }
    },
    {
      "cell_type": "code",
      "source": [
        "# TypeError: 'int' object is not callable\n",
        "k() # 에러. int 객체는 callable,,()로 붙여서 사용하는 것,, 이 아니다."
      ],
      "metadata": {
        "colab": {
          "base_uri": "https://localhost:8080/",
          "height": 166
        },
        "id": "fcbvM7d_acYT",
        "outputId": "7ad1b5d4-0416-486a-cacb-c037c1410fcd"
      },
      "execution_count": null,
      "outputs": [
        {
          "output_type": "error",
          "ename": "TypeError",
          "evalue": "ignored",
          "traceback": [
            "\u001b[0;31m---------------------------------------------------------------------------\u001b[0m",
            "\u001b[0;31mTypeError\u001b[0m                                 Traceback (most recent call last)",
            "\u001b[0;32m<ipython-input-134-6300244b5355>\u001b[0m in \u001b[0;36m<module>\u001b[0;34m\u001b[0m\n\u001b[0;32m----> 1\u001b[0;31m \u001b[0mk\u001b[0m\u001b[0;34m(\u001b[0m\u001b[0;34m)\u001b[0m\u001b[0;34m\u001b[0m\u001b[0;34m\u001b[0m\u001b[0m\n\u001b[0m",
            "\u001b[0;31mTypeError\u001b[0m: 'int' object is not callable"
          ]
        }
      ]
    },
    {
      "cell_type": "code",
      "source": [
        "list()"
      ],
      "metadata": {
        "colab": {
          "base_uri": "https://localhost:8080/"
        },
        "id": "7BBbiNzhbyfJ",
        "outputId": "a29d5b46-0204-41d7-ea56-6324f04ef312"
      },
      "execution_count": null,
      "outputs": [
        {
          "output_type": "execute_result",
          "data": {
            "text/plain": [
              "[]"
            ]
          },
          "metadata": {},
          "execution_count": 136
        }
      ]
    },
    {
      "cell_type": "code",
      "source": [
        "# 내장 객체나 내장 함수에 새로운 객체를 할당 할 수 있다 => 원래의 기능을 잃어버린다.\n",
        "# python에서는 기본객체 또는 함수에 값을 할당 할 수 있다.\n",
        "# 하지만 원래 기능은 잃어버린다.\n",
        "list=3 \n",
        "list"
      ],
      "metadata": {
        "colab": {
          "base_uri": "https://localhost:8080/"
        },
        "id": "g9vLXpH_b0hL",
        "outputId": "bfb15df6-1794-4331-edba-94d35c069f2f"
      },
      "execution_count": null,
      "outputs": [
        {
          "output_type": "execute_result",
          "data": {
            "text/plain": [
              "3"
            ]
          },
          "metadata": {},
          "execution_count": 144
        }
      ]
    },
    {
      "cell_type": "code",
      "source": [
        "list() # 원래의 기능을 잃어버려서 에러가 발생한다."
      ],
      "metadata": {
        "colab": {
          "base_uri": "https://localhost:8080/",
          "height": 166
        },
        "id": "SuQC6uV4cG7o",
        "outputId": "55d82df9-4c9d-48ac-c605-8842d8e10bc2"
      },
      "execution_count": null,
      "outputs": [
        {
          "output_type": "error",
          "ename": "TypeError",
          "evalue": "ignored",
          "traceback": [
            "\u001b[0;31m---------------------------------------------------------------------------\u001b[0m",
            "\u001b[0;31mTypeError\u001b[0m                                 Traceback (most recent call last)",
            "\u001b[0;32m<ipython-input-140-85de1b12d3ab>\u001b[0m in \u001b[0;36m<module>\u001b[0;34m\u001b[0m\n\u001b[0;32m----> 1\u001b[0;31m \u001b[0mlist\u001b[0m\u001b[0;34m(\u001b[0m\u001b[0;34m)\u001b[0m \u001b[0;31m# 원래의 기능을 잃어버려서 에러가 발생한다.\u001b[0m\u001b[0;34m\u001b[0m\u001b[0;34m\u001b[0m\u001b[0m\n\u001b[0m",
            "\u001b[0;31mTypeError\u001b[0m: 'int' object is not callable"
          ]
        }
      ]
    },
    {
      "cell_type": "code",
      "source": [
        "# 원래의 기능으로 원상복귀하기 위해서 edel로 삭제를 시켜준다.\n",
        "del list\n",
        "list() "
      ],
      "metadata": {
        "colab": {
          "base_uri": "https://localhost:8080/"
        },
        "id": "x4IK_r4UcKYk",
        "outputId": "d9193909-e3c3-44a2-965d-61e33be27463"
      },
      "execution_count": null,
      "outputs": [
        {
          "output_type": "execute_result",
          "data": {
            "text/plain": [
              "[]"
            ]
          },
          "metadata": {},
          "execution_count": 145
        }
      ]
    },
    {
      "cell_type": "code",
      "source": [
        "# 원상 복귀가 안되는 경우도 있다.\n",
        "import keyword\n",
        "print(keyword.kwlist)"
      ],
      "metadata": {
        "colab": {
          "base_uri": "https://localhost:8080/"
        },
        "id": "l9gvDiOXcTtC",
        "outputId": "977356b7-fe25-46bd-cd1b-62f3343c0125"
      },
      "execution_count": null,
      "outputs": [
        {
          "output_type": "stream",
          "name": "stdout",
          "text": [
            "['False', 'None', 'True', 'and', 'as', 'assert', 'async', 'await', 'break', 'class', 'continue', 'def', 'del', 'elif', 'else', 'except', 'finally', 'for', 'from', 'global', 'if', 'import', 'in', 'is', 'lambda', 'nonlocal', 'not', 'or', 'pass', 'raise', 'return', 'try', 'while', 'with', 'yield']\n"
          ]
        }
      ]
    },
    {
      "cell_type": "code",
      "source": [
        "# keyword는 새로운 용도로 사용할 수 없다.\n",
        "try = 3"
      ],
      "metadata": {
        "colab": {
          "base_uri": "https://localhost:8080/",
          "height": 131
        },
        "id": "blRIKDRLcqc_",
        "outputId": "a8aa7358-0baf-40fa-84b0-90c0024729e8"
      },
      "execution_count": null,
      "outputs": [
        {
          "output_type": "error",
          "ename": "SyntaxError",
          "evalue": "ignored",
          "traceback": [
            "\u001b[0;36m  File \u001b[0;32m\"<ipython-input-150-3159971bf160>\"\u001b[0;36m, line \u001b[0;32m2\u001b[0m\n\u001b[0;31m    try = 3\u001b[0m\n\u001b[0m        ^\u001b[0m\n\u001b[0;31mSyntaxError\u001b[0m\u001b[0;31m:\u001b[0m invalid syntax\n"
          ]
        }
      ]
    },
    {
      "cell_type": "markdown",
      "source": [
        "### function"
      ],
      "metadata": {
        "id": "5_2d4LL3c3xu"
      }
    },
    {
      "cell_type": "code",
      "source": [
        "# 함수 정의\n",
        "def prn():\n",
        "  return 1"
      ],
      "metadata": {
        "id": "BPnGFXMxc0ND"
      },
      "execution_count": null,
      "outputs": []
    },
    {
      "cell_type": "code",
      "source": [
        "# 함수 실행\n",
        "prn()"
      ],
      "metadata": {
        "colab": {
          "base_uri": "https://localhost:8080/"
        },
        "id": "FS_BHMmhc9Fa",
        "outputId": "1810320c-06dc-4da2-8e78-b3d328c419be"
      },
      "execution_count": null,
      "outputs": [
        {
          "output_type": "execute_result",
          "data": {
            "text/plain": [
              "1"
            ]
          },
          "metadata": {},
          "execution_count": 152
        }
      ]
    },
    {
      "cell_type": "code",
      "source": [
        "# 괄호를 붙이지 않으면 함수식이다.\n",
        "prn"
      ],
      "metadata": {
        "colab": {
          "base_uri": "https://localhost:8080/"
        },
        "id": "2F9IwrGxc922",
        "outputId": "855a8864-f9c7-463e-de6c-e962f2c3f89f"
      },
      "execution_count": null,
      "outputs": [
        {
          "output_type": "execute_result",
          "data": {
            "text/plain": [
              "<function __main__.prn()>"
            ]
          },
          "metadata": {},
          "execution_count": 154
        }
      ]
    },
    {
      "cell_type": "code",
      "source": [
        "# 내장함수 callable()은 객체가()을 붙여 사용할 수 있는지를 True/False로 알려준다.\n",
        "callable(prn)"
      ],
      "metadata": {
        "colab": {
          "base_uri": "https://localhost:8080/"
        },
        "id": "3dKdSPezdPDp",
        "outputId": "04b4a144-512a-4486-9cc3-32c814064ae1"
      },
      "execution_count": null,
      "outputs": [
        {
          "output_type": "execute_result",
          "data": {
            "text/plain": [
              "True"
            ]
          },
          "metadata": {},
          "execution_count": 156
        }
      ]
    },
    {
      "cell_type": "code",
      "source": [
        "a = 3\n",
        "callable(a)"
      ],
      "metadata": {
        "colab": {
          "base_uri": "https://localhost:8080/"
        },
        "id": "vFjp2XhldRQz",
        "outputId": "b0ec31b7-d36d-4cc5-e112-85c10b73c0fd"
      },
      "execution_count": null,
      "outputs": [
        {
          "output_type": "execute_result",
          "data": {
            "text/plain": [
              "False"
            ]
          },
          "metadata": {},
          "execution_count": 157
        }
      ]
    },
    {
      "cell_type": "markdown",
      "source": [
        "### 매개변수(parameter) 인자(argument)\n",
        "1. positional\n",
        "2. keyword\n",
        "3. positional & Keyword\n",
        "4. positional only\n",
        "5. keyword only\n",
        "6. 가변 positional\n",
        "7. 가변 keyword"
      ],
      "metadata": {
        "id": "IA3kE_avdwNP"
      }
    },
    {
      "cell_type": "markdown",
      "source": [
        "#### 1. positional\n",
        "함수 호출 : 선언할 때 파라미터의 순서와 호출할때 인자의 입력순서를 그대로 매칭한다."
      ],
      "metadata": {
        "id": "Uon5j1KNeGRy"
      }
    },
    {
      "cell_type": "code",
      "source": [
        "def proc(a, b):\n",
        "  return a,b"
      ],
      "metadata": {
        "id": "pDBAseO4eQis"
      },
      "execution_count": null,
      "outputs": []
    },
    {
      "cell_type": "code",
      "source": [
        "proc(2, 4)"
      ],
      "metadata": {
        "colab": {
          "base_uri": "https://localhost:8080/"
        },
        "id": "CPBrVdNyeVeb",
        "outputId": "a15c0d3d-911a-4202-dcff-f12dea370708"
      },
      "execution_count": null,
      "outputs": [
        {
          "output_type": "execute_result",
          "data": {
            "text/plain": [
              "(2, 4)"
            ]
          },
          "metadata": {},
          "execution_count": 159
        }
      ]
    },
    {
      "cell_type": "markdown",
      "source": [
        "### 2. keyword\n",
        "keyword방식을 이용하면 순서와 관계없이 파라미터 이름에 따라 값이 대입된다.  "
      ],
      "metadata": {
        "id": "FKTNIZXqeW20"
      }
    },
    {
      "cell_type": "code",
      "source": [
        "proc(b=4, a=2)"
      ],
      "metadata": {
        "colab": {
          "base_uri": "https://localhost:8080/"
        },
        "id": "4DEht_4deiAa",
        "outputId": "6659cd74-3d04-4efc-e6eb-4995bc9d2298"
      },
      "execution_count": null,
      "outputs": [
        {
          "output_type": "execute_result",
          "data": {
            "text/plain": [
              "(2, 4)"
            ]
          },
          "metadata": {},
          "execution_count": 160
        }
      ]
    },
    {
      "cell_type": "markdown",
      "source": [
        "### 3 keyword & positional 혼"
      ],
      "metadata": {
        "id": "daQSeq_eeuX0"
      }
    },
    {
      "cell_type": "code",
      "source": [
        "def proc(a, b, c):\n",
        "  return a, b, c"
      ],
      "metadata": {
        "id": "T7jx7is_e4jJ"
      },
      "execution_count": null,
      "outputs": []
    },
    {
      "cell_type": "code",
      "source": [
        "proc(2, c=5, b=3)"
      ],
      "metadata": {
        "colab": {
          "base_uri": "https://localhost:8080/"
        },
        "id": "nyv8Z3LUe80N",
        "outputId": "a0eceb3d-3dad-4318-8103-d613474728d5"
      },
      "execution_count": null,
      "outputs": [
        {
          "output_type": "execute_result",
          "data": {
            "text/plain": [
              "(2, 3, 5)"
            ]
          },
          "metadata": {},
          "execution_count": 163
        }
      ]
    },
    {
      "cell_type": "code",
      "source": [
        "# 에러 발생, 한번 키워드를 사용하면 뒤에 있는 값들도 전부 키워드로 사용해야한다.\n",
        "# 한번 keyword 방식을 사용하면, 그 다음부터는 keyword 방법마 사용할 수 있다.\n",
        "proc(b=4, a=2, 5)"
      ],
      "metadata": {
        "colab": {
          "base_uri": "https://localhost:8080/",
          "height": 131
        },
        "id": "mi1Eo9NIfBvj",
        "outputId": "af2c9407-c114-48ce-e4df-508cd9005e43"
      },
      "execution_count": null,
      "outputs": [
        {
          "output_type": "error",
          "ename": "SyntaxError",
          "evalue": "ignored",
          "traceback": [
            "\u001b[0;36m  File \u001b[0;32m\"<ipython-input-164-90d9b466aa62>\"\u001b[0;36m, line \u001b[0;32m1\u001b[0m\n\u001b[0;31m    proc(b=4, a=2, 5)\u001b[0m\n\u001b[0m                   ^\u001b[0m\n\u001b[0;31mSyntaxError\u001b[0m\u001b[0;31m:\u001b[0m positional argument follows keyword argument\n"
          ]
        }
      ]
    },
    {
      "cell_type": "code",
      "source": [
        "#python 버전 확인\n",
        "import sys\n",
        "sys.version"
      ],
      "metadata": {
        "id": "nOGKyR3efhbT",
        "colab": {
          "base_uri": "https://localhost:8080/",
          "height": 35
        },
        "outputId": "22e09318-8a43-480a-a159-05d2482c5839"
      },
      "execution_count": null,
      "outputs": [
        {
          "output_type": "execute_result",
          "data": {
            "text/plain": [
              "'3.8.10 (default, Nov 14 2022, 12:59:47) \\n[GCC 9.4.0]'"
            ],
            "application/vnd.google.colaboratory.intrinsic+json": {
              "type": "string"
            }
          },
          "metadata": {},
          "execution_count": 165
        }
      ]
    },
    {
      "cell_type": "markdown",
      "source": [
        "#### 4. positional only\n",
        "- positional only는 함수를 사용할 때 positional 방식으로만 인자를 쓸 수 있도록 강제하는 방법이다.\n",
        "- /의 앞에 오는 인자들은 positional 방식으로 입력할 수 있지만, keyword 방식으로 입력할 수 없다.\n",
        "- positional only 함수를 선언하는 것은 python3.8부터 지원한다. 이전 버전에서는 사전 정의된 positional only 함수는 있지만, 사용자가 만들수는 없다."
      ],
      "metadata": {
        "id": "FAj8px2FfnMu"
      }
    },
    {
      "cell_type": "code",
      "source": [
        "def proc(a, b, c, /): # def proc(a, b, c, /): -> 전체 포지션만 사용 가능하다, def proc(a,/, b, c, /): -> bc 안의 값은 아무거나 사용 가능한거가??\n",
        "  return a, b, c"
      ],
      "metadata": {
        "id": "TIGMm2S7gWSd"
      },
      "execution_count": null,
      "outputs": []
    },
    {
      "cell_type": "code",
      "source": [
        "proc(4,5,6)"
      ],
      "metadata": {
        "colab": {
          "base_uri": "https://localhost:8080/"
        },
        "id": "2B1hkGqkgh25",
        "outputId": "3dd345a7-746e-46f7-b4d4-b07b0723c487"
      },
      "execution_count": null,
      "outputs": [
        {
          "output_type": "execute_result",
          "data": {
            "text/plain": [
              "(4, 5, 6)"
            ]
          },
          "metadata": {},
          "execution_count": 168
        }
      ]
    },
    {
      "cell_type": "code",
      "source": [
        "# 오류 발생, 왜? proc는 positional-only arguments passed as keyword만 가질 수 있다.\n",
        "proc(4, c=6, b =5)"
      ],
      "metadata": {
        "colab": {
          "base_uri": "https://localhost:8080/",
          "height": 166
        },
        "id": "Ef30leeiglaW",
        "outputId": "e8e5d706-ca0c-417f-db55-0e8ebba49ddf"
      },
      "execution_count": null,
      "outputs": [
        {
          "output_type": "error",
          "ename": "TypeError",
          "evalue": "ignored",
          "traceback": [
            "\u001b[0;31m---------------------------------------------------------------------------\u001b[0m",
            "\u001b[0;31mTypeError\u001b[0m                                 Traceback (most recent call last)",
            "\u001b[0;32m<ipython-input-169-2b9b23bbddc7>\u001b[0m in \u001b[0;36m<module>\u001b[0;34m\u001b[0m\n\u001b[0;32m----> 1\u001b[0;31m \u001b[0mproc\u001b[0m\u001b[0;34m(\u001b[0m\u001b[0;36m4\u001b[0m\u001b[0;34m,\u001b[0m \u001b[0mc\u001b[0m\u001b[0;34m=\u001b[0m\u001b[0;36m6\u001b[0m\u001b[0;34m,\u001b[0m \u001b[0mb\u001b[0m \u001b[0;34m=\u001b[0m\u001b[0;36m5\u001b[0m\u001b[0;34m)\u001b[0m\u001b[0;34m\u001b[0m\u001b[0;34m\u001b[0m\u001b[0m\n\u001b[0m",
            "\u001b[0;31mTypeError\u001b[0m: proc() got some positional-only arguments passed as keyword arguments: 'b, c'"
          ]
        }
      ]
    },
    {
      "cell_type": "markdown",
      "source": [
        "#### 5 keyword only\n",
        "- keyword only 방식은 인자를 keyword 방식으로만 입력되도록 강제하는 방법이다.\n",
        "- '*' 이후로는 키워드 방식만 가능하"
      ],
      "metadata": {
        "id": "cwr3N-JthD6y"
      }
    },
    {
      "cell_type": "code",
      "source": [
        "def proc(*, a,b,c):\n",
        "  return a,b,c"
      ],
      "metadata": {
        "id": "bqDknZpzhQKD"
      },
      "execution_count": null,
      "outputs": []
    },
    {
      "cell_type": "code",
      "source": [
        "proc(a=3, c=5, b=4)"
      ],
      "metadata": {
        "colab": {
          "base_uri": "https://localhost:8080/"
        },
        "id": "s770jR-whUUg",
        "outputId": "4bf2ceca-3beb-4f83-9932-b9c23ddc897f"
      },
      "execution_count": null,
      "outputs": [
        {
          "output_type": "execute_result",
          "data": {
            "text/plain": [
              "(3, 4, 5)"
            ]
          },
          "metadata": {},
          "execution_count": 171
        }
      ]
    },
    {
      "cell_type": "code",
      "source": [
        "# 오류 발생 , proc() takes 0 positional arguments but 3 were given\n",
        "proc(3,4,5)"
      ],
      "metadata": {
        "colab": {
          "base_uri": "https://localhost:8080/",
          "height": 183
        },
        "id": "Bs_AO5FQhXgc",
        "outputId": "bd16d4ca-7667-44b5-f5af-63f37fb9282c"
      },
      "execution_count": null,
      "outputs": [
        {
          "output_type": "error",
          "ename": "TypeError",
          "evalue": "ignored",
          "traceback": [
            "\u001b[0;31m---------------------------------------------------------------------------\u001b[0m",
            "\u001b[0;31mTypeError\u001b[0m                                 Traceback (most recent call last)",
            "\u001b[0;32m<ipython-input-173-9b6ba54d527f>\u001b[0m in \u001b[0;36m<module>\u001b[0;34m\u001b[0m\n\u001b[1;32m      1\u001b[0m \u001b[0;31m# 오류 발생 , proc() takes 0 positional arguments but 3 were given\u001b[0m\u001b[0;34m\u001b[0m\u001b[0;34m\u001b[0m\u001b[0;34m\u001b[0m\u001b[0m\n\u001b[0;32m----> 2\u001b[0;31m \u001b[0mproc\u001b[0m\u001b[0;34m(\u001b[0m\u001b[0;36m3\u001b[0m\u001b[0;34m,\u001b[0m\u001b[0;36m4\u001b[0m\u001b[0;34m,\u001b[0m\u001b[0;36m5\u001b[0m\u001b[0;34m)\u001b[0m\u001b[0;34m\u001b[0m\u001b[0;34m\u001b[0m\u001b[0m\n\u001b[0m",
            "\u001b[0;31mTypeError\u001b[0m: proc() takes 0 positional arguments but 3 were given"
          ]
        }
      ]
    },
    {
      "cell_type": "markdown",
      "source": [
        "#### 6. 가변 positional\n",
        "- 가변 positional은 파라미터 이름에 '*'를 붙인다.\n",
        "- positional 방식으로 입력되는 인자는 인자의 개수에 상관없이 모두 받아온다."
      ],
      "metadata": {
        "id": "oeejwC_whiCZ"
      }
    },
    {
      "cell_type": "code",
      "source": [
        "def proc(*a): # argument 갯수와 상관없이 함수를 사용해야할 때, *를 사용한다.\n",
        "  return a"
      ],
      "metadata": {
        "id": "m9-vPhJyhz-_"
      },
      "execution_count": null,
      "outputs": []
    },
    {
      "cell_type": "code",
      "source": [
        "proc() "
      ],
      "metadata": {
        "colab": {
          "base_uri": "https://localhost:8080/"
        },
        "id": "gtBhSmx_h7Oa",
        "outputId": "3d44366a-3fdb-4159-b59f-f86c3086fbd0"
      },
      "execution_count": null,
      "outputs": [
        {
          "output_type": "execute_result",
          "data": {
            "text/plain": [
              "()"
            ]
          },
          "metadata": {},
          "execution_count": 175
        }
      ]
    },
    {
      "cell_type": "code",
      "source": [
        "proc(1)"
      ],
      "metadata": {
        "colab": {
          "base_uri": "https://localhost:8080/"
        },
        "id": "O4htIVp6h8SE",
        "outputId": "72e24f44-48f7-4ea1-f81c-acce747f2e1a"
      },
      "execution_count": null,
      "outputs": [
        {
          "output_type": "execute_result",
          "data": {
            "text/plain": [
              "(1,)"
            ]
          },
          "metadata": {},
          "execution_count": 176
        }
      ]
    },
    {
      "cell_type": "code",
      "source": [
        "proc(1,2)"
      ],
      "metadata": {
        "colab": {
          "base_uri": "https://localhost:8080/"
        },
        "id": "9b-n5vK5h9XC",
        "outputId": "ab71d320-cac6-494a-db04-97ae78307fb2"
      },
      "execution_count": null,
      "outputs": [
        {
          "output_type": "execute_result",
          "data": {
            "text/plain": [
              "(1, 2)"
            ]
          },
          "metadata": {},
          "execution_count": 177
        }
      ]
    },
    {
      "cell_type": "markdown",
      "source": [
        "#### 7. 가변 keyword\n",
        "- 가변 keyword는 파라미터 이름에 '**'를 붙인다.\n",
        "- keyword방식으로 입력되는 인자의 개수에 상관없이 모두 받아온다."
      ],
      "metadata": {
        "id": "RqZOxIHqiD4W"
      }
    },
    {
      "cell_type": "code",
      "source": [
        "# 이름을 이용해서 값을 넘겨주기 때문에, 값을 넘겨주는게 dict의 타입으로 사용이 됨.\n",
        "def proc(**a):\n",
        "  print(type(a))\n",
        "  return a"
      ],
      "metadata": {
        "id": "8GmaIW8LiaK_"
      },
      "execution_count": null,
      "outputs": []
    },
    {
      "cell_type": "code",
      "source": [
        "# argument로 넘겨준 이름을 dict의 키로 사용한다.\n",
        "proc(x=2, y=3)"
      ],
      "metadata": {
        "colab": {
          "base_uri": "https://localhost:8080/"
        },
        "id": "1754NrGHinsT",
        "outputId": "f2edb8bf-1c40-485a-ad0e-3a92305dd2b3"
      },
      "execution_count": null,
      "outputs": [
        {
          "output_type": "stream",
          "name": "stdout",
          "text": [
            "<class 'dict'>\n"
          ]
        },
        {
          "output_type": "execute_result",
          "data": {
            "text/plain": [
              "{'x': 2, 'y': 3}"
            ]
          },
          "metadata": {},
          "execution_count": 180
        }
      ]
    },
    {
      "cell_type": "code",
      "source": [
        "proc(x=3, y=1, z=[1,2,3])"
      ],
      "metadata": {
        "colab": {
          "base_uri": "https://localhost:8080/"
        },
        "id": "ZsTzlZn2ifDt",
        "outputId": "bd3b1ec1-ddc2-4598-e3aa-60a9f4890abb"
      },
      "execution_count": null,
      "outputs": [
        {
          "output_type": "stream",
          "name": "stdout",
          "text": [
            "<class 'dict'>\n"
          ]
        },
        {
          "output_type": "execute_result",
          "data": {
            "text/plain": [
              "{'x': 3, 'y': 1, 'z': [1, 2, 3]}"
            ]
          },
          "metadata": {},
          "execution_count": 181
        }
      ]
    },
    {
      "cell_type": "markdown",
      "source": [
        "#### 가변 keyword / 가변 positional은 한 번만 사용할 수 있다."
      ],
      "metadata": {
        "id": "DziTsZ-Mi1wy"
      }
    },
    {
      "cell_type": "code",
      "source": [
        "# 오류가 발생한다.\n",
        "def proc(*a, *b):\n",
        "  return a, b"
      ],
      "metadata": {
        "colab": {
          "base_uri": "https://localhost:8080/",
          "height": 131
        },
        "id": "M0MnXJCKjF3s",
        "outputId": "dc14ca15-5b52-40e3-b6e5-8ddc7e5f1b43"
      },
      "execution_count": null,
      "outputs": [
        {
          "output_type": "error",
          "ename": "SyntaxError",
          "evalue": "ignored",
          "traceback": [
            "\u001b[0;36m  File \u001b[0;32m\"<ipython-input-182-51ebdf9f1990>\"\u001b[0;36m, line \u001b[0;32m1\u001b[0m\n\u001b[0;31m    def proc(*a, *b):\u001b[0m\n\u001b[0m                 ^\u001b[0m\n\u001b[0;31mSyntaxError\u001b[0m\u001b[0;31m:\u001b[0m invalid syntax\n"
          ]
        }
      ]
    },
    {
      "cell_type": "code",
      "source": [
        "# 오류가 발생한다.\n",
        "# 키워드도 한번만 선언 가능하다.\n",
        "def proc(**a, **b):\n",
        "  return a, b"
      ],
      "metadata": {
        "colab": {
          "base_uri": "https://localhost:8080/",
          "height": 131
        },
        "id": "U8Fz0YPBjPsv",
        "outputId": "ca535e04-1703-45c9-84b1-3e28d069bacd"
      },
      "execution_count": null,
      "outputs": [
        {
          "output_type": "error",
          "ename": "SyntaxError",
          "evalue": "ignored",
          "traceback": [
            "\u001b[0;36m  File \u001b[0;32m\"<ipython-input-183-a53979b406c9>\"\u001b[0;36m, line \u001b[0;32m3\u001b[0m\n\u001b[0;31m    def proc(**a, **b):\u001b[0m\n\u001b[0m                  ^\u001b[0m\n\u001b[0;31mSyntaxError\u001b[0m\u001b[0;31m:\u001b[0m invalid syntax\n"
          ]
        }
      ]
    },
    {
      "cell_type": "markdown",
      "source": [
        "### return \n",
        "- 함수의 결과값을 넘겨주는 목적으로 사용한다.\n",
        "- 함수를 강제적ㅇ로 종료할 때 사용한다.\n",
        "- 함수에서 return을 2번 이상 사용할 수 없다.\n",
        "- 함수의 결과를 2개 이상으로 받고 싶다면 unppacking 해서 받는다.\n"
      ],
      "metadata": {
        "id": "QiOsNH3UmcFy"
      }
    },
    {
      "cell_type": "code",
      "source": [
        "# 가변 포지션을 이용해서 정의하기.\n",
        "def proc(*a):\n",
        "  total = 0\n",
        "  avg = 0\n",
        "  for i in a :\n",
        "    total += i\n",
        "\n",
        "  avg = total/len(a)\n",
        "  return(total, avg)"
      ],
      "metadata": {
        "id": "3v7U9Y7im3FT"
      },
      "execution_count": null,
      "outputs": []
    },
    {
      "cell_type": "code",
      "source": [
        "proc(1,2,3,4)"
      ],
      "metadata": {
        "colab": {
          "base_uri": "https://localhost:8080/"
        },
        "id": "RTxPHq38nWBs",
        "outputId": "5a591fe9-babf-4977-db6e-b3bd8705e15e"
      },
      "execution_count": null,
      "outputs": [
        {
          "output_type": "execute_result",
          "data": {
            "text/plain": [
              "(10, 2.5)"
            ]
          },
          "metadata": {},
          "execution_count": 187
        }
      ]
    },
    {
      "cell_type": "code",
      "source": [
        "# 함수의 결과를 2개로 받고 싶을 때 unpacking을 사용하면 된다.\n",
        "total, avg = proc(1, 2, 3, 4)\n",
        "print(total)\n",
        "print(avg)"
      ],
      "metadata": {
        "colab": {
          "base_uri": "https://localhost:8080/"
        },
        "id": "Rok1qTsEnXd9",
        "outputId": "096e79b6-11a7-4432-bd3c-750a3549489c"
      },
      "execution_count": null,
      "outputs": [
        {
          "output_type": "stream",
          "name": "stdout",
          "text": [
            "10\n",
            "2.5\n"
          ]
        }
      ]
    },
    {
      "cell_type": "code",
      "source": [
        "def proc(**a): # type이 dict\n",
        "  total = 0\n",
        "  avg = 0\n",
        "  for i in a : # 저장되는게 key 값.. \n",
        "    print(i)\n",
        "    # total += i\n",
        "\n",
        " # avg = total/len(a)\n",
        " # return(total, avg)"
      ],
      "metadata": {
        "id": "ZWCRbEGdnnc9"
      },
      "execution_count": null,
      "outputs": []
    },
    {
      "cell_type": "code",
      "source": [
        "proc(i=3,j=4,k=5)"
      ],
      "metadata": {
        "colab": {
          "base_uri": "https://localhost:8080/"
        },
        "id": "7jVoZcqnpepO",
        "outputId": "fd2c0c08-a936-4416-f95b-3f610802c10a"
      },
      "execution_count": null,
      "outputs": [
        {
          "output_type": "stream",
          "name": "stdout",
          "text": [
            "i\n",
            "j\n",
            "k\n"
          ]
        }
      ]
    },
    {
      "cell_type": "code",
      "source": [
        "# 오류발생, proc() takes 0 positional arguments but 3 were given\n",
        "# 이름으로 정의를 해줘야한다.\n",
        "proc(i = 3, j = 4,k = 5)"
      ],
      "metadata": {
        "colab": {
          "base_uri": "https://localhost:8080/",
          "height": 305
        },
        "id": "QsIcJDF9oZBU",
        "outputId": "fe870be1-3c33-433d-db4e-7bea7c3a246a"
      },
      "execution_count": null,
      "outputs": [
        {
          "output_type": "error",
          "ename": "TypeError",
          "evalue": "ignored",
          "traceback": [
            "\u001b[0;31m---------------------------------------------------------------------------\u001b[0m",
            "\u001b[0;31mTypeError\u001b[0m                                 Traceback (most recent call last)",
            "\u001b[0;32m<ipython-input-192-d4d0d26dd431>\u001b[0m in \u001b[0;36m<module>\u001b[0;34m\u001b[0m\n\u001b[1;32m      1\u001b[0m \u001b[0;31m# 오류발생, proc() takes 0 positional arguments but 3 were given\u001b[0m\u001b[0;34m\u001b[0m\u001b[0;34m\u001b[0m\u001b[0;34m\u001b[0m\u001b[0m\n\u001b[0;32m----> 2\u001b[0;31m \u001b[0mproc\u001b[0m\u001b[0;34m(\u001b[0m\u001b[0mi\u001b[0m \u001b[0;34m=\u001b[0m \u001b[0;36m3\u001b[0m\u001b[0;34m,\u001b[0m \u001b[0mj\u001b[0m \u001b[0;34m=\u001b[0m \u001b[0;36m4\u001b[0m\u001b[0;34m,\u001b[0m\u001b[0mk\u001b[0m \u001b[0;34m=\u001b[0m \u001b[0;36m5\u001b[0m\u001b[0;34m)\u001b[0m\u001b[0;34m\u001b[0m\u001b[0;34m\u001b[0m\u001b[0m\n\u001b[0m",
            "\u001b[0;32m<ipython-input-190-ff559f78ec04>\u001b[0m in \u001b[0;36mproc\u001b[0;34m(**a)\u001b[0m\n\u001b[1;32m      3\u001b[0m   \u001b[0mavg\u001b[0m \u001b[0;34m=\u001b[0m \u001b[0;36m0\u001b[0m\u001b[0;34m\u001b[0m\u001b[0;34m\u001b[0m\u001b[0m\n\u001b[1;32m      4\u001b[0m   \u001b[0;32mfor\u001b[0m \u001b[0mi\u001b[0m \u001b[0;32min\u001b[0m \u001b[0ma\u001b[0m \u001b[0;34m:\u001b[0m\u001b[0;34m\u001b[0m\u001b[0;34m\u001b[0m\u001b[0m\n\u001b[0;32m----> 5\u001b[0;31m     \u001b[0mtotal\u001b[0m \u001b[0;34m+=\u001b[0m \u001b[0mi\u001b[0m\u001b[0;34m\u001b[0m\u001b[0;34m\u001b[0m\u001b[0m\n\u001b[0m\u001b[1;32m      6\u001b[0m \u001b[0;34m\u001b[0m\u001b[0m\n\u001b[1;32m      7\u001b[0m   \u001b[0mavg\u001b[0m \u001b[0;34m=\u001b[0m \u001b[0mtotal\u001b[0m\u001b[0;34m/\u001b[0m\u001b[0mlen\u001b[0m\u001b[0;34m(\u001b[0m\u001b[0ma\u001b[0m\u001b[0;34m)\u001b[0m\u001b[0;34m\u001b[0m\u001b[0;34m\u001b[0m\u001b[0m\n",
            "\u001b[0;31mTypeError\u001b[0m: unsupported operand type(s) for +=: 'int' and 'str'"
          ]
        }
      ]
    },
    {
      "cell_type": "code",
      "source": [
        "def proc(**a):\n",
        "  total = 0\n",
        "  avg = 0\n",
        "  for i in a.items() \n",
        "    print(i)\n"
      ],
      "metadata": {
        "id": "j6-MfBlIpIie"
      },
      "execution_count": null,
      "outputs": []
    },
    {
      "cell_type": "code",
      "source": [
        "proc(i=3,j=4,k=5)"
      ],
      "metadata": {
        "colab": {
          "base_uri": "https://localhost:8080/"
        },
        "id": "MrkMgAIIpNXA",
        "outputId": "5de35e5d-5ce1-4e16-fa6a-a1493c8273ae"
      },
      "execution_count": null,
      "outputs": [
        {
          "output_type": "stream",
          "name": "stdout",
          "text": [
            "('i', 3)\n",
            "('j', 4)\n",
            "('k', 5)\n"
          ]
        }
      ]
    },
    {
      "cell_type": "code",
      "source": [
        "def proc(**a): \n",
        "  total = 0\n",
        "  avg = 0\n",
        "  for i in a.keys() : # \n",
        "    print(i)"
      ],
      "metadata": {
        "id": "NY4E4YmLpXFz"
      },
      "execution_count": null,
      "outputs": []
    },
    {
      "cell_type": "code",
      "source": [
        "proc(i=3,j=4,k=5)"
      ],
      "metadata": {
        "colab": {
          "base_uri": "https://localhost:8080/"
        },
        "id": "_sBXBxfXpa9w",
        "outputId": "a1ba42a2-9d71-487c-ae22-b33b545cf97c"
      },
      "execution_count": null,
      "outputs": [
        {
          "output_type": "stream",
          "name": "stdout",
          "text": [
            "i\n",
            "j\n",
            "k\n"
          ]
        }
      ]
    },
    {
      "cell_type": "code",
      "source": [
        "def proc(**a):\n",
        "  total = 0\n",
        "  avg = 0\n",
        "  for i in a.values() : # 값만 가지고 온다.\n",
        "    print(i)"
      ],
      "metadata": {
        "id": "xwIBTcvTpiW5"
      },
      "execution_count": null,
      "outputs": []
    },
    {
      "cell_type": "code",
      "source": [
        "proc(i=3,j=4,k=5)"
      ],
      "metadata": {
        "colab": {
          "base_uri": "https://localhost:8080/"
        },
        "id": "bPZAWb1SpnLB",
        "outputId": "00ddc1be-7605-4796-cdff-ed69f1f5de59"
      },
      "execution_count": null,
      "outputs": [
        {
          "output_type": "stream",
          "name": "stdout",
          "text": [
            "3\n",
            "4\n",
            "5\n"
          ]
        }
      ]
    },
    {
      "cell_type": "code",
      "source": [
        "def proc(**a):\n",
        "  total = 0\n",
        "  avg = 0\n",
        "  for _, v in a.items() :\n",
        "    total += v\n",
        "  avg = total / len(a)\n",
        "  return (total, avg)\n"
      ],
      "metadata": {
        "id": "NozsvHNBp2hy"
      },
      "execution_count": null,
      "outputs": []
    },
    {
      "cell_type": "code",
      "source": [
        "proc(i=3,j=4,k=5)"
      ],
      "metadata": {
        "colab": {
          "base_uri": "https://localhost:8080/"
        },
        "id": "gHaaxqPiqEJH",
        "outputId": "e30d7b73-6453-4ad8-8d69-ed98c5290678"
      },
      "execution_count": null,
      "outputs": [
        {
          "output_type": "execute_result",
          "data": {
            "text/plain": [
              "(12, 4.0)"
            ]
          },
          "metadata": {},
          "execution_count": 210
        }
      ]
    },
    {
      "cell_type": "markdown",
      "source": [
        "### overloading\n",
        "- 함수의 이름은 같은데, 매개변수 개수 또는 매개변수의 타입이 달라야 한다.\n",
        "- python은 overloading을 지원하지 않는다."
      ],
      "metadata": {
        "id": "d9-PGeLMqEwp"
      }
    },
    {
      "cell_type": "code",
      "source": [
        "def add(a):\n",
        "  return a + 1"
      ],
      "metadata": {
        "id": "Bp85GV_LqkiE"
      },
      "execution_count": null,
      "outputs": []
    },
    {
      "cell_type": "code",
      "source": [
        "add(6)"
      ],
      "metadata": {
        "colab": {
          "base_uri": "https://localhost:8080/"
        },
        "id": "Qq9x8zsnqni1",
        "outputId": "71b9ec83-2877-42d9-ff13-2860565b2056"
      },
      "execution_count": null,
      "outputs": [
        {
          "output_type": "execute_result",
          "data": {
            "text/plain": [
              "7"
            ]
          },
          "metadata": {},
          "execution_count": 212
        }
      ]
    },
    {
      "cell_type": "code",
      "source": [
        "def add(a, b):\n",
        "  return a+b"
      ],
      "metadata": {
        "id": "W2SREKiLqo4p"
      },
      "execution_count": null,
      "outputs": []
    },
    {
      "cell_type": "code",
      "source": [
        "add(2,3)"
      ],
      "metadata": {
        "colab": {
          "base_uri": "https://localhost:8080/"
        },
        "id": "-Juv7RQoqsmu",
        "outputId": "907971db-7f39-426b-8354-d3da27515306"
      },
      "execution_count": null,
      "outputs": [
        {
          "output_type": "execute_result",
          "data": {
            "text/plain": [
              "5"
            ]
          },
          "metadata": {},
          "execution_count": 214
        }
      ]
    },
    {
      "cell_type": "code",
      "source": [
        "# 오버로딩을 지원하지 않기 때문에 마지막에 선언된 함수에 적요이 되어서 오류가 발생한다.\n",
        "add(6)"
      ],
      "metadata": {
        "colab": {
          "base_uri": "https://localhost:8080/",
          "height": 166
        },
        "id": "7bX-ie35qt3X",
        "outputId": "5d0b4a33-389e-43d8-a5a7-5565efe92db1"
      },
      "execution_count": null,
      "outputs": [
        {
          "output_type": "error",
          "ename": "TypeError",
          "evalue": "ignored",
          "traceback": [
            "\u001b[0;31m---------------------------------------------------------------------------\u001b[0m",
            "\u001b[0;31mTypeError\u001b[0m                                 Traceback (most recent call last)",
            "\u001b[0;32m<ipython-input-215-f5800f3844ff>\u001b[0m in \u001b[0;36m<module>\u001b[0;34m\u001b[0m\n\u001b[0;32m----> 1\u001b[0;31m \u001b[0madd\u001b[0m\u001b[0;34m(\u001b[0m\u001b[0;36m6\u001b[0m\u001b[0;34m)\u001b[0m\u001b[0;34m\u001b[0m\u001b[0;34m\u001b[0m\u001b[0m\n\u001b[0m",
            "\u001b[0;31mTypeError\u001b[0m: add() missing 1 required positional argument: 'b'"
          ]
        }
      ]
    },
    {
      "cell_type": "code",
      "source": [
        "type(proc)"
      ],
      "metadata": {
        "colab": {
          "base_uri": "https://localhost:8080/"
        },
        "id": "INqtLbWKqyJY",
        "outputId": "d4567675-3688-4580-b943-3a62f7cd4d83"
      },
      "execution_count": null,
      "outputs": [
        {
          "output_type": "execute_result",
          "data": {
            "text/plain": [
              "function"
            ]
          },
          "metadata": {},
          "execution_count": 216
        }
      ]
    },
    {
      "cell_type": "code",
      "source": [
        "print(dir(proc)) # 이 함수에서 제공하는 다양한 속성들"
      ],
      "metadata": {
        "colab": {
          "base_uri": "https://localhost:8080/"
        },
        "id": "-bnb5OVkrEbq",
        "outputId": "63b8334a-8ed4-401c-9c42-cb6f2f8d5621"
      },
      "execution_count": null,
      "outputs": [
        {
          "output_type": "stream",
          "name": "stdout",
          "text": [
            "['__annotations__', '__call__', '__class__', '__closure__', '__code__', '__defaults__', '__delattr__', '__dict__', '__dir__', '__doc__', '__eq__', '__format__', '__ge__', '__get__', '__getattribute__', '__globals__', '__gt__', '__hash__', '__init__', '__init_subclass__', '__kwdefaults__', '__le__', '__lt__', '__module__', '__name__', '__ne__', '__new__', '__qualname__', '__reduce__', '__reduce_ex__', '__repr__', '__setattr__', '__sizeof__', '__str__', '__subclasshook__']\n"
          ]
        }
      ]
    },
    {
      "cell_type": "code",
      "source": [
        " # __name__은 함수이름을 알려준다.\n",
        "proc.__name__"
      ],
      "metadata": {
        "colab": {
          "base_uri": "https://localhost:8080/",
          "height": 35
        },
        "id": "_LCkKj5drF38",
        "outputId": "7c593253-8f25-4b3a-d440-7e19c7e1e1ed"
      },
      "execution_count": null,
      "outputs": [
        {
          "output_type": "execute_result",
          "data": {
            "text/plain": [
              "'proc'"
            ],
            "application/vnd.google.colaboratory.intrinsic+json": {
              "type": "string"
            }
          },
          "metadata": {},
          "execution_count": 219
        }
      ]
    },
    {
      "cell_type": "code",
      "source": [
        "display = proc "
      ],
      "metadata": {
        "id": "VHNi2g-OrWVW"
      },
      "execution_count": null,
      "outputs": []
    },
    {
      "cell_type": "code",
      "source": [
        "# 함수를 다른 함수에 재할당해도 __name__은 원래 이름을 알려준다.\n",
        "display.__name__"
      ],
      "metadata": {
        "colab": {
          "base_uri": "https://localhost:8080/",
          "height": 35
        },
        "id": "Zte0MnjCrlXu",
        "outputId": "9aeb85a9-adc2-4fe9-9e3b-2f0ef140376e"
      },
      "execution_count": null,
      "outputs": [
        {
          "output_type": "execute_result",
          "data": {
            "text/plain": [
              "'proc'"
            ],
            "application/vnd.google.colaboratory.intrinsic+json": {
              "type": "string"
            }
          },
          "metadata": {},
          "execution_count": 221
        }
      ]
    },
    {
      "cell_type": "code",
      "source": [
        "type(display)"
      ],
      "metadata": {
        "colab": {
          "base_uri": "https://localhost:8080/"
        },
        "id": "kx4Gd0orrnOf",
        "outputId": "79d41b3a-cb99-4b04-c4f9-b9ba2fc783c2"
      },
      "execution_count": null,
      "outputs": [
        {
          "output_type": "execute_result",
          "data": {
            "text/plain": [
              "function"
            ]
          },
          "metadata": {},
          "execution_count": 222
        }
      ]
    },
    {
      "cell_type": "markdown",
      "source": [
        "python은 외부에서 함수 내부로 접근할 수 없다."
      ],
      "metadata": {
        "id": "Vbec_HEtr4b8"
      }
    },
    {
      "cell_type": "code",
      "source": [
        "def proc():\n",
        "  z=1"
      ],
      "metadata": {
        "id": "pHiXvtImsOQR"
      },
      "execution_count": null,
      "outputs": []
    },
    {
      "cell_type": "code",
      "source": [
        "# 에러 발생\n",
        "# z는 함수 내에서 할당되었으므로 함수 밖에서 호출할 수 없다.\n",
        "z"
      ],
      "metadata": {
        "colab": {
          "base_uri": "https://localhost:8080/",
          "height": 166
        },
        "id": "HDIykZt7sQz4",
        "outputId": "e92d03ce-3ebd-42be-d41d-887bd3caa366"
      },
      "execution_count": null,
      "outputs": [
        {
          "output_type": "error",
          "ename": "NameError",
          "evalue": "ignored",
          "traceback": [
            "\u001b[0;31m---------------------------------------------------------------------------\u001b[0m",
            "\u001b[0;31mNameError\u001b[0m                                 Traceback (most recent call last)",
            "\u001b[0;32m<ipython-input-225-3a710d2a84f8>\u001b[0m in \u001b[0;36m<module>\u001b[0;34m\u001b[0m\n\u001b[0;32m----> 1\u001b[0;31m \u001b[0mz\u001b[0m\u001b[0;34m\u001b[0m\u001b[0;34m\u001b[0m\u001b[0m\n\u001b[0m",
            "\u001b[0;31mNameError\u001b[0m: name 'z' is not defined"
          ]
        }
      ]
    },
    {
      "cell_type": "markdown",
      "source": [
        "함수 내부에서는 외부에 접근할 수 있다."
      ],
      "metadata": {
        "id": "RrIXPmC0sRWH"
      }
    },
    {
      "cell_type": "code",
      "source": [
        "c=10\n",
        "def display():\n",
        "  print(c)"
      ],
      "metadata": {
        "id": "p7y2FWMFsk7I"
      },
      "execution_count": null,
      "outputs": []
    },
    {
      "cell_type": "code",
      "source": [
        "display()"
      ],
      "metadata": {
        "colab": {
          "base_uri": "https://localhost:8080/"
        },
        "id": "5WGCRfzysptc",
        "outputId": "ffa4b991-3fb2-441c-fe8b-e5bd3ace0bd3"
      },
      "execution_count": null,
      "outputs": [
        {
          "output_type": "stream",
          "name": "stdout",
          "text": [
            "10\n"
          ]
        }
      ]
    },
    {
      "cell_type": "markdown",
      "source": [
        "함수에서 외부의 값은 접근할 수 있지만, 변경은 할 수 없다."
      ],
      "metadata": {
        "id": "qBWoSujisqmi"
      }
    },
    {
      "cell_type": "code",
      "source": [
        "t= 3\n",
        "def prn():\n",
        "  t=t+1\n",
        "  print(t)"
      ],
      "metadata": {
        "id": "PqW5T8-Rs1Bw"
      },
      "execution_count": null,
      "outputs": []
    },
    {
      "cell_type": "code",
      "source": [
        "prn()"
      ],
      "metadata": {
        "colab": {
          "base_uri": "https://localhost:8080/",
          "height": 270
        },
        "id": "SBPXM1Tzs_Jw",
        "outputId": "ae26c793-97c1-4cae-a4af-28c66b318bf2"
      },
      "execution_count": null,
      "outputs": [
        {
          "output_type": "error",
          "ename": "UnboundLocalError",
          "evalue": "ignored",
          "traceback": [
            "\u001b[0;31m---------------------------------------------------------------------------\u001b[0m",
            "\u001b[0;31mUnboundLocalError\u001b[0m                         Traceback (most recent call last)",
            "\u001b[0;32m<ipython-input-231-9f4e808490c5>\u001b[0m in \u001b[0;36m<module>\u001b[0;34m\u001b[0m\n\u001b[0;32m----> 1\u001b[0;31m \u001b[0mprn\u001b[0m\u001b[0;34m(\u001b[0m\u001b[0;34m)\u001b[0m\u001b[0;34m\u001b[0m\u001b[0;34m\u001b[0m\u001b[0m\n\u001b[0m",
            "\u001b[0;32m<ipython-input-230-81b2028a6f71>\u001b[0m in \u001b[0;36mprn\u001b[0;34m()\u001b[0m\n\u001b[1;32m      1\u001b[0m \u001b[0mt\u001b[0m\u001b[0;34m=\u001b[0m \u001b[0;36m3\u001b[0m\u001b[0;34m\u001b[0m\u001b[0;34m\u001b[0m\u001b[0m\n\u001b[1;32m      2\u001b[0m \u001b[0;32mdef\u001b[0m \u001b[0mprn\u001b[0m\u001b[0;34m(\u001b[0m\u001b[0;34m)\u001b[0m\u001b[0;34m:\u001b[0m\u001b[0;34m\u001b[0m\u001b[0;34m\u001b[0m\u001b[0m\n\u001b[0;32m----> 3\u001b[0;31m   \u001b[0mt\u001b[0m\u001b[0;34m=\u001b[0m\u001b[0mt\u001b[0m\u001b[0;34m+\u001b[0m\u001b[0;36m1\u001b[0m\u001b[0;34m\u001b[0m\u001b[0;34m\u001b[0m\u001b[0m\n\u001b[0m\u001b[1;32m      4\u001b[0m   \u001b[0mprint\u001b[0m\u001b[0;34m(\u001b[0m\u001b[0mt\u001b[0m\u001b[0;34m)\u001b[0m\u001b[0;34m\u001b[0m\u001b[0;34m\u001b[0m\u001b[0m\n",
            "\u001b[0;31mUnboundLocalError\u001b[0m: local variable 't' referenced before assignment"
          ]
        }
      ]
    },
    {
      "cell_type": "code",
      "source": [],
      "metadata": {
        "id": "Fa8i_RhUtAX7"
      },
      "execution_count": null,
      "outputs": []
    },
    {
      "cell_type": "code",
      "source": [
        "# 내부에 있는 자원을 외부에서 변경해야 하는 경우\n",
        "t= 3\n",
        "def prn():\n",
        "  global t\n",
        "  t=t+1\n",
        "  print(t)"
      ],
      "metadata": {
        "id": "_iZAXTC-tOGp"
      },
      "execution_count": null,
      "outputs": []
    },
    {
      "cell_type": "code",
      "source": [
        "prn()"
      ],
      "metadata": {
        "colab": {
          "base_uri": "https://localhost:8080/"
        },
        "id": "Gq-NC2ePtUfs",
        "outputId": "908d6618-bfb2-4290-cc10-18e648091e15"
      },
      "execution_count": null,
      "outputs": [
        {
          "output_type": "stream",
          "name": "stdout",
          "text": [
            "4\n"
          ]
        }
      ]
    },
    {
      "cell_type": "markdown",
      "source": [
        "global은 내부와 외부의 객체를 동기화(sync) 시켜준다\n",
        "global은 사용하기는 편하지만 언제 바뀌었는지 흐름을 파악하기 힘들기 때문에 남용은 하지 않는다."
      ],
      "metadata": {
        "id": "XmFWO_AXtVY0"
      }
    },
    {
      "cell_type": "code",
      "source": [
        "# 외부의 자원도 같이 변경이 되어서 출력이 된다.\n",
        "t"
      ],
      "metadata": {
        "colab": {
          "base_uri": "https://localhost:8080/"
        },
        "id": "cF1wLKFJtsK0",
        "outputId": "d3148180-5bda-4d29-87f9-f328bb0b03f1"
      },
      "execution_count": null,
      "outputs": [
        {
          "output_type": "execute_result",
          "data": {
            "text/plain": [
              "4"
            ]
          },
          "metadata": {},
          "execution_count": 236
        }
      ]
    },
    {
      "cell_type": "code",
      "source": [
        "k=1\n",
        "def outer():\n",
        "  m=1\n",
        "  def inner():\n",
        "    k=k+1\n",
        "    m=m+1\n",
        "    return k, m\n",
        "  return inner()"
      ],
      "metadata": {
        "id": "Uj7BZp-Ht7gq"
      },
      "execution_count": null,
      "outputs": []
    },
    {
      "cell_type": "code",
      "source": [
        "# 오류원인 1\n",
        "# k값과 m값을 함수 안에서 변경하고 있다.\n",
        "\n",
        "# 외부 자원 k, outer()의 자원 m을 inner()함수에서 변경하고 있으므로 오류가 발생한다.\n",
        "outer( )"
      ],
      "metadata": {
        "colab": {
          "base_uri": "https://localhost:8080/",
          "height": 311
        },
        "id": "TlGMFyh7uHon",
        "outputId": "b1ff8377-1afd-46f2-d73d-25a9345d5cdf"
      },
      "execution_count": null,
      "outputs": [
        {
          "output_type": "error",
          "ename": "UnboundLocalError",
          "evalue": "ignored",
          "traceback": [
            "\u001b[0;31m---------------------------------------------------------------------------\u001b[0m",
            "\u001b[0;31mUnboundLocalError\u001b[0m                         Traceback (most recent call last)",
            "\u001b[0;32m<ipython-input-239-c03dac8981c9>\u001b[0m in \u001b[0;36m<module>\u001b[0;34m\u001b[0m\n\u001b[0;32m----> 1\u001b[0;31m \u001b[0mouter\u001b[0m\u001b[0;34m(\u001b[0m \u001b[0;34m)\u001b[0m\u001b[0;34m\u001b[0m\u001b[0;34m\u001b[0m\u001b[0m\n\u001b[0m",
            "\u001b[0;32m<ipython-input-238-041464bf2a80>\u001b[0m in \u001b[0;36mouter\u001b[0;34m()\u001b[0m\n\u001b[1;32m      6\u001b[0m     \u001b[0mm\u001b[0m\u001b[0;34m=\u001b[0m\u001b[0mm\u001b[0m\u001b[0;34m+\u001b[0m\u001b[0;36m1\u001b[0m\u001b[0;34m\u001b[0m\u001b[0;34m\u001b[0m\u001b[0m\n\u001b[1;32m      7\u001b[0m     \u001b[0;32mreturn\u001b[0m \u001b[0mk\u001b[0m\u001b[0;34m,\u001b[0m \u001b[0mm\u001b[0m\u001b[0;34m\u001b[0m\u001b[0;34m\u001b[0m\u001b[0m\n\u001b[0;32m----> 8\u001b[0;31m   \u001b[0;32mreturn\u001b[0m \u001b[0minner\u001b[0m\u001b[0;34m(\u001b[0m\u001b[0;34m)\u001b[0m\u001b[0;34m\u001b[0m\u001b[0;34m\u001b[0m\u001b[0m\n\u001b[0m",
            "\u001b[0;32m<ipython-input-238-041464bf2a80>\u001b[0m in \u001b[0;36minner\u001b[0;34m()\u001b[0m\n\u001b[1;32m      3\u001b[0m   \u001b[0mm\u001b[0m\u001b[0;34m=\u001b[0m\u001b[0;36m1\u001b[0m\u001b[0;34m\u001b[0m\u001b[0;34m\u001b[0m\u001b[0m\n\u001b[1;32m      4\u001b[0m   \u001b[0;32mdef\u001b[0m \u001b[0minner\u001b[0m\u001b[0;34m(\u001b[0m\u001b[0;34m)\u001b[0m\u001b[0;34m:\u001b[0m\u001b[0;34m\u001b[0m\u001b[0;34m\u001b[0m\u001b[0m\n\u001b[0;32m----> 5\u001b[0;31m     \u001b[0mk\u001b[0m\u001b[0;34m=\u001b[0m\u001b[0mk\u001b[0m\u001b[0;34m+\u001b[0m\u001b[0;36m1\u001b[0m\u001b[0;34m\u001b[0m\u001b[0;34m\u001b[0m\u001b[0m\n\u001b[0m\u001b[1;32m      6\u001b[0m     \u001b[0mm\u001b[0m\u001b[0;34m=\u001b[0m\u001b[0mm\u001b[0m\u001b[0;34m+\u001b[0m\u001b[0;36m1\u001b[0m\u001b[0;34m\u001b[0m\u001b[0;34m\u001b[0m\u001b[0m\n\u001b[1;32m      7\u001b[0m     \u001b[0;32mreturn\u001b[0m \u001b[0mk\u001b[0m\u001b[0;34m,\u001b[0m \u001b[0mm\u001b[0m\u001b[0;34m\u001b[0m\u001b[0;34m\u001b[0m\u001b[0m\n",
            "\u001b[0;31mUnboundLocalError\u001b[0m: local variable 'k' referenced before assignment"
          ]
        }
      ]
    },
    {
      "cell_type": "markdown",
      "source": [
        "nonlocal은 함수 안에 있는 영역에 동기화(sync)한다."
      ],
      "metadata": {
        "id": "5cObW5mLu5Lj"
      }
    },
    {
      "cell_type": "code",
      "source": [
        "k=1\n",
        "def outer():\n",
        "  m=1\n",
        "  def inner():\n",
        "    global k\n",
        "    k=k+1\n",
        "    nonlocal m\n",
        "    m=m+1\n",
        "    return k, m\n",
        "  return inner()"
      ],
      "metadata": {
        "id": "5pUPqLDgusal"
      },
      "execution_count": null,
      "outputs": []
    },
    {
      "cell_type": "code",
      "source": [
        "outer( )"
      ],
      "metadata": {
        "colab": {
          "base_uri": "https://localhost:8080/"
        },
        "id": "3ex1uioSu4vG",
        "outputId": "0d25009d-1e16-41e3-f870-42faf44a4f25"
      },
      "execution_count": null,
      "outputs": [
        {
          "output_type": "execute_result",
          "data": {
            "text/plain": [
              "(2, 2)"
            ]
          },
          "metadata": {},
          "execution_count": 241
        }
      ]
    }
  ]
}