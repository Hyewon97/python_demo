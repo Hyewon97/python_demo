{
  "nbformat": 4,
  "nbformat_minor": 0,
  "metadata": {
    "colab": {
      "provenance": [],
      "include_colab_link": true
    },
    "kernelspec": {
      "name": "python3",
      "display_name": "Python 3"
    },
    "language_info": {
      "name": "python"
    }
  },
  "cells": [
    {
      "cell_type": "markdown",
      "metadata": {
        "id": "view-in-github",
        "colab_type": "text"
      },
      "source": [
        "<a href=\"https://colab.research.google.com/github/Hyewon97/python_demo/blob/main/p300_%EB%8D%B0%EC%9D%B4%ED%84%B0%EC%88%98%EC%A7%91_Naver_Movie_Review.ipynb\" target=\"_parent\"><img src=\"https://colab.research.google.com/assets/colab-badge.svg\" alt=\"Open In Colab\"/></a>"
      ]
    },
    {
      "cell_type": "markdown",
      "source": [
        "# 다양한 웹사이트 Crawling\n",
        "\n",
        "### Naver_Movie_Review_Crawling\n",
        "\n",
        "평점순(모든영화)\n",
        "\n",
        "https://movie.naver.com/movie/sdb/rank/rmovie.naver?sel=pnt&date=20230213"
      ],
      "metadata": {
        "id": "tSU2j3-e_-T3"
      }
    },
    {
      "cell_type": "code",
      "execution_count": null,
      "metadata": {
        "id": "NkIb5onL-16i"
      },
      "outputs": [],
      "source": [
        "import requests\n",
        "from bs4 import BeautifulSoup\n",
        "import re"
      ]
    },
    {
      "cell_type": "code",
      "source": [
        "url = 'https://movie.naver.com/movie/sdb/rank/rmovie.naver?sel=pnt&date=20230213'\n",
        "movie_html = requests.get(url)\n",
        "print(movie_html)\n",
        "print(dir(movie_html))\n",
        "#print(movie_html.text)  # F12 누르면 나오는 정보를 출력함\n",
        "\n",
        "bs_movie = BeautifulSoup(movie_html.text, 'html.parser')  # text로 가져오면 요소로 인식을 못함\n",
        "#print(bs_movie)\n",
        "\n",
        "rank_html = bs_movie.find_all('img')  # 'img' 라는 요소명을 넣어주면됨\n",
        "print(rank_html)\n",
        "print(len(rank_html))\n",
        "\n",
        "rank_html = bs_movie.find_all('img', {'alt': re.compile(\"^[0-9]+$\")})  # \"^[0-9]+$\" : 숫자로 시작해서 숫자로 끝나는\n",
        "print(rank_html)\n",
        "print(len(rank_html))"
      ],
      "metadata": {
        "colab": {
          "base_uri": "https://localhost:8080/"
        },
        "id": "YarmjzDSAmT9",
        "outputId": "a912976e-7d19-4adb-9fee-382eb84b2bc4"
      },
      "execution_count": null,
      "outputs": [
        {
          "output_type": "stream",
          "name": "stdout",
          "text": [
            "<Response [200]>\n",
            "['__attrs__', '__bool__', '__class__', '__delattr__', '__dict__', '__dir__', '__doc__', '__enter__', '__eq__', '__exit__', '__format__', '__ge__', '__getattribute__', '__getstate__', '__gt__', '__hash__', '__init__', '__init_subclass__', '__iter__', '__le__', '__lt__', '__module__', '__ne__', '__new__', '__nonzero__', '__reduce__', '__reduce_ex__', '__repr__', '__setattr__', '__setstate__', '__sizeof__', '__str__', '__subclasshook__', '__weakref__', '_content', '_content_consumed', '_next', 'apparent_encoding', 'close', 'connection', 'content', 'cookies', 'elapsed', 'encoding', 'headers', 'history', 'is_permanent_redirect', 'is_redirect', 'iter_content', 'iter_lines', 'json', 'links', 'next', 'ok', 'raise_for_status', 'raw', 'reason', 'request', 'status_code', 'text', 'url']\n",
            "[<img alt=\"자동완성 펼치기\" height=\"4\" src=\"https://ssl.pstatic.net/static/movie/2012/06/srch_arrow_down.gif\" title=\"자동완성 펼치기\" width=\"7\"/>, <img alt=\"NAVER\" height=\"13\" src=\"https://ssl.pstatic.net/static/movie/2013/07/logo_ci.png\" width=\"62\"/>, <img alt=\"영화\" height=\"19\" src=\"https://ssl.pstatic.net/static/movie/2012/06/logo_svc.png\" width=\"34\"/>, <img alt=\"영화랭킹\" height=\"15\" src=\"https://ssl.pstatic.net/imgmovie/2007/img/super_db/tlt_ranking_movie.gif\" width=\"65\"/>, <img alt=\"조회순\" height=\"28\" src=\"https://ssl.pstatic.net/imgmovie/2007/img/super_db/tab_movie_1_off.gif\" width=\"112\"/>, <img alt=\"평점순(현재상영영화)\" height=\"28\" src=\"https://ssl.pstatic.net/imgmovie/2007/img/super_db/tab_movie_2_off.gif\" width=\"126\"/>, <img alt=\"평점순(모든영화)\" height=\"28\" src=\"https://ssl.pstatic.net/imgmovie/2007/img/super_db/tab_movie_3_on.gif\" width=\"126\"/>, <img alt=\"prev\" height=\"13\" src=\"https://ssl.pstatic.net/imgmovie/2007/img/common/btn_prev.gif\" style=\"margin-right:1px;\" width=\"13\"/>, <img alt=\"01\" height=\"13\" src=\"https://ssl.pstatic.net/imgmovie/2007/img/common/bullet_r_r01.gif\" width=\"14\"/>, <img alt=\"\" height=\"14\" src=\"https://ssl.pstatic.net/imgmovie/2007/img/common/point_type_2_bg_on.gif\" width=\"79\"/>, <img alt=\"na\" class=\"arrow\" height=\"10\" src=\"https://ssl.pstatic.net/imgmovie/2007/img/common/icon_na_1.gif\" width=\"7\"/>, <img alt=\"02\" height=\"13\" src=\"https://ssl.pstatic.net/imgmovie/2007/img/common/bullet_r_r02.gif\" width=\"14\"/>, <img alt=\"\" height=\"14\" src=\"https://ssl.pstatic.net/imgmovie/2007/img/common/point_type_2_bg_on.gif\" width=\"79\"/>, <img alt=\"na\" class=\"arrow\" height=\"10\" src=\"https://ssl.pstatic.net/imgmovie/2007/img/common/icon_na_1.gif\" width=\"7\"/>, <img alt=\"03\" height=\"13\" src=\"https://ssl.pstatic.net/imgmovie/2007/img/common/bullet_r_r03.gif\" width=\"14\"/>, <img alt=\"\" height=\"14\" src=\"https://ssl.pstatic.net/imgmovie/2007/img/common/point_type_2_bg_on.gif\" width=\"79\"/>, <img alt=\"na\" class=\"arrow\" height=\"10\" src=\"https://ssl.pstatic.net/imgmovie/2007/img/common/icon_na_1.gif\" width=\"7\"/>, <img alt=\"04\" height=\"13\" src=\"https://ssl.pstatic.net/imgmovie/2007/img/common/bullet_r_r04.gif\" width=\"14\"/>, <img alt=\"\" height=\"14\" src=\"https://ssl.pstatic.net/imgmovie/2007/img/common/point_type_2_bg_on.gif\" width=\"79\"/>, <img alt=\"na\" class=\"arrow\" height=\"10\" src=\"https://ssl.pstatic.net/imgmovie/2007/img/common/icon_na_1.gif\" width=\"7\"/>, <img alt=\"05\" height=\"13\" src=\"https://ssl.pstatic.net/imgmovie/2007/img/common/bullet_r_r05.gif\" width=\"14\"/>, <img alt=\"\" height=\"14\" src=\"https://ssl.pstatic.net/imgmovie/2007/img/common/point_type_2_bg_on.gif\" width=\"79\"/>, <img alt=\"na\" class=\"arrow\" height=\"10\" src=\"https://ssl.pstatic.net/imgmovie/2007/img/common/icon_na_1.gif\" width=\"7\"/>, <img alt=\"06\" height=\"13\" src=\"https://ssl.pstatic.net/imgmovie/2007/img/common/bullet_r_r06.gif\" width=\"14\"/>, <img alt=\"\" height=\"14\" src=\"https://ssl.pstatic.net/imgmovie/2007/img/common/point_type_2_bg_on.gif\" width=\"79\"/>, <img alt=\"na\" class=\"arrow\" height=\"10\" src=\"https://ssl.pstatic.net/imgmovie/2007/img/common/icon_na_1.gif\" width=\"7\"/>, <img alt=\"07\" height=\"13\" src=\"https://ssl.pstatic.net/imgmovie/2007/img/common/bullet_r_r07.gif\" width=\"14\"/>, <img alt=\"\" height=\"14\" src=\"https://ssl.pstatic.net/imgmovie/2007/img/common/point_type_2_bg_on.gif\" width=\"79\"/>, <img alt=\"na\" class=\"arrow\" height=\"10\" src=\"https://ssl.pstatic.net/imgmovie/2007/img/common/icon_na_1.gif\" width=\"7\"/>, <img alt=\"08\" height=\"13\" src=\"https://ssl.pstatic.net/imgmovie/2007/img/common/bullet_r_r08.gif\" width=\"14\"/>, <img alt=\"\" height=\"14\" src=\"https://ssl.pstatic.net/imgmovie/2007/img/common/point_type_2_bg_on.gif\" width=\"79\"/>, <img alt=\"na\" class=\"arrow\" height=\"10\" src=\"https://ssl.pstatic.net/imgmovie/2007/img/common/icon_na_1.gif\" width=\"7\"/>, <img alt=\"09\" height=\"13\" src=\"https://ssl.pstatic.net/imgmovie/2007/img/common/bullet_r_r09.gif\" width=\"14\"/>, <img alt=\"\" height=\"14\" src=\"https://ssl.pstatic.net/imgmovie/2007/img/common/point_type_2_bg_on.gif\" width=\"79\"/>, <img alt=\"na\" class=\"arrow\" height=\"10\" src=\"https://ssl.pstatic.net/imgmovie/2007/img/common/icon_na_1.gif\" width=\"7\"/>, <img alt=\"010\" height=\"13\" src=\"https://ssl.pstatic.net/imgmovie/2007/img/common/bullet_r_r10.gif\" width=\"14\"/>, <img alt=\"\" height=\"14\" src=\"https://ssl.pstatic.net/imgmovie/2007/img/common/point_type_2_bg_on.gif\" width=\"79\"/>, <img alt=\"na\" class=\"arrow\" height=\"10\" src=\"https://ssl.pstatic.net/imgmovie/2007/img/common/icon_na_1.gif\" width=\"7\"/>, <img alt=\"11\" height=\"13\" src=\"https://ssl.pstatic.net/imgmovie/2007/img/common/bullet_r_g11.gif\" width=\"14\"/>, <img alt=\"\" height=\"14\" src=\"https://ssl.pstatic.net/imgmovie/2007/img/common/point_type_2_bg_on.gif\" width=\"79\"/>, <img alt=\"na\" class=\"arrow\" height=\"10\" src=\"https://ssl.pstatic.net/imgmovie/2007/img/common/icon_na_1.gif\" width=\"7\"/>, <img alt=\"12\" height=\"13\" src=\"https://ssl.pstatic.net/imgmovie/2007/img/common/bullet_r_g12.gif\" width=\"14\"/>, <img alt=\"\" height=\"14\" src=\"https://ssl.pstatic.net/imgmovie/2007/img/common/point_type_2_bg_on.gif\" width=\"79\"/>, <img alt=\"na\" class=\"arrow\" height=\"10\" src=\"https://ssl.pstatic.net/imgmovie/2007/img/common/icon_na_1.gif\" width=\"7\"/>, <img alt=\"13\" height=\"13\" src=\"https://ssl.pstatic.net/imgmovie/2007/img/common/bullet_r_g13.gif\" width=\"14\"/>, <img alt=\"\" height=\"14\" src=\"https://ssl.pstatic.net/imgmovie/2007/img/common/point_type_2_bg_on.gif\" width=\"79\"/>, <img alt=\"na\" class=\"arrow\" height=\"10\" src=\"https://ssl.pstatic.net/imgmovie/2007/img/common/icon_na_1.gif\" width=\"7\"/>, <img alt=\"14\" height=\"13\" src=\"https://ssl.pstatic.net/imgmovie/2007/img/common/bullet_r_g14.gif\" width=\"14\"/>, <img alt=\"\" height=\"14\" src=\"https://ssl.pstatic.net/imgmovie/2007/img/common/point_type_2_bg_on.gif\" width=\"79\"/>, <img alt=\"na\" class=\"arrow\" height=\"10\" src=\"https://ssl.pstatic.net/imgmovie/2007/img/common/icon_na_1.gif\" width=\"7\"/>, <img alt=\"15\" height=\"13\" src=\"https://ssl.pstatic.net/imgmovie/2007/img/common/bullet_r_g15.gif\" width=\"14\"/>, <img alt=\"\" height=\"14\" src=\"https://ssl.pstatic.net/imgmovie/2007/img/common/point_type_2_bg_on.gif\" width=\"79\"/>, <img alt=\"na\" class=\"arrow\" height=\"10\" src=\"https://ssl.pstatic.net/imgmovie/2007/img/common/icon_na_1.gif\" width=\"7\"/>, <img alt=\"16\" height=\"13\" src=\"https://ssl.pstatic.net/imgmovie/2007/img/common/bullet_r_g16.gif\" width=\"14\"/>, <img alt=\"\" height=\"14\" src=\"https://ssl.pstatic.net/imgmovie/2007/img/common/point_type_2_bg_on.gif\" width=\"79\"/>, <img alt=\"na\" class=\"arrow\" height=\"10\" src=\"https://ssl.pstatic.net/imgmovie/2007/img/common/icon_na_1.gif\" width=\"7\"/>, <img alt=\"17\" height=\"13\" src=\"https://ssl.pstatic.net/imgmovie/2007/img/common/bullet_r_g17.gif\" width=\"14\"/>, <img alt=\"\" height=\"14\" src=\"https://ssl.pstatic.net/imgmovie/2007/img/common/point_type_2_bg_on.gif\" width=\"79\"/>, <img alt=\"na\" class=\"arrow\" height=\"10\" src=\"https://ssl.pstatic.net/imgmovie/2007/img/common/icon_na_1.gif\" width=\"7\"/>, <img alt=\"18\" height=\"13\" src=\"https://ssl.pstatic.net/imgmovie/2007/img/common/bullet_r_g18.gif\" width=\"14\"/>, <img alt=\"\" height=\"14\" src=\"https://ssl.pstatic.net/imgmovie/2007/img/common/point_type_2_bg_on.gif\" width=\"79\"/>, <img alt=\"na\" class=\"arrow\" height=\"10\" src=\"https://ssl.pstatic.net/imgmovie/2007/img/common/icon_na_1.gif\" width=\"7\"/>, <img alt=\"19\" height=\"13\" src=\"https://ssl.pstatic.net/imgmovie/2007/img/common/bullet_r_g19.gif\" width=\"14\"/>, <img alt=\"\" height=\"14\" src=\"https://ssl.pstatic.net/imgmovie/2007/img/common/point_type_2_bg_on.gif\" width=\"79\"/>, <img alt=\"na\" class=\"arrow\" height=\"10\" src=\"https://ssl.pstatic.net/imgmovie/2007/img/common/icon_na_1.gif\" width=\"7\"/>, <img alt=\"20\" height=\"13\" src=\"https://ssl.pstatic.net/imgmovie/2007/img/common/bullet_r_g20.gif\" width=\"14\"/>, <img alt=\"\" height=\"14\" src=\"https://ssl.pstatic.net/imgmovie/2007/img/common/point_type_2_bg_on.gif\" width=\"79\"/>, <img alt=\"na\" class=\"arrow\" height=\"10\" src=\"https://ssl.pstatic.net/imgmovie/2007/img/common/icon_na_1.gif\" width=\"7\"/>, <img alt=\"21\" height=\"13\" src=\"https://ssl.pstatic.net/imgmovie/2007/img/common/bullet_r_g21.gif\" width=\"14\"/>, <img alt=\"\" height=\"14\" src=\"https://ssl.pstatic.net/imgmovie/2007/img/common/point_type_2_bg_on.gif\" width=\"79\"/>, <img alt=\"na\" class=\"arrow\" height=\"10\" src=\"https://ssl.pstatic.net/imgmovie/2007/img/common/icon_na_1.gif\" width=\"7\"/>, <img alt=\"22\" height=\"13\" src=\"https://ssl.pstatic.net/imgmovie/2007/img/common/bullet_r_g22.gif\" width=\"14\"/>, <img alt=\"\" height=\"14\" src=\"https://ssl.pstatic.net/imgmovie/2007/img/common/point_type_2_bg_on.gif\" width=\"79\"/>, <img alt=\"na\" class=\"arrow\" height=\"10\" src=\"https://ssl.pstatic.net/imgmovie/2007/img/common/icon_na_1.gif\" width=\"7\"/>, <img alt=\"23\" height=\"13\" src=\"https://ssl.pstatic.net/imgmovie/2007/img/common/bullet_r_g23.gif\" width=\"14\"/>, <img alt=\"\" height=\"14\" src=\"https://ssl.pstatic.net/imgmovie/2007/img/common/point_type_2_bg_on.gif\" width=\"79\"/>, <img alt=\"na\" class=\"arrow\" height=\"10\" src=\"https://ssl.pstatic.net/imgmovie/2007/img/common/icon_na_1.gif\" width=\"7\"/>, <img alt=\"24\" height=\"13\" src=\"https://ssl.pstatic.net/imgmovie/2007/img/common/bullet_r_g24.gif\" width=\"14\"/>, <img alt=\"\" height=\"14\" src=\"https://ssl.pstatic.net/imgmovie/2007/img/common/point_type_2_bg_on.gif\" width=\"79\"/>, <img alt=\"na\" class=\"arrow\" height=\"10\" src=\"https://ssl.pstatic.net/imgmovie/2007/img/common/icon_na_1.gif\" width=\"7\"/>, <img alt=\"25\" height=\"13\" src=\"https://ssl.pstatic.net/imgmovie/2007/img/common/bullet_r_g25.gif\" width=\"14\"/>, <img alt=\"\" height=\"14\" src=\"https://ssl.pstatic.net/imgmovie/2007/img/common/point_type_2_bg_on.gif\" width=\"79\"/>, <img alt=\"na\" class=\"arrow\" height=\"10\" src=\"https://ssl.pstatic.net/imgmovie/2007/img/common/icon_na_1.gif\" width=\"7\"/>, <img alt=\"26\" height=\"13\" src=\"https://ssl.pstatic.net/imgmovie/2007/img/common/bullet_r_g26.gif\" width=\"14\"/>, <img alt=\"\" height=\"14\" src=\"https://ssl.pstatic.net/imgmovie/2007/img/common/point_type_2_bg_on.gif\" width=\"79\"/>, <img alt=\"na\" class=\"arrow\" height=\"10\" src=\"https://ssl.pstatic.net/imgmovie/2007/img/common/icon_na_1.gif\" width=\"7\"/>, <img alt=\"27\" height=\"13\" src=\"https://ssl.pstatic.net/imgmovie/2007/img/common/bullet_r_g27.gif\" width=\"14\"/>, <img alt=\"\" height=\"14\" src=\"https://ssl.pstatic.net/imgmovie/2007/img/common/point_type_2_bg_on.gif\" width=\"79\"/>, <img alt=\"na\" class=\"arrow\" height=\"10\" src=\"https://ssl.pstatic.net/imgmovie/2007/img/common/icon_na_1.gif\" width=\"7\"/>, <img alt=\"28\" height=\"13\" src=\"https://ssl.pstatic.net/imgmovie/2007/img/common/bullet_r_g28.gif\" width=\"14\"/>, <img alt=\"\" height=\"14\" src=\"https://ssl.pstatic.net/imgmovie/2007/img/common/point_type_2_bg_on.gif\" width=\"79\"/>, <img alt=\"na\" class=\"arrow\" height=\"10\" src=\"https://ssl.pstatic.net/imgmovie/2007/img/common/icon_na_1.gif\" width=\"7\"/>, <img alt=\"29\" height=\"13\" src=\"https://ssl.pstatic.net/imgmovie/2007/img/common/bullet_r_g29.gif\" width=\"14\"/>, <img alt=\"\" height=\"14\" src=\"https://ssl.pstatic.net/imgmovie/2007/img/common/point_type_2_bg_on.gif\" width=\"79\"/>, <img alt=\"na\" class=\"arrow\" height=\"10\" src=\"https://ssl.pstatic.net/imgmovie/2007/img/common/icon_na_1.gif\" width=\"7\"/>, <img alt=\"30\" height=\"13\" src=\"https://ssl.pstatic.net/imgmovie/2007/img/common/bullet_r_g30.gif\" width=\"14\"/>, <img alt=\"\" height=\"14\" src=\"https://ssl.pstatic.net/imgmovie/2007/img/common/point_type_2_bg_on.gif\" width=\"79\"/>, <img alt=\"up\" class=\"arrow\" height=\"10\" src=\"https://ssl.pstatic.net/imgmovie/2007/img/common/icon_up_1.gif\" width=\"7\"/>, <img alt=\"31\" height=\"13\" src=\"https://ssl.pstatic.net/imgmovie/2007/img/common/bullet_r_g31.gif\" width=\"14\"/>, <img alt=\"\" height=\"14\" src=\"https://ssl.pstatic.net/imgmovie/2007/img/common/point_type_2_bg_on.gif\" width=\"79\"/>, <img alt=\"down\" class=\"arrow\" height=\"10\" src=\"https://ssl.pstatic.net/imgmovie/2007/img/common/icon_down_1.gif\" width=\"7\"/>, <img alt=\"32\" height=\"13\" src=\"https://ssl.pstatic.net/imgmovie/2007/img/common/bullet_r_g32.gif\" width=\"14\"/>, <img alt=\"\" height=\"14\" src=\"https://ssl.pstatic.net/imgmovie/2007/img/common/point_type_2_bg_on.gif\" width=\"79\"/>, <img alt=\"na\" class=\"arrow\" height=\"10\" src=\"https://ssl.pstatic.net/imgmovie/2007/img/common/icon_na_1.gif\" width=\"7\"/>, <img alt=\"33\" height=\"13\" src=\"https://ssl.pstatic.net/imgmovie/2007/img/common/bullet_r_g33.gif\" width=\"14\"/>, <img alt=\"\" height=\"14\" src=\"https://ssl.pstatic.net/imgmovie/2007/img/common/point_type_2_bg_on.gif\" width=\"79\"/>, <img alt=\"na\" class=\"arrow\" height=\"10\" src=\"https://ssl.pstatic.net/imgmovie/2007/img/common/icon_na_1.gif\" width=\"7\"/>, <img alt=\"34\" height=\"13\" src=\"https://ssl.pstatic.net/imgmovie/2007/img/common/bullet_r_g34.gif\" width=\"14\"/>, <img alt=\"\" height=\"14\" src=\"https://ssl.pstatic.net/imgmovie/2007/img/common/point_type_2_bg_on.gif\" width=\"79\"/>, <img alt=\"na\" class=\"arrow\" height=\"10\" src=\"https://ssl.pstatic.net/imgmovie/2007/img/common/icon_na_1.gif\" width=\"7\"/>, <img alt=\"35\" height=\"13\" src=\"https://ssl.pstatic.net/imgmovie/2007/img/common/bullet_r_g35.gif\" width=\"14\"/>, <img alt=\"\" height=\"14\" src=\"https://ssl.pstatic.net/imgmovie/2007/img/common/point_type_2_bg_on.gif\" width=\"79\"/>, <img alt=\"na\" class=\"arrow\" height=\"10\" src=\"https://ssl.pstatic.net/imgmovie/2007/img/common/icon_na_1.gif\" width=\"7\"/>, <img alt=\"36\" height=\"13\" src=\"https://ssl.pstatic.net/imgmovie/2007/img/common/bullet_r_g36.gif\" width=\"14\"/>, <img alt=\"\" height=\"14\" src=\"https://ssl.pstatic.net/imgmovie/2007/img/common/point_type_2_bg_on.gif\" width=\"79\"/>, <img alt=\"na\" class=\"arrow\" height=\"10\" src=\"https://ssl.pstatic.net/imgmovie/2007/img/common/icon_na_1.gif\" width=\"7\"/>, <img alt=\"37\" height=\"13\" src=\"https://ssl.pstatic.net/imgmovie/2007/img/common/bullet_r_g37.gif\" width=\"14\"/>, <img alt=\"\" height=\"14\" src=\"https://ssl.pstatic.net/imgmovie/2007/img/common/point_type_2_bg_on.gif\" width=\"79\"/>, <img alt=\"na\" class=\"arrow\" height=\"10\" src=\"https://ssl.pstatic.net/imgmovie/2007/img/common/icon_na_1.gif\" width=\"7\"/>, <img alt=\"38\" height=\"13\" src=\"https://ssl.pstatic.net/imgmovie/2007/img/common/bullet_r_g38.gif\" width=\"14\"/>, <img alt=\"\" height=\"14\" src=\"https://ssl.pstatic.net/imgmovie/2007/img/common/point_type_2_bg_on.gif\" width=\"79\"/>, <img alt=\"na\" class=\"arrow\" height=\"10\" src=\"https://ssl.pstatic.net/imgmovie/2007/img/common/icon_na_1.gif\" width=\"7\"/>, <img alt=\"39\" height=\"13\" src=\"https://ssl.pstatic.net/imgmovie/2007/img/common/bullet_r_g39.gif\" width=\"14\"/>, <img alt=\"\" height=\"14\" src=\"https://ssl.pstatic.net/imgmovie/2007/img/common/point_type_2_bg_on.gif\" width=\"79\"/>, <img alt=\"na\" class=\"arrow\" height=\"10\" src=\"https://ssl.pstatic.net/imgmovie/2007/img/common/icon_na_1.gif\" width=\"7\"/>, <img alt=\"40\" height=\"13\" src=\"https://ssl.pstatic.net/imgmovie/2007/img/common/bullet_r_g40.gif\" width=\"14\"/>, <img alt=\"\" height=\"14\" src=\"https://ssl.pstatic.net/imgmovie/2007/img/common/point_type_2_bg_on.gif\" width=\"79\"/>, <img alt=\"na\" class=\"arrow\" height=\"10\" src=\"https://ssl.pstatic.net/imgmovie/2007/img/common/icon_na_1.gif\" width=\"7\"/>, <img alt=\"41\" height=\"13\" src=\"https://ssl.pstatic.net/imgmovie/2007/img/common/bullet_r_g41.gif\" width=\"14\"/>, <img alt=\"\" height=\"14\" src=\"https://ssl.pstatic.net/imgmovie/2007/img/common/point_type_2_bg_on.gif\" width=\"79\"/>, <img alt=\"na\" class=\"arrow\" height=\"10\" src=\"https://ssl.pstatic.net/imgmovie/2007/img/common/icon_na_1.gif\" width=\"7\"/>, <img alt=\"42\" height=\"13\" src=\"https://ssl.pstatic.net/imgmovie/2007/img/common/bullet_r_g42.gif\" width=\"14\"/>, <img alt=\"\" height=\"14\" src=\"https://ssl.pstatic.net/imgmovie/2007/img/common/point_type_2_bg_on.gif\" width=\"79\"/>, <img alt=\"na\" class=\"arrow\" height=\"10\" src=\"https://ssl.pstatic.net/imgmovie/2007/img/common/icon_na_1.gif\" width=\"7\"/>, <img alt=\"43\" height=\"13\" src=\"https://ssl.pstatic.net/imgmovie/2007/img/common/bullet_r_g43.gif\" width=\"14\"/>, <img alt=\"\" height=\"14\" src=\"https://ssl.pstatic.net/imgmovie/2007/img/common/point_type_2_bg_on.gif\" width=\"79\"/>, <img alt=\"na\" class=\"arrow\" height=\"10\" src=\"https://ssl.pstatic.net/imgmovie/2007/img/common/icon_na_1.gif\" width=\"7\"/>, <img alt=\"44\" height=\"13\" src=\"https://ssl.pstatic.net/imgmovie/2007/img/common/bullet_r_g44.gif\" width=\"14\"/>, <img alt=\"\" height=\"14\" src=\"https://ssl.pstatic.net/imgmovie/2007/img/common/point_type_2_bg_on.gif\" width=\"79\"/>, <img alt=\"na\" class=\"arrow\" height=\"10\" src=\"https://ssl.pstatic.net/imgmovie/2007/img/common/icon_na_1.gif\" width=\"7\"/>, <img alt=\"45\" height=\"13\" src=\"https://ssl.pstatic.net/imgmovie/2007/img/common/bullet_r_g45.gif\" width=\"14\"/>, <img alt=\"\" height=\"14\" src=\"https://ssl.pstatic.net/imgmovie/2007/img/common/point_type_2_bg_on.gif\" width=\"79\"/>, <img alt=\"na\" class=\"arrow\" height=\"10\" src=\"https://ssl.pstatic.net/imgmovie/2007/img/common/icon_na_1.gif\" width=\"7\"/>, <img alt=\"46\" height=\"13\" src=\"https://ssl.pstatic.net/imgmovie/2007/img/common/bullet_r_g46.gif\" width=\"14\"/>, <img alt=\"\" height=\"14\" src=\"https://ssl.pstatic.net/imgmovie/2007/img/common/point_type_2_bg_on.gif\" width=\"79\"/>, <img alt=\"na\" class=\"arrow\" height=\"10\" src=\"https://ssl.pstatic.net/imgmovie/2007/img/common/icon_na_1.gif\" width=\"7\"/>, <img alt=\"47\" height=\"13\" src=\"https://ssl.pstatic.net/imgmovie/2007/img/common/bullet_r_g47.gif\" width=\"14\"/>, <img alt=\"\" height=\"14\" src=\"https://ssl.pstatic.net/imgmovie/2007/img/common/point_type_2_bg_on.gif\" width=\"79\"/>, <img alt=\"na\" class=\"arrow\" height=\"10\" src=\"https://ssl.pstatic.net/imgmovie/2007/img/common/icon_na_1.gif\" width=\"7\"/>, <img alt=\"48\" height=\"13\" src=\"https://ssl.pstatic.net/imgmovie/2007/img/common/bullet_r_g48.gif\" width=\"14\"/>, <img alt=\"\" height=\"14\" src=\"https://ssl.pstatic.net/imgmovie/2007/img/common/point_type_2_bg_on.gif\" width=\"79\"/>, <img alt=\"na\" class=\"arrow\" height=\"10\" src=\"https://ssl.pstatic.net/imgmovie/2007/img/common/icon_na_1.gif\" width=\"7\"/>, <img alt=\"49\" height=\"13\" src=\"https://ssl.pstatic.net/imgmovie/2007/img/common/bullet_r_g49.gif\" width=\"14\"/>, <img alt=\"\" height=\"14\" src=\"https://ssl.pstatic.net/imgmovie/2007/img/common/point_type_2_bg_on.gif\" width=\"79\"/>, <img alt=\"na\" class=\"arrow\" height=\"10\" src=\"https://ssl.pstatic.net/imgmovie/2007/img/common/icon_na_1.gif\" width=\"7\"/>, <img alt=\"50\" height=\"13\" src=\"https://ssl.pstatic.net/imgmovie/2007/img/common/bullet_r_g50.gif\" width=\"14\"/>, <img alt=\"\" height=\"14\" src=\"https://ssl.pstatic.net/imgmovie/2007/img/common/point_type_2_bg_on.gif\" width=\"79\"/>, <img alt=\"na\" class=\"arrow\" height=\"10\" src=\"https://ssl.pstatic.net/imgmovie/2007/img/common/icon_na_1.gif\" width=\"7\"/>, <img alt=\"네이버 영화평점랭킹 선정방법\" height=\"13\" src=\"https://ssl.pstatic.net/imgmovie/2007/img/super_db/txt_movie_ranking_01.gif\" width=\"154\"/>, <img alt=\"집계기준\" height=\"11\" src=\"https://ssl.pstatic.net/imgmovie/2007/img/super_db/txt_movie_ranking_01_1.gif\" width=\"39\"/>, <img alt=\"집계기간\" height=\"11\" src=\"https://ssl.pstatic.net/imgmovie/2007/img/super_db/txt_movie_ranking_01_2.gif\" width=\"40\"/>, <img alt=\"표본오차\" height=\"11\" src=\"https://ssl.pstatic.net/imgmovie/2007/img/super_db/txt_movie_ranking_01_3.gif\" width=\"40\"/>, <img alt=\"왜 평점응답자를 300명 이상으로 정하나요?\" height=\"12\" src=\"https://ssl.pstatic.net/imgmovie/2007/img/super_db/txt_movie_ranking_02.gif\" width=\"221\"/>, <img alt=\"표본오차 95% 신뢰수준에서 ±5.65가 무슨 뜻인가요?\" height=\"12\" src=\"https://ssl.pstatic.net/imgmovie/2007/img/super_db/txt_movie_ranking_03.gif\" width=\"271\"/>, <img alt=\"Descriptive Statistics는 어떻게 보는건가요?\" height=\"12\" src=\"https://ssl.pstatic.net/imgmovie/2007/img/super_db/txt_movie_ranking_04.gif\" width=\"234\"/>, <img alt=\"TOP\" height=\"11\" src=\"https://ssl.pstatic.net/imgmovie/2007/img/common/btn_top.gif\" width=\"30\"/>, <img alt=\"\" class=\"clear\" src=\"https://ssl.pstatic.net/imgmovie/2007/img/common/blank.gif\"/>, <img alt=\"영화 인기검색어\" height=\"11\" src=\"https://ssl.pstatic.net/imgmovie/2007/img/super_db/tlt_r_best_movie.gif\" width=\"75\"/>, <img alt=\"순위 변동 없음\" height=\"10\" src=\"https://ssl.pstatic.net/imgmovie/2007/img/common/icon_na_1.gif\" width=\"7\"/>, <img alt=\"순위 변동 없음\" height=\"10\" src=\"https://ssl.pstatic.net/imgmovie/2007/img/common/icon_na_1.gif\" width=\"7\"/>, <img alt=\"순위 변동 없음\" height=\"10\" src=\"https://ssl.pstatic.net/imgmovie/2007/img/common/icon_na_1.gif\" width=\"7\"/>, <img alt=\"순위 상승\" height=\"10\" src=\"https://ssl.pstatic.net/imgmovie/2007/img/common/icon_up_1.gif\" width=\"7\"/>, <img alt=\"순위 상승\" height=\"10\" src=\"https://ssl.pstatic.net/imgmovie/2007/img/common/icon_up_1.gif\" width=\"7\"/>, <img alt=\"영화인 인기검색어\" height=\"11\" src=\"https://ssl.pstatic.net/imgmovie/2007/img/super_db/tlt_r_best_star.gif\" width=\"85\"/>, <img alt=\"\" height=\"10\" src=\"https://ssl.pstatic.net/imgmovie/2007/img/common/icon_na_1.gif\" width=\"7\"/>, <img alt=\"\" height=\"10\" src=\"https://ssl.pstatic.net/imgmovie/2007/img/common/icon_up_1.gif\" width=\"7\"/>, <img alt=\"\" height=\"10\" src=\"https://ssl.pstatic.net/imgmovie/2007/img/common/icon_down_1.gif\" width=\"7\"/>, <img alt=\"\" height=\"10\" src=\"https://ssl.pstatic.net/imgmovie/2007/img/common/icon_na_1.gif\" width=\"7\"/>, <img alt=\"\" height=\"10\" src=\"https://ssl.pstatic.net/imgmovie/2007/img/common/icon_na_1.gif\" width=\"7\"/>, <img alt=\"박스오피스\" height=\"11\" src=\"https://ssl.pstatic.net/imgmovie/2007/img/running/tlt_r_boxoffice.gif\" width=\"51\"/>, <img alt=\"\" class=\"clear\" src=\"https://ssl.pstatic.net/imgmovie/2007/img/common/blank.gif\"/>, <img alt=\"NAVER\" height=\"11\" src=\"https://ssl.pstatic.net/static/movie/2013/07/logo_naver.png\" width=\"63\"/>]\n",
            "182\n",
            "[<img alt=\"01\" height=\"13\" src=\"https://ssl.pstatic.net/imgmovie/2007/img/common/bullet_r_r01.gif\" width=\"14\"/>, <img alt=\"02\" height=\"13\" src=\"https://ssl.pstatic.net/imgmovie/2007/img/common/bullet_r_r02.gif\" width=\"14\"/>, <img alt=\"03\" height=\"13\" src=\"https://ssl.pstatic.net/imgmovie/2007/img/common/bullet_r_r03.gif\" width=\"14\"/>, <img alt=\"04\" height=\"13\" src=\"https://ssl.pstatic.net/imgmovie/2007/img/common/bullet_r_r04.gif\" width=\"14\"/>, <img alt=\"05\" height=\"13\" src=\"https://ssl.pstatic.net/imgmovie/2007/img/common/bullet_r_r05.gif\" width=\"14\"/>, <img alt=\"06\" height=\"13\" src=\"https://ssl.pstatic.net/imgmovie/2007/img/common/bullet_r_r06.gif\" width=\"14\"/>, <img alt=\"07\" height=\"13\" src=\"https://ssl.pstatic.net/imgmovie/2007/img/common/bullet_r_r07.gif\" width=\"14\"/>, <img alt=\"08\" height=\"13\" src=\"https://ssl.pstatic.net/imgmovie/2007/img/common/bullet_r_r08.gif\" width=\"14\"/>, <img alt=\"09\" height=\"13\" src=\"https://ssl.pstatic.net/imgmovie/2007/img/common/bullet_r_r09.gif\" width=\"14\"/>, <img alt=\"010\" height=\"13\" src=\"https://ssl.pstatic.net/imgmovie/2007/img/common/bullet_r_r10.gif\" width=\"14\"/>, <img alt=\"11\" height=\"13\" src=\"https://ssl.pstatic.net/imgmovie/2007/img/common/bullet_r_g11.gif\" width=\"14\"/>, <img alt=\"12\" height=\"13\" src=\"https://ssl.pstatic.net/imgmovie/2007/img/common/bullet_r_g12.gif\" width=\"14\"/>, <img alt=\"13\" height=\"13\" src=\"https://ssl.pstatic.net/imgmovie/2007/img/common/bullet_r_g13.gif\" width=\"14\"/>, <img alt=\"14\" height=\"13\" src=\"https://ssl.pstatic.net/imgmovie/2007/img/common/bullet_r_g14.gif\" width=\"14\"/>, <img alt=\"15\" height=\"13\" src=\"https://ssl.pstatic.net/imgmovie/2007/img/common/bullet_r_g15.gif\" width=\"14\"/>, <img alt=\"16\" height=\"13\" src=\"https://ssl.pstatic.net/imgmovie/2007/img/common/bullet_r_g16.gif\" width=\"14\"/>, <img alt=\"17\" height=\"13\" src=\"https://ssl.pstatic.net/imgmovie/2007/img/common/bullet_r_g17.gif\" width=\"14\"/>, <img alt=\"18\" height=\"13\" src=\"https://ssl.pstatic.net/imgmovie/2007/img/common/bullet_r_g18.gif\" width=\"14\"/>, <img alt=\"19\" height=\"13\" src=\"https://ssl.pstatic.net/imgmovie/2007/img/common/bullet_r_g19.gif\" width=\"14\"/>, <img alt=\"20\" height=\"13\" src=\"https://ssl.pstatic.net/imgmovie/2007/img/common/bullet_r_g20.gif\" width=\"14\"/>, <img alt=\"21\" height=\"13\" src=\"https://ssl.pstatic.net/imgmovie/2007/img/common/bullet_r_g21.gif\" width=\"14\"/>, <img alt=\"22\" height=\"13\" src=\"https://ssl.pstatic.net/imgmovie/2007/img/common/bullet_r_g22.gif\" width=\"14\"/>, <img alt=\"23\" height=\"13\" src=\"https://ssl.pstatic.net/imgmovie/2007/img/common/bullet_r_g23.gif\" width=\"14\"/>, <img alt=\"24\" height=\"13\" src=\"https://ssl.pstatic.net/imgmovie/2007/img/common/bullet_r_g24.gif\" width=\"14\"/>, <img alt=\"25\" height=\"13\" src=\"https://ssl.pstatic.net/imgmovie/2007/img/common/bullet_r_g25.gif\" width=\"14\"/>, <img alt=\"26\" height=\"13\" src=\"https://ssl.pstatic.net/imgmovie/2007/img/common/bullet_r_g26.gif\" width=\"14\"/>, <img alt=\"27\" height=\"13\" src=\"https://ssl.pstatic.net/imgmovie/2007/img/common/bullet_r_g27.gif\" width=\"14\"/>, <img alt=\"28\" height=\"13\" src=\"https://ssl.pstatic.net/imgmovie/2007/img/common/bullet_r_g28.gif\" width=\"14\"/>, <img alt=\"29\" height=\"13\" src=\"https://ssl.pstatic.net/imgmovie/2007/img/common/bullet_r_g29.gif\" width=\"14\"/>, <img alt=\"30\" height=\"13\" src=\"https://ssl.pstatic.net/imgmovie/2007/img/common/bullet_r_g30.gif\" width=\"14\"/>, <img alt=\"31\" height=\"13\" src=\"https://ssl.pstatic.net/imgmovie/2007/img/common/bullet_r_g31.gif\" width=\"14\"/>, <img alt=\"32\" height=\"13\" src=\"https://ssl.pstatic.net/imgmovie/2007/img/common/bullet_r_g32.gif\" width=\"14\"/>, <img alt=\"33\" height=\"13\" src=\"https://ssl.pstatic.net/imgmovie/2007/img/common/bullet_r_g33.gif\" width=\"14\"/>, <img alt=\"34\" height=\"13\" src=\"https://ssl.pstatic.net/imgmovie/2007/img/common/bullet_r_g34.gif\" width=\"14\"/>, <img alt=\"35\" height=\"13\" src=\"https://ssl.pstatic.net/imgmovie/2007/img/common/bullet_r_g35.gif\" width=\"14\"/>, <img alt=\"36\" height=\"13\" src=\"https://ssl.pstatic.net/imgmovie/2007/img/common/bullet_r_g36.gif\" width=\"14\"/>, <img alt=\"37\" height=\"13\" src=\"https://ssl.pstatic.net/imgmovie/2007/img/common/bullet_r_g37.gif\" width=\"14\"/>, <img alt=\"38\" height=\"13\" src=\"https://ssl.pstatic.net/imgmovie/2007/img/common/bullet_r_g38.gif\" width=\"14\"/>, <img alt=\"39\" height=\"13\" src=\"https://ssl.pstatic.net/imgmovie/2007/img/common/bullet_r_g39.gif\" width=\"14\"/>, <img alt=\"40\" height=\"13\" src=\"https://ssl.pstatic.net/imgmovie/2007/img/common/bullet_r_g40.gif\" width=\"14\"/>, <img alt=\"41\" height=\"13\" src=\"https://ssl.pstatic.net/imgmovie/2007/img/common/bullet_r_g41.gif\" width=\"14\"/>, <img alt=\"42\" height=\"13\" src=\"https://ssl.pstatic.net/imgmovie/2007/img/common/bullet_r_g42.gif\" width=\"14\"/>, <img alt=\"43\" height=\"13\" src=\"https://ssl.pstatic.net/imgmovie/2007/img/common/bullet_r_g43.gif\" width=\"14\"/>, <img alt=\"44\" height=\"13\" src=\"https://ssl.pstatic.net/imgmovie/2007/img/common/bullet_r_g44.gif\" width=\"14\"/>, <img alt=\"45\" height=\"13\" src=\"https://ssl.pstatic.net/imgmovie/2007/img/common/bullet_r_g45.gif\" width=\"14\"/>, <img alt=\"46\" height=\"13\" src=\"https://ssl.pstatic.net/imgmovie/2007/img/common/bullet_r_g46.gif\" width=\"14\"/>, <img alt=\"47\" height=\"13\" src=\"https://ssl.pstatic.net/imgmovie/2007/img/common/bullet_r_g47.gif\" width=\"14\"/>, <img alt=\"48\" height=\"13\" src=\"https://ssl.pstatic.net/imgmovie/2007/img/common/bullet_r_g48.gif\" width=\"14\"/>, <img alt=\"49\" height=\"13\" src=\"https://ssl.pstatic.net/imgmovie/2007/img/common/bullet_r_g49.gif\" width=\"14\"/>, <img alt=\"50\" height=\"13\" src=\"https://ssl.pstatic.net/imgmovie/2007/img/common/bullet_r_g50.gif\" width=\"14\"/>]\n",
            "50\n"
          ]
        }
      ]
    },
    {
      "cell_type": "code",
      "source": [
        "rank = []\n",
        "title = []\n",
        "point = []\n",
        "\n",
        "rank_html = bs_movie.select('td.ac img[alt]')  # css에서 select 지정할 때 이렇게 했었음 / td에 있는 ac라는 class / img[alt] : 속성명 지정\n",
        "print(rank_html)\n",
        "print(len(rank_html)) # td안에 img가 100개 있는 것\n",
        "\n",
        "pattern = re.compile(\"^[0-9]+$\")\n",
        "for element in rank_html :\n",
        "  #element['alt'] : na, up, down\n",
        "  \n",
        "  #if(element['alt'] != 'na') :\n",
        "    #rank.append(element)\n",
        "\n",
        "  #if(pattern.search(element['alt'])) :\n",
        "     #rank.append(element)\n",
        "\n",
        "  #print(element)  # element 요소 확인하려고 검색함\n",
        "  if element['alt'] not in ['na', 'up', 'down'] :\n",
        "     rank.append(element)  # 밑에서 ['alt']  이거 할거라서 위에서는 빼줌!\n",
        "\n",
        "print(rank)\n",
        "print(len(rank))    \n"
      ],
      "metadata": {
        "colab": {
          "base_uri": "https://localhost:8080/"
        },
        "id": "P62l0FWUAqoX",
        "outputId": "a9c2fd70-c9eb-4a3b-846a-106f22751d32"
      },
      "execution_count": null,
      "outputs": [
        {
          "output_type": "stream",
          "name": "stdout",
          "text": [
            "[<img alt=\"01\" height=\"13\" src=\"https://ssl.pstatic.net/imgmovie/2007/img/common/bullet_r_r01.gif\" width=\"14\"/>, <img alt=\"na\" class=\"arrow\" height=\"10\" src=\"https://ssl.pstatic.net/imgmovie/2007/img/common/icon_na_1.gif\" width=\"7\"/>, <img alt=\"02\" height=\"13\" src=\"https://ssl.pstatic.net/imgmovie/2007/img/common/bullet_r_r02.gif\" width=\"14\"/>, <img alt=\"na\" class=\"arrow\" height=\"10\" src=\"https://ssl.pstatic.net/imgmovie/2007/img/common/icon_na_1.gif\" width=\"7\"/>, <img alt=\"03\" height=\"13\" src=\"https://ssl.pstatic.net/imgmovie/2007/img/common/bullet_r_r03.gif\" width=\"14\"/>, <img alt=\"na\" class=\"arrow\" height=\"10\" src=\"https://ssl.pstatic.net/imgmovie/2007/img/common/icon_na_1.gif\" width=\"7\"/>, <img alt=\"04\" height=\"13\" src=\"https://ssl.pstatic.net/imgmovie/2007/img/common/bullet_r_r04.gif\" width=\"14\"/>, <img alt=\"na\" class=\"arrow\" height=\"10\" src=\"https://ssl.pstatic.net/imgmovie/2007/img/common/icon_na_1.gif\" width=\"7\"/>, <img alt=\"05\" height=\"13\" src=\"https://ssl.pstatic.net/imgmovie/2007/img/common/bullet_r_r05.gif\" width=\"14\"/>, <img alt=\"na\" class=\"arrow\" height=\"10\" src=\"https://ssl.pstatic.net/imgmovie/2007/img/common/icon_na_1.gif\" width=\"7\"/>, <img alt=\"06\" height=\"13\" src=\"https://ssl.pstatic.net/imgmovie/2007/img/common/bullet_r_r06.gif\" width=\"14\"/>, <img alt=\"na\" class=\"arrow\" height=\"10\" src=\"https://ssl.pstatic.net/imgmovie/2007/img/common/icon_na_1.gif\" width=\"7\"/>, <img alt=\"07\" height=\"13\" src=\"https://ssl.pstatic.net/imgmovie/2007/img/common/bullet_r_r07.gif\" width=\"14\"/>, <img alt=\"na\" class=\"arrow\" height=\"10\" src=\"https://ssl.pstatic.net/imgmovie/2007/img/common/icon_na_1.gif\" width=\"7\"/>, <img alt=\"08\" height=\"13\" src=\"https://ssl.pstatic.net/imgmovie/2007/img/common/bullet_r_r08.gif\" width=\"14\"/>, <img alt=\"na\" class=\"arrow\" height=\"10\" src=\"https://ssl.pstatic.net/imgmovie/2007/img/common/icon_na_1.gif\" width=\"7\"/>, <img alt=\"09\" height=\"13\" src=\"https://ssl.pstatic.net/imgmovie/2007/img/common/bullet_r_r09.gif\" width=\"14\"/>, <img alt=\"na\" class=\"arrow\" height=\"10\" src=\"https://ssl.pstatic.net/imgmovie/2007/img/common/icon_na_1.gif\" width=\"7\"/>, <img alt=\"010\" height=\"13\" src=\"https://ssl.pstatic.net/imgmovie/2007/img/common/bullet_r_r10.gif\" width=\"14\"/>, <img alt=\"na\" class=\"arrow\" height=\"10\" src=\"https://ssl.pstatic.net/imgmovie/2007/img/common/icon_na_1.gif\" width=\"7\"/>, <img alt=\"11\" height=\"13\" src=\"https://ssl.pstatic.net/imgmovie/2007/img/common/bullet_r_g11.gif\" width=\"14\"/>, <img alt=\"na\" class=\"arrow\" height=\"10\" src=\"https://ssl.pstatic.net/imgmovie/2007/img/common/icon_na_1.gif\" width=\"7\"/>, <img alt=\"12\" height=\"13\" src=\"https://ssl.pstatic.net/imgmovie/2007/img/common/bullet_r_g12.gif\" width=\"14\"/>, <img alt=\"na\" class=\"arrow\" height=\"10\" src=\"https://ssl.pstatic.net/imgmovie/2007/img/common/icon_na_1.gif\" width=\"7\"/>, <img alt=\"13\" height=\"13\" src=\"https://ssl.pstatic.net/imgmovie/2007/img/common/bullet_r_g13.gif\" width=\"14\"/>, <img alt=\"na\" class=\"arrow\" height=\"10\" src=\"https://ssl.pstatic.net/imgmovie/2007/img/common/icon_na_1.gif\" width=\"7\"/>, <img alt=\"14\" height=\"13\" src=\"https://ssl.pstatic.net/imgmovie/2007/img/common/bullet_r_g14.gif\" width=\"14\"/>, <img alt=\"na\" class=\"arrow\" height=\"10\" src=\"https://ssl.pstatic.net/imgmovie/2007/img/common/icon_na_1.gif\" width=\"7\"/>, <img alt=\"15\" height=\"13\" src=\"https://ssl.pstatic.net/imgmovie/2007/img/common/bullet_r_g15.gif\" width=\"14\"/>, <img alt=\"na\" class=\"arrow\" height=\"10\" src=\"https://ssl.pstatic.net/imgmovie/2007/img/common/icon_na_1.gif\" width=\"7\"/>, <img alt=\"16\" height=\"13\" src=\"https://ssl.pstatic.net/imgmovie/2007/img/common/bullet_r_g16.gif\" width=\"14\"/>, <img alt=\"na\" class=\"arrow\" height=\"10\" src=\"https://ssl.pstatic.net/imgmovie/2007/img/common/icon_na_1.gif\" width=\"7\"/>, <img alt=\"17\" height=\"13\" src=\"https://ssl.pstatic.net/imgmovie/2007/img/common/bullet_r_g17.gif\" width=\"14\"/>, <img alt=\"na\" class=\"arrow\" height=\"10\" src=\"https://ssl.pstatic.net/imgmovie/2007/img/common/icon_na_1.gif\" width=\"7\"/>, <img alt=\"18\" height=\"13\" src=\"https://ssl.pstatic.net/imgmovie/2007/img/common/bullet_r_g18.gif\" width=\"14\"/>, <img alt=\"na\" class=\"arrow\" height=\"10\" src=\"https://ssl.pstatic.net/imgmovie/2007/img/common/icon_na_1.gif\" width=\"7\"/>, <img alt=\"19\" height=\"13\" src=\"https://ssl.pstatic.net/imgmovie/2007/img/common/bullet_r_g19.gif\" width=\"14\"/>, <img alt=\"na\" class=\"arrow\" height=\"10\" src=\"https://ssl.pstatic.net/imgmovie/2007/img/common/icon_na_1.gif\" width=\"7\"/>, <img alt=\"20\" height=\"13\" src=\"https://ssl.pstatic.net/imgmovie/2007/img/common/bullet_r_g20.gif\" width=\"14\"/>, <img alt=\"na\" class=\"arrow\" height=\"10\" src=\"https://ssl.pstatic.net/imgmovie/2007/img/common/icon_na_1.gif\" width=\"7\"/>, <img alt=\"21\" height=\"13\" src=\"https://ssl.pstatic.net/imgmovie/2007/img/common/bullet_r_g21.gif\" width=\"14\"/>, <img alt=\"na\" class=\"arrow\" height=\"10\" src=\"https://ssl.pstatic.net/imgmovie/2007/img/common/icon_na_1.gif\" width=\"7\"/>, <img alt=\"22\" height=\"13\" src=\"https://ssl.pstatic.net/imgmovie/2007/img/common/bullet_r_g22.gif\" width=\"14\"/>, <img alt=\"na\" class=\"arrow\" height=\"10\" src=\"https://ssl.pstatic.net/imgmovie/2007/img/common/icon_na_1.gif\" width=\"7\"/>, <img alt=\"23\" height=\"13\" src=\"https://ssl.pstatic.net/imgmovie/2007/img/common/bullet_r_g23.gif\" width=\"14\"/>, <img alt=\"na\" class=\"arrow\" height=\"10\" src=\"https://ssl.pstatic.net/imgmovie/2007/img/common/icon_na_1.gif\" width=\"7\"/>, <img alt=\"24\" height=\"13\" src=\"https://ssl.pstatic.net/imgmovie/2007/img/common/bullet_r_g24.gif\" width=\"14\"/>, <img alt=\"na\" class=\"arrow\" height=\"10\" src=\"https://ssl.pstatic.net/imgmovie/2007/img/common/icon_na_1.gif\" width=\"7\"/>, <img alt=\"25\" height=\"13\" src=\"https://ssl.pstatic.net/imgmovie/2007/img/common/bullet_r_g25.gif\" width=\"14\"/>, <img alt=\"na\" class=\"arrow\" height=\"10\" src=\"https://ssl.pstatic.net/imgmovie/2007/img/common/icon_na_1.gif\" width=\"7\"/>, <img alt=\"26\" height=\"13\" src=\"https://ssl.pstatic.net/imgmovie/2007/img/common/bullet_r_g26.gif\" width=\"14\"/>, <img alt=\"na\" class=\"arrow\" height=\"10\" src=\"https://ssl.pstatic.net/imgmovie/2007/img/common/icon_na_1.gif\" width=\"7\"/>, <img alt=\"27\" height=\"13\" src=\"https://ssl.pstatic.net/imgmovie/2007/img/common/bullet_r_g27.gif\" width=\"14\"/>, <img alt=\"na\" class=\"arrow\" height=\"10\" src=\"https://ssl.pstatic.net/imgmovie/2007/img/common/icon_na_1.gif\" width=\"7\"/>, <img alt=\"28\" height=\"13\" src=\"https://ssl.pstatic.net/imgmovie/2007/img/common/bullet_r_g28.gif\" width=\"14\"/>, <img alt=\"na\" class=\"arrow\" height=\"10\" src=\"https://ssl.pstatic.net/imgmovie/2007/img/common/icon_na_1.gif\" width=\"7\"/>, <img alt=\"29\" height=\"13\" src=\"https://ssl.pstatic.net/imgmovie/2007/img/common/bullet_r_g29.gif\" width=\"14\"/>, <img alt=\"na\" class=\"arrow\" height=\"10\" src=\"https://ssl.pstatic.net/imgmovie/2007/img/common/icon_na_1.gif\" width=\"7\"/>, <img alt=\"30\" height=\"13\" src=\"https://ssl.pstatic.net/imgmovie/2007/img/common/bullet_r_g30.gif\" width=\"14\"/>, <img alt=\"up\" class=\"arrow\" height=\"10\" src=\"https://ssl.pstatic.net/imgmovie/2007/img/common/icon_up_1.gif\" width=\"7\"/>, <img alt=\"31\" height=\"13\" src=\"https://ssl.pstatic.net/imgmovie/2007/img/common/bullet_r_g31.gif\" width=\"14\"/>, <img alt=\"down\" class=\"arrow\" height=\"10\" src=\"https://ssl.pstatic.net/imgmovie/2007/img/common/icon_down_1.gif\" width=\"7\"/>, <img alt=\"32\" height=\"13\" src=\"https://ssl.pstatic.net/imgmovie/2007/img/common/bullet_r_g32.gif\" width=\"14\"/>, <img alt=\"na\" class=\"arrow\" height=\"10\" src=\"https://ssl.pstatic.net/imgmovie/2007/img/common/icon_na_1.gif\" width=\"7\"/>, <img alt=\"33\" height=\"13\" src=\"https://ssl.pstatic.net/imgmovie/2007/img/common/bullet_r_g33.gif\" width=\"14\"/>, <img alt=\"na\" class=\"arrow\" height=\"10\" src=\"https://ssl.pstatic.net/imgmovie/2007/img/common/icon_na_1.gif\" width=\"7\"/>, <img alt=\"34\" height=\"13\" src=\"https://ssl.pstatic.net/imgmovie/2007/img/common/bullet_r_g34.gif\" width=\"14\"/>, <img alt=\"na\" class=\"arrow\" height=\"10\" src=\"https://ssl.pstatic.net/imgmovie/2007/img/common/icon_na_1.gif\" width=\"7\"/>, <img alt=\"35\" height=\"13\" src=\"https://ssl.pstatic.net/imgmovie/2007/img/common/bullet_r_g35.gif\" width=\"14\"/>, <img alt=\"na\" class=\"arrow\" height=\"10\" src=\"https://ssl.pstatic.net/imgmovie/2007/img/common/icon_na_1.gif\" width=\"7\"/>, <img alt=\"36\" height=\"13\" src=\"https://ssl.pstatic.net/imgmovie/2007/img/common/bullet_r_g36.gif\" width=\"14\"/>, <img alt=\"na\" class=\"arrow\" height=\"10\" src=\"https://ssl.pstatic.net/imgmovie/2007/img/common/icon_na_1.gif\" width=\"7\"/>, <img alt=\"37\" height=\"13\" src=\"https://ssl.pstatic.net/imgmovie/2007/img/common/bullet_r_g37.gif\" width=\"14\"/>, <img alt=\"na\" class=\"arrow\" height=\"10\" src=\"https://ssl.pstatic.net/imgmovie/2007/img/common/icon_na_1.gif\" width=\"7\"/>, <img alt=\"38\" height=\"13\" src=\"https://ssl.pstatic.net/imgmovie/2007/img/common/bullet_r_g38.gif\" width=\"14\"/>, <img alt=\"na\" class=\"arrow\" height=\"10\" src=\"https://ssl.pstatic.net/imgmovie/2007/img/common/icon_na_1.gif\" width=\"7\"/>, <img alt=\"39\" height=\"13\" src=\"https://ssl.pstatic.net/imgmovie/2007/img/common/bullet_r_g39.gif\" width=\"14\"/>, <img alt=\"na\" class=\"arrow\" height=\"10\" src=\"https://ssl.pstatic.net/imgmovie/2007/img/common/icon_na_1.gif\" width=\"7\"/>, <img alt=\"40\" height=\"13\" src=\"https://ssl.pstatic.net/imgmovie/2007/img/common/bullet_r_g40.gif\" width=\"14\"/>, <img alt=\"na\" class=\"arrow\" height=\"10\" src=\"https://ssl.pstatic.net/imgmovie/2007/img/common/icon_na_1.gif\" width=\"7\"/>, <img alt=\"41\" height=\"13\" src=\"https://ssl.pstatic.net/imgmovie/2007/img/common/bullet_r_g41.gif\" width=\"14\"/>, <img alt=\"na\" class=\"arrow\" height=\"10\" src=\"https://ssl.pstatic.net/imgmovie/2007/img/common/icon_na_1.gif\" width=\"7\"/>, <img alt=\"42\" height=\"13\" src=\"https://ssl.pstatic.net/imgmovie/2007/img/common/bullet_r_g42.gif\" width=\"14\"/>, <img alt=\"na\" class=\"arrow\" height=\"10\" src=\"https://ssl.pstatic.net/imgmovie/2007/img/common/icon_na_1.gif\" width=\"7\"/>, <img alt=\"43\" height=\"13\" src=\"https://ssl.pstatic.net/imgmovie/2007/img/common/bullet_r_g43.gif\" width=\"14\"/>, <img alt=\"na\" class=\"arrow\" height=\"10\" src=\"https://ssl.pstatic.net/imgmovie/2007/img/common/icon_na_1.gif\" width=\"7\"/>, <img alt=\"44\" height=\"13\" src=\"https://ssl.pstatic.net/imgmovie/2007/img/common/bullet_r_g44.gif\" width=\"14\"/>, <img alt=\"na\" class=\"arrow\" height=\"10\" src=\"https://ssl.pstatic.net/imgmovie/2007/img/common/icon_na_1.gif\" width=\"7\"/>, <img alt=\"45\" height=\"13\" src=\"https://ssl.pstatic.net/imgmovie/2007/img/common/bullet_r_g45.gif\" width=\"14\"/>, <img alt=\"na\" class=\"arrow\" height=\"10\" src=\"https://ssl.pstatic.net/imgmovie/2007/img/common/icon_na_1.gif\" width=\"7\"/>, <img alt=\"46\" height=\"13\" src=\"https://ssl.pstatic.net/imgmovie/2007/img/common/bullet_r_g46.gif\" width=\"14\"/>, <img alt=\"na\" class=\"arrow\" height=\"10\" src=\"https://ssl.pstatic.net/imgmovie/2007/img/common/icon_na_1.gif\" width=\"7\"/>, <img alt=\"47\" height=\"13\" src=\"https://ssl.pstatic.net/imgmovie/2007/img/common/bullet_r_g47.gif\" width=\"14\"/>, <img alt=\"na\" class=\"arrow\" height=\"10\" src=\"https://ssl.pstatic.net/imgmovie/2007/img/common/icon_na_1.gif\" width=\"7\"/>, <img alt=\"48\" height=\"13\" src=\"https://ssl.pstatic.net/imgmovie/2007/img/common/bullet_r_g48.gif\" width=\"14\"/>, <img alt=\"na\" class=\"arrow\" height=\"10\" src=\"https://ssl.pstatic.net/imgmovie/2007/img/common/icon_na_1.gif\" width=\"7\"/>, <img alt=\"49\" height=\"13\" src=\"https://ssl.pstatic.net/imgmovie/2007/img/common/bullet_r_g49.gif\" width=\"14\"/>, <img alt=\"na\" class=\"arrow\" height=\"10\" src=\"https://ssl.pstatic.net/imgmovie/2007/img/common/icon_na_1.gif\" width=\"7\"/>, <img alt=\"50\" height=\"13\" src=\"https://ssl.pstatic.net/imgmovie/2007/img/common/bullet_r_g50.gif\" width=\"14\"/>, <img alt=\"na\" class=\"arrow\" height=\"10\" src=\"https://ssl.pstatic.net/imgmovie/2007/img/common/icon_na_1.gif\" width=\"7\"/>]\n",
            "100\n",
            "[<img alt=\"01\" height=\"13\" src=\"https://ssl.pstatic.net/imgmovie/2007/img/common/bullet_r_r01.gif\" width=\"14\"/>, <img alt=\"02\" height=\"13\" src=\"https://ssl.pstatic.net/imgmovie/2007/img/common/bullet_r_r02.gif\" width=\"14\"/>, <img alt=\"03\" height=\"13\" src=\"https://ssl.pstatic.net/imgmovie/2007/img/common/bullet_r_r03.gif\" width=\"14\"/>, <img alt=\"04\" height=\"13\" src=\"https://ssl.pstatic.net/imgmovie/2007/img/common/bullet_r_r04.gif\" width=\"14\"/>, <img alt=\"05\" height=\"13\" src=\"https://ssl.pstatic.net/imgmovie/2007/img/common/bullet_r_r05.gif\" width=\"14\"/>, <img alt=\"06\" height=\"13\" src=\"https://ssl.pstatic.net/imgmovie/2007/img/common/bullet_r_r06.gif\" width=\"14\"/>, <img alt=\"07\" height=\"13\" src=\"https://ssl.pstatic.net/imgmovie/2007/img/common/bullet_r_r07.gif\" width=\"14\"/>, <img alt=\"08\" height=\"13\" src=\"https://ssl.pstatic.net/imgmovie/2007/img/common/bullet_r_r08.gif\" width=\"14\"/>, <img alt=\"09\" height=\"13\" src=\"https://ssl.pstatic.net/imgmovie/2007/img/common/bullet_r_r09.gif\" width=\"14\"/>, <img alt=\"010\" height=\"13\" src=\"https://ssl.pstatic.net/imgmovie/2007/img/common/bullet_r_r10.gif\" width=\"14\"/>, <img alt=\"11\" height=\"13\" src=\"https://ssl.pstatic.net/imgmovie/2007/img/common/bullet_r_g11.gif\" width=\"14\"/>, <img alt=\"12\" height=\"13\" src=\"https://ssl.pstatic.net/imgmovie/2007/img/common/bullet_r_g12.gif\" width=\"14\"/>, <img alt=\"13\" height=\"13\" src=\"https://ssl.pstatic.net/imgmovie/2007/img/common/bullet_r_g13.gif\" width=\"14\"/>, <img alt=\"14\" height=\"13\" src=\"https://ssl.pstatic.net/imgmovie/2007/img/common/bullet_r_g14.gif\" width=\"14\"/>, <img alt=\"15\" height=\"13\" src=\"https://ssl.pstatic.net/imgmovie/2007/img/common/bullet_r_g15.gif\" width=\"14\"/>, <img alt=\"16\" height=\"13\" src=\"https://ssl.pstatic.net/imgmovie/2007/img/common/bullet_r_g16.gif\" width=\"14\"/>, <img alt=\"17\" height=\"13\" src=\"https://ssl.pstatic.net/imgmovie/2007/img/common/bullet_r_g17.gif\" width=\"14\"/>, <img alt=\"18\" height=\"13\" src=\"https://ssl.pstatic.net/imgmovie/2007/img/common/bullet_r_g18.gif\" width=\"14\"/>, <img alt=\"19\" height=\"13\" src=\"https://ssl.pstatic.net/imgmovie/2007/img/common/bullet_r_g19.gif\" width=\"14\"/>, <img alt=\"20\" height=\"13\" src=\"https://ssl.pstatic.net/imgmovie/2007/img/common/bullet_r_g20.gif\" width=\"14\"/>, <img alt=\"21\" height=\"13\" src=\"https://ssl.pstatic.net/imgmovie/2007/img/common/bullet_r_g21.gif\" width=\"14\"/>, <img alt=\"22\" height=\"13\" src=\"https://ssl.pstatic.net/imgmovie/2007/img/common/bullet_r_g22.gif\" width=\"14\"/>, <img alt=\"23\" height=\"13\" src=\"https://ssl.pstatic.net/imgmovie/2007/img/common/bullet_r_g23.gif\" width=\"14\"/>, <img alt=\"24\" height=\"13\" src=\"https://ssl.pstatic.net/imgmovie/2007/img/common/bullet_r_g24.gif\" width=\"14\"/>, <img alt=\"25\" height=\"13\" src=\"https://ssl.pstatic.net/imgmovie/2007/img/common/bullet_r_g25.gif\" width=\"14\"/>, <img alt=\"26\" height=\"13\" src=\"https://ssl.pstatic.net/imgmovie/2007/img/common/bullet_r_g26.gif\" width=\"14\"/>, <img alt=\"27\" height=\"13\" src=\"https://ssl.pstatic.net/imgmovie/2007/img/common/bullet_r_g27.gif\" width=\"14\"/>, <img alt=\"28\" height=\"13\" src=\"https://ssl.pstatic.net/imgmovie/2007/img/common/bullet_r_g28.gif\" width=\"14\"/>, <img alt=\"29\" height=\"13\" src=\"https://ssl.pstatic.net/imgmovie/2007/img/common/bullet_r_g29.gif\" width=\"14\"/>, <img alt=\"30\" height=\"13\" src=\"https://ssl.pstatic.net/imgmovie/2007/img/common/bullet_r_g30.gif\" width=\"14\"/>, <img alt=\"31\" height=\"13\" src=\"https://ssl.pstatic.net/imgmovie/2007/img/common/bullet_r_g31.gif\" width=\"14\"/>, <img alt=\"32\" height=\"13\" src=\"https://ssl.pstatic.net/imgmovie/2007/img/common/bullet_r_g32.gif\" width=\"14\"/>, <img alt=\"33\" height=\"13\" src=\"https://ssl.pstatic.net/imgmovie/2007/img/common/bullet_r_g33.gif\" width=\"14\"/>, <img alt=\"34\" height=\"13\" src=\"https://ssl.pstatic.net/imgmovie/2007/img/common/bullet_r_g34.gif\" width=\"14\"/>, <img alt=\"35\" height=\"13\" src=\"https://ssl.pstatic.net/imgmovie/2007/img/common/bullet_r_g35.gif\" width=\"14\"/>, <img alt=\"36\" height=\"13\" src=\"https://ssl.pstatic.net/imgmovie/2007/img/common/bullet_r_g36.gif\" width=\"14\"/>, <img alt=\"37\" height=\"13\" src=\"https://ssl.pstatic.net/imgmovie/2007/img/common/bullet_r_g37.gif\" width=\"14\"/>, <img alt=\"38\" height=\"13\" src=\"https://ssl.pstatic.net/imgmovie/2007/img/common/bullet_r_g38.gif\" width=\"14\"/>, <img alt=\"39\" height=\"13\" src=\"https://ssl.pstatic.net/imgmovie/2007/img/common/bullet_r_g39.gif\" width=\"14\"/>, <img alt=\"40\" height=\"13\" src=\"https://ssl.pstatic.net/imgmovie/2007/img/common/bullet_r_g40.gif\" width=\"14\"/>, <img alt=\"41\" height=\"13\" src=\"https://ssl.pstatic.net/imgmovie/2007/img/common/bullet_r_g41.gif\" width=\"14\"/>, <img alt=\"42\" height=\"13\" src=\"https://ssl.pstatic.net/imgmovie/2007/img/common/bullet_r_g42.gif\" width=\"14\"/>, <img alt=\"43\" height=\"13\" src=\"https://ssl.pstatic.net/imgmovie/2007/img/common/bullet_r_g43.gif\" width=\"14\"/>, <img alt=\"44\" height=\"13\" src=\"https://ssl.pstatic.net/imgmovie/2007/img/common/bullet_r_g44.gif\" width=\"14\"/>, <img alt=\"45\" height=\"13\" src=\"https://ssl.pstatic.net/imgmovie/2007/img/common/bullet_r_g45.gif\" width=\"14\"/>, <img alt=\"46\" height=\"13\" src=\"https://ssl.pstatic.net/imgmovie/2007/img/common/bullet_r_g46.gif\" width=\"14\"/>, <img alt=\"47\" height=\"13\" src=\"https://ssl.pstatic.net/imgmovie/2007/img/common/bullet_r_g47.gif\" width=\"14\"/>, <img alt=\"48\" height=\"13\" src=\"https://ssl.pstatic.net/imgmovie/2007/img/common/bullet_r_g48.gif\" width=\"14\"/>, <img alt=\"49\" height=\"13\" src=\"https://ssl.pstatic.net/imgmovie/2007/img/common/bullet_r_g49.gif\" width=\"14\"/>, <img alt=\"50\" height=\"13\" src=\"https://ssl.pstatic.net/imgmovie/2007/img/common/bullet_r_g50.gif\" width=\"14\"/>]\n",
            "50\n"
          ]
        }
      ]
    },
    {
      "cell_type": "code",
      "source": [
        "title_html = bs_movie.select('td.title')\n",
        "print(title_html)\n",
        "print(len(title_html))  # 50"
      ],
      "metadata": {
        "colab": {
          "base_uri": "https://localhost:8080/"
        },
        "id": "WxsLCRFNE8Zn",
        "outputId": "0659262d-587c-4744-91da-dd573b91901c"
      },
      "execution_count": null,
      "outputs": [
        {
          "output_type": "stream",
          "name": "stdout",
          "text": [
            "[<td class=\"title\">\n",
            "<div class=\"tit5\">\n",
            "<a href=\"/movie/bi/mi/basic.naver?code=81888\" title=\"탑건: 매버릭\">탑건: 매버릭</a>\n",
            "</div>\n",
            "</td>, <td class=\"title\">\n",
            "<div class=\"tit5\">\n",
            "<a href=\"/movie/bi/mi/basic.naver?code=191613\" title=\"클라우스\">클라우스</a>\n",
            "</div>\n",
            "</td>, <td class=\"title\">\n",
            "<div class=\"tit5\">\n",
            "<a href=\"/movie/bi/mi/basic.naver?code=171539\" title=\"그린 북\">그린 북</a>\n",
            "</div>\n",
            "</td>, <td class=\"title\">\n",
            "<div class=\"tit5\">\n",
            "<a href=\"/movie/bi/mi/basic.naver?code=174830\" title=\"가버나움\">가버나움</a>\n",
            "</div>\n",
            "</td>, <td class=\"title\">\n",
            "<div class=\"tit5\">\n",
            "<a href=\"/movie/bi/mi/basic.naver?code=213364\" title=\"인생은 뷰티풀: 비타돌체\">인생은 뷰티풀: 비타돌체</a>\n",
            "</div>\n",
            "</td>, <td class=\"title\">\n",
            "<div class=\"tit5\">\n",
            "<a href=\"/movie/bi/mi/basic.naver?code=186114\" title=\"밥정\">밥정</a>\n",
            "</div>\n",
            "</td>, <td class=\"title\">\n",
            "<div class=\"tit5\">\n",
            "<a href=\"/movie/bi/mi/basic.naver?code=144584\" title=\"할머니의 먼 집\">할머니의 먼 집</a>\n",
            "</div>\n",
            "</td>, <td class=\"title\">\n",
            "<div class=\"tit5\">\n",
            "<a href=\"/movie/bi/mi/basic.naver?code=144906\" title=\"베일리 어게인\">베일리 어게인</a>\n",
            "</div>\n",
            "</td>, <td class=\"title\">\n",
            "<div class=\"tit5\">\n",
            "<a href=\"/movie/bi/mi/basic.naver?code=151196\" title=\"원더\">원더</a>\n",
            "</div>\n",
            "</td>, <td class=\"title\">\n",
            "<div class=\"tit5\">\n",
            "<a href=\"/movie/bi/mi/basic.naver?code=169240\" title=\"아일라\">아일라</a>\n",
            "</div>\n",
            "</td>, <td class=\"title\">\n",
            "<div class=\"tit5\">\n",
            "<a href=\"/movie/bi/mi/basic.naver?code=192613\" title=\"디지몬 어드벤처 라스트 에볼루션 : 인연\">디지몬 어드벤처 라스트 에볼루션 : 인연</a>\n",
            "</div>\n",
            "</td>, <td class=\"title\">\n",
            "<div class=\"tit5\">\n",
            "<a href=\"/movie/bi/mi/basic.naver?code=196843\" title=\"극장판 바이올렛 에버가든\">극장판 바이올렛 에버가든</a>\n",
            "</div>\n",
            "</td>, <td class=\"title\">\n",
            "<div class=\"tit5\">\n",
            "<a href=\"/movie/bi/mi/basic.naver?code=157243\" title=\"당갈\">당갈</a>\n",
            "</div>\n",
            "</td>, <td class=\"title\">\n",
            "<div class=\"tit5\">\n",
            "<a href=\"/movie/bi/mi/basic.naver?code=221031\" title=\"아바타 리마스터링\">아바타 리마스터링</a>\n",
            "</div>\n",
            "</td>, <td class=\"title\">\n",
            "<div class=\"tit5\">\n",
            "<a href=\"/movie/bi/mi/basic.naver?code=181710\" title=\"포드 V 페라리\">포드 V 페라리</a>\n",
            "</div>\n",
            "</td>, <td class=\"title\">\n",
            "<div class=\"tit5\">\n",
            "<a href=\"/movie/bi/mi/basic.naver?code=175092\" title=\"먼 훗날 우리\">먼 훗날 우리</a>\n",
            "</div>\n",
            "</td>, <td class=\"title\">\n",
            "<div class=\"tit5\">\n",
            "<a href=\"/movie/bi/mi/basic.naver?code=223800\" title=\"더 퍼스트 슬램덩크\">더 퍼스트 슬램덩크</a>\n",
            "</div>\n",
            "</td>, <td class=\"title\">\n",
            "<div class=\"tit5\">\n",
            "<a href=\"/movie/bi/mi/basic.naver?code=17421\" title=\"쇼생크 탈출\">쇼생크 탈출</a>\n",
            "</div>\n",
            "</td>, <td class=\"title\">\n",
            "<div class=\"tit5\">\n",
            "<a href=\"/movie/bi/mi/basic.naver?code=179518\" title=\"주전장\">주전장</a>\n",
            "</div>\n",
            "</td>, <td class=\"title\">\n",
            "<div class=\"tit5\">\n",
            "<a href=\"/movie/bi/mi/basic.naver?code=10200\" title=\"터미네이터 2:오리지널\">터미네이터 2:오리지널</a>\n",
            "</div>\n",
            "</td>, <td class=\"title\">\n",
            "<div class=\"tit5\">\n",
            "<a href=\"/movie/bi/mi/basic.naver?code=154667\" title=\"덕구\">덕구</a>\n",
            "</div>\n",
            "</td>, <td class=\"title\">\n",
            "<div class=\"tit5\">\n",
            "<a href=\"/movie/bi/mi/basic.naver?code=35939\" title=\"클래식\">클래식</a>\n",
            "</div>\n",
            "</td>, <td class=\"title\">\n",
            "<div class=\"tit5\">\n",
            "<a href=\"/movie/bi/mi/basic.naver?code=18988\" title=\"라이언 일병 구하기\">라이언 일병 구하기</a>\n",
            "</div>\n",
            "</td>, <td class=\"title\">\n",
            "<div class=\"tit5\">\n",
            "<a href=\"/movie/bi/mi/basic.naver?code=10016\" title=\"나 홀로 집에\">나 홀로 집에</a>\n",
            "</div>\n",
            "</td>, <td class=\"title\">\n",
            "<div class=\"tit5\">\n",
            "<a href=\"/movie/bi/mi/basic.naver?code=18847\" title=\"타이타닉\">타이타닉</a>\n",
            "</div>\n",
            "</td>, <td class=\"title\">\n",
            "<div class=\"tit5\">\n",
            "<a href=\"/movie/bi/mi/basic.naver?code=196828\" title=\"그대, 고맙소 : 김호중 생애 첫 팬미팅 무비\">그대, 고맙소 : 김호중 생애 첫 팬미팅 무비</a>\n",
            "</div>\n",
            "</td>, <td class=\"title\">\n",
            "<div class=\"tit5\">\n",
            "<a href=\"/movie/bi/mi/basic.naver?code=69105\" title=\"월-E\">월-E</a>\n",
            "</div>\n",
            "</td>, <td class=\"title\">\n",
            "<div class=\"tit5\">\n",
            "<a href=\"/movie/bi/mi/basic.naver?code=10002\" title=\"빽 투 더 퓨쳐\">빽 투 더 퓨쳐</a>\n",
            "</div>\n",
            "</td>, <td class=\"title\">\n",
            "<div class=\"tit5\">\n",
            "<a href=\"/movie/bi/mi/basic.naver?code=10102\" title=\"사운드 오브 뮤직\">사운드 오브 뮤직</a>\n",
            "</div>\n",
            "</td>, <td class=\"title\">\n",
            "<div class=\"tit5\">\n",
            "<a href=\"/movie/bi/mi/basic.naver?code=213746\" title=\"장민호 드라마 최종회\">장민호 드라마 최종회</a>\n",
            "</div>\n",
            "</td>, <td class=\"title\">\n",
            "<div class=\"tit5\">\n",
            "<a href=\"/movie/bi/mi/basic.naver?code=17159\" title=\"포레스트 검프\">포레스트 검프</a>\n",
            "</div>\n",
            "</td>, <td class=\"title\">\n",
            "<div class=\"tit5\">\n",
            "<a href=\"/movie/bi/mi/basic.naver?code=156464\" title=\"보헤미안 랩소디\">보헤미안 랩소디</a>\n",
            "</div>\n",
            "</td>, <td class=\"title\">\n",
            "<div class=\"tit5\">\n",
            "<a href=\"/movie/bi/mi/basic.naver?code=29217\" title=\"글래디에이터\">글래디에이터</a>\n",
            "</div>\n",
            "</td>, <td class=\"title\">\n",
            "<div class=\"tit5\">\n",
            "<a href=\"/movie/bi/mi/basic.naver?code=106360\" title=\"위대한 쇼맨\">위대한 쇼맨</a>\n",
            "</div>\n",
            "</td>, <td class=\"title\">\n",
            "<div class=\"tit5\">\n",
            "<a href=\"/movie/bi/mi/basic.naver?code=22126\" title=\"인생은 아름다워\">인생은 아름다워</a>\n",
            "</div>\n",
            "</td>, <td class=\"title\">\n",
            "<div class=\"tit5\">\n",
            "<a href=\"/movie/bi/mi/basic.naver?code=35901\" title=\"살인의 추억\">살인의 추억</a>\n",
            "</div>\n",
            "</td>, <td class=\"title\">\n",
            "<div class=\"tit5\">\n",
            "<a href=\"/movie/bi/mi/basic.naver?code=24452\" title=\"매트릭스\">매트릭스</a>\n",
            "</div>\n",
            "</td>, <td class=\"title\">\n",
            "<div class=\"tit5\">\n",
            "<a href=\"/movie/bi/mi/basic.naver?code=82432\" title=\"헬프\">헬프</a>\n",
            "</div>\n",
            "</td>, <td class=\"title\">\n",
            "<div class=\"tit5\">\n",
            "<a href=\"/movie/bi/mi/basic.naver?code=32686\" title=\"센과 치히로의 행방불명\">센과 치히로의 행방불명</a>\n",
            "</div>\n",
            "</td>, <td class=\"title\">\n",
            "<div class=\"tit5\">\n",
            "<a href=\"/movie/bi/mi/basic.naver?code=31162\" title=\"캐스트 어웨이\">캐스트 어웨이</a>\n",
            "</div>\n",
            "</td>, <td class=\"title\">\n",
            "<div class=\"tit5\">\n",
            "<a href=\"/movie/bi/mi/basic.naver?code=11678\" title=\"태극권\">태극권</a>\n",
            "</div>\n",
            "</td>, <td class=\"title\">\n",
            "<div class=\"tit5\">\n",
            "<a href=\"/movie/bi/mi/basic.naver?code=66463\" title=\"토이 스토리 3\">토이 스토리 3</a>\n",
            "</div>\n",
            "</td>, <td class=\"title\">\n",
            "<div class=\"tit5\">\n",
            "<a href=\"/movie/bi/mi/basic.naver?code=197647\" title=\"가나의 혼인잔치: 언약\">가나의 혼인잔치: 언약</a>\n",
            "</div>\n",
            "</td>, <td class=\"title\">\n",
            "<div class=\"tit5\">\n",
            "<a href=\"/movie/bi/mi/basic.naver?code=217719\" title=\"명탐정 코난: 할로윈의 신부\">명탐정 코난: 할로윈의 신부</a>\n",
            "</div>\n",
            "</td>, <td class=\"title\">\n",
            "<div class=\"tit5\">\n",
            "<a href=\"/movie/bi/mi/basic.naver?code=14450\" title=\"쉰들러 리스트\">쉰들러 리스트</a>\n",
            "</div>\n",
            "</td>, <td class=\"title\">\n",
            "<div class=\"tit5\">\n",
            "<a href=\"/movie/bi/mi/basic.naver?code=92125\" title=\"헌터 킬러\">헌터 킬러</a>\n",
            "</div>\n",
            "</td>, <td class=\"title\">\n",
            "<div class=\"tit5\">\n",
            "<a href=\"/movie/bi/mi/basic.naver?code=31796\" title=\"반지의 제왕: 왕의 귀환\">반지의 제왕: 왕의 귀환</a>\n",
            "</div>\n",
            "</td>, <td class=\"title\">\n",
            "<div class=\"tit5\">\n",
            "<a href=\"/movie/bi/mi/basic.naver?code=10048\" title=\"죽은 시인의 사회\">죽은 시인의 사회</a>\n",
            "</div>\n",
            "</td>, <td class=\"title\">\n",
            "<div class=\"tit5\">\n",
            "<a href=\"/movie/bi/mi/basic.naver?code=147092\" title=\"히든 피겨스\">히든 피겨스</a>\n",
            "</div>\n",
            "</td>, <td class=\"title\">\n",
            "<div class=\"tit5\">\n",
            "<a href=\"/movie/bi/mi/basic.naver?code=136900\" title=\"어벤져스: 엔드게임\">어벤져스: 엔드게임</a>\n",
            "</div>\n",
            "</td>]\n",
            "50\n"
          ]
        }
      ]
    },
    {
      "cell_type": "code",
      "source": [
        "point_html = bs_movie.select('td.point')\n",
        "print(point_html)\n",
        "print(len(point_html))"
      ],
      "metadata": {
        "colab": {
          "base_uri": "https://localhost:8080/"
        },
        "id": "d-LCtJVBG_Tu",
        "outputId": "0d36ebb2-eb73-4616-b907-4cbdb5bda700"
      },
      "execution_count": null,
      "outputs": [
        {
          "output_type": "stream",
          "name": "stdout",
          "text": [
            "[<td class=\"point\">9.76</td>, <td class=\"point\">9.65</td>, <td class=\"point\">9.60</td>, <td class=\"point\">9.60</td>, <td class=\"point\">9.60</td>, <td class=\"point\">9.60</td>, <td class=\"point\">9.59</td>, <td class=\"point\">9.53</td>, <td class=\"point\">9.53</td>, <td class=\"point\">9.52</td>, <td class=\"point\">9.51</td>, <td class=\"point\">9.50</td>, <td class=\"point\">9.49</td>, <td class=\"point\">9.48</td>, <td class=\"point\">9.48</td>, <td class=\"point\">9.47</td>, <td class=\"point\">9.46</td>, <td class=\"point\">9.46</td>, <td class=\"point\">9.46</td>, <td class=\"point\">9.45</td>, <td class=\"point\">9.45</td>, <td class=\"point\">9.44</td>, <td class=\"point\">9.44</td>, <td class=\"point\">9.44</td>, <td class=\"point\">9.43</td>, <td class=\"point\">9.43</td>, <td class=\"point\">9.42</td>, <td class=\"point\">9.42</td>, <td class=\"point\">9.42</td>, <td class=\"point\">9.42</td>, <td class=\"point\">9.42</td>, <td class=\"point\">9.42</td>, <td class=\"point\">9.41</td>, <td class=\"point\">9.41</td>, <td class=\"point\">9.41</td>, <td class=\"point\">9.40</td>, <td class=\"point\">9.40</td>, <td class=\"point\">9.40</td>, <td class=\"point\">9.40</td>, <td class=\"point\">9.40</td>, <td class=\"point\">9.40</td>, <td class=\"point\">9.39</td>, <td class=\"point\">9.39</td>, <td class=\"point\">9.39</td>, <td class=\"point\">9.39</td>, <td class=\"point\">9.39</td>, <td class=\"point\">9.39</td>, <td class=\"point\">9.38</td>, <td class=\"point\">9.38</td>, <td class=\"point\">9.38</td>]\n",
            "50\n"
          ]
        }
      ]
    },
    {
      "cell_type": "code",
      "source": [
        "for x, y, z in zip(rank, title_html, point_html) :\n",
        "  print(x['alt'], re.sub(\"\\n\",\"\", y.text), z.text)   # re.sub(\"\\n\",\"\", y.text) - 줄바꿈 없애줌"
      ],
      "metadata": {
        "colab": {
          "base_uri": "https://localhost:8080/"
        },
        "id": "wY74-CBPHc2n",
        "outputId": "6bcbf439-4cd5-4c32-8660-1f503c27b317"
      },
      "execution_count": null,
      "outputs": [
        {
          "output_type": "stream",
          "name": "stdout",
          "text": [
            "01 탑건: 매버릭 9.76\n",
            "02 클라우스 9.65\n",
            "03 그린 북 9.60\n",
            "04 가버나움 9.60\n",
            "05 인생은 뷰티풀: 비타돌체 9.60\n",
            "06 밥정 9.60\n",
            "07 할머니의 먼 집 9.59\n",
            "08 베일리 어게인 9.53\n",
            "09 원더 9.53\n",
            "010 아일라 9.52\n",
            "11 디지몬 어드벤처 라스트 에볼루션 : 인연 9.51\n",
            "12 극장판 바이올렛 에버가든 9.50\n",
            "13 당갈 9.49\n",
            "14 아바타 리마스터링 9.48\n",
            "15 포드 V 페라리 9.48\n",
            "16 먼 훗날 우리 9.47\n",
            "17 더 퍼스트 슬램덩크 9.46\n",
            "18 쇼생크 탈출 9.46\n",
            "19 주전장 9.46\n",
            "20 터미네이터 2:오리지널 9.45\n",
            "21 덕구 9.45\n",
            "22 클래식 9.44\n",
            "23 라이언 일병 구하기 9.44\n",
            "24 나 홀로 집에 9.44\n",
            "25 타이타닉 9.43\n",
            "26 그대, 고맙소 : 김호중 생애 첫 팬미팅 무비 9.43\n",
            "27 월-E 9.42\n",
            "28 빽 투 더 퓨쳐 9.42\n",
            "29 사운드 오브 뮤직 9.42\n",
            "30 장민호 드라마 최종회 9.42\n",
            "31 포레스트 검프 9.42\n",
            "32 보헤미안 랩소디 9.42\n",
            "33 글래디에이터 9.41\n",
            "34 위대한 쇼맨 9.41\n",
            "35 인생은 아름다워 9.41\n",
            "36 살인의 추억 9.40\n",
            "37 매트릭스 9.40\n",
            "38 헬프 9.40\n",
            "39 센과 치히로의 행방불명 9.40\n",
            "40 캐스트 어웨이 9.40\n",
            "41 태극권 9.40\n",
            "42 토이 스토리 3 9.39\n",
            "43 가나의 혼인잔치: 언약 9.39\n",
            "44 명탐정 코난: 할로윈의 신부 9.39\n",
            "45 쉰들러 리스트 9.39\n",
            "46 헌터 킬러 9.39\n",
            "47 반지의 제왕: 왕의 귀환 9.39\n",
            "48 죽은 시인의 사회 9.38\n",
            "49 히든 피겨스 9.38\n",
            "50 어벤져스: 엔드게임 9.38\n"
          ]
        }
      ]
    },
    {
      "cell_type": "code",
      "source": [
        "if '02' not in ['up', 'down', 'na'] :\n",
        "  print('02')"
      ],
      "metadata": {
        "colab": {
          "base_uri": "https://localhost:8080/"
        },
        "id": "zGb-sNweIPpu",
        "outputId": "42abaac0-29f4-480b-a37f-731db5ad2a41"
      },
      "execution_count": null,
      "outputs": [
        {
          "output_type": "stream",
          "name": "stdout",
          "text": [
            "02\n"
          ]
        }
      ]
    },
    {
      "cell_type": "code",
      "source": [],
      "metadata": {
        "id": "QvGzY4k6OngG"
      },
      "execution_count": null,
      "outputs": []
    }
  ]
}